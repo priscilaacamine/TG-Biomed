{
 "cells": [
  {
   "cell_type": "code",
   "execution_count": 31,
   "metadata": {
    "collapsed": true
   },
   "outputs": [],
   "source": [
    "# Importando as bibliotecas necessarias\n",
    "import numpy as np\n",
    "import pandas as pd\n",
    "import os\n",
    "import platform\n",
    "from scipy import signal\n",
    "import matplotlib.pyplot as plt"
   ]
  },
  {
   "cell_type": "code",
   "execution_count": 2,
   "metadata": {
    "collapsed": true
   },
   "outputs": [],
   "source": [
    "# Importando os arquivos txt com as informações\n",
    "if platform.system() == 'Windows':\n",
    "    pasta = \"F:\\\\Priscila Acamine\\\\Dados TG\\\\Data Info\"\n",
    "\n",
    "    bds_info = pd.read_csv(pasta + \"\\\\BDSinfo.txt\", sep=\"\t\", header=0)\n",
    "    pds_info = pd.read_csv(pasta + \"\\\\PDSinfo.txt\", sep=\"\t\", header=0)\n",
    "\n",
    "if platform.system() == 'Linux':\n",
    "    pasta = './Data Info/'\n",
    "\n",
    "    bds_info = pd.read_csv(pasta + \"BDSinfo.txt\", sep=\"\t\", header=0)\n",
    "    pds_info = pd.read_csv(pasta + \"PDSinfo.txt\", sep=\"\t\", header=0)"
   ]
  },
  {
   "cell_type": "code",
   "execution_count": 128,
   "metadata": {},
   "outputs": [],
   "source": [
    "# Juntando os dois databases em um apenas com os rótulos em comum\n",
    "info = pd.concat([bds_info, pds_info], join=\"inner\")\n",
    "trials = list(info[\"Trial\"])"
   ]
  },
  {
   "cell_type": "code",
   "execution_count": 216,
   "metadata": {},
   "outputs": [],
   "source": [
    "pasta = \"F:\\\\Priscila Acamine\\\\Dados TG\"\n",
    "nperseg=3000\n",
    "Potencia = np.zeros((len(trials), nperseg//2+1))\n",
    "meiaPot = np.zeros(len(trials))\n",
    "PF50 = np.zeros(len(trials))\n",
    "i = 0\n",
    "for trial in trials:   \n",
    "    if trial[0] == \"B\":\n",
    "        txt = pasta + \"\\\\\" + trial[0:3] + \"\\\\\" + trial + \".txt\"\n",
    "        data = pd.read_csv(txt, usecols=['COPx[cm]'], sep=\"\t\", header=0)\n",
    "        cop = data.values.T\n",
    "    else:\n",
    "        txt = pasta + \"\\\\\" + trial[0:3] + \"\\\\\" + trial + \"grf.txt\"\n",
    "        data = pd.read_csv(txt, usecols=['COPNET_X'], sep=\"\t\", header=0)\n",
    "        cop = data.values.T*100\n",
    "\n",
    "    fs = 100\n",
    "    f, Pxx_den = signal.welch(cop, fs, nperseg=nperseg)\n",
    "    Potencia[i,:] = Pxx_den\n",
    "    #plt.semilogy(f, Pxx_den.T)\n",
    "    #plt.xlabel('frequency [Hz]')\n",
    "    #plt.ylabel('PSD [V**2/Hz]')\n",
    "    #plt.show()\n",
    "    Pot = np.sum(Pxx_den)*f[1]\n",
    "    soma = 0\n",
    "    for y in range(0,np.size(Pxx_den)):\n",
    "        if soma < Pot*0.5:\n",
    "            soma = soma + Pxx_den[0,y]*f[1]\n",
    "        else:\n",
    "            meiaPot[i] = soma\n",
    "            PF50[i] = f[y]\n",
    "            break\n",
    "    i = i+1"
   ]
  },
  {
   "cell_type": "code",
   "execution_count": 217,
   "metadata": {},
   "outputs": [
    {
     "data": {
      "text/plain": [
       "array([0.03722813, 0.12152814, 0.02017576, ..., 0.88756463, 0.53027122,\n",
       "       0.5421114 ])"
      ]
     },
     "execution_count": 217,
     "metadata": {},
     "output_type": "execute_result"
    }
   ],
   "source": [
    "meiaPot"
   ]
  },
  {
   "cell_type": "code",
   "execution_count": 225,
   "metadata": {},
   "outputs": [
    {
     "data": {
      "text/plain": [
       "2518"
      ]
     },
     "execution_count": 225,
     "metadata": {},
     "output_type": "execute_result"
    }
   ],
   "source": [
    "len(PF50)"
   ]
  },
  {
   "cell_type": "code",
   "execution_count": 219,
   "metadata": {},
   "outputs": [
    {
     "data": {
      "text/plain": [
       "array([[6.74364392e-02, 3.19446452e-01, 3.39198313e-01, ...,\n",
       "        2.05682489e-15, 8.77989457e-16, 9.38864002e-16],\n",
       "       [5.77197970e-01, 1.84888787e+00, 1.21975845e+00, ...,\n",
       "        1.64439989e-15, 1.83103102e-15, 4.49015533e-16],\n",
       "       [2.03621789e-02, 1.81397205e-01, 1.92484863e-01, ...,\n",
       "        2.21140644e-15, 1.32418187e-15, 6.19583293e-16],\n",
       "       ...,\n",
       "       [2.06663861e-01, 6.00741804e-01, 2.22178167e+00, ...,\n",
       "        3.59591426e-11, 2.69323060e-11, 9.28897933e-12],\n",
       "       [9.06381838e-01, 4.08779105e+00, 1.60165428e+00, ...,\n",
       "        9.20925557e-12, 1.58300172e-11, 8.99021692e-12],\n",
       "       [3.38310142e-01, 1.40105834e+00, 1.75428625e+00, ...,\n",
       "        2.44771721e-11, 3.88974686e-12, 8.77293348e-13]])"
      ]
     },
     "execution_count": 219,
     "metadata": {},
     "output_type": "execute_result"
    }
   ],
   "source": [
    "Potencia"
   ]
  },
  {
   "cell_type": "code",
   "execution_count": 239,
   "metadata": {},
   "outputs": [],
   "source": [
    "Sujeitos = list(info['Subject'])\n",
    "for i in range(1930, len(Sujeitos)):\n",
    "    Sujeitos[i] = Sujeitos[i] + Sujeitos[1929]\n",
    "Sujeitos = np.array(Sujeitos)"
   ]
  },
  {
   "cell_type": "code",
   "execution_count": 257,
   "metadata": {},
   "outputs": [],
   "source": [
    "media_PF50 = np.zeros(Sujeitos[-1])\n",
    "for subj in range(1,Sujeitos[-1]+1):\n",
    "    media_PF50[subj-1] = np.mean(PF50[Sujeitos==subj])"
   ]
  },
  {
   "cell_type": "code",
   "execution_count": 260,
   "metadata": {},
   "outputs": [
    {
     "data": {
      "text/plain": [
       "array([0.25555556, 0.21666667, 0.27777778, 0.23055556, 0.13888889,\n",
       "       0.23055556, 0.15555556, 0.25      , 0.23333333, 0.21111111,\n",
       "       0.22222222, 0.20833333, 0.52777778, 0.22777778, 0.15555556,\n",
       "       0.15      , 0.13333333, 0.16944444, 0.125     , 0.33055556,\n",
       "       0.15555556, 0.21944444, 0.16111111, 0.18611111, 0.21111111,\n",
       "       0.18888889, 0.09722222, 0.26388889, 0.18055556, 0.20833333,\n",
       "       0.11666667, 0.31944444, 0.25      , 0.16666667, 0.225     ,\n",
       "       0.14444444, 0.175     , 0.16388889, 0.26111111, 0.16666667,\n",
       "       0.20555556, 0.15833333, 0.25555556, 0.14722222, 0.20833333,\n",
       "       0.26111111, 0.23055556, 0.18888889, 0.32222222, 0.22777778,\n",
       "       0.24444444, 0.28055556, 0.18333333, 0.20555556, 0.26666667,\n",
       "       0.16666667, 0.14444444, 0.24444444, 0.36111111, 0.19259259,\n",
       "       0.12777778, 0.275     , 0.175     , 0.21388889, 0.25555556,\n",
       "       0.25277778, 0.25      , 0.16944444, 0.25555556, 0.21944444,\n",
       "       0.25555556, 0.37777778, 0.21111111, 0.30833333, 0.25833333,\n",
       "       0.2       , 0.2       , 0.23055556, 0.25555556, 0.14444444,\n",
       "       0.25      , 0.30833333, 0.30277778, 0.29722222, 0.49444444,\n",
       "       0.13888889, 0.47222222, 0.225     , 0.14722222, 0.18055556,\n",
       "       0.23611111, 0.23055556, 0.25277778, 0.27777778, 0.33888889,\n",
       "       0.2       , 0.13888889, 0.275     , 0.15      , 0.17777778,\n",
       "       0.18611111, 0.24166667, 0.22777778, 0.27777778, 0.20833333,\n",
       "       0.38333333, 0.20555556, 0.24722222, 0.19722222, 0.25      ,\n",
       "       0.48611111, 0.19722222, 0.25277778, 0.15277778, 0.14444444,\n",
       "       0.29444444, 0.21666667, 0.18333333, 0.11388889, 0.24722222,\n",
       "       0.225     , 0.225     , 0.37777778, 0.29444444, 0.24444444,\n",
       "       0.11944444, 0.19722222, 0.17777778, 0.18888889, 0.13888889,\n",
       "       0.23055556, 0.49722222, 0.37777778, 0.26666667, 0.20555556,\n",
       "       0.15833333, 0.13888889, 0.20833333, 0.11666667, 0.24444444,\n",
       "       0.22777778, 0.20833333, 0.20555556, 0.13611111, 0.32222222,\n",
       "       0.34444444, 0.13055556, 0.24444444, 0.34166667, 0.21666667,\n",
       "       0.175     , 0.18055556, 0.28055556, 0.27777778, 0.21944444,\n",
       "       0.30277778, 0.21944444, 0.32222222, 0.175     , 0.15833333,\n",
       "       0.15555556, 0.12777778, 0.17777778, 0.15833333, 0.19444444,\n",
       "       0.14166667, 0.14444444, 0.14722222, 0.14166667, 0.14722222,\n",
       "       0.17777778, 0.125     , 0.18055556, 0.11388889, 0.13333333,\n",
       "       0.24722222, 0.175     , 0.14444444, 0.18888889, 0.24722222,\n",
       "       0.225     , 0.16666667, 0.11388889, 0.19166667, 0.26111111,\n",
       "       0.23888889, 0.21666667, 0.16388889, 0.13611111, 0.09166667,\n",
       "       0.44722222, 0.225     , 0.16111111, 0.23055556, 0.27777778,\n",
       "       0.26666667, 0.16944444, 0.34166667, 0.28888889, 0.27222222,\n",
       "       0.25      , 0.16388889, 0.21388889, 0.15555556, 0.18611111,\n",
       "       0.25277778, 0.28611111, 0.13333333, 0.20833333, 0.15      ,\n",
       "       0.23333333, 0.24444444])"
      ]
     },
     "execution_count": 260,
     "metadata": {},
     "output_type": "execute_result"
    }
   ],
   "source": [
    "media_PF50"
   ]
  },
  {
   "cell_type": "code",
   "execution_count": null,
   "metadata": {
    "collapsed": true
   },
   "outputs": [],
   "source": []
  },
  {
   "cell_type": "code",
   "execution_count": null,
   "metadata": {
    "collapsed": true
   },
   "outputs": [],
   "source": []
  },
  {
   "cell_type": "code",
   "execution_count": null,
   "metadata": {
    "collapsed": true
   },
   "outputs": [],
   "source": []
  },
  {
   "cell_type": "code",
   "execution_count": null,
   "metadata": {
    "collapsed": true
   },
   "outputs": [],
   "source": []
  },
  {
   "cell_type": "code",
   "execution_count": null,
   "metadata": {
    "collapsed": true
   },
   "outputs": [],
   "source": []
  },
  {
   "cell_type": "code",
   "execution_count": null,
   "metadata": {
    "collapsed": true
   },
   "outputs": [],
   "source": []
  },
  {
   "cell_type": "code",
   "execution_count": null,
   "metadata": {
    "collapsed": true
   },
   "outputs": [],
   "source": []
  },
  {
   "cell_type": "code",
   "execution_count": null,
   "metadata": {
    "collapsed": true
   },
   "outputs": [],
   "source": []
  }
 ],
 "metadata": {
  "kernelspec": {
   "display_name": "Python 3",
   "language": "python",
   "name": "python3"
  },
  "language_info": {
   "codemirror_mode": {
    "name": "ipython",
    "version": 3
   },
   "file_extension": ".py",
   "mimetype": "text/x-python",
   "name": "python",
   "nbconvert_exporter": "python",
   "pygments_lexer": "ipython3",
   "version": "3.6.5"
  }
 },
 "nbformat": 4,
 "nbformat_minor": 2
}
