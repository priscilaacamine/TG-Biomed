{
 "cells": [
  {
   "cell_type": "code",
   "execution_count": 1,
   "metadata": {
    "collapsed": true
   },
   "outputs": [],
   "source": [
    "import numpy as np\n",
    "import matplotlib.pyplot as plt"
   ]
  },
  {
   "cell_type": "code",
   "execution_count": 2,
   "metadata": {
    "collapsed": true
   },
   "outputs": [],
   "source": [
    "import pandas as pd\n",
    "import torch\n",
    "import torch.nn as nn\n",
    "import torch.nn.functional as F"
   ]
  },
  {
   "cell_type": "code",
   "execution_count": 3,
   "metadata": {
    "collapsed": true
   },
   "outputs": [],
   "source": [
    "x1 = np.random.randn(200)\n",
    "x2 = np.random.randn(200)\n",
    "x3 = np.random.randn(200)\n",
    "x4 = np.random.randn(200)\n",
    "y = np.zeros_like(x1)\n",
    "\n",
    "for i in range(0, len(x1)):\n",
    "    y[i] = 3*x1[i] + 2*x2[i] + 4*x3[i] + 7*x4[i]\n"
   ]
  },
  {
   "cell_type": "code",
   "execution_count": 4,
   "metadata": {
    "collapsed": true
   },
   "outputs": [],
   "source": [
    "# Normalizar o dado\n",
    "\n",
    "x1n = (x1 - np.mean(x1))/np.std(x1)\n",
    "x2n = (x2 - np.mean(x2))/np.std(x2)\n",
    "x3n = (x3 - np.mean(x3))/np.std(x3)\n",
    "x4n = (x4 - np.mean(x4))/np.std(x4)\n",
    "yn = (y - np.mean(y))/np.std(y)"
   ]
  },
  {
   "cell_type": "code",
   "execution_count": 5,
   "metadata": {
    "collapsed": true
   },
   "outputs": [],
   "source": [
    "data = [x1n, x2n, x3n, x4n, yn]\n",
    "data = np.transpose(data)"
   ]
  },
  {
   "cell_type": "code",
   "execution_count": 6,
   "metadata": {
    "collapsed": true
   },
   "outputs": [],
   "source": [
    "train_input = data[:150, :4]\n",
    "train_target = data[:150, [4]]"
   ]
  },
  {
   "cell_type": "code",
   "execution_count": 7,
   "metadata": {
    "collapsed": true
   },
   "outputs": [],
   "source": [
    "test_input = data[150:, :4]\n",
    "test_target = data[150:, [4]]"
   ]
  },
  {
   "cell_type": "code",
   "execution_count": 8,
   "metadata": {},
   "outputs": [
    {
     "data": {
      "text/plain": [
       "<torch._C.Generator at 0x1fa1852b510>"
      ]
     },
     "execution_count": 8,
     "metadata": {},
     "output_type": "execute_result"
    }
   ],
   "source": [
    "torch.manual_seed(1234)"
   ]
  },
  {
   "cell_type": "code",
   "execution_count": 9,
   "metadata": {
    "collapsed": true
   },
   "outputs": [],
   "source": [
    "# N = 1 # Batch size\n",
    "D_in = 4 # Input dimension\n",
    "D_out = 1 # Output dimension \n",
    "hidden_units = 3"
   ]
  },
  {
   "cell_type": "code",
   "execution_count": 10,
   "metadata": {
    "collapsed": true
   },
   "outputs": [],
   "source": [
    "class Net(nn.Module):\n",
    "    def __init__(self):\n",
    "        super(Net, self).__init__()\n",
    "        self.fc1 = nn.Linear(4, 12)\n",
    "        self.fc2 = nn.Linear(12, 6)\n",
    "        self.fc3 = nn.Linear(6, 2)\n",
    "        self.fc4 = nn.Linear(2, 1)\n",
    "        \n",
    "    def forward(self, x):\n",
    "        x = torch.relu(self.fc1(x))\n",
    "        x = torch.tanh(self.fc2(x))\n",
    "        x = torch.tanh(self.fc3(x))\n",
    "        x = self.fc4(x)\n",
    "        return(x)\n",
    "\n",
    "net = Net()"
   ]
  },
  {
   "cell_type": "code",
   "execution_count": 11,
   "metadata": {
    "collapsed": true
   },
   "outputs": [],
   "source": [
    "# Choose optmizer and loss function\n",
    "criterion = nn.MSELoss()\n",
    "optimizer = torch.optim.SGD(net.parameters(), lr = 0.05, momentum = 0.9) # lr = learning rate "
   ]
  },
  {
   "cell_type": "code",
   "execution_count": 12,
   "metadata": {},
   "outputs": [
    {
     "name": "stdout",
     "output_type": "stream",
     "text": [
      "Epoch 1 Loss: 1.0405\n",
      "Epoch 10 Loss: 0.7154\n",
      "Epoch 20 Loss: 0.2399\n",
      "Epoch 30 Loss: 0.1752\n",
      "Epoch 40 Loss: 0.0847\n",
      "Epoch 50 Loss: 0.0647\n",
      "Epoch 60 Loss: 0.0409\n",
      "Epoch 70 Loss: 0.0279\n",
      "Epoch 80 Loss: 0.0184\n",
      "Epoch 90 Loss: 0.0125\n",
      "Epoch 100 Loss: 0.0091\n",
      "Epoch 110 Loss: 0.0070\n",
      "Epoch 120 Loss: 0.0055\n",
      "Epoch 130 Loss: 0.0045\n",
      "Epoch 140 Loss: 0.0038\n",
      "Epoch 150 Loss: 0.0032\n",
      "Epoch 160 Loss: 0.0028\n",
      "Epoch 170 Loss: 0.0024\n",
      "Epoch 180 Loss: 0.0022\n",
      "Epoch 190 Loss: 0.0020\n",
      "Epoch 200 Loss: 0.0018\n",
      "Epoch 210 Loss: 0.0016\n",
      "Epoch 220 Loss: 0.0015\n",
      "Epoch 230 Loss: 0.0014\n",
      "Epoch 240 Loss: 0.0013\n",
      "Epoch 250 Loss: 0.0012\n",
      "Epoch 260 Loss: 0.0012\n",
      "Epoch 270 Loss: 0.0011\n",
      "Epoch 280 Loss: 0.0010\n",
      "Epoch 290 Loss: 0.0010\n",
      "Epoch 300 Loss: 0.0009\n",
      "Epoch 310 Loss: 0.0009\n",
      "Epoch 320 Loss: 0.0008\n",
      "Epoch 330 Loss: 0.0008\n",
      "Epoch 340 Loss: 0.0007\n",
      "Epoch 350 Loss: 0.0007\n",
      "Epoch 360 Loss: 0.0007\n",
      "Epoch 370 Loss: 0.0007\n",
      "Epoch 380 Loss: 0.0006\n",
      "Epoch 390 Loss: 0.0006\n",
      "Epoch 400 Loss: 0.0006\n",
      "Epoch 410 Loss: 0.0006\n",
      "Epoch 420 Loss: 0.0005\n",
      "Epoch 430 Loss: 0.0005\n",
      "Epoch 440 Loss: 0.0005\n",
      "Epoch 450 Loss: 0.0005\n",
      "Epoch 460 Loss: 0.0005\n",
      "Epoch 470 Loss: 0.0005\n",
      "Epoch 480 Loss: 0.0004\n",
      "Epoch 490 Loss: 0.0004\n",
      "Epoch 500 Loss: 0.0004\n",
      "Epoch 510 Loss: 0.0004\n",
      "Epoch 520 Loss: 0.0004\n",
      "Epoch 530 Loss: 0.0004\n",
      "Epoch 540 Loss: 0.0004\n",
      "Epoch 550 Loss: 0.0003\n",
      "Epoch 560 Loss: 0.0003\n",
      "Epoch 570 Loss: 0.0003\n",
      "Epoch 580 Loss: 0.0003\n",
      "Epoch 590 Loss: 0.0003\n",
      "Epoch 600 Loss: 0.0003\n",
      "Epoch 610 Loss: 0.0003\n",
      "Epoch 620 Loss: 0.0003\n",
      "Epoch 630 Loss: 0.0003\n",
      "Epoch 640 Loss: 0.0003\n",
      "Epoch 650 Loss: 0.0003\n",
      "Epoch 660 Loss: 0.0003\n",
      "Epoch 670 Loss: 0.0003\n",
      "Epoch 680 Loss: 0.0003\n",
      "Epoch 690 Loss: 0.0003\n",
      "Epoch 700 Loss: 0.0002\n",
      "Epoch 710 Loss: 0.0002\n",
      "Epoch 720 Loss: 0.0002\n",
      "Epoch 730 Loss: 0.0002\n",
      "Epoch 740 Loss: 0.0002\n",
      "Epoch 750 Loss: 0.0002\n",
      "Epoch 760 Loss: 0.0002\n",
      "Epoch 770 Loss: 0.0002\n",
      "Epoch 780 Loss: 0.0002\n",
      "Epoch 790 Loss: 0.0002\n",
      "Epoch 800 Loss: 0.0002\n",
      "Epoch 810 Loss: 0.0002\n",
      "Epoch 820 Loss: 0.0002\n",
      "Epoch 830 Loss: 0.0002\n",
      "Epoch 840 Loss: 0.0002\n",
      "Epoch 850 Loss: 0.0002\n",
      "Epoch 860 Loss: 0.0002\n",
      "Epoch 870 Loss: 0.0002\n",
      "Epoch 880 Loss: 0.0002\n",
      "Epoch 890 Loss: 0.0002\n",
      "Epoch 900 Loss: 0.0002\n",
      "Epoch 910 Loss: 0.0002\n",
      "Epoch 920 Loss: 0.0002\n",
      "Epoch 930 Loss: 0.0002\n",
      "Epoch 940 Loss: 0.0002\n",
      "Epoch 950 Loss: 0.0002\n",
      "Epoch 960 Loss: 0.0002\n",
      "Epoch 970 Loss: 0.0002\n",
      "Epoch 980 Loss: 0.0002\n",
      "Epoch 990 Loss: 0.0002\n",
      "Epoch 1000 Loss: 0.0002\n"
     ]
    }
   ],
   "source": [
    "# Train\n",
    "epochs = 1000\n",
    "lossr = np.zeros(epochs)\n",
    "\n",
    "for epoch in range(epochs):\n",
    "    inputs = torch.autograd.Variable(torch.Tensor(train_input).float())\n",
    "    targets = torch.autograd.Variable(torch.Tensor(train_target).float())\n",
    "    \n",
    "    optimizer.zero_grad()\n",
    "    out = net(inputs)\n",
    "    loss = criterion(out, targets)\n",
    "    loss.backward()\n",
    "    optimizer.step()\n",
    "    \n",
    "    lossr[epoch] = loss.item()\n",
    "    \n",
    "    if epoch == 0 or (epoch + 1) % 10 == 0:\n",
    "        print('Epoch %d Loss: %.4f' % (epoch + 1, loss.item()))"
   ]
  },
  {
   "cell_type": "code",
   "execution_count": 13,
   "metadata": {},
   "outputs": [
    {
     "data": {
      "image/png": "[encoded data removed]",
      "text/plain": [
       "<matplotlib.figure.Figure at 0x1fa1a6177b8>"
      ]
     },
     "metadata": {},
     "output_type": "display_data"
    }
   ],
   "source": [
    "epoch = np.arange(0, epochs)\n",
    "plt.plot(epoch,lossr)\n",
    "plt.show()"
   ]
  },
  {
   "cell_type": "code",
   "execution_count": 14,
   "metadata": {},
   "outputs": [
    {
     "name": "stdout",
     "output_type": "stream",
     "text": [
      "Teste Loss: 0.0002\n"
     ]
    }
   ],
   "source": [
    "# Avaliando a acurácia do modelo\n",
    "inputs = torch.autograd.Variable(torch.Tensor(test_input).float())\n",
    "targets = torch.autograd.Variable(torch.Tensor(test_target).float())\n",
    "\n",
    "optimizer.zero_grad()\n",
    "out = net(inputs)\n",
    "loss = criterion(out, targets)\n",
    "loss.backward()\n",
    "optimizer.step()\n",
    "\n",
    "predicted = out.data\n",
    "\n",
    "print('Teste Loss: %.4f' % (loss.item()))"
   ]
  },
  {
   "cell_type": "code",
   "execution_count": 15,
   "metadata": {},
   "outputs": [
    {
     "data": {
      "image/png": "[encoded data removed]",
      "text/plain": [
       "<matplotlib.figure.Figure at 0x1fa1a617470>"
      ]
     },
     "metadata": {},
     "output_type": "display_data"
    }
   ],
   "source": [
    "ninput = np.arange(len(test_input))\n",
    "plt.figure()\n",
    "plt.plot(ninput, test_target, '*', label = 'target')\n",
    "plt.plot(ninput, predicted.numpy(), '*', label = 'predicted')\n",
    "plt.legend()\n",
    "plt.show()"
   ]
  },
  {
   "cell_type": "code",
   "execution_count": 16,
   "metadata": {
    "collapsed": true
   },
   "outputs": [],
   "source": [
    "predicted = (predicted.numpy()*np.std(y)) + np.mean(y)\n",
    "target = (test_target*np.std(y)) + np.mean(y)"
   ]
  },
  {
   "cell_type": "code",
   "execution_count": 17,
   "metadata": {},
   "outputs": [
    {
     "data": {
      "image/png": "[encoded data removed]",
      "text/plain": [
       "<matplotlib.figure.Figure at 0x1fa1a6170f0>"
      ]
     },
     "metadata": {},
     "output_type": "display_data"
    }
   ],
   "source": [
    "plt.figure()\n",
    "plt.plot(ninput, target, '*', label = 'target')\n",
    "plt.plot(ninput, predicted, '*', label = 'predicted')\n",
    "plt.title('Desnormalizado')\n",
    "plt.legend()\n",
    "plt.show()"
   ]
  },
  {
   "cell_type": "code",
   "execution_count": 19,
   "metadata": {
    "collapsed": true
   },
   "outputs": [],
   "source": [
    "# teste"
   ]
  },
  {
   "cell_type": "code",
   "execution_count": 20,
   "metadata": {
    "collapsed": true
   },
   "outputs": [],
   "source": [
    "# teste 2"
   ]
  },
  {
   "cell_type": "code",
   "execution_count": null,
   "metadata": {
    "collapsed": true
   },
   "outputs": [],
   "source": []
  }
 ],
 "metadata": {
  "kernelspec": {
   "display_name": "Python 3",
   "language": "python",
   "name": "python3"
  },
  "language_info": {
   "codemirror_mode": {
    "name": "ipython",
    "version": 3
   },
   "file_extension": ".py",
   "mimetype": "text/x-python",
   "name": "python",
   "nbconvert_exporter": "python",
   "pygments_lexer": "ipython3",
   "version": "3.6.5"
  }
 },
 "nbformat": 4,
 "nbformat_minor": 2
}
