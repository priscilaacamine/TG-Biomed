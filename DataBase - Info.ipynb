{
 "cells": [
  {
   "cell_type": "code",
   "execution_count": 1,
   "metadata": {
    "collapsed": true
   },
   "outputs": [],
   "source": [
    "# Importando as bibliotecas necessarias\n",
    "import numpy as np\n",
    "import pandas as pd\n",
    "import os"
   ]
  },
  {
   "cell_type": "code",
   "execution_count": 2,
   "metadata": {
    "collapsed": true
   },
   "outputs": [],
   "source": [
    "# Importando os arquivos txt com as informações\n",
    "pasta = os.getcwd() + \"\\\\Dados TG\\\\Data Info\"\n",
    "\n",
    "bds_info = pd.read_csv(pasta + \"\\\\BDSinfo.txt\", sep=\"\t\", header=0)\n",
    "pds_info = pd.read_csv(pasta + \"\\\\PDSinfo.txt\", sep=\"\t\", header=0)"
   ]
  },
  {
   "cell_type": "code",
   "execution_count": 3,
   "metadata": {},
   "outputs": [
    {
     "name": "stdout",
     "output_type": "stream",
     "text": [
      "64\n"
     ]
    }
   ],
   "source": [
    "print(len(list(bds_info)))\n",
    "#print(list(bds_info))"
   ]
  },
  {
   "cell_type": "code",
   "execution_count": 4,
   "metadata": {},
   "outputs": [
    {
     "name": "stdout",
     "output_type": "stream",
     "text": [
      "29\n"
     ]
    }
   ],
   "source": [
    "print(len(list(pds_info)))\n",
    "# Mudar o nome da coluna para igualar ao do banco BDS\n",
    "pds_info.columns = pds_info.columns.str.replace('Mass','Weight')\n",
    "pds_info[\"Height\"] = pds_info[\"Height\"]*100\n",
    "#print(list(pds_info))"
   ]
  },
  {
   "cell_type": "code",
   "execution_count": 5,
   "metadata": {},
   "outputs": [
    {
     "name": "stdout",
     "output_type": "stream",
     "text": [
      "25\n",
      "{'Falls12m', 'Ystudy', 'FootLen', 'Disability', 'Age', 'Height', 'Footwear', 'Nationality', 'Disability2', 'Subject', 'SkinColor', 'Weight', 'AgeGroup', 'Nmedication', 'Illness2', 'Trial', 'BMI', 'Surface', 'Medication', 'Illness', 'Vision', 'Date', 'Gender', 'Ortho-Prosthesis2', 'Ortho-Prosthesis'}\n"
     ]
    }
   ],
   "source": [
    "rotulos_iguais = set(bds_info) & set(pds_info)\n",
    "print(len(rotulos_iguais))\n",
    "print(rotulos_iguais)"
   ]
  },
  {
   "cell_type": "markdown",
   "metadata": {},
   "source": [
    "# Juntados os dois Databases BDS e PDS"
   ]
  },
  {
   "cell_type": "code",
   "execution_count": 6,
   "metadata": {
    "scrolled": false
   },
   "outputs": [],
   "source": [
    "# Juntando os dois databases em um apenas com os rótulos em comum\n",
    "info = pd.concat([bds_info, pds_info], join=\"inner\")\n",
    "#print(info)"
   ]
  },
  {
   "cell_type": "code",
   "execution_count": 7,
   "metadata": {},
   "outputs": [
    {
     "data": {
      "text/plain": [
       "(2518, 25)"
      ]
     },
     "execution_count": 7,
     "metadata": {},
     "output_type": "execute_result"
    }
   ],
   "source": [
    "info.shape"
   ]
  },
  {
   "cell_type": "code",
   "execution_count": 8,
   "metadata": {
    "collapsed": true
   },
   "outputs": [],
   "source": [
    "def junta_dupli(df, x):\n",
    "    #print(len(list(df.columns)))\n",
    "    #print(df[x].shape)\n",
    "    df[x + \"_total\"] = df[x].sum(axis=1)\n",
    "    df = df.drop([x], 1)\n",
    "    #print(len(list(df.columns)))\n",
    "    return df"
   ]
  },
  {
   "cell_type": "markdown",
   "metadata": {},
   "source": [
    "# Tratando a coluna \"Medication\""
   ]
  },
  {
   "cell_type": "code",
   "execution_count": 9,
   "metadata": {
    "scrolled": true
   },
   "outputs": [
    {
     "name": "stdout",
     "output_type": "stream",
     "text": [
      "68\n"
     ]
    },
    {
     "data": {
      "text/plain": [
       "['5alphareductaseinhibitor',\n",
       " 'Alphablocker',\n",
       " 'Analgesic',\n",
       " 'AngiotensinIIreceptorantagonist',\n",
       " 'Angiotensinconvertingenzymeinhibitor',\n",
       " 'Antiarrhythmic',\n",
       " 'Antibiotic',\n",
       " 'Anticholinergic',\n",
       " 'Anticonvulsant',\n",
       " 'Antihistamine',\n",
       " 'Antiinflammatory',\n",
       " 'Antimalarial',\n",
       " 'Antimuscarinic',\n",
       " 'Antipyretic',\n",
       " 'Antithyroid',\n",
       " 'Antivertigo',\n",
       " 'Benzodiazepine',\n",
       " 'Betablocker',\n",
       " 'Biguanide',\n",
       " 'Bisphosphonate',\n",
       " 'Bloodcirculation',\n",
       " 'Bronchodilator',\n",
       " 'Calciumchannelblocker',\n",
       " 'Centralnervoussystemagent',\n",
       " 'Cholinesteraseinhibitor',\n",
       " 'Conjugatedestrogen',\n",
       " 'Corticosteroid',\n",
       " 'DOPAdecarboxylaseinhibitor',\n",
       " 'Diabetesmellitus',\n",
       " 'Dipeptidylpeptidase4inhibitor',\n",
       " 'Diuretic',\n",
       " 'Dopamineagonist',\n",
       " 'Dopamineantagonist',\n",
       " 'Essentialaminoacid',\n",
       " 'Fluoroquinolone',\n",
       " 'HMGCoAreductaseinhibitor',\n",
       " 'Hblocker',\n",
       " 'Herbalsupplement',\n",
       " 'Homeopathic',\n",
       " 'Hypercholesterolemia',\n",
       " 'Hypertension',\n",
       " 'Insulin',\n",
       " 'Kinaseinhibitor',\n",
       " 'Kneecartilagereplacement',\n",
       " 'Longactingbetaagonist',\n",
       " 'Meglitinide',\n",
       " 'Musclerelaxant',\n",
       " 'No',\n",
       " 'Nonsteroidalantiinflammatory',\n",
       " 'Nucleosidereversetranscriptaseinhibitor',\n",
       " 'Oralcontraceptive',\n",
       " 'Osteoporosis',\n",
       " 'Phenothiazine',\n",
       " 'Phytotherapy',\n",
       " 'Protonpumpinhibitor',\n",
       " 'Retinoid',\n",
       " 'Salicylate',\n",
       " 'Sedative',\n",
       " 'Selectivenorepinephrinereuptakeinhibitor',\n",
       " 'Selectiveserotoninreuptakeinhibitor',\n",
       " 'Steroid',\n",
       " 'Steroidalprogestin',\n",
       " 'Sulfonylurea',\n",
       " 'Syntheticthyroidhormone',\n",
       " 'Tumornecrosisfactorinhibitor',\n",
       " 'Vasodilator',\n",
       " 'Wakefulnesspromotingagent',\n",
       " 'Xanthineoxidaseinhibitor']"
      ]
     },
     "execution_count": 9,
     "metadata": {},
     "output_type": "execute_result"
    }
   ],
   "source": [
    "info = pd.concat([bds_info, pds_info], join=\"inner\")\n",
    "\n",
    "# Padroniza os separadores como virgula\n",
    "info[\"Medication\"] = info[\"Medication\"].str.replace('+',',')\n",
    "info[\"Medication\"] = info[\"Medication\"].str.replace('/',',')\n",
    "\n",
    "# Padroniza diferentes formatos de escrita para o mesmo medicamento\n",
    "info[\"Medication\"] = info[\"Medication\"].str.replace('-',' ')\n",
    "info[\"Medication\"] = info[\"Medication\"].str.replace('2','')\n",
    "info[\"Medication\"] = info[\"Medication\"].str.replace('(','')\n",
    "info[\"Medication\"] = info[\"Medication\"].str.replace(')','')\n",
    "\n",
    "# Retira duplicatas\n",
    "info[\"Medication\"] = info[\"Medication\"].str.replace('Bisphosphonates','Bisphosphonate')\n",
    "info[\"Medication\"] = info[\"Medication\"].str.replace('Long acting beta agonists','Long acting beta agonist')\n",
    "info[\"Medication\"] = info[\"Medication\"].str.replace('Selective serotonin and norepinephrine reuptake inhibitor','Selective serotonin reuptake inhibitor, Selective norepinephrine reuptake inhibitor')\n",
    "info[\"Medication\"] = info[\"Medication\"].str.replace('HMG coenzyme A reductase inhibitor','HMG CoA reductase inhibitor')\n",
    "info[\"Medication\"] = info[\"Medication\"].str.replace('Nonsteroidal antiinflammatory drug','Nonsteroidal antiinflammatory')\n",
    "\n",
    "# Retira os espaços a mais\n",
    "info[\"Medication\"] = info[\"Medication\"].str.replace(' ','')\n",
    "\n",
    "medication = info[\"Medication\"].str.get_dummies(sep=',')\n",
    "                        \n",
    "print(len(list(medication.columns)))\n",
    "list(medication.columns)"
   ]
  },
  {
   "cell_type": "markdown",
   "metadata": {},
   "source": [
    "# Tratando a coluna \"Illness2\""
   ]
  },
  {
   "cell_type": "markdown",
   "metadata": {},
   "source": [
    "Tomar cuidado, nesse caso substituiu a linha inteira de illness que começava com \"Tendinitis\", inclusive as outras doenças após a vírgula:\n",
    "\n",
    "info[\"Illness2\"].replace('Tendinitis (.*)', 'Tendinitis', regex=True, inplace=True)"
   ]
  },
  {
   "cell_type": "code",
   "execution_count": 10,
   "metadata": {},
   "outputs": [
    {
     "name": "stdout",
     "output_type": "stream",
     "text": [
      "77\n"
     ]
    },
    {
     "data": {
      "text/plain": [
       "['Arthritis',\n",
       " 'Breathlessness',\n",
       " 'Bronchitis',\n",
       " 'Bursitis',\n",
       " 'Conjunctivitis',\n",
       " 'Dermatitis',\n",
       " 'Epilepsy',\n",
       " 'Esophagitis',\n",
       " 'Essential tremor',\n",
       " 'Fatty liver',\n",
       " 'Gastritis',\n",
       " 'Gastroesophageal reflux',\n",
       " 'Glaucoma',\n",
       " 'Gout',\n",
       " 'Hiatus hernia',\n",
       " 'Hypertriglyceridemia',\n",
       " 'Hyperuricemia',\n",
       " 'Inflammation of the tibial nerve',\n",
       " 'Keratoconus',\n",
       " 'Kidney failure',\n",
       " 'Kidney stones',\n",
       " 'Ligament problems',\n",
       " 'Lumbar tumor',\n",
       " 'Lymphedema of the lower members',\n",
       " 'Migraine',\n",
       " 'Poliomyelitis',\n",
       " 'Polycystic kidney disease',\n",
       " 'Progressive breast cancer',\n",
       " 'Prostate disease',\n",
       " 'Prostatitis',\n",
       " 'Rheumatism',\n",
       " 'Sickle cell anemia',\n",
       " 'Sinusitis',\n",
       " 'Skin cancer',\n",
       " 'Skin disease',\n",
       " 'Spine problem',\n",
       " 'Stroke',\n",
       " 'Varicose veins of the legs',\n",
       " 'Vascular leakage of the eyes',\n",
       " 'Anemia',\n",
       " 'Arrhythmia',\n",
       " 'Ascending colon cancer',\n",
       " 'Deep vein thrombosis',\n",
       " 'Depression',\n",
       " 'Endometriosis',\n",
       " 'Hashimoto disease',\n",
       " 'Heel spurs',\n",
       " 'Hepatitis B',\n",
       " 'Intestine disorder',\n",
       " 'Melanoma',\n",
       " \"Parkinson's disease\",\n",
       " 'Prostatic hyperplasia',\n",
       " \"Sjogren's syndrome\",\n",
       " 'Thalassemia minor',\n",
       " 'Urinary tract infection',\n",
       " 'Vasovagal syncope',\n",
       " 'Vitiligo',\n",
       " 'Heart disease_total',\n",
       " 'Osteopenia_total',\n",
       " 'Tendinitis_total',\n",
       " 'Arthrosis_total',\n",
       " 'Herniated lumbar disc_total',\n",
       " 'Hypercholesterolemia_total',\n",
       " 'Allergy_total',\n",
       " 'Anxiety_total',\n",
       " 'Asthma_total',\n",
       " 'Chodromalacia of the knees_total',\n",
       " 'Diabetes mellitus_total',\n",
       " 'Fibromyalgia_total',\n",
       " 'Hypertension_total',\n",
       " 'Hyperthyroidism_total',\n",
       " 'Hypoglycemia_total',\n",
       " 'Hypothyroidism_total',\n",
       " 'Labyrinthitis_total',\n",
       " 'Osteoporosis_total',\n",
       " 'Rhinitis_total',\n",
       " 'Scoliosis_total']"
      ]
     },
     "execution_count": 10,
     "metadata": {},
     "output_type": "execute_result"
    }
   ],
   "source": [
    "info = pd.concat([bds_info, pds_info], join=\"inner\")\n",
    "illness = info[\"Illness2\"].str.get_dummies(sep=',')\n",
    "illness.columns = illness.columns.str.replace('Heart problem','Heart disease')\n",
    "illness.columns = illness.columns.str.replace('Osteeopenia','Osteopenia')\n",
    "illness.columns = illness.columns.str.replace('Tendinitis (.*)', 'Tendinitis')\n",
    "illness.columns = illness.columns.str.replace('Arthrosis (.*)', 'Arthrosis')\n",
    "illness.columns = illness.columns.str.replace('(.*) Herniated (.*)', 'Herniated lumbar disc')\n",
    "illness.columns = illness.columns.str.replace('Herniated (.*)', 'Herniated lumbar disc')\n",
    "illness.columns = illness.columns.str.replace('(.*) Hypercholesterolemia','Hypercholesterolemia')\n",
    "illness.columns = illness.columns.str.replace('Skin allergy','Allergy')\n",
    "illness.columns = illness.columns.str.strip()\n",
    "illness = illness.drop([\"No\"], 1)\n",
    "\n",
    "# Juntando as colunas iguais e excluindo os repetidos\n",
    "\n",
    "illness = junta_dupli(illness, \"Heart disease\")\n",
    "illness = junta_dupli(illness, \"Osteopenia\")\n",
    "illness = junta_dupli(illness, \"Tendinitis\")\n",
    "illness = junta_dupli(illness, \"Arthrosis\")\n",
    "illness = junta_dupli(illness, \"Herniated lumbar disc\")\n",
    "illness = junta_dupli(illness, \"Hypercholesterolemia\")\n",
    "illness = junta_dupli(illness, \"Allergy\")\n",
    "illness = junta_dupli(illness, \"Anxiety\")\n",
    "illness = junta_dupli(illness, \"Asthma\")\n",
    "illness = junta_dupli(illness, \"Chodromalacia of the knees\")\n",
    "illness = junta_dupli(illness, \"Diabetes mellitus\")\n",
    "illness = junta_dupli(illness, \"Fibromyalgia\")\n",
    "illness = junta_dupli(illness, \"Hypertension\")\n",
    "illness = junta_dupli(illness, \"Hyperthyroidism\")\n",
    "illness = junta_dupli(illness, \"Hypoglycemia\")\n",
    "illness = junta_dupli(illness, \"Hypothyroidism\")\n",
    "illness = junta_dupli(illness, \"Labyrinthitis\")\n",
    "illness = junta_dupli(illness, \"Osteoporosis\")\n",
    "illness = junta_dupli(illness, \"Rhinitis\")\n",
    "illness = junta_dupli(illness, \"Scoliosis\")\n",
    "                        \n",
    "print(len(list(illness.columns)))\n",
    "list(illness.columns)"
   ]
  },
  {
   "cell_type": "markdown",
   "metadata": {
    "collapsed": true
   },
   "source": [
    "# Tratando a coluna \"Disability2\""
   ]
  },
  {
   "cell_type": "code",
   "execution_count": 11,
   "metadata": {},
   "outputs": [
    {
     "name": "stdout",
     "output_type": "stream",
     "text": [
      "4\n"
     ]
    },
    {
     "data": {
      "text/plain": [
       "['Intellectual', 'Physical_total', 'Visual_total', 'Hearing_total']"
      ]
     },
     "execution_count": 11,
     "metadata": {},
     "output_type": "execute_result"
    }
   ],
   "source": [
    "info = pd.concat([bds_info, pds_info], join=\"inner\")\n",
    "disability = info[\"Disability2\"].str.get_dummies(sep=',')\n",
    "disability.columns = disability.columns.str.strip()\n",
    "disability = disability.drop([\"No\"], 1)\n",
    "disability.columns = disability.columns.str.replace('Physical (.*)', 'Physical')\n",
    "disability.columns = disability.columns.str.replace('Visual (.*)', 'Visual')\n",
    "disability.columns = disability.columns.str.replace('Hearing (.*)', 'Hearing')\n",
    "\n",
    "disability = junta_dupli(disability, \"Physical\")\n",
    "disability = junta_dupli(disability, \"Visual\")\n",
    "disability = junta_dupli(disability, \"Hearing\")\n",
    "\n",
    "print(len(list(disability.columns)))\n",
    "list(disability.columns)"
   ]
  },
  {
   "cell_type": "markdown",
   "metadata": {},
   "source": [
    "# Tratando a coluna \"Footwear\""
   ]
  },
  {
   "cell_type": "code",
   "execution_count": 12,
   "metadata": {
    "scrolled": true
   },
   "outputs": [
    {
     "name": "stdout",
     "output_type": "stream",
     "text": [
      "5\n"
     ]
    },
    {
     "data": {
      "text/plain": [
       "['Orthopedic Shoes',\n",
       " 'Boots_total',\n",
       " 'Shoes with silicone insole_total',\n",
       " 'Normal Shoes_total',\n",
       " 'Sandal_FlipFlop_total']"
      ]
     },
     "execution_count": 12,
     "metadata": {},
     "output_type": "execute_result"
    }
   ],
   "source": [
    "info = pd.concat([bds_info, pds_info], join=\"inner\")\n",
    "footwear = info[\"Footwear\"].str.get_dummies(sep=',')\n",
    "footwear.columns = footwear.columns.str.strip()\n",
    "\n",
    "footwear.columns = footwear.columns.str.replace('(.*) shoes with silicone insole', 'Shoes with silicone insole')\n",
    "footwear.columns = footwear.columns.str.replace('Orthopedic shoes', 'Orthopedic Shoes')\n",
    "footwear.columns = footwear.columns.str.replace('(.*) shoes', 'Normal Shoes')\n",
    "footwear.columns = footwear.columns.str.replace('Tennis with zero drop', 'Normal Shoes')\n",
    "footwear.columns = footwear.columns.str.replace('Sandal', 'Sandal_FlipFlop')\n",
    "footwear.columns = footwear.columns.str.replace('Flip-Flops', 'Sandal_FlipFlop')\n",
    "\n",
    "footwear = junta_dupli(footwear, \"Boots\")\n",
    "footwear = junta_dupli(footwear, \"Shoes with silicone insole\")\n",
    "footwear = junta_dupli(footwear, \"Normal Shoes\")\n",
    "footwear = junta_dupli(footwear, \"Sandal_FlipFlop\")\n",
    "\n",
    "print(len(list(footwear.columns)))\n",
    "list(footwear.columns)"
   ]
  },
  {
   "cell_type": "markdown",
   "metadata": {},
   "source": [
    "# Tratando a coluna \"Ortho-Prosthesis2\""
   ]
  },
  {
   "cell_type": "code",
   "execution_count": 13,
   "metadata": {},
   "outputs": [
    {
     "name": "stdout",
     "output_type": "stream",
     "text": [
      "17\n"
     ]
    },
    {
     "data": {
      "text/plain": [
       "['Internal fixation in the thigh',\n",
       " 'Internal fixation in the leg',\n",
       " 'Internal fixation in the shoulder',\n",
       " 'Breast implant',\n",
       " 'By pass',\n",
       " 'Clips in the vesicle',\n",
       " 'Corrective lens',\n",
       " 'PaceMaker',\n",
       " 'Internal fixation in the medulla',\n",
       " 'Internal fixation in the knee',\n",
       " 'Corrective lens',\n",
       " 'Prosthesis aortic valve',\n",
       " 'Dental_total',\n",
       " 'Support_total',\n",
       " 'Hearing_total',\n",
       " 'Internal fixation in the toe_foot_total',\n",
       " 'Orthosis in the knee_total']"
      ]
     },
     "execution_count": 13,
     "metadata": {},
     "output_type": "execute_result"
    }
   ],
   "source": [
    "info[\"Ortho-Prosthesis2\"]\n",
    "\n",
    "info = pd.concat([bds_info, pds_info], join=\"inner\")\n",
    "info[\"Ortho-Prosthesis2\"] = info[\"Ortho-Prosthesis2\"].str.replace('1 intramedullary rod and 3 screws in the left leg', '1 intramedullary rod, 3 screws in the left leg')\n",
    "ortho = info[\"Ortho-Prosthesis2\"].str.get_dummies(sep=',')\n",
    "ortho.columns = ortho.columns.str.strip()\n",
    "ortho = ortho.drop([\"No\"], 1)\n",
    "\n",
    "ortho.columns = ortho.columns.str.replace('Dental (.*)', 'Dental')\n",
    "ortho.columns = ortho.columns.str.replace('Bridge teeh', 'Dental')\n",
    "ortho.columns = ortho.columns.str.replace('Denture', 'Dental')\n",
    "ortho.columns = ortho.columns.str.replace('Protese dentaria', 'Dental')\n",
    "ortho.columns = ortho.columns.str.replace('Crutch', 'Support')\n",
    "ortho.columns = ortho.columns.str.replace('Cane', 'Support')\n",
    "ortho.columns = ortho.columns.str.replace('Hearing aid', 'Hearing')\n",
    "ortho.columns = ortho.columns.str.replace('1 screw in the right toe', 'Internal fixation in the toe_foot')\n",
    "ortho.columns = ortho.columns.str.replace('Screws in the left foot', 'Internal fixation in the toe_foot')\n",
    "ortho.columns = ortho.columns.str.replace('2 screws in the right foot', 'Internal fixation in the toe_foot')\n",
    "ortho.columns = ortho.columns.str.replace('2 screws in the right thigh', 'Internal fixation in the thigh')\n",
    "ortho.columns = ortho.columns.str.replace('3 screws in the left leg', 'Internal fixation in the leg')\n",
    "ortho.columns = ortho.columns.str.replace('1 intramedullary rod', 'Internal fixation in the medulla')\n",
    "ortho.columns = ortho.columns.str.replace('Anchor in the shoulders', 'Internal fixation in the shoulder')\n",
    "ortho.columns = ortho.columns.str.replace('16 screws and 4 plates in the left knee', 'Internal fixation in the knee')\n",
    "ortho.columns = ortho.columns.str.replace('(.*) knee (.*)', 'Orthosis in the knee')\n",
    "\n",
    "\n",
    "\n",
    "ortho = junta_dupli(ortho, \"Dental\")\n",
    "ortho = junta_dupli(ortho, \"Support\")\n",
    "ortho = junta_dupli(ortho, \"Hearing\")\n",
    "ortho = junta_dupli(ortho, \"Internal fixation in the toe_foot\")\n",
    "ortho = junta_dupli(ortho, \"Orthosis in the knee\")\n",
    "\n",
    "print(len(list(ortho.columns)))\n",
    "list(ortho.columns)"
   ]
  },
  {
   "cell_type": "code",
   "execution_count": null,
   "metadata": {
    "collapsed": true
   },
   "outputs": [],
   "source": []
  }
 ],
 "metadata": {
  "kernelspec": {
   "display_name": "Python 3",
   "language": "python",
   "name": "python3"
  },
  "language_info": {
   "codemirror_mode": {
    "name": "ipython",
    "version": 3
   },
   "file_extension": ".py",
   "mimetype": "text/x-python",
   "name": "python",
   "nbconvert_exporter": "python",
   "pygments_lexer": "ipython3",
   "version": "3.6.5"
  }
 },
 "nbformat": 4,
 "nbformat_minor": 2
}
