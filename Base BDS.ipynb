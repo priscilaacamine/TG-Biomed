{
 "cells": [
  {
   "cell_type": "code",
   "execution_count": 1,
   "metadata": {
    "collapsed": true
   },
   "outputs": [],
   "source": [
    "# Importando as bibliotecas necessarias\n",
    "import numpy as np\n",
    "import pandas as pd\n",
    "import os"
   ]
  },
  {
   "cell_type": "code",
   "execution_count": 2,
   "metadata": {},
   "outputs": [],
   "source": [
    "# Importando os dados txt\n",
    "# Cria uma lista com os diretorios dos arquivos\n",
    "\n",
    "pasta = os.getcwd() + \"\\\\Dados TG\\\\BDS\"\n",
    "caminhos = [os.path.join(pasta, nome) for nome in os.listdir(pasta)]\n",
    "arquivos = [arq for arq in caminhos if os.path.isfile(arq)]\n",
    "txt = [arq for arq in arquivos if arq.lower().endswith(\"\")]\n",
    "# No loop ler ate txt[-1]. O ultimo arquivo apresenta as infos\n",
    "# print(txt)\n",
    "data = pd.read_csv(txt[0], sep=\"\t\", header=0)\n",
    "#data"
   ]
  },
  {
   "cell_type": "code",
   "execution_count": 14,
   "metadata": {},
   "outputs": [],
   "source": [
    "# Le o arquivo com as informações (ultimo arquivo da lista de diretorios)\n",
    "\n",
    "info = pd.read_csv(txt[-1], sep=\"\t\", header=0)\n",
    "#info.loc[0]\n",
    "#list(info[\"Disability\"])"
   ]
  },
  {
   "cell_type": "code",
   "execution_count": 4,
   "metadata": {},
   "outputs": [],
   "source": [
    "# med[60] == Beta-blocker\n",
    "# med[84] == Long-acting beta agonist + Corticosteroid\n",
    "# med[156] == Dipeptidyl peptidase-4 inhibitor, Meglitinide, Sulfonylurea\n",
    "#list(info[\"Medication\"])"
   ]
  },
  {
   "cell_type": "code",
   "execution_count": 15,
   "metadata": {},
   "outputs": [
    {
     "name": "stdout",
     "output_type": "stream",
     "text": [
      "88\n"
     ]
    }
   ],
   "source": [
    "print(len(list(info[\"Medication\"].str.get_dummies(sep=','))))\n",
    "#list(info[\"Medication\"].str.get_dummies(sep=','))"
   ]
  },
  {
   "cell_type": "code",
   "execution_count": 16,
   "metadata": {},
   "outputs": [
    {
     "name": "stdout",
     "output_type": "stream",
     "text": [
      "90\n"
     ]
    }
   ],
   "source": [
    "# Padroniza os separadores como virgula\n",
    "info[\"Medication\"] = info[\"Medication\"].str.replace('+',',')\n",
    "info[\"Medication\"] = info[\"Medication\"].str.replace('/',',')\n",
    "\n",
    "print(len(list(info[\"Medication\"].str.get_dummies(sep=','))))\n",
    "#list(info[\"Medication\"].str.get_dummies(sep=','))"
   ]
  },
  {
   "cell_type": "code",
   "execution_count": 17,
   "metadata": {},
   "outputs": [
    {
     "name": "stdout",
     "output_type": "stream",
     "text": [
      "88\n"
     ]
    }
   ],
   "source": [
    "# Padroniza diferentes formatos de escrita para o mesmo medicamento\n",
    "info[\"Medication\"] = info[\"Medication\"].str.replace('-',' ')\n",
    "info[\"Medication\"] = info[\"Medication\"].str.replace('2','')\n",
    "info[\"Medication\"] = info[\"Medication\"].str.replace('(','')\n",
    "info[\"Medication\"] = info[\"Medication\"].str.replace(')','')\n",
    "\n",
    "print(len(list(info[\"Medication\"].str.get_dummies(sep=','))))\n",
    "#list(info[\"Medication\"].str.get_dummies(sep=','))"
   ]
  },
  {
   "cell_type": "code",
   "execution_count": 18,
   "metadata": {},
   "outputs": [
    {
     "name": "stdout",
     "output_type": "stream",
     "text": [
      "64\n"
     ]
    }
   ],
   "source": [
    "# Retira os espaços a mais\n",
    "info[\"Medication\"] = info[\"Medication\"].str.replace(' ','')\n",
    "print(len(list(info[\"Medication\"].str.get_dummies(sep=','))))\n",
    "#list(info[\"Medication\"].str.get_dummies(sep=','))"
   ]
  },
  {
   "cell_type": "code",
   "execution_count": 19,
   "metadata": {
    "scrolled": true
   },
   "outputs": [],
   "source": [
    "# Verificar duplicatas de medicamentos \n",
    "#list(info[\"Medication\"].str.get_dummies(sep=','))"
   ]
  },
  {
   "cell_type": "code",
   "execution_count": null,
   "metadata": {
    "collapsed": true
   },
   "outputs": [],
   "source": []
  },
  {
   "cell_type": "code",
   "execution_count": null,
   "metadata": {
    "collapsed": true
   },
   "outputs": [],
   "source": []
  }
 ],
 "metadata": {
  "kernelspec": {
   "display_name": "Python 3",
   "language": "python",
   "name": "python3"
  },
  "language_info": {
   "codemirror_mode": {
    "name": "ipython",
    "version": 3
   },
   "file_extension": ".py",
   "mimetype": "text/x-python",
   "name": "python",
   "nbconvert_exporter": "python",
   "pygments_lexer": "ipython3",
   "version": "3.6.5"
  }
 },
 "nbformat": 4,
 "nbformat_minor": 2
}
