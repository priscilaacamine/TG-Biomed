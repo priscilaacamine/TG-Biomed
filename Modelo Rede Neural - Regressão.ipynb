{
 "cells": [
  {
   "cell_type": "markdown",
   "metadata": {},
   "source": [
    "# Teste de Regressão\n",
    "## MinMaxScaler para normalização dos dados\n",
    "## SMOTE para data augmentation"
   ]
  },
  {
   "cell_type": "markdown",
   "metadata": {},
   "source": [
    "### Próximos passos:\n",
    "- Arrumar variáveis categóricas para 0 e 1 após o resample\n",
    "- Adicionar o cosine similarity\n",
    "https://discuss.pytorch.org/t/underrstanding-cosine-similarity-function-in-pytorch/29865\n",
    "\n",
    "https://www.programcreek.com/python/example/104435/torch.nn.functional.cosine_similarity"
   ]
  },
  {
   "cell_type": "code",
   "execution_count": 1,
   "metadata": {},
   "outputs": [
    {
     "name": "stdout",
     "output_type": "stream",
     "text": [
      "Requirement already up-to-date: imbalanced-learn in c:\\programdata\\miniconda3\\lib\\site-packages (0.5.0)\n",
      "Requirement already satisfied, skipping upgrade: scikit-learn>=0.21 in c:\\programdata\\miniconda3\\lib\\site-packages (from imbalanced-learn) (0.21.3)\n",
      "Requirement already satisfied, skipping upgrade: joblib>=0.11 in c:\\programdata\\miniconda3\\lib\\site-packages (from imbalanced-learn) (0.13.2)\n",
      "Requirement already satisfied, skipping upgrade: scipy>=0.17 in c:\\programdata\\miniconda3\\lib\\site-packages (from imbalanced-learn) (1.3.1)\n",
      "Requirement already satisfied, skipping upgrade: numpy>=1.11 in c:\\programdata\\miniconda3\\lib\\site-packages (from imbalanced-learn) (1.16.5)\n"
     ]
    }
   ],
   "source": [
    "! pip install -U imbalanced-learn"
   ]
  },
  {
   "cell_type": "code",
   "execution_count": 2,
   "metadata": {},
   "outputs": [],
   "source": [
    "import numpy as np\n",
    "import matplotlib.pyplot as plt\n",
    "import pandas as pd\n",
    "import torch\n",
    "import torch.nn as nn\n",
    "import torch.nn.functional as F\n",
    "from sklearn.model_selection import train_test_split\n",
    "from sklearn.preprocessing import MinMaxScaler\n",
    "#from collections import Counter\n",
    "#from sklearn.datasets import make_classification\n",
    "from imblearn.over_sampling import SMOTE"
   ]
  },
  {
   "cell_type": "code",
   "execution_count": 3,
   "metadata": {},
   "outputs": [
    {
     "data": {
      "text/html": [
       "<div>\n",
       "<style scoped>\n",
       "    .dataframe tbody tr th:only-of-type {\n",
       "        vertical-align: middle;\n",
       "    }\n",
       "\n",
       "    .dataframe tbody tr th {\n",
       "        vertical-align: top;\n",
       "    }\n",
       "\n",
       "    .dataframe thead th {\n",
       "        text-align: right;\n",
       "    }\n",
       "</style>\n",
       "<table border=\"1\" class=\"dataframe\">\n",
       "  <thead>\n",
       "    <tr style=\"text-align: right;\">\n",
       "      <th></th>\n",
       "      <th>Age</th>\n",
       "      <th>AgeGroup</th>\n",
       "      <th>Gender</th>\n",
       "      <th>Height</th>\n",
       "      <th>Weight</th>\n",
       "      <th>BMI</th>\n",
       "      <th>FootLen</th>\n",
       "      <th>Ystudy</th>\n",
       "      <th>Illness</th>\n",
       "      <th>Nmedication</th>\n",
       "      <th>...</th>\n",
       "      <th>Internal fixation in the medulla</th>\n",
       "      <th>Internal fixation in the knee</th>\n",
       "      <th>Corrective lens</th>\n",
       "      <th>Prosthesis aortic valve</th>\n",
       "      <th>Dental_total</th>\n",
       "      <th>Support_total</th>\n",
       "      <th>Hearing_total</th>\n",
       "      <th>Internal fixation in the toe_foot_total</th>\n",
       "      <th>Orthosis in the knee_total</th>\n",
       "      <th>PF50_closed_rigid</th>\n",
       "    </tr>\n",
       "  </thead>\n",
       "  <tbody>\n",
       "    <tr>\n",
       "      <th>0</th>\n",
       "      <td>33.000000</td>\n",
       "      <td>0</td>\n",
       "      <td>1</td>\n",
       "      <td>157.5</td>\n",
       "      <td>54.20</td>\n",
       "      <td>21.849332</td>\n",
       "      <td>21.80</td>\n",
       "      <td>17</td>\n",
       "      <td>1</td>\n",
       "      <td>1</td>\n",
       "      <td>...</td>\n",
       "      <td>0</td>\n",
       "      <td>0</td>\n",
       "      <td>1</td>\n",
       "      <td>0</td>\n",
       "      <td>0</td>\n",
       "      <td>0</td>\n",
       "      <td>0</td>\n",
       "      <td>0</td>\n",
       "      <td>0</td>\n",
       "      <td>0.200000</td>\n",
       "    </tr>\n",
       "    <tr>\n",
       "      <th>1</th>\n",
       "      <td>27.583333</td>\n",
       "      <td>0</td>\n",
       "      <td>1</td>\n",
       "      <td>154.0</td>\n",
       "      <td>44.00</td>\n",
       "      <td>18.552876</td>\n",
       "      <td>22.45</td>\n",
       "      <td>17</td>\n",
       "      <td>0</td>\n",
       "      <td>0</td>\n",
       "      <td>...</td>\n",
       "      <td>0</td>\n",
       "      <td>0</td>\n",
       "      <td>0</td>\n",
       "      <td>0</td>\n",
       "      <td>0</td>\n",
       "      <td>0</td>\n",
       "      <td>0</td>\n",
       "      <td>0</td>\n",
       "      <td>0</td>\n",
       "      <td>0.133333</td>\n",
       "    </tr>\n",
       "    <tr>\n",
       "      <th>2</th>\n",
       "      <td>36.916667</td>\n",
       "      <td>0</td>\n",
       "      <td>0</td>\n",
       "      <td>161.7</td>\n",
       "      <td>63.40</td>\n",
       "      <td>24.247626</td>\n",
       "      <td>23.10</td>\n",
       "      <td>11</td>\n",
       "      <td>0</td>\n",
       "      <td>0</td>\n",
       "      <td>...</td>\n",
       "      <td>0</td>\n",
       "      <td>0</td>\n",
       "      <td>0</td>\n",
       "      <td>0</td>\n",
       "      <td>1</td>\n",
       "      <td>0</td>\n",
       "      <td>0</td>\n",
       "      <td>0</td>\n",
       "      <td>0</td>\n",
       "      <td>0.133333</td>\n",
       "    </tr>\n",
       "    <tr>\n",
       "      <th>3</th>\n",
       "      <td>61.750000</td>\n",
       "      <td>1</td>\n",
       "      <td>0</td>\n",
       "      <td>164.0</td>\n",
       "      <td>68.35</td>\n",
       "      <td>25.412701</td>\n",
       "      <td>24.70</td>\n",
       "      <td>1</td>\n",
       "      <td>0</td>\n",
       "      <td>0</td>\n",
       "      <td>...</td>\n",
       "      <td>0</td>\n",
       "      <td>0</td>\n",
       "      <td>0</td>\n",
       "      <td>0</td>\n",
       "      <td>1</td>\n",
       "      <td>0</td>\n",
       "      <td>0</td>\n",
       "      <td>0</td>\n",
       "      <td>0</td>\n",
       "      <td>0.144444</td>\n",
       "    </tr>\n",
       "    <tr>\n",
       "      <th>4</th>\n",
       "      <td>49.333333</td>\n",
       "      <td>0</td>\n",
       "      <td>0</td>\n",
       "      <td>163.5</td>\n",
       "      <td>70.65</td>\n",
       "      <td>26.428752</td>\n",
       "      <td>23.70</td>\n",
       "      <td>10</td>\n",
       "      <td>0</td>\n",
       "      <td>1</td>\n",
       "      <td>...</td>\n",
       "      <td>0</td>\n",
       "      <td>0</td>\n",
       "      <td>1</td>\n",
       "      <td>0</td>\n",
       "      <td>1</td>\n",
       "      <td>0</td>\n",
       "      <td>0</td>\n",
       "      <td>0</td>\n",
       "      <td>0</td>\n",
       "      <td>0.200000</td>\n",
       "    </tr>\n",
       "    <tr>\n",
       "      <th>...</th>\n",
       "      <td>...</td>\n",
       "      <td>...</td>\n",
       "      <td>...</td>\n",
       "      <td>...</td>\n",
       "      <td>...</td>\n",
       "      <td>...</td>\n",
       "      <td>...</td>\n",
       "      <td>...</td>\n",
       "      <td>...</td>\n",
       "      <td>...</td>\n",
       "      <td>...</td>\n",
       "      <td>...</td>\n",
       "      <td>...</td>\n",
       "      <td>...</td>\n",
       "      <td>...</td>\n",
       "      <td>...</td>\n",
       "      <td>...</td>\n",
       "      <td>...</td>\n",
       "      <td>...</td>\n",
       "      <td>...</td>\n",
       "      <td>...</td>\n",
       "    </tr>\n",
       "    <tr>\n",
       "      <th>202</th>\n",
       "      <td>24.170000</td>\n",
       "      <td>0</td>\n",
       "      <td>1</td>\n",
       "      <td>161.0</td>\n",
       "      <td>51.70</td>\n",
       "      <td>19.950000</td>\n",
       "      <td>22.50</td>\n",
       "      <td>16</td>\n",
       "      <td>0</td>\n",
       "      <td>0</td>\n",
       "      <td>...</td>\n",
       "      <td>0</td>\n",
       "      <td>0</td>\n",
       "      <td>1</td>\n",
       "      <td>0</td>\n",
       "      <td>0</td>\n",
       "      <td>0</td>\n",
       "      <td>0</td>\n",
       "      <td>0</td>\n",
       "      <td>1</td>\n",
       "      <td>0.077778</td>\n",
       "    </tr>\n",
       "    <tr>\n",
       "      <th>203</th>\n",
       "      <td>27.750000</td>\n",
       "      <td>0</td>\n",
       "      <td>0</td>\n",
       "      <td>172.0</td>\n",
       "      <td>101.80</td>\n",
       "      <td>34.290000</td>\n",
       "      <td>24.05</td>\n",
       "      <td>15</td>\n",
       "      <td>1</td>\n",
       "      <td>0</td>\n",
       "      <td>...</td>\n",
       "      <td>0</td>\n",
       "      <td>0</td>\n",
       "      <td>1</td>\n",
       "      <td>0</td>\n",
       "      <td>0</td>\n",
       "      <td>0</td>\n",
       "      <td>0</td>\n",
       "      <td>0</td>\n",
       "      <td>0</td>\n",
       "      <td>0.244444</td>\n",
       "    </tr>\n",
       "    <tr>\n",
       "      <th>204</th>\n",
       "      <td>34.170000</td>\n",
       "      <td>0</td>\n",
       "      <td>1</td>\n",
       "      <td>156.0</td>\n",
       "      <td>53.45</td>\n",
       "      <td>21.820000</td>\n",
       "      <td>22.00</td>\n",
       "      <td>15</td>\n",
       "      <td>1</td>\n",
       "      <td>0</td>\n",
       "      <td>...</td>\n",
       "      <td>0</td>\n",
       "      <td>0</td>\n",
       "      <td>1</td>\n",
       "      <td>0</td>\n",
       "      <td>0</td>\n",
       "      <td>0</td>\n",
       "      <td>0</td>\n",
       "      <td>0</td>\n",
       "      <td>0</td>\n",
       "      <td>0.122222</td>\n",
       "    </tr>\n",
       "    <tr>\n",
       "      <th>205</th>\n",
       "      <td>37.920000</td>\n",
       "      <td>0</td>\n",
       "      <td>0</td>\n",
       "      <td>155.0</td>\n",
       "      <td>69.55</td>\n",
       "      <td>28.950000</td>\n",
       "      <td>22.35</td>\n",
       "      <td>25</td>\n",
       "      <td>0</td>\n",
       "      <td>0</td>\n",
       "      <td>...</td>\n",
       "      <td>0</td>\n",
       "      <td>0</td>\n",
       "      <td>1</td>\n",
       "      <td>0</td>\n",
       "      <td>0</td>\n",
       "      <td>0</td>\n",
       "      <td>0</td>\n",
       "      <td>0</td>\n",
       "      <td>0</td>\n",
       "      <td>0.266667</td>\n",
       "    </tr>\n",
       "    <tr>\n",
       "      <th>206</th>\n",
       "      <td>64.920000</td>\n",
       "      <td>1</td>\n",
       "      <td>1</td>\n",
       "      <td>158.0</td>\n",
       "      <td>60.75</td>\n",
       "      <td>24.340000</td>\n",
       "      <td>22.85</td>\n",
       "      <td>11</td>\n",
       "      <td>1</td>\n",
       "      <td>3</td>\n",
       "      <td>...</td>\n",
       "      <td>0</td>\n",
       "      <td>0</td>\n",
       "      <td>1</td>\n",
       "      <td>0</td>\n",
       "      <td>1</td>\n",
       "      <td>0</td>\n",
       "      <td>0</td>\n",
       "      <td>0</td>\n",
       "      <td>0</td>\n",
       "      <td>0.311111</td>\n",
       "    </tr>\n",
       "  </tbody>\n",
       "</table>\n",
       "<p>207 rows × 184 columns</p>\n",
       "</div>"
      ],
      "text/plain": [
       "           Age AgeGroup Gender  Height  Weight        BMI  FootLen  Ystudy  \\\n",
       "0    33.000000        0      1   157.5   54.20  21.849332    21.80      17   \n",
       "1    27.583333        0      1   154.0   44.00  18.552876    22.45      17   \n",
       "2    36.916667        0      0   161.7   63.40  24.247626    23.10      11   \n",
       "3    61.750000        1      0   164.0   68.35  25.412701    24.70       1   \n",
       "4    49.333333        0      0   163.5   70.65  26.428752    23.70      10   \n",
       "..         ...      ...    ...     ...     ...        ...      ...     ...   \n",
       "202  24.170000        0      1   161.0   51.70  19.950000    22.50      16   \n",
       "203  27.750000        0      0   172.0  101.80  34.290000    24.05      15   \n",
       "204  34.170000        0      1   156.0   53.45  21.820000    22.00      15   \n",
       "205  37.920000        0      0   155.0   69.55  28.950000    22.35      25   \n",
       "206  64.920000        1      1   158.0   60.75  24.340000    22.85      11   \n",
       "\n",
       "    Illness  Nmedication  ... Internal fixation in the medulla  \\\n",
       "0         1            1  ...                                0   \n",
       "1         0            0  ...                                0   \n",
       "2         0            0  ...                                0   \n",
       "3         0            0  ...                                0   \n",
       "4         0            1  ...                                0   \n",
       "..      ...          ...  ...                              ...   \n",
       "202       0            0  ...                                0   \n",
       "203       1            0  ...                                0   \n",
       "204       1            0  ...                                0   \n",
       "205       0            0  ...                                0   \n",
       "206       1            3  ...                                0   \n",
       "\n",
       "    Internal fixation in the knee  Corrective lens  Prosthesis aortic valve  \\\n",
       "0                               0                1                        0   \n",
       "1                               0                0                        0   \n",
       "2                               0                0                        0   \n",
       "3                               0                0                        0   \n",
       "4                               0                1                        0   \n",
       "..                            ...              ...                      ...   \n",
       "202                             0                1                        0   \n",
       "203                             0                1                        0   \n",
       "204                             0                1                        0   \n",
       "205                             0                1                        0   \n",
       "206                             0                1                        0   \n",
       "\n",
       "     Dental_total  Support_total  Hearing_total  \\\n",
       "0               0              0              0   \n",
       "1               0              0              0   \n",
       "2               1              0              0   \n",
       "3               1              0              0   \n",
       "4               1              0              0   \n",
       "..            ...            ...            ...   \n",
       "202             0              0              0   \n",
       "203             0              0              0   \n",
       "204             0              0              0   \n",
       "205             0              0              0   \n",
       "206             1              0              0   \n",
       "\n",
       "     Internal fixation in the toe_foot_total  Orthosis in the knee_total  \\\n",
       "0                                          0                           0   \n",
       "1                                          0                           0   \n",
       "2                                          0                           0   \n",
       "3                                          0                           0   \n",
       "4                                          0                           0   \n",
       "..                                       ...                         ...   \n",
       "202                                        0                           1   \n",
       "203                                        0                           0   \n",
       "204                                        0                           0   \n",
       "205                                        0                           0   \n",
       "206                                        0                           0   \n",
       "\n",
       "     PF50_closed_rigid  \n",
       "0             0.200000  \n",
       "1             0.133333  \n",
       "2             0.133333  \n",
       "3             0.144444  \n",
       "4             0.200000  \n",
       "..                 ...  \n",
       "202           0.077778  \n",
       "203           0.244444  \n",
       "204           0.122222  \n",
       "205           0.266667  \n",
       "206           0.311111  \n",
       "\n",
       "[207 rows x 184 columns]"
      ]
     },
     "execution_count": 3,
     "metadata": {},
     "output_type": "execute_result"
    }
   ],
   "source": [
    "data = pd.read_pickle(\"data_closed_rigid_o\")\n",
    "data"
   ]
  },
  {
   "cell_type": "code",
   "execution_count": 4,
   "metadata": {},
   "outputs": [],
   "source": [
    "pf50 = data[\"PF50_closed_rigid\"].values\n",
    "#pf50"
   ]
  },
  {
   "cell_type": "code",
   "execution_count": 5,
   "metadata": {},
   "outputs": [],
   "source": [
    "#plt.plot(pf50)\n",
    "#plt.show()"
   ]
  },
  {
   "cell_type": "code",
   "execution_count": 6,
   "metadata": {},
   "outputs": [],
   "source": [
    "#plt.boxplot(pf50)"
   ]
  },
  {
   "cell_type": "code",
   "execution_count": 7,
   "metadata": {},
   "outputs": [
    {
     "data": {
      "image/png": "[encoded data removed]",
      "text/plain": [
       "<Figure size 432x288 with 1 Axes>"
      ]
     },
     "metadata": {
      "needs_background": "light"
     },
     "output_type": "display_data"
    }
   ],
   "source": [
    "n, bins, patches = plt.hist(pf50)"
   ]
  },
  {
   "cell_type": "code",
   "execution_count": 8,
   "metadata": {},
   "outputs": [],
   "source": [
    "X = data.drop(columns=[\"PF50_closed_rigid\"]).values\n",
    "y = pf50.reshape(len(pf50), 1)"
   ]
  },
  {
   "cell_type": "code",
   "execution_count": 9,
   "metadata": {},
   "outputs": [],
   "source": [
    "# Separando o dataset em treino e teste\n",
    "X_train, X_test, y_train, y_test = train_test_split(X, y, test_size=0.4, random_state=42)"
   ]
  },
  {
   "cell_type": "code",
   "execution_count": 10,
   "metadata": {},
   "outputs": [
    {
     "data": {
      "text/plain": [
       "array([[70.41666666666667, '1', '1', ..., 0, 0, 0],\n",
       "       [23.66666666666667, '0', '1', ..., 0, 0, 0],\n",
       "       [28.42, '0', '1', ..., 0, 0, 0],\n",
       "       ...,\n",
       "       [27.33333333333333, '0', '0', ..., 0, 0, 0],\n",
       "       [62.17, '1', '0', ..., 0, 0, 0],\n",
       "       [63.16666666666666, '1', '1', ..., 1, 0, 0]], dtype=object)"
      ]
     },
     "execution_count": 10,
     "metadata": {},
     "output_type": "execute_result"
    }
   ],
   "source": [
    "X_train"
   ]
  },
  {
   "cell_type": "code",
   "execution_count": 11,
   "metadata": {},
   "outputs": [
    {
     "data": {
      "image/png": "[encoded data removed]",
      "text/plain": [
       "<Figure size 432x288 with 1 Axes>"
      ]
     },
     "metadata": {
      "needs_background": "light"
     },
     "output_type": "display_data"
    }
   ],
   "source": [
    "# Histograma dos dados de treino\n",
    "nbins = 5\n",
    "n, bins, patches = plt.hist(y_train, nbins)"
   ]
  },
  {
   "cell_type": "code",
   "execution_count": 12,
   "metadata": {},
   "outputs": [],
   "source": [
    "# Indica qual o bin correspondente para cada dado\n",
    "indices = np.digitize(y_train, bins)\n",
    "\n",
    "# Arrumar o caso do último valor que não é incluído no último bin\n",
    "indices[indices>nbins]=nbins\n",
    "indices = indices.reshape(len(indices),)\n",
    "#indices"
   ]
  },
  {
   "cell_type": "code",
   "execution_count": 13,
   "metadata": {},
   "outputs": [
    {
     "data": {
      "text/plain": [
       "array([48., 48., 14., 11.,  3.])"
      ]
     },
     "execution_count": 13,
     "metadata": {},
     "output_type": "execute_result"
    }
   ],
   "source": [
    "n"
   ]
  },
  {
   "cell_type": "markdown",
   "metadata": {},
   "source": [
    "## Usando o SMOTE\n",
    "https://imbalanced-learn.readthedocs.io/en/stable/generated/imblearn.over_sampling.SMOTE.html"
   ]
  },
  {
   "cell_type": "code",
   "execution_count": 15,
   "metadata": {},
   "outputs": [
    {
     "data": {
      "text/plain": [
       "(124, 184)"
      ]
     },
     "execution_count": 15,
     "metadata": {},
     "output_type": "execute_result"
    }
   ],
   "source": [
    "data_train = np.hstack([X_train, y_train])\n",
    "data_train.shape"
   ]
  },
  {
   "cell_type": "code",
   "execution_count": 16,
   "metadata": {},
   "outputs": [],
   "source": [
    "sm = SMOTE(k_neighbors=np.int(n.min()-1), random_state=42)\n",
    "data_train_res, indices_res = sm.fit_resample(data_train, indices)"
   ]
  },
  {
   "cell_type": "code",
   "execution_count": 17,
   "metadata": {},
   "outputs": [
    {
     "data": {
      "text/plain": [
       "(240, 184)"
      ]
     },
     "execution_count": 17,
     "metadata": {},
     "output_type": "execute_result"
    }
   ],
   "source": [
    "data_train_res.shape"
   ]
  },
  {
   "cell_type": "code",
   "execution_count": 18,
   "metadata": {},
   "outputs": [
    {
     "data": {
      "image/png": "[encoded data removed]",
      "text/plain": [
       "<Figure size 432x288 with 1 Axes>"
      ]
     },
     "metadata": {
      "needs_background": "light"
     },
     "output_type": "display_data"
    }
   ],
   "source": [
    "# Histograma dos dados de treino resample\n",
    "nbins = 5\n",
    "n_res, bins_res, patches_res = plt.hist(data_train_res[:,-1], nbins)"
   ]
  },
  {
   "cell_type": "code",
   "execution_count": 19,
   "metadata": {},
   "outputs": [
    {
     "data": {
      "text/plain": [
       "array([48., 48., 48., 48., 48.])"
      ]
     },
     "execution_count": 19,
     "metadata": {},
     "output_type": "execute_result"
    }
   ],
   "source": [
    "n_res"
   ]
  },
  {
   "cell_type": "code",
   "execution_count": 20,
   "metadata": {},
   "outputs": [],
   "source": [
    "# Colocando \n",
    "X_train = data_train_res[:,0:-1]\n",
    "y_train = data_train_res[:,-1].reshape(data_train_res.shape[0],1)"
   ]
  },
  {
   "cell_type": "code",
   "execution_count": 35,
   "metadata": {},
   "outputs": [
    {
     "data": {
      "text/plain": [
       "array([ 66.76590938,   0.79017554,   0.        , 175.77228203,\n",
       "        71.94796576,  23.28358028,  25.67543885,   9.25894676,\n",
       "         1.        ,   3.37052662,   1.        ,   0.        ,\n",
       "         0.        ,   0.        ,   0.        ,   0.        ,\n",
       "         0.79017554,   0.        ,   0.        ,   0.        ,\n",
       "         0.        ,   0.        ,   0.20982446,   0.        ,\n",
       "         0.        ,   0.        ,   0.        ,   0.        ,\n",
       "         0.        ,   0.        ,   0.79017554,   0.        ,\n",
       "         0.        ,   0.        ,   0.        ,   0.        ,\n",
       "         0.        ,   0.        ,   0.        ,   0.        ,\n",
       "         0.        ,   0.        ,   0.        ,   0.79017554,\n",
       "         0.        ,   0.        ,   0.        ,   0.        ,\n",
       "         0.        ,   0.        ,   0.        ,   0.        ,\n",
       "         0.        ,   0.        ,   0.        ,   0.        ,\n",
       "         0.        ,   0.        ,   0.        ,   0.        ,\n",
       "         0.79017554,   0.        ,   0.        ,   0.        ,\n",
       "         0.        ,   0.        ,   0.        ,   0.        ,\n",
       "         0.        ,   0.        ,   0.        ,   0.        ,\n",
       "         0.20982446,   0.        ,   0.        ,   0.        ,\n",
       "         0.        ,   0.        ,   0.        ,   0.        ,\n",
       "         0.        ,   0.        ,   0.        ,   0.        ,\n",
       "         0.        ,   0.        ,   0.        ,   0.        ,\n",
       "         0.        ,   0.        ,   0.        ,   0.        ,\n",
       "         0.        ,   0.        ,   0.        ,   0.        ,\n",
       "         0.        ,   0.        ,   0.        ,   0.        ,\n",
       "         0.        ,   0.        ,   0.        ,   0.        ,\n",
       "         0.        ,   0.        ,   0.        ,   0.        ,\n",
       "         0.        ,   0.        ,   0.        ,   0.        ,\n",
       "         0.        ,   0.        ,   0.        ,   0.        ,\n",
       "         0.        ,   0.        ,   0.        ,   0.        ,\n",
       "         0.        ,   0.        ,   0.        ,   0.        ,\n",
       "         0.        ,   0.        ,   0.        ,   0.        ,\n",
       "         0.        ,   0.        ,   0.        ,   0.        ,\n",
       "         0.        ,   0.        ,   0.        ,   0.        ,\n",
       "         0.        ,   0.        ,   0.        ,   0.20982446,\n",
       "         0.        ,   0.        ,   0.        ,   0.        ,\n",
       "         0.        ,   0.        ,   0.        ,   0.        ,\n",
       "         0.        ,   0.79017554,   0.        ,   0.        ,\n",
       "         0.        ,   0.        ,   0.        ,   0.        ,\n",
       "         0.        ,   0.        ,   0.        ,   0.        ,\n",
       "         0.        ,   0.        ,   0.        ,   0.20982446,\n",
       "         0.79017554,   0.79017554,   0.        ,   0.        ,\n",
       "         0.        ,   0.        ,   0.        ,   0.        ,\n",
       "         0.        ,   0.        ,   0.        ,   0.        ,\n",
       "         1.        ,   0.        ,   0.79017554,   0.        ,\n",
       "         0.        ,   0.        ,   0.        ])"
      ]
     },
     "execution_count": 35,
     "metadata": {},
     "output_type": "execute_result"
    }
   ],
   "source": [
    "# Arrumar os 0 e 1 nos parametros quali\n",
    "X_train[-1]"
   ]
  },
  {
   "cell_type": "code",
   "execution_count": 22,
   "metadata": {},
   "outputs": [],
   "source": [
    "# Ajustando o escalamento ao dado de TREINAMENTO (fit) e transformando o dado de treinamento\n",
    "scaler_x = MinMaxScaler()\n",
    "X_train_scaled = scaler_x.fit_transform(X_train)\n",
    "\n",
    "scaler_y = MinMaxScaler()\n",
    "y_train_scaled = scaler_y.fit_transform(y_train)"
   ]
  },
  {
   "cell_type": "code",
   "execution_count": 23,
   "metadata": {},
   "outputs": [],
   "source": [
    "#torch.manual_seed(1234)"
   ]
  },
  {
   "cell_type": "code",
   "execution_count": 24,
   "metadata": {},
   "outputs": [],
   "source": [
    "# N = 1 # Batch size\n",
    "D_in = X.shape[1] # Input dimension\n",
    "D_out = 1 # Output dimension \n",
    "hidden_units = 3"
   ]
  },
  {
   "cell_type": "code",
   "execution_count": 25,
   "metadata": {},
   "outputs": [],
   "source": [
    "class Net(nn.Module):\n",
    "    def __init__(self, D_in, D_out):\n",
    "        super(Net, self).__init__()\n",
    "        self.fc1 = nn.Linear(D_in, 12)\n",
    "        self.fc2 = nn.Linear(12, 6)\n",
    "        self.fc3 = nn.Linear(6, 2)\n",
    "        self.fc4 = nn.Linear(2, D_out)\n",
    "        \n",
    "    def forward(self, x):\n",
    "        x = torch.tanh(self.fc1(x))\n",
    "        x = torch.tanh(self.fc2(x))\n",
    "        x = torch.tanh(self.fc3(x))\n",
    "        x = self.fc4(x)\n",
    "        return(x)\n",
    "\n",
    "net = Net(D_in, D_out)"
   ]
  },
  {
   "cell_type": "code",
   "execution_count": 26,
   "metadata": {},
   "outputs": [],
   "source": [
    "# Choose optmizer and loss function\n",
    "criterion = nn.MSELoss()\n",
    "optimizer = torch.optim.SGD(net.parameters(), lr = 0.05, momentum = 0.9) # lr = learning rate "
   ]
  },
  {
   "cell_type": "code",
   "execution_count": 27,
   "metadata": {},
   "outputs": [
    {
     "name": "stdout",
     "output_type": "stream",
     "text": [
      "Epoch 1 Loss: 0.0972\n",
      "Epoch 10 Loss: 0.0852\n",
      "Epoch 20 Loss: 0.0774\n",
      "Epoch 30 Loss: 0.0708\n",
      "Epoch 40 Loss: 0.0568\n",
      "Epoch 50 Loss: 0.0380\n",
      "Epoch 60 Loss: 0.0312\n",
      "Epoch 70 Loss: 0.0259\n",
      "Epoch 80 Loss: 0.0230\n",
      "Epoch 90 Loss: 0.0202\n",
      "Epoch 100 Loss: 0.0180\n",
      "Epoch 110 Loss: 0.0160\n",
      "Epoch 120 Loss: 0.0142\n",
      "Epoch 130 Loss: 0.0127\n",
      "Epoch 140 Loss: 0.0113\n",
      "Epoch 150 Loss: 0.0101\n",
      "Epoch 160 Loss: 0.0092\n",
      "Epoch 170 Loss: 0.0084\n",
      "Epoch 180 Loss: 0.0077\n",
      "Epoch 190 Loss: 0.0072\n",
      "Epoch 200 Loss: 0.0068\n",
      "Epoch 210 Loss: 0.0064\n",
      "Epoch 220 Loss: 0.0061\n",
      "Epoch 230 Loss: 0.0058\n",
      "Epoch 240 Loss: 0.0056\n",
      "Epoch 250 Loss: 0.0054\n",
      "Epoch 260 Loss: 0.0052\n",
      "Epoch 270 Loss: 0.0050\n",
      "Epoch 280 Loss: 0.0049\n",
      "Epoch 290 Loss: 0.0047\n",
      "Epoch 300 Loss: 0.0046\n",
      "Epoch 310 Loss: 0.0045\n",
      "Epoch 320 Loss: 0.0044\n",
      "Epoch 330 Loss: 0.0043\n",
      "Epoch 340 Loss: 0.0043\n",
      "Epoch 350 Loss: 0.0042\n",
      "Epoch 360 Loss: 0.0041\n",
      "Epoch 370 Loss: 0.0041\n",
      "Epoch 380 Loss: 0.0040\n",
      "Epoch 390 Loss: 0.0040\n",
      "Epoch 400 Loss: 0.0039\n",
      "Epoch 410 Loss: 0.0039\n",
      "Epoch 420 Loss: 0.0038\n",
      "Epoch 430 Loss: 0.0038\n",
      "Epoch 440 Loss: 0.0037\n",
      "Epoch 450 Loss: 0.0037\n",
      "Epoch 460 Loss: 0.0037\n",
      "Epoch 470 Loss: 0.0036\n",
      "Epoch 480 Loss: 0.0036\n",
      "Epoch 490 Loss: 0.0036\n",
      "Epoch 500 Loss: 0.0035\n",
      "Epoch 510 Loss: 0.0035\n",
      "Epoch 520 Loss: 0.0035\n",
      "Epoch 530 Loss: 0.0035\n",
      "Epoch 540 Loss: 0.0034\n",
      "Epoch 550 Loss: 0.0034\n",
      "Epoch 560 Loss: 0.0034\n",
      "Epoch 570 Loss: 0.0034\n",
      "Epoch 580 Loss: 0.0034\n",
      "Epoch 590 Loss: 0.0033\n",
      "Epoch 600 Loss: 0.0033\n",
      "Epoch 610 Loss: 0.0033\n",
      "Epoch 620 Loss: 0.0033\n",
      "Epoch 630 Loss: 0.0033\n",
      "Epoch 640 Loss: 0.0032\n",
      "Epoch 650 Loss: 0.0032\n",
      "Epoch 660 Loss: 0.0032\n",
      "Epoch 670 Loss: 0.0032\n",
      "Epoch 680 Loss: 0.0032\n",
      "Epoch 690 Loss: 0.0031\n",
      "Epoch 700 Loss: 0.0031\n",
      "Epoch 710 Loss: 0.0031\n",
      "Epoch 720 Loss: 0.0031\n",
      "Epoch 730 Loss: 0.0031\n",
      "Epoch 740 Loss: 0.0031\n",
      "Epoch 750 Loss: 0.0031\n",
      "Epoch 760 Loss: 0.0030\n",
      "Epoch 770 Loss: 0.0030\n",
      "Epoch 780 Loss: 0.0030\n",
      "Epoch 790 Loss: 0.0030\n",
      "Epoch 800 Loss: 0.0030\n",
      "Epoch 810 Loss: 0.0030\n",
      "Epoch 820 Loss: 0.0030\n",
      "Epoch 830 Loss: 0.0029\n",
      "Epoch 840 Loss: 0.0029\n",
      "Epoch 850 Loss: 0.0029\n",
      "Epoch 860 Loss: 0.0029\n",
      "Epoch 870 Loss: 0.0029\n",
      "Epoch 880 Loss: 0.0029\n",
      "Epoch 890 Loss: 0.0029\n",
      "Epoch 900 Loss: 0.0028\n",
      "Epoch 910 Loss: 0.0028\n",
      "Epoch 920 Loss: 0.0028\n",
      "Epoch 930 Loss: 0.0028\n",
      "Epoch 940 Loss: 0.0028\n",
      "Epoch 950 Loss: 0.0028\n",
      "Epoch 960 Loss: 0.0028\n",
      "Epoch 970 Loss: 0.0028\n",
      "Epoch 980 Loss: 0.0027\n",
      "Epoch 990 Loss: 0.0027\n",
      "Epoch 1000 Loss: 0.0027\n"
     ]
    }
   ],
   "source": [
    "# Treinamento utilizando o dado de treino transformado\n",
    "epochs = 1000\n",
    "lossr = np.zeros(epochs)\n",
    "\n",
    "for epoch in range(epochs):\n",
    "    inputs = torch.autograd.Variable(torch.Tensor(X_train_scaled.astype(np.float32)).float())\n",
    "    targets = torch.autograd.Variable(torch.Tensor(y_train_scaled.astype(np.float32)).float())\n",
    "    \n",
    "    optimizer.zero_grad()\n",
    "    out = net(inputs)\n",
    "    loss = criterion(out, targets)\n",
    "    loss.backward()\n",
    "    optimizer.step()\n",
    "    \n",
    "    lossr[epoch] = loss.item()\n",
    "    \n",
    "    if epoch == 0 or (epoch + 1) % 10 == 0:\n",
    "        print('Epoch %d Loss: %.4f' % (epoch + 1, loss.item()))"
   ]
  },
  {
   "cell_type": "code",
   "execution_count": 28,
   "metadata": {},
   "outputs": [
    {
     "data": {
      "image/png": "[encoded data removed]",
      "text/plain": [
       "<Figure size 432x288 with 1 Axes>"
      ]
     },
     "metadata": {
      "needs_background": "light"
     },
     "output_type": "display_data"
    }
   ],
   "source": [
    "epoch = np.arange(0, epochs)\n",
    "plt.plot(epoch,lossr)\n",
    "plt.show()"
   ]
  },
  {
   "cell_type": "code",
   "execution_count": 29,
   "metadata": {},
   "outputs": [],
   "source": [
    "# Transformando o dado de teste\n",
    "X_test_scaled = scaler_x.fit_transform(X_test)\n",
    "y_test_scaled = scaler_y.fit_transform(y_test)"
   ]
  },
  {
   "cell_type": "code",
   "execution_count": 30,
   "metadata": {},
   "outputs": [
    {
     "name": "stdout",
     "output_type": "stream",
     "text": [
      "Teste Loss: 0.1324\n"
     ]
    }
   ],
   "source": [
    "# Avaliando a acurácia do modelo utilizando os dados de teste transformados\n",
    "inputs = torch.autograd.Variable(torch.Tensor(X_test_scaled.astype(np.float32)).float())\n",
    "targets = torch.autograd.Variable(torch.Tensor(y_test_scaled.astype(np.float32)).float())\n",
    "\n",
    "optimizer.zero_grad()\n",
    "out = net(inputs)\n",
    "loss = criterion(out, targets)\n",
    "loss.backward()\n",
    "optimizer.step()\n",
    "\n",
    "predicted = out.data\n",
    "\n",
    "print('Teste Loss: %.4f' % (loss.item()))"
   ]
  },
  {
   "cell_type": "code",
   "execution_count": 36,
   "metadata": {},
   "outputs": [],
   "source": [
    "# Implementar o Cosine Similarity"
   ]
  },
  {
   "cell_type": "code",
   "execution_count": 31,
   "metadata": {},
   "outputs": [
    {
     "data": {
      "image/png": "[encoded data removed]",
      "text/plain": [
       "<Figure size 432x288 with 1 Axes>"
      ]
     },
     "metadata": {
      "needs_background": "light"
     },
     "output_type": "display_data"
    }
   ],
   "source": [
    "ninput = np.arange(len(X_test))\n",
    "plt.figure()\n",
    "plt.plot(ninput, y_test_scaled, '-*', label = 'target')\n",
    "plt.plot(ninput, predicted.numpy(), '-+', label = 'predicted')\n",
    "plt.title('Dados Normalizados')\n",
    "plt.legend()\n",
    "plt.show()"
   ]
  },
  {
   "cell_type": "code",
   "execution_count": 32,
   "metadata": {},
   "outputs": [],
   "source": [
    "# Fazendo a transformação inversa para desnormalizar o dado de teste\n",
    "predicted_desnorm = scaler_y.inverse_transform(predicted.numpy())\n",
    "target_desnorm = scaler_y.inverse_transform(y_test_scaled)"
   ]
  },
  {
   "cell_type": "code",
   "execution_count": 33,
   "metadata": {},
   "outputs": [
    {
     "data": {
      "image/png": "[encoded data removed]",
      "text/plain": [
       "<Figure size 432x288 with 1 Axes>"
      ]
     },
     "metadata": {
      "needs_background": "light"
     },
     "output_type": "display_data"
    }
   ],
   "source": [
    "plt.figure()\n",
    "plt.plot(ninput, target_desnorm, '-*', label = 'target')\n",
    "plt.plot(ninput, predicted_desnorm, '-+', label = 'predicted')\n",
    "plt.title('Desnormalizado target_desnorm')\n",
    "plt.legend()\n",
    "plt.show()"
   ]
  }
 ],
 "metadata": {
  "kernelspec": {
   "display_name": "Python 3",
   "language": "python",
   "name": "python3"
  },
  "language_info": {
   "codemirror_mode": {
    "name": "ipython",
    "version": 3
   },
   "file_extension": ".py",
   "mimetype": "text/x-python",
   "name": "python",
   "nbconvert_exporter": "python",
   "pygments_lexer": "ipython3",
   "version": "3.7.4"
  }
 },
 "nbformat": 4,
 "nbformat_minor": 2
}
