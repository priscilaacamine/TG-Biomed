{
 "cells": [
  {
   "cell_type": "code",
   "execution_count": 10,
   "metadata": {},
   "outputs": [],
   "source": [
    "import numpy as np\n",
    "import torch as torch\n",
    "import matplotlib.pyplot as plt\n",
    "import pickle\n",
    "from sklearn.decomposition import PCA"
   ]
  },
  {
   "cell_type": "markdown",
   "metadata": {},
   "source": [
    "# Função para associar cada categoria a um número inteiro, na ordem listada"
   ]
  },
  {
   "cell_type": "code",
   "execution_count": 11,
   "metadata": {},
   "outputs": [],
   "source": [
    "def createCategoryIndex(categories):\n",
    "    #create a dictionary for each category. Each category is a key of the dictionary and the element is \n",
    "    # an integer number. Each category corresponds to a number.\n",
    "    category_index = {category: idx for idx,category in enumerate(categories)}\n",
    "    \n",
    "    #create a dictionary for each category. Each number is a key of the dictionary and the element is \n",
    "    # the corresponding category name.\n",
    "    index_category = {idx: category for category, idx in category_index.items()}\n",
    "    \n",
    "    return category_index, index_category"
   ]
  },
  {
   "cell_type": "markdown",
   "metadata": {},
   "source": [
    "# Carrega a lista de categorias"
   ]
  },
  {
   "cell_type": "code",
   "execution_count": 12,
   "metadata": {},
   "outputs": [
    {
     "data": {
      "text/plain": [
       "['Arthritis',\n",
       " 'Breathlessness',\n",
       " 'Bronchitis',\n",
       " 'Bursitis',\n",
       " 'Conjunctivitis',\n",
       " 'Dermatitis',\n",
       " 'Epilepsy',\n",
       " 'Esophagitis',\n",
       " 'Essential tremor',\n",
       " 'Fatty liver',\n",
       " 'Gastritis',\n",
       " 'Gastroesophageal reflux',\n",
       " 'Glaucoma',\n",
       " 'Gout',\n",
       " 'Hiatus hernia',\n",
       " 'Hypertriglyceridemia',\n",
       " 'Hyperuricemia',\n",
       " 'Inflammation of the tibial nerve',\n",
       " 'Keratoconus',\n",
       " 'Kidney failure',\n",
       " 'Kidney stones',\n",
       " 'Ligament problems',\n",
       " 'Lumbar tumor',\n",
       " 'Lymphedema of the lower members',\n",
       " 'Migraine',\n",
       " 'Poliomyelitis',\n",
       " 'Polycystic kidney disease',\n",
       " 'Progressive breast cancer',\n",
       " 'Prostate disease',\n",
       " 'Prostatitis',\n",
       " 'Rheumatism',\n",
       " 'Sickle cell anemia',\n",
       " 'Sinusitis',\n",
       " 'Skin cancer',\n",
       " 'Skin disease',\n",
       " 'Spine problem',\n",
       " 'Stroke',\n",
       " 'Varicose veins of the legs',\n",
       " 'Vascular leakage of the eyes',\n",
       " 'Anemia',\n",
       " 'Arrhythmia',\n",
       " 'Ascending colon cancer',\n",
       " 'Deep vein thrombosis',\n",
       " 'Depression',\n",
       " 'Endometriosis',\n",
       " 'Hashimoto disease',\n",
       " 'Heel spurs',\n",
       " 'Hepatitis B',\n",
       " 'Intestine disorder',\n",
       " 'Melanoma',\n",
       " \"Parkinson's disease\",\n",
       " 'Prostatic hyperplasia',\n",
       " \"Sjogren's syndrome\",\n",
       " 'Thalassemia minor',\n",
       " 'Urinary tract infection',\n",
       " 'Vasovagal syncope',\n",
       " 'Vitiligo',\n",
       " 'Heart disease_total',\n",
       " 'Osteopenia_total',\n",
       " 'Tendinitis_total',\n",
       " 'Arthrosis_total',\n",
       " 'Herniated lumbar disc_total',\n",
       " 'Hypercholesterolemia_total',\n",
       " 'Allergy_total',\n",
       " 'Anxiety_total',\n",
       " 'Asthma_total',\n",
       " 'Chodromalacia of the knees_total',\n",
       " 'Diabetes mellitus_total',\n",
       " 'Fibromyalgia_total',\n",
       " 'Hypertension_total',\n",
       " 'Hyperthyroidism_total',\n",
       " 'Hypoglycemia_total',\n",
       " 'Hypothyroidism_total',\n",
       " 'Labyrinthitis_total',\n",
       " 'Osteoporosis_total',\n",
       " 'Rhinitis_total',\n",
       " 'Scoliosis_total']"
      ]
     },
     "execution_count": 12,
     "metadata": {},
     "output_type": "execute_result"
    }
   ],
   "source": [
    "illnessNames = list(np.load('Categories/illnessNames.npy'))\n",
    "illnessNames"
   ]
  },
  {
   "cell_type": "markdown",
   "metadata": {},
   "source": [
    "# Carrega os vetores do banco de dados BioWordVec"
   ]
  },
  {
   "cell_type": "code",
   "execution_count": 19,
   "metadata": {},
   "outputs": [
    {
     "name": "stdout",
     "output_type": "stream",
     "text": [
      "São 2324849 palavras\n"
     ]
    }
   ],
   "source": [
    "from gensim.models import KeyedVectors\n",
    "model = KeyedVectors.load_word2vec_format('wordEmbeddings/bio_embedding_extrinsic', binary=True)\n",
    "# model = KeyedVectors.load_word2vec_format('wordEmbeddings/BioWordVec_PubMed_MIMICIII_d200.vec.bin', binary=True)\n",
    "print('São',len(model.vocab),'palavras')"
   ]
  },
  {
   "cell_type": "markdown",
   "metadata": {},
   "source": [
    "Por exemplo, a palavra 'allergy' tem o seguinte vetor:"
   ]
  },
  {
   "cell_type": "code",
   "execution_count": 20,
   "metadata": {},
   "outputs": [
    {
     "name": "stdout",
     "output_type": "stream",
     "text": [
      "[ 0.25168544 -0.01934091 -0.40316743 -0.02268038  0.5688322   0.27722085\n",
      " -0.0312943  -0.48896465 -0.5185682   0.01411594  0.461625   -0.4290582\n",
      "  0.00461783  0.01684239  0.17359051 -0.13645998 -0.05102435  0.01890971\n",
      "  0.07020991 -0.16557398  0.16522539 -0.24913496 -0.3511754  -0.2106227\n",
      " -0.16456136 -0.40960917 -0.59124935  0.10545944  0.2148732  -0.21801609\n",
      "  0.27340266  0.23580965 -0.04663253 -0.12203694  0.26754642 -0.05086051\n",
      "  0.250879    0.45118695 -0.20331602 -0.41336206 -0.3653256  -0.22952196\n",
      "  0.25110513 -0.41036364 -0.37013587 -0.02889536 -0.16636217  0.04712204\n",
      " -0.52487886 -0.14184186  0.20138535  0.2842646   0.34517968 -0.09384063\n",
      " -0.75165975 -0.5146247   0.16460857  0.07442839 -0.416404   -0.06224834\n",
      "  0.00303303 -0.0937304   0.07938774 -0.05778766 -0.15059349  0.19243024\n",
      " -0.5404742   0.24347076  0.74062157 -0.5394397  -0.4908475  -0.03027103\n",
      "  0.46166545  0.08245455  0.51724416 -0.11777794 -0.03820566  0.33912063\n",
      " -0.1630622  -0.27157554 -0.3743193  -0.48528415  0.24529897 -0.22799805\n",
      "  0.2872719   0.35898632 -0.2865181   0.09838007 -0.0441092  -0.03652209\n",
      "  0.49780497 -0.19332686 -0.15141308  0.4972052   0.01193709 -0.20512436\n",
      " -0.03741441 -0.62584    -0.319469    0.32136577  0.45173803 -0.22198905\n",
      "  0.71943915 -0.1266432  -0.3916748   0.29977986  0.24250555 -0.19614354\n",
      "  0.07752617  0.55090606 -0.07080131 -0.15218975 -0.11678091 -0.24696833\n",
      "  0.03375235 -0.9783327   0.0114029   0.57630855 -0.49065217  0.27720153\n",
      "  0.30062175  0.6357804   0.06872427  0.4903321  -0.35978198  0.4788549\n",
      " -0.35853514 -0.34583655  0.50279456 -0.18622956  0.49715456 -0.00520341\n",
      " -0.28364614 -0.5776455   0.18498838 -0.00539355  0.13149284  0.44045573\n",
      " -0.01618491  0.34882563 -0.49440587 -0.36727658 -0.6022286   0.27543038\n",
      "  0.03025879 -0.41489467  0.0536803   0.51175886 -0.26777706  0.12148431\n",
      "  0.13401599  0.33896357  0.15360355  0.04879308 -0.08035869  0.4621685\n",
      "  0.38769037  0.37329093 -0.10378379  0.6198663  -0.35382748 -0.6074189\n",
      " -0.62862736 -0.30833602  0.03881566  0.2885851  -0.18232752  0.10848559\n",
      " -0.11066368  0.30223063 -0.02341691 -0.15484859 -0.36000556 -0.14144364\n",
      " -0.05197411  0.12988488  0.27669105  0.12122931 -0.24186939 -0.27667663\n",
      "  0.29473975 -0.17850383 -0.11521912 -0.10816374  0.16923818  0.3582893\n",
      "  0.24855432 -0.2143728   0.09898586 -0.56358194 -0.11874218 -0.09401968\n",
      "  0.01696552 -0.24944434 -0.16824453 -0.5006973  -0.7387021   0.63820803\n",
      " -0.22573954  0.2995273 ]\n"
     ]
    }
   ],
   "source": [
    "print(model['allergy'])"
   ]
  },
  {
   "cell_type": "markdown",
   "metadata": {},
   "source": [
    "Note que cada vetor é um vetor do Numpy com 200 números."
   ]
  },
  {
   "cell_type": "markdown",
   "metadata": {},
   "source": [
    "# Modifica os nomes da lista de categorias para adequar às palavras existentes no banco de palavras\n",
    "\n",
    "Como algumas palavras da lista de categorias não está escrita igual ao banco BioWordVec, é necessário modificar algumas das palavras. Todas as palavras têm todas as letras minúsculas e os espaços são representados por hífens."
   ]
  },
  {
   "cell_type": "code",
   "execution_count": 14,
   "metadata": {},
   "outputs": [],
   "source": [
    "illnessNames = list(np.load('Categories/illnessNames.npy'))\n",
    "illnessNamesModified = illnessNames.copy()\n",
    "\n",
    "for i in range(len(illnessNames)):\n",
    "    illnessNamesModified[i] = illnessNames[i].lower().replace(' ', '-')\n",
    "    illnessNamesModified[i] = illnessNamesModified[i].replace('_total', '')\n",
    "    illnessNamesModified[i] = illnessNamesModified[i].replace('hiatus-hernia', 'hernia-hiatal')\n",
    "    illnessNamesModified[i] = illnessNamesModified[i].replace('inflammation-of-the-tibial-nerve', 'tarsal-tunnel-syndrome')\n",
    "    illnessNamesModified[i] = illnessNamesModified[i].replace('ligament-problems', 'ligament-injured')\n",
    "    illnessNamesModified[i] = illnessNamesModified[i].replace('lumbar-tumor', 'spinal-cord-neoplasms')\n",
    "    illnessNamesModified[i] = illnessNamesModified[i].replace('lymphedema-of-the-lower-members', 'lymphedema')\n",
    "    illnessNamesModified[i] = illnessNamesModified[i].replace('polycystic-kidney-disease', 'polycystic-kidney-diseases')\n",
    "    illnessNamesModified[i] = illnessNamesModified[i].replace('progressive-breast-cancer', 'breast-cancer')\n",
    "    illnessNamesModified[i] = illnessNamesModified[i].replace('prostate-disease', 'prostate-related')\n",
    "    illnessNamesModified[i] = illnessNamesModified[i].replace('sickle-cell-anemia', 'anemia-sickle-cell')\n",
    "    illnessNamesModified[i] = illnessNamesModified[i].replace('spine-problem', 'back-pain')\n",
    "    illnessNamesModified[i] = illnessNamesModified[i].replace('varicose-veins-of-the-legs', 'varicose-veins')\n",
    "    illnessNamesModified[i] = illnessNamesModified[i].replace('vascular-leakage-of-the-eyes', 'retinopathy')\n",
    "    illnessNamesModified[i] = illnessNamesModified[i].replace('ascending-colon-cancer', 'colorectal-cancer')\n",
    "    illnessNamesModified[i] = illnessNamesModified[i].replace('deep-vein-thrombosis', 'vein-thrombosis')\n",
    "    illnessNamesModified[i] = illnessNamesModified[i].replace('heel-spurs', 'heel-spur')\n",
    "    illnessNamesModified[i] = illnessNamesModified[i].replace('intestine-disorder', 'gastrointestinal-diseases')\n",
    "    illnessNamesModified[i] = illnessNamesModified[i].replace(\"parkinson's-disease\", 'parkinson-disease')\n",
    "    illnessNamesModified[i] = illnessNamesModified[i].replace(\"thalassemia-minor\", 'thalassemia')\n",
    "    illnessNamesModified[i] = illnessNamesModified[i].replace('vasovagal-syncope', 'syncope-vasovagal')\n",
    "    illnessNamesModified[i] = illnessNamesModified[i].replace('herniated-lumbar-disc', 'intervertebral-disc-displacement')\n",
    "    illnessNamesModified[i] = illnessNamesModified[i].replace('chodromalacia-of-the-knees', 'chondromalacia-patellae')\n",
    "\n"
   ]
  },
  {
   "cell_type": "markdown",
   "metadata": {},
   "source": [
    "# Guarda os vetores correspondentes a cada uma das categorias em uma matriz w do PyTorch \n",
    "\n",
    "Cada um dos vetores tem 200 dimensões. "
   ]
  },
  {
   "cell_type": "code",
   "execution_count": 15,
   "metadata": {},
   "outputs": [
    {
     "data": {
      "text/plain": [
       "tensor([[ 0.4582,  0.2512, -0.2147,  ..., -0.2887, -0.1088,  0.0061],\n",
       "        [ 0.0910,  0.4931, -0.0159,  ...,  0.3702,  0.1964, -0.0037],\n",
       "        [ 0.6462,  0.5825, -0.1736,  ..., -0.0066,  0.1296,  0.4769],\n",
       "        ...,\n",
       "        [ 0.3149,  0.1600, -0.3912,  ...,  0.3093, -0.1735, -0.0782],\n",
       "        [ 0.3069,  0.1590, -0.5044,  ...,  0.3318, -0.0114, -0.0812],\n",
       "        [ 0.2178,  0.1325, -0.2937,  ...,  0.3365,  0.0918,  0.0417]])"
      ]
     },
     "execution_count": 15,
     "metadata": {},
     "output_type": "execute_result"
    }
   ],
   "source": [
    "w = torch.zeros(len(illnessNames), 200)\n",
    "for i in range(len(illnessNames)):\n",
    "    w[i,:] =  torch.tensor(model[illnessNamesModified[i].lower()])\n",
    "w\n"
   ]
  },
  {
   "cell_type": "markdown",
   "metadata": {},
   "source": [
    "# Redução de dimensionalidade de 200 para 3 utilizando PCA."
   ]
  },
  {
   "cell_type": "code",
   "execution_count": 16,
   "metadata": {},
   "outputs": [],
   "source": [
    "pca = PCA(n_components=3)\n",
    "wIllness = torch.tensor(pca.fit_transform(w.numpy()))"
   ]
  },
  {
   "cell_type": "markdown",
   "metadata": {},
   "source": [
    "# Relaciona cada categoria a um número"
   ]
  },
  {
   "cell_type": "code",
   "execution_count": 17,
   "metadata": {},
   "outputs": [],
   "source": [
    "illness_index, index_illness = createCategoryIndex(illnessNames)"
   ]
  },
  {
   "cell_type": "markdown",
   "metadata": {},
   "source": [
    "Por exemplo, a palavra 'Rheumatism' é associada a um número."
   ]
  },
  {
   "cell_type": "code",
   "execution_count": 24,
   "metadata": {},
   "outputs": [
    {
     "data": {
      "text/plain": [
       "30"
      ]
     },
     "execution_count": 24,
     "metadata": {},
     "output_type": "execute_result"
    }
   ],
   "source": [
    "illness_index['Rheumatism']"
   ]
  },
  {
   "cell_type": "markdown",
   "metadata": {},
   "source": [
    "Para saber o vetor de cada categoria, basta usar o index dentro da matriz w para achar o índice correspondente à aquela categoria. Por exemplo, o vetor para 'Rheumatism' é:"
   ]
  },
  {
   "cell_type": "code",
   "execution_count": 26,
   "metadata": {},
   "outputs": [
    {
     "data": {
      "text/plain": [
       "tensor([ 1.2883, -0.6475,  0.2300])"
      ]
     },
     "execution_count": 26,
     "metadata": {},
     "output_type": "execute_result"
    }
   ],
   "source": [
    "wIllness[illness_index['Rheumatism'],:]"
   ]
  },
  {
   "cell_type": "markdown",
   "metadata": {},
   "source": [
    "# Salva a matriz de vetores para uso posterior"
   ]
  },
  {
   "cell_type": "code",
   "execution_count": 29,
   "metadata": {},
   "outputs": [],
   "source": [
    "torch.save(wIllness, 'wordEmbeddings/illNessVecs.pt')"
   ]
  },
  {
   "cell_type": "markdown",
   "metadata": {},
   "source": [
    "# Referências\n",
    "\n",
    "Yijia Zhang, Qingyu Chen, Zhihao Yang, Hongfei Lin & Zhiyong Lu, [**BioWordVec, improving biomedical word embeddings with subword information and MeSH**](https://www.nature.com/articles/s41597-019-0055-0), Scientific Data (2019)\n"
   ]
  },
  {
   "cell_type": "code",
   "execution_count": null,
   "metadata": {},
   "outputs": [],
   "source": []
  }
 ],
 "metadata": {
  "kernelspec": {
   "display_name": "Python 3",
   "language": "python",
   "name": "python3"
  },
  "language_info": {
   "codemirror_mode": {
    "name": "ipython",
    "version": 3
   },
   "file_extension": ".py",
   "mimetype": "text/x-python",
   "name": "python",
   "nbconvert_exporter": "python",
   "pygments_lexer": "ipython3",
   "version": "3.7.3"
  },
  "latex_envs": {
   "LaTeX_envs_menu_present": true,
   "autoclose": false,
   "autocomplete": true,
   "bibliofile": "biblio.bib",
   "cite_by": "apalike",
   "current_citInitial": 1,
   "eqLabelWithNumbers": true,
   "eqNumInitial": 1,
   "hotkeys": {
    "equation": "Ctrl-E",
    "itemize": "Ctrl-I"
   },
   "labels_anchors": false,
   "latex_user_defs": false,
   "report_style_numbering": false,
   "user_envs_cfg": false
  }
 },
 "nbformat": 4,
 "nbformat_minor": 2
}
