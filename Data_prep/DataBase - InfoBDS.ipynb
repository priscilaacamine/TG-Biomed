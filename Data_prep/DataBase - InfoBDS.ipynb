{
 "cells": [
  {
   "cell_type": "code",
   "execution_count": 1,
   "metadata": {
    "ExecuteTime": {
     "end_time": "2020-12-08T14:53:56.907922Z",
     "start_time": "2020-12-08T14:53:56.386200Z"
    }
   },
   "outputs": [],
   "source": [
    "# Importando as bibliotecas necessarias\n",
    "import numpy as np\n",
    "import pandas as pd\n",
    "import os\n",
    "import platform"
   ]
  },
  {
   "cell_type": "code",
   "execution_count": 2,
   "metadata": {
    "ExecuteTime": {
     "end_time": "2020-12-08T14:53:56.979103Z",
     "start_time": "2020-12-08T14:53:56.914047Z"
    }
   },
   "outputs": [],
   "source": [
    "# Importando os arquivos txt com as informações\n",
    "if platform.system() == 'Windows':\n",
    "    pasta = \"F:\\\\Priscila Acamine\\\\Dados TG\\\\Data Info\"\n",
    "\n",
    "    bds_info = pd.read_csv(pasta + \"\\\\BDSinfo.txt\", sep=\"\t\", header=0)\n",
    "    pds_info = pd.read_csv(pasta + \"\\\\PDSinfo.txt\", sep=\"\t\", header=0)\n",
    "\n",
    "if platform.system() == 'Linux':\n",
    "    pasta = '../Data_info/'\n",
    "\n",
    "    bds_info = pd.read_csv(pasta + \"BDSinfo.txt\", sep=\"\t\", header=0)\n",
    "    pds_info = pd.read_csv(pasta + \"PDSinfo.txt\", sep=\"\t\", header=0)"
   ]
  },
  {
   "cell_type": "code",
   "execution_count": 3,
   "metadata": {
    "ExecuteTime": {
     "end_time": "2020-12-08T14:53:56.985503Z",
     "start_time": "2020-12-08T14:53:56.981188Z"
    }
   },
   "outputs": [
    {
     "name": "stdout",
     "output_type": "stream",
     "text": [
      "64\n"
     ]
    }
   ],
   "source": [
    "print(len(list(bds_info)))\n",
    "#print((bds_info))"
   ]
  },
  {
   "cell_type": "code",
   "execution_count": 4,
   "metadata": {
    "ExecuteTime": {
     "end_time": "2020-12-08T14:53:57.020616Z",
     "start_time": "2020-12-08T14:53:56.989330Z"
    }
   },
   "outputs": [
    {
     "name": "stdout",
     "output_type": "stream",
     "text": [
      "29\n",
      "        Trial  Subject  Vision Surface  Rep    Age AgeGroup Gender  Height  \\\n",
      "0    PDS01OR1      164    Open   Rigid    1  25.67    Young      M   172.0   \n",
      "1    PDS01OR2      164    Open   Rigid    2  25.67    Young      M   172.0   \n",
      "2    PDS01OR3      164    Open   Rigid    3  25.67    Young      M   172.0   \n",
      "3    PDS01OF1      164    Open    Foam    1  25.67    Young      M   172.0   \n",
      "4    PDS01OF2      164    Open    Foam    2  25.67    Young      M   172.0   \n",
      "..        ...      ...     ...     ...  ...    ...      ...    ...     ...   \n",
      "583  PDS49CR2      212  Closed   Rigid    2  64.92      Old      F   158.0   \n",
      "584  PDS49CR3      212  Closed   Rigid    3  64.92      Old      F   158.0   \n",
      "585  PDS49CF1      212  Closed    Foam    1  64.92      Old      F   158.0   \n",
      "586  PDS49CF2      212  Closed    Foam    2  64.92      Old      F   158.0   \n",
      "587  PDS49CF3      212  Closed    Foam    3  64.92      Old      F   158.0   \n",
      "\n",
      "     Weight  ...  Nmedication  \\\n",
      "0     74.30  ...            0   \n",
      "1     74.30  ...            0   \n",
      "2     74.30  ...            0   \n",
      "3     74.30  ...            0   \n",
      "4     74.30  ...            0   \n",
      "..      ...  ...          ...   \n",
      "583   60.75  ...            3   \n",
      "584   60.75  ...            3   \n",
      "585   60.75  ...            3   \n",
      "586   60.75  ...            3   \n",
      "587   60.75  ...            3   \n",
      "\n",
      "                                            Medication Ortho-Prosthesis  \\\n",
      "0                                                   No              Yes   \n",
      "1                                                   No              Yes   \n",
      "2                                                   No              Yes   \n",
      "3                                                   No              Yes   \n",
      "4                                                   No              Yes   \n",
      "..                                                 ...              ...   \n",
      "583  HMG-CoA reductase inhibitor, Synthetic thyroid...              Yes   \n",
      "584  HMG-CoA reductase inhibitor, Synthetic thyroid...              Yes   \n",
      "585  HMG-CoA reductase inhibitor, Synthetic thyroid...              Yes   \n",
      "586  HMG-CoA reductase inhibitor, Synthetic thyroid...              Yes   \n",
      "587  HMG-CoA reductase inhibitor, Synthetic thyroid...              Yes   \n",
      "\n",
      "                   Ortho-Prosthesis2 Disability         Disability2 Falls12m  \\\n",
      "0                    Corrective lens         No                  No        0   \n",
      "1                    Corrective lens         No                  No        0   \n",
      "2                    Corrective lens         No                  No        0   \n",
      "3                    Corrective lens         No                  No        0   \n",
      "4                    Corrective lens         No                  No        0   \n",
      "..                               ...        ...                 ...      ...   \n",
      "583  Corrective lens, Dental implant        Yes  Hearing (Left ear)        0   \n",
      "584  Corrective lens, Dental implant        Yes  Hearing (Left ear)        0   \n",
      "585  Corrective lens, Dental implant        Yes  Hearing (Left ear)        0   \n",
      "586  Corrective lens, Dental implant        Yes  Hearing (Left ear)        0   \n",
      "587  Corrective lens, Dental implant        Yes  Hearing (Left ear)        0   \n",
      "\n",
      "    PhysicalActivity        Sequence                     Date  \n",
      "0                  1  OR, OF, CF, CR  2016-08-01 11:00:17.753  \n",
      "1                  1  OR, OF, CF, CR  2016-08-01 11:00:17.753  \n",
      "2                  1  OR, OF, CF, CR  2016-08-01 11:00:17.753  \n",
      "3                  1  OR, OF, CF, CR  2016-08-01 11:00:17.753  \n",
      "4                  1  OR, OF, CF, CR  2016-08-01 11:00:17.753  \n",
      "..               ...             ...                      ...  \n",
      "583                0  CF, OF, CR, OR  2016-12-06 09:33:45.819  \n",
      "584                0  CF, OF, CR, OR  2016-12-06 09:33:45.819  \n",
      "585                0  CF, OF, CR, OR  2016-12-06 09:33:45.819  \n",
      "586                0  CF, OF, CR, OR  2016-12-06 09:33:45.819  \n",
      "587                0  CF, OF, CR, OR  2016-12-06 09:33:45.819  \n",
      "\n",
      "[588 rows x 29 columns]\n"
     ]
    }
   ],
   "source": [
    "print(len(list(pds_info)))\n",
    "# Mudar o nome da coluna para igualar ao do banco BDS\n",
    "pds_info.columns = pds_info.columns.str.replace('Mass','Weight')\n",
    "pds_info[\"Height\"] = pds_info[\"Height\"]*100\n",
    "pds_info['Subject'] = pds_info['Subject']+163\n",
    "print((pds_info))"
   ]
  },
  {
   "cell_type": "code",
   "execution_count": 5,
   "metadata": {
    "ExecuteTime": {
     "end_time": "2020-12-08T14:53:57.037762Z",
     "start_time": "2020-12-08T14:53:57.023244Z"
    }
   },
   "outputs": [],
   "source": [
    "bds_info['IPAQ_4a'] = bds_info['IPAQ_4a'].str.replace('0', '')\n",
    "bds_info['IPAQ_4a'] = bds_info['IPAQ_4a'].str.replace(':', '')\n",
    "bds_info['IPAQ_4a'] = bds_info['IPAQ_4a'].str.replace('', '0')\n",
    "bds_info['IPAQ_4b'] = bds_info['IPAQ_4b'].str.replace('0', '')\n",
    "bds_info['IPAQ_4b'] = bds_info['IPAQ_4b'].str.replace(':', '')\n",
    "bds_info['IPAQ_4a'] = bds_info['IPAQ_4b'].str.replace('', '0')"
   ]
  },
  {
   "cell_type": "code",
   "execution_count": 6,
   "metadata": {
    "ExecuteTime": {
     "end_time": "2020-12-08T14:53:57.052677Z",
     "start_time": "2020-12-08T14:53:57.039925Z"
    }
   },
   "outputs": [],
   "source": [
    "bds_info['IPAQ_S'] = bds_info['IPAQ_S'].str.replace('Moderate', '1')\n",
    "bds_info['IPAQ_S'] = bds_info['IPAQ_S'].str.replace('Low', '0')\n",
    "bds_info['IPAQ_S'] = bds_info['IPAQ_S'].str.replace('High', '2')\n"
   ]
  },
  {
   "cell_type": "code",
   "execution_count": 7,
   "metadata": {
    "ExecuteTime": {
     "end_time": "2020-12-08T14:53:57.070866Z",
     "start_time": "2020-12-08T14:53:57.054048Z"
    }
   },
   "outputs": [],
   "source": [
    "bds_info['FES_S'] = bds_info['FES_S'].str.replace('Moderate Concern', '1')\n",
    "bds_info['FES_S'] = bds_info['FES_S'].str.replace('Low Concern', '0')\n",
    "bds_info['FES_S'] = bds_info['FES_S'].str.replace('High Concern', '2')\n"
   ]
  },
  {
   "cell_type": "markdown",
   "metadata": {},
   "source": [
    "# Juntados os dois Databases BDS e PDS"
   ]
  },
  {
   "cell_type": "code",
   "execution_count": 8,
   "metadata": {
    "ExecuteTime": {
     "end_time": "2020-12-08T14:53:57.082845Z",
     "start_time": "2020-12-08T14:53:57.072360Z"
    },
    "scrolled": false
   },
   "outputs": [
    {
     "name": "stdout",
     "output_type": "stream",
     "text": [
      "['Trial', 'Subject', 'Vision', 'Surface', 'Age', 'AgeGroup', 'Gender', 'Height', 'Weight', 'BMI', 'FootLen', 'Nationality', 'SkinColor', 'Ystudy', 'Footwear', 'Illness', 'Illness2', 'Nmedication', 'Medication', 'Ortho-Prosthesis', 'Ortho-Prosthesis2', 'Disability', 'Disability2', 'Falls12m', 'FES_1', 'FES_2', 'FES_3', 'FES_4', 'FES_5', 'FES_6', 'FES_7', 'FES_T', 'FES_S', 'IPAQ_1a', 'IPAQ_1b', 'IPAQ_2a', 'IPAQ_2b', 'IPAQ_3a', 'IPAQ_3b', 'IPAQ_4a', 'IPAQ_4b', 'IPAQ_S', 'TMT_timeA', 'TMT_errorsA', 'TMT_timeB', 'TMT_errorsB', 'Best_1', 'Best_2', 'Best_3l', 'Best_3r', 'Best_4', 'Best_5', 'Best_6l', 'Best_6r', 'Best_7', 'Best_8', 'Best_9', 'Best_10', 'Best_11', 'Best_12', 'Best_13', 'Best_14', 'Best_T', 'Date']\n"
     ]
    }
   ],
   "source": [
    "# Juntando os dois databases em um apenas com os rótulos em comum\n",
    "info = bds_info\n",
    "print(list(info))"
   ]
  },
  {
   "cell_type": "code",
   "execution_count": 9,
   "metadata": {
    "ExecuteTime": {
     "end_time": "2020-12-08T14:53:57.098768Z",
     "start_time": "2020-12-08T14:53:57.084553Z"
    }
   },
   "outputs": [
    {
     "data": {
      "text/plain": [
       "(1930, 64)"
      ]
     },
     "execution_count": 9,
     "metadata": {},
     "output_type": "execute_result"
    }
   ],
   "source": [
    "info.shape"
   ]
  },
  {
   "cell_type": "code",
   "execution_count": 10,
   "metadata": {
    "ExecuteTime": {
     "end_time": "2020-12-08T14:53:57.107391Z",
     "start_time": "2020-12-08T14:53:57.100559Z"
    }
   },
   "outputs": [],
   "source": [
    "def junta_dupli(df, x):\n",
    "    #print(len(list(df.columns)))\n",
    "    #print(df[x].shape)\n",
    "    df[x + \"_total\"] = df[x].sum(axis=1)\n",
    "    df = df.drop([x], 1)\n",
    "    #print(len(list(df.columns)))\n",
    "    return df"
   ]
  },
  {
   "cell_type": "markdown",
   "metadata": {},
   "source": [
    "# Tratando a coluna \"Medication\""
   ]
  },
  {
   "cell_type": "code",
   "execution_count": 11,
   "metadata": {
    "ExecuteTime": {
     "end_time": "2020-12-08T14:53:57.227913Z",
     "start_time": "2020-12-08T14:53:57.109547Z"
    },
    "scrolled": true
   },
   "outputs": [
    {
     "name": "stdout",
     "output_type": "stream",
     "text": [
      "61\n"
     ]
    },
    {
     "data": {
      "text/plain": [
       "['5alphareductaseinhibitor',\n",
       " 'Alphablocker',\n",
       " 'Analgesic',\n",
       " 'AngiotensinIIreceptorantagonist',\n",
       " 'Angiotensinconvertingenzymeinhibitor',\n",
       " 'Antiarrhythmic',\n",
       " 'Antibiotic',\n",
       " 'Anticholinergic',\n",
       " 'Anticonvulsant',\n",
       " 'Antihistamine',\n",
       " 'Antiinflammatory',\n",
       " 'Antimalarial',\n",
       " 'Antipyretic',\n",
       " 'Antithyroid',\n",
       " 'Antivertigo',\n",
       " 'Benzodiazepine',\n",
       " 'Betablocker',\n",
       " 'Biguanide',\n",
       " 'Bisphosphonate',\n",
       " 'Bloodcirculation',\n",
       " 'Bronchodilator',\n",
       " 'Calciumchannelblocker',\n",
       " 'Centralnervoussystemagent',\n",
       " 'Conjugatedestrogen',\n",
       " 'Corticosteroid',\n",
       " 'DOPAdecarboxylaseinhibitor',\n",
       " 'Diabetesmellitus',\n",
       " 'Dipeptidylpeptidase4inhibitor',\n",
       " 'Diuretic',\n",
       " 'Dopamineagonist',\n",
       " 'Dopamineantagonist',\n",
       " 'Essentialaminoacid',\n",
       " 'Fluoroquinolone',\n",
       " 'HMGCoAreductaseinhibitor',\n",
       " 'Hblocker',\n",
       " 'Herbalsupplement',\n",
       " 'Homeopathic',\n",
       " 'Hypercholesterolemia',\n",
       " 'Hypertension',\n",
       " 'Kinaseinhibitor',\n",
       " 'Kneecartilagereplacement',\n",
       " 'Longactingbetaagonist',\n",
       " 'Meglitinide',\n",
       " 'Musclerelaxant',\n",
       " 'Nonsteroidalantiinflammatory',\n",
       " 'Nucleosidereversetranscriptaseinhibitor',\n",
       " 'Oralcontraceptive',\n",
       " 'Osteoporosis',\n",
       " 'Phenothiazine',\n",
       " 'Phytotherapy',\n",
       " 'Protonpumpinhibitor',\n",
       " 'Salicylate',\n",
       " 'Sedative',\n",
       " 'Selectivenorepinephrinereuptakeinhibitor',\n",
       " 'Selectiveserotoninreuptakeinhibitor',\n",
       " 'Steroid',\n",
       " 'Steroidalprogestin',\n",
       " 'Sulfonylurea',\n",
       " 'Syntheticthyroidhormone',\n",
       " 'Vasodilator',\n",
       " 'Wakefulnesspromotingagent']"
      ]
     },
     "execution_count": 11,
     "metadata": {},
     "output_type": "execute_result"
    }
   ],
   "source": [
    "info = bds_info\n",
    "\n",
    "# Padroniza os separadores como virgula\n",
    "info[\"Medication\"] = info[\"Medication\"].str.replace('+',',')\n",
    "info[\"Medication\"] = info[\"Medication\"].str.replace('/',',')\n",
    "\n",
    "# Padroniza diferentes formatos de escrita para o mesmo medicamento\n",
    "info[\"Medication\"] = info[\"Medication\"].str.replace('-',' ')\n",
    "info[\"Medication\"] = info[\"Medication\"].str.replace('2','')\n",
    "info[\"Medication\"] = info[\"Medication\"].str.replace('(','')\n",
    "info[\"Medication\"] = info[\"Medication\"].str.replace(')','')\n",
    "\n",
    "# Retira duplicatas\n",
    "info[\"Medication\"] = info[\"Medication\"].str.replace('Bisphosphonates','Bisphosphonate')\n",
    "info[\"Medication\"] = info[\"Medication\"].str.replace('Long acting beta agonists','Long acting beta agonist')\n",
    "info[\"Medication\"] = info[\"Medication\"].str.replace('Selective serotonin and norepinephrine reuptake inhibitor','Selective serotonin reuptake inhibitor, Selective norepinephrine reuptake inhibitor')\n",
    "info[\"Medication\"] = info[\"Medication\"].str.replace('HMG coenzyme A reductase inhibitor','HMG CoA reductase inhibitor')\n",
    "info[\"Medication\"] = info[\"Medication\"].str.replace('Nonsteroidal antiinflammatory drug','Nonsteroidal antiinflammatory')\n",
    "\n",
    "# Retira os espaços a mais\n",
    "info[\"Medication\"] = info[\"Medication\"].str.replace(' ','')\n",
    "\n",
    "medication = info[\"Medication\"].str.get_dummies(sep=',')\n",
    "medication = medication.drop([\"No\"], 1)\n",
    "\n",
    "print(len(list(medication.columns)))\n",
    "medicationNames = list(medication.columns)\n",
    "medicationNames"
   ]
  },
  {
   "cell_type": "markdown",
   "metadata": {},
   "source": [
    "# Tratando a coluna \"Illness2\""
   ]
  },
  {
   "cell_type": "markdown",
   "metadata": {},
   "source": [
    "Tomar cuidado, nesse caso substituiu a linha inteira de illness que começava com \"Tendinitis\", inclusive as outras doenças após a vírgula:\n",
    "\n",
    "info[\"Illness2\"].replace('Tendinitis (.*)', 'Tendinitis', regex=True, inplace=True)"
   ]
  },
  {
   "cell_type": "code",
   "execution_count": 12,
   "metadata": {
    "ExecuteTime": {
     "end_time": "2020-12-08T14:53:57.451335Z",
     "start_time": "2020-12-08T14:53:57.230526Z"
    }
   },
   "outputs": [
    {
     "name": "stdout",
     "output_type": "stream",
     "text": [
      "69\n"
     ]
    },
    {
     "data": {
      "text/plain": [
       "['Arthritis',\n",
       " 'Breathlessness',\n",
       " 'Bronchitis',\n",
       " 'Bursitis',\n",
       " 'Conjunctivitis',\n",
       " 'Dermatitis',\n",
       " 'Esophagitis',\n",
       " 'Essential tremor',\n",
       " 'Fatty liver',\n",
       " 'Fibromyalgia',\n",
       " 'Gastritis',\n",
       " 'Gastroesophageal reflux',\n",
       " 'Glaucoma',\n",
       " 'Hypertriglyceridemia',\n",
       " 'Inflammation of the tibial nerve',\n",
       " 'Keratoconus',\n",
       " 'Kidney stones',\n",
       " 'Ligament problems',\n",
       " 'Lumbar tumor',\n",
       " 'Lymphedema of the lower members',\n",
       " 'Migraine',\n",
       " 'Poliomyelitis',\n",
       " 'Progressive breast cancer',\n",
       " 'Prostate disease',\n",
       " 'Prostatitis',\n",
       " 'Rheumatism',\n",
       " 'Sickle cell anemia',\n",
       " 'Sinusitis',\n",
       " 'Skin cancer',\n",
       " 'Skin disease',\n",
       " 'Spine problem',\n",
       " 'Stroke',\n",
       " 'Varicose veins of the legs',\n",
       " 'Vascular leakage of the eyes',\n",
       " 'Allergy',\n",
       " 'Anemia',\n",
       " 'Arrhythmia',\n",
       " 'Ascending colon cancer',\n",
       " 'Deep vein thrombosis',\n",
       " 'Depression',\n",
       " 'Endometriosis',\n",
       " 'Hashimoto disease',\n",
       " 'Heel spurs',\n",
       " 'Hepatitis B',\n",
       " 'Intestine disorder',\n",
       " 'Melanoma',\n",
       " \"Parkinson's disease\",\n",
       " 'Scoliosis',\n",
       " \"Sjogren's syndrome\",\n",
       " 'Urinary tract infection',\n",
       " 'Vasovagal syncope',\n",
       " 'Vitiligo',\n",
       " 'Heart disease_total',\n",
       " 'Osteopenia_total',\n",
       " 'Tendinitis_total',\n",
       " 'Arthrosis_total',\n",
       " 'Herniated lumbar disc_total',\n",
       " 'Hypercholesterolemia_total',\n",
       " 'Anxiety_total',\n",
       " 'Asthma_total',\n",
       " 'Chodromalacia of the knees_total',\n",
       " 'Diabetes mellitus_total',\n",
       " 'Hypertension_total',\n",
       " 'Hyperthyroidism_total',\n",
       " 'Hypoglycemia_total',\n",
       " 'Hypothyroidism_total',\n",
       " 'Labyrinthitis_total',\n",
       " 'Osteoporosis_total',\n",
       " 'Rhinitis_total']"
      ]
     },
     "execution_count": 12,
     "metadata": {},
     "output_type": "execute_result"
    }
   ],
   "source": [
    "info = bds_info\n",
    "illness = info[\"Illness2\"].str.get_dummies(sep=',')\n",
    "illness.columns = illness.columns.str.replace('Heart problem','Heart disease')\n",
    "illness.columns = illness.columns.str.replace('Osteeopenia','Osteopenia')\n",
    "illness.columns = illness.columns.str.replace('Tendinitis (.*)', 'Tendinitis')\n",
    "illness.columns = illness.columns.str.replace('Arthrosis (.*)', 'Arthrosis')\n",
    "illness.columns = illness.columns.str.replace('(.*) Herniated (.*)', 'Herniated lumbar disc')\n",
    "illness.columns = illness.columns.str.replace('Herniated (.*)', 'Herniated lumbar disc')\n",
    "illness.columns = illness.columns.str.replace('(.*) Hypercholesterolemia','Hypercholesterolemia')\n",
    "illness.columns = illness.columns.str.replace('Skin allergy','Allergy')\n",
    "illness.columns = illness.columns.str.strip()\n",
    "illness = illness.drop([\"No\"], 1)\n",
    "\n",
    "# Juntando as colunas iguais e excluindo os repetidos\n",
    "\n",
    "illness = junta_dupli(illness, \"Heart disease\")\n",
    "illness = junta_dupli(illness, \"Osteopenia\")\n",
    "illness = junta_dupli(illness, \"Tendinitis\")\n",
    "illness = junta_dupli(illness, \"Arthrosis\")\n",
    "illness = junta_dupli(illness, \"Herniated lumbar disc\")\n",
    "illness = junta_dupli(illness, \"Hypercholesterolemia\")\n",
    "# illness = junta_dupli(illness, \"Allergy\")\n",
    "illness = junta_dupli(illness, \"Anxiety\")\n",
    "illness = junta_dupli(illness, \"Asthma\")\n",
    "illness = junta_dupli(illness, \"Chodromalacia of the knees\")\n",
    "illness = junta_dupli(illness, \"Diabetes mellitus\")\n",
    "# illness = junta_dupli(illness, \"Fibromyalgia\")\n",
    "illness = junta_dupli(illness, \"Hypertension\")\n",
    "illness = junta_dupli(illness, \"Hyperthyroidism\")\n",
    "illness = junta_dupli(illness, \"Hypoglycemia\")\n",
    "illness = junta_dupli(illness, \"Hypothyroidism\")\n",
    "illness = junta_dupli(illness, \"Labyrinthitis\")\n",
    "illness = junta_dupli(illness, \"Osteoporosis\")\n",
    "illness = junta_dupli(illness, \"Rhinitis\")\n",
    "# illness = junta_dupli(illness, \"Scoliosis\")\n",
    "                        \n",
    "print(len(list(illness.columns)))\n",
    "illnessNames = list(illness.columns)\n",
    "illnessNames"
   ]
  },
  {
   "cell_type": "markdown",
   "metadata": {
    "collapsed": true
   },
   "source": [
    "# Tratando a coluna \"Disability2\""
   ]
  },
  {
   "cell_type": "code",
   "execution_count": 13,
   "metadata": {
    "ExecuteTime": {
     "end_time": "2020-12-08T14:53:57.496916Z",
     "start_time": "2020-12-08T14:53:57.453801Z"
    }
   },
   "outputs": [
    {
     "name": "stdout",
     "output_type": "stream",
     "text": [
      "4\n"
     ]
    },
    {
     "data": {
      "text/plain": [
       "['Intellectual', 'Physical_total', 'Visual_total', 'Hearing_total']"
      ]
     },
     "execution_count": 13,
     "metadata": {},
     "output_type": "execute_result"
    }
   ],
   "source": [
    "info = bds_info\n",
    "disability = info[\"Disability2\"].str.get_dummies(sep=',')\n",
    "disability.columns = disability.columns.str.strip()\n",
    "disability = disability.drop([\"No\"], 1)\n",
    "disability.columns = disability.columns.str.replace('Physical (.*)', 'Physical')\n",
    "disability.columns = disability.columns.str.replace('Visual (.*)', 'Visual')\n",
    "disability.columns = disability.columns.str.replace('Hearing (.*)', 'Hearing')\n",
    "\n",
    "disability = junta_dupli(disability, \"Physical\")\n",
    "disability = junta_dupli(disability, \"Visual\")\n",
    "disability = junta_dupli(disability, \"Hearing\")\n",
    "\n",
    "print(len(list(disability.columns)))\n",
    "disabiltyNames = list(disability.columns)\n",
    "disabiltyNames"
   ]
  },
  {
   "cell_type": "markdown",
   "metadata": {},
   "source": [
    "# Tratando a coluna \"Footwear\""
   ]
  },
  {
   "cell_type": "code",
   "execution_count": 14,
   "metadata": {
    "ExecuteTime": {
     "end_time": "2020-12-08T14:53:57.582546Z",
     "start_time": "2020-12-08T14:53:57.499474Z"
    },
    "scrolled": false
   },
   "outputs": [
    {
     "name": "stdout",
     "output_type": "stream",
     "text": [
      "5\n"
     ]
    },
    {
     "data": {
      "text/plain": [
       "['Orthopedic Shoes',\n",
       " 'Shoes with silicone insole',\n",
       " 'Boots_total',\n",
       " 'Normal Shoes_total',\n",
       " 'Sandal_FlipFlop_total']"
      ]
     },
     "execution_count": 14,
     "metadata": {},
     "output_type": "execute_result"
    }
   ],
   "source": [
    "info = bds_info\n",
    "footwear = info[\"Footwear\"].str.get_dummies(sep=',')\n",
    "footwear.columns = footwear.columns.str.strip()\n",
    "\n",
    "footwear.columns = footwear.columns.str.replace('(.*) shoes with silicone insole', 'Shoes with silicone insole')\n",
    "footwear.columns = footwear.columns.str.replace('Orthopedic shoes', 'Orthopedic Shoes')\n",
    "footwear.columns = footwear.columns.str.replace('(.*) shoes', 'Normal Shoes')\n",
    "footwear.columns = footwear.columns.str.replace('Tennis with zero drop', 'Normal Shoes')\n",
    "footwear.columns = footwear.columns.str.replace('Sandal', 'Sandal_FlipFlop')\n",
    "footwear.columns = footwear.columns.str.replace('Flip-Flops', 'Sandal_FlipFlop')\n",
    "\n",
    "footwear = junta_dupli(footwear, \"Boots\")\n",
    "# footwear = junta_dupli(footwear, \"Shoes with silicone insole\")\n",
    "footwear = junta_dupli(footwear, \"Normal Shoes\")\n",
    "footwear = junta_dupli(footwear, \"Sandal_FlipFlop\")\n",
    "\n",
    "print(len(list(footwear.columns)))\n",
    "footwearNames = list(footwear.columns)\n",
    "footwearNames"
   ]
  },
  {
   "cell_type": "markdown",
   "metadata": {},
   "source": [
    "# Tratando a coluna \"Ortho-Prosthesis2\""
   ]
  },
  {
   "cell_type": "code",
   "execution_count": 15,
   "metadata": {
    "ExecuteTime": {
     "end_time": "2020-12-08T14:53:57.727951Z",
     "start_time": "2020-12-08T14:53:57.584268Z"
    }
   },
   "outputs": [
    {
     "name": "stdout",
     "output_type": "stream",
     "text": [
      "12\n"
     ]
    },
    {
     "data": {
      "text/plain": [
       "['Internal fixation in the toe_foot',\n",
       " 'Internal fixation in the leg',\n",
       " 'By pass',\n",
       " 'Corrective lens',\n",
       " 'Orthosis in the knee',\n",
       " 'PaceMaker',\n",
       " 'Internal fixation in the medulla',\n",
       " 'Corrective lens',\n",
       " 'Prosthesis aortic valve',\n",
       " 'Dental_total',\n",
       " 'Support_total',\n",
       " 'Hearing_total']"
      ]
     },
     "execution_count": 15,
     "metadata": {},
     "output_type": "execute_result"
    }
   ],
   "source": [
    "info[\"Ortho-Prosthesis2\"]\n",
    "\n",
    "info = bds_info\n",
    "info[\"Ortho-Prosthesis2\"] = info[\"Ortho-Prosthesis2\"].str.replace('1 intramedullary rod and 3 screws in the left leg', '1 intramedullary rod, 3 screws in the left leg')\n",
    "ortho = info[\"Ortho-Prosthesis2\"].str.get_dummies(sep=',')\n",
    "ortho.columns = ortho.columns.str.strip()\n",
    "ortho = ortho.drop([\"No\"], 1)\n",
    "\n",
    "ortho.columns = ortho.columns.str.replace('Dental (.*)', 'Dental')\n",
    "ortho.columns = ortho.columns.str.replace('Bridge teeh', 'Dental')\n",
    "ortho.columns = ortho.columns.str.replace('Denture', 'Dental')\n",
    "ortho.columns = ortho.columns.str.replace('Protese dentaria', 'Dental')\n",
    "ortho.columns = ortho.columns.str.replace('Crutch', 'Support')\n",
    "ortho.columns = ortho.columns.str.replace('Cane', 'Support')\n",
    "ortho.columns = ortho.columns.str.replace('Hearing aid', 'Hearing')\n",
    "ortho.columns = ortho.columns.str.replace('1 screw in the right toe', 'Internal fixation in the toe_foot')\n",
    "ortho.columns = ortho.columns.str.replace('Screws in the left foot', 'Internal fixation in the toe_foot')\n",
    "ortho.columns = ortho.columns.str.replace('2 screws in the right foot', 'Internal fixation in the toe_foot')\n",
    "ortho.columns = ortho.columns.str.replace('2 screws in the right thigh', 'Internal fixation in the thigh')\n",
    "ortho.columns = ortho.columns.str.replace('3 screws in the left leg', 'Internal fixation in the leg')\n",
    "ortho.columns = ortho.columns.str.replace('1 intramedullary rod', 'Internal fixation in the medulla')\n",
    "ortho.columns = ortho.columns.str.replace('Anchor in the shoulders', 'Internal fixation in the shoulder')\n",
    "ortho.columns = ortho.columns.str.replace('16 screws and 4 plates in the left knee', 'Internal fixation in the knee')\n",
    "ortho.columns = ortho.columns.str.replace('(.*) knee (.*)', 'Orthosis in the knee')\n",
    "\n",
    "\n",
    "\n",
    "ortho = junta_dupli(ortho, \"Dental\")\n",
    "ortho = junta_dupli(ortho, \"Support\")\n",
    "ortho = junta_dupli(ortho, \"Hearing\")\n",
    "# ortho = junta_dupli(ortho, \"Internal fixation in the toe_foot\")\n",
    "# ortho = junta_dupli(ortho, \"Orthosis in the knee\")\n",
    "\n",
    "print(len(list(ortho.columns)))\n",
    "orthoNames = list(ortho.columns)\n",
    "orthoNames"
   ]
  },
  {
   "cell_type": "markdown",
   "metadata": {},
   "source": [
    "# Salvando a lista de nomes em cada categoria"
   ]
  },
  {
   "cell_type": "code",
   "execution_count": 16,
   "metadata": {
    "ExecuteTime": {
     "end_time": "2020-12-08T14:53:57.735077Z",
     "start_time": "2020-12-08T14:53:57.729984Z"
    }
   },
   "outputs": [],
   "source": [
    "np.save('../Categories/medicationNamesBDS.npy', medicationNames)\n",
    "np.save('../Categories/illnessNamesBDS.npy', illnessNames)\n",
    "np.save('../Categories/disabilityNamesBDS.npy', disabiltyNames)\n",
    "np.save('../Categories/footwearNamesBDS.npy', footwearNames)\n",
    "np.save('../Categories/orthoNamesBDS.npy', orthoNames)"
   ]
  },
  {
   "cell_type": "markdown",
   "metadata": {
    "collapsed": true
   },
   "source": [
    "# Salvando as caracsterísticas em um arquivo separado"
   ]
  },
  {
   "cell_type": "code",
   "execution_count": 17,
   "metadata": {
    "ExecuteTime": {
     "end_time": "2020-12-08T14:53:57.752569Z",
     "start_time": "2020-12-08T14:53:57.736889Z"
    }
   },
   "outputs": [],
   "source": [
    "# Padronizando os nomes das condições de Surface\n",
    "info[\"Surface\"] = info[\"Surface\"].str.replace('Firm','Rigid')"
   ]
  },
  {
   "cell_type": "code",
   "execution_count": 18,
   "metadata": {
    "ExecuteTime": {
     "end_time": "2020-12-08T14:53:57.764703Z",
     "start_time": "2020-12-08T14:53:57.756471Z"
    }
   },
   "outputs": [],
   "source": [
    "# Mudando Gender para 0 e 1\n",
    "info[\"Gender\"] = info[\"Gender\"].str.replace('F','1')\n",
    "info[\"Gender\"] = info[\"Gender\"].str.replace('M','0')"
   ]
  },
  {
   "cell_type": "code",
   "execution_count": 19,
   "metadata": {
    "ExecuteTime": {
     "end_time": "2020-12-08T14:53:57.778034Z",
     "start_time": "2020-12-08T14:53:57.766377Z"
    }
   },
   "outputs": [],
   "source": [
    "# Mudando AgeGroup para 0 e 1\n",
    "info[\"AgeGroup\"] = info[\"AgeGroup\"].str.replace('Young','0')\n",
    "info[\"AgeGroup\"] = info[\"AgeGroup\"].str.replace('Old','1')"
   ]
  },
  {
   "cell_type": "code",
   "execution_count": 20,
   "metadata": {
    "ExecuteTime": {
     "end_time": "2020-12-08T14:53:57.791211Z",
     "start_time": "2020-12-08T14:53:57.780220Z"
    }
   },
   "outputs": [],
   "source": [
    "# Mudando Illness para 0 e 1\n",
    "info[\"Illness\"] = info[\"Illness\"].str.replace('No','0')\n",
    "info[\"Illness\"] = info[\"Illness\"].str.replace('Yes','1')"
   ]
  },
  {
   "cell_type": "code",
   "execution_count": 21,
   "metadata": {
    "ExecuteTime": {
     "end_time": "2020-12-08T14:53:57.813757Z",
     "start_time": "2020-12-08T14:53:57.803609Z"
    }
   },
   "outputs": [],
   "source": [
    "# Mudando Ortho-Prosthesis para 0 e 1\n",
    "info[\"Ortho-Prosthesis\"] = info[\"Ortho-Prosthesis\"].str.replace('No','0')\n",
    "info[\"Ortho-Prosthesis\"] = info[\"Ortho-Prosthesis\"].str.replace('Yes','1')"
   ]
  },
  {
   "cell_type": "code",
   "execution_count": 22,
   "metadata": {
    "ExecuteTime": {
     "end_time": "2020-12-08T14:53:57.860433Z",
     "start_time": "2020-12-08T14:53:57.847784Z"
    }
   },
   "outputs": [],
   "source": [
    "# Mudando Disability para 0 e 1\n",
    "info[\"Disability\"] = info[\"Disability\"].str.replace('No','0')\n",
    "info[\"Disability\"] = info[\"Disability\"].str.replace('Yes','1')"
   ]
  },
  {
   "cell_type": "code",
   "execution_count": 23,
   "metadata": {
    "ExecuteTime": {
     "end_time": "2020-12-08T14:53:57.902785Z",
     "start_time": "2020-12-08T14:53:57.896271Z"
    }
   },
   "outputs": [],
   "source": [
    "quant = info\n",
    "quant = quant.drop(['Trial','Vision', 'Surface', 'AgeGroup', 'Nationality', 'SkinColor','Footwear', 'Illness2', 'Medication','Ortho-Prosthesis2', 'Disability2','Date'], axis=1)"
   ]
  },
  {
   "cell_type": "code",
   "execution_count": 24,
   "metadata": {
    "ExecuteTime": {
     "end_time": "2020-12-08T14:53:57.944751Z",
     "start_time": "2020-12-08T14:53:57.937207Z"
    }
   },
   "outputs": [
    {
     "data": {
      "text/plain": [
       "['Subject',\n",
       " 'Age',\n",
       " 'Gender',\n",
       " 'Height',\n",
       " 'Weight',\n",
       " 'BMI',\n",
       " 'FootLen',\n",
       " 'Ystudy',\n",
       " 'Illness',\n",
       " 'Nmedication',\n",
       " 'Ortho-Prosthesis',\n",
       " 'Disability',\n",
       " 'Falls12m',\n",
       " 'FES_1',\n",
       " 'FES_2',\n",
       " 'FES_3',\n",
       " 'FES_4',\n",
       " 'FES_5',\n",
       " 'FES_6',\n",
       " 'FES_7',\n",
       " 'FES_T',\n",
       " 'FES_S',\n",
       " 'IPAQ_1a',\n",
       " 'IPAQ_1b',\n",
       " 'IPAQ_2a',\n",
       " 'IPAQ_2b',\n",
       " 'IPAQ_3a',\n",
       " 'IPAQ_3b',\n",
       " 'IPAQ_4a',\n",
       " 'IPAQ_4b',\n",
       " 'IPAQ_S',\n",
       " 'TMT_timeA',\n",
       " 'TMT_errorsA',\n",
       " 'TMT_timeB',\n",
       " 'TMT_errorsB',\n",
       " 'Best_1',\n",
       " 'Best_2',\n",
       " 'Best_3l',\n",
       " 'Best_3r',\n",
       " 'Best_4',\n",
       " 'Best_5',\n",
       " 'Best_6l',\n",
       " 'Best_6r',\n",
       " 'Best_7',\n",
       " 'Best_8',\n",
       " 'Best_9',\n",
       " 'Best_10',\n",
       " 'Best_11',\n",
       " 'Best_12',\n",
       " 'Best_13',\n",
       " 'Best_14',\n",
       " 'Best_T']"
      ]
     },
     "execution_count": 24,
     "metadata": {},
     "output_type": "execute_result"
    }
   ],
   "source": [
    "list(quant)"
   ]
  },
  {
   "cell_type": "code",
   "execution_count": 25,
   "metadata": {
    "ExecuteTime": {
     "end_time": "2020-12-08T14:53:57.990450Z",
     "start_time": "2020-12-08T14:53:57.979310Z"
    }
   },
   "outputs": [
    {
     "data": {
      "text/plain": [
       "['5alphareductaseinhibitor',\n",
       " 'Alphablocker',\n",
       " 'Analgesic',\n",
       " 'AngiotensinIIreceptorantagonist',\n",
       " 'Angiotensinconvertingenzymeinhibitor',\n",
       " 'Antiarrhythmic',\n",
       " 'Antibiotic',\n",
       " 'Anticholinergic',\n",
       " 'Anticonvulsant',\n",
       " 'Antihistamine',\n",
       " 'Antiinflammatory',\n",
       " 'Antimalarial',\n",
       " 'Antipyretic',\n",
       " 'Antithyroid',\n",
       " 'Antivertigo',\n",
       " 'Benzodiazepine',\n",
       " 'Betablocker',\n",
       " 'Biguanide',\n",
       " 'Bisphosphonate',\n",
       " 'Bloodcirculation',\n",
       " 'Bronchodilator',\n",
       " 'Calciumchannelblocker',\n",
       " 'Centralnervoussystemagent',\n",
       " 'Conjugatedestrogen',\n",
       " 'Corticosteroid',\n",
       " 'DOPAdecarboxylaseinhibitor',\n",
       " 'Diabetesmellitus',\n",
       " 'Dipeptidylpeptidase4inhibitor',\n",
       " 'Diuretic',\n",
       " 'Dopamineagonist',\n",
       " 'Dopamineantagonist',\n",
       " 'Essentialaminoacid',\n",
       " 'Fluoroquinolone',\n",
       " 'HMGCoAreductaseinhibitor',\n",
       " 'Hblocker',\n",
       " 'Herbalsupplement',\n",
       " 'Homeopathic',\n",
       " 'Hypercholesterolemia',\n",
       " 'Hypertension',\n",
       " 'Kinaseinhibitor',\n",
       " 'Kneecartilagereplacement',\n",
       " 'Longactingbetaagonist',\n",
       " 'Meglitinide',\n",
       " 'Musclerelaxant',\n",
       " 'Nonsteroidalantiinflammatory',\n",
       " 'Nucleosidereversetranscriptaseinhibitor',\n",
       " 'Oralcontraceptive',\n",
       " 'Osteoporosis',\n",
       " 'Phenothiazine',\n",
       " 'Phytotherapy',\n",
       " 'Protonpumpinhibitor',\n",
       " 'Salicylate',\n",
       " 'Sedative',\n",
       " 'Selectivenorepinephrinereuptakeinhibitor',\n",
       " 'Selectiveserotoninreuptakeinhibitor',\n",
       " 'Steroid',\n",
       " 'Steroidalprogestin',\n",
       " 'Sulfonylurea',\n",
       " 'Syntheticthyroidhormone',\n",
       " 'Vasodilator',\n",
       " 'Wakefulnesspromotingagent',\n",
       " 'Arthritis',\n",
       " 'Breathlessness',\n",
       " 'Bronchitis',\n",
       " 'Bursitis',\n",
       " 'Conjunctivitis',\n",
       " 'Dermatitis',\n",
       " 'Esophagitis',\n",
       " 'Essential tremor',\n",
       " 'Fatty liver',\n",
       " 'Fibromyalgia',\n",
       " 'Gastritis',\n",
       " 'Gastroesophageal reflux',\n",
       " 'Glaucoma',\n",
       " 'Hypertriglyceridemia',\n",
       " 'Inflammation of the tibial nerve',\n",
       " 'Keratoconus',\n",
       " 'Kidney stones',\n",
       " 'Ligament problems',\n",
       " 'Lumbar tumor',\n",
       " 'Lymphedema of the lower members',\n",
       " 'Migraine',\n",
       " 'Poliomyelitis',\n",
       " 'Progressive breast cancer',\n",
       " 'Prostate disease',\n",
       " 'Prostatitis',\n",
       " 'Rheumatism',\n",
       " 'Sickle cell anemia',\n",
       " 'Sinusitis',\n",
       " 'Skin cancer',\n",
       " 'Skin disease',\n",
       " 'Spine problem',\n",
       " 'Stroke',\n",
       " 'Varicose veins of the legs',\n",
       " 'Vascular leakage of the eyes',\n",
       " 'Allergy',\n",
       " 'Anemia',\n",
       " 'Arrhythmia',\n",
       " 'Ascending colon cancer',\n",
       " 'Deep vein thrombosis',\n",
       " 'Depression',\n",
       " 'Endometriosis',\n",
       " 'Hashimoto disease',\n",
       " 'Heel spurs',\n",
       " 'Hepatitis B',\n",
       " 'Intestine disorder',\n",
       " 'Melanoma',\n",
       " \"Parkinson's disease\",\n",
       " 'Scoliosis',\n",
       " \"Sjogren's syndrome\",\n",
       " 'Urinary tract infection',\n",
       " 'Vasovagal syncope',\n",
       " 'Vitiligo',\n",
       " 'Heart disease_total',\n",
       " 'Osteopenia_total',\n",
       " 'Tendinitis_total',\n",
       " 'Arthrosis_total',\n",
       " 'Herniated lumbar disc_total',\n",
       " 'Hypercholesterolemia_total',\n",
       " 'Anxiety_total',\n",
       " 'Asthma_total',\n",
       " 'Chodromalacia of the knees_total',\n",
       " 'Diabetes mellitus_total',\n",
       " 'Hypertension_total',\n",
       " 'Hyperthyroidism_total',\n",
       " 'Hypoglycemia_total',\n",
       " 'Hypothyroidism_total',\n",
       " 'Labyrinthitis_total',\n",
       " 'Osteoporosis_total',\n",
       " 'Rhinitis_total',\n",
       " 'Intellectual',\n",
       " 'Physical_total',\n",
       " 'Visual_total',\n",
       " 'Hearing_total',\n",
       " 'Orthopedic Shoes',\n",
       " 'Shoes with silicone insole',\n",
       " 'Boots_total',\n",
       " 'Normal Shoes_total',\n",
       " 'Sandal_FlipFlop_total',\n",
       " 'Internal fixation in the toe_foot',\n",
       " 'Internal fixation in the leg',\n",
       " 'By pass',\n",
       " 'Corrective lens',\n",
       " 'Orthosis in the knee',\n",
       " 'PaceMaker',\n",
       " 'Internal fixation in the medulla',\n",
       " 'Corrective lens',\n",
       " 'Prosthesis aortic valve',\n",
       " 'Dental_total',\n",
       " 'Support_total',\n",
       " 'Hearing_total']"
      ]
     },
     "execution_count": 25,
     "metadata": {},
     "output_type": "execute_result"
    }
   ],
   "source": [
    "quali = pd.concat([medication,illness,disability,footwear,ortho], axis=1)\n",
    "list(quali)"
   ]
  },
  {
   "cell_type": "code",
   "execution_count": 26,
   "metadata": {
    "ExecuteTime": {
     "end_time": "2020-12-08T14:53:58.146335Z",
     "start_time": "2020-12-08T14:53:58.024556Z"
    },
    "scrolled": true
   },
   "outputs": [
    {
     "ename": "ValueError",
     "evalue": "invalid literal for int() with base 10: ''",
     "output_type": "error",
     "traceback": [
      "\u001b[0;31m---------------------------------------------------------------------------\u001b[0m",
      "\u001b[0;31mValueError\u001b[0m                                Traceback (most recent call last)",
      "\u001b[0;32m<ipython-input-26-825dd1eb45db>\u001b[0m in \u001b[0;36m<module>\u001b[0;34m\u001b[0m\n\u001b[1;32m      7\u001b[0m \u001b[0mdata_info\u001b[0m\u001b[0;34m[\u001b[0m\u001b[0;34m'IPAQ_S'\u001b[0m\u001b[0;34m]\u001b[0m \u001b[0;34m=\u001b[0m \u001b[0mdata_info\u001b[0m\u001b[0;34m[\u001b[0m\u001b[0;34m'IPAQ_S'\u001b[0m\u001b[0;34m]\u001b[0m\u001b[0;34m.\u001b[0m\u001b[0mastype\u001b[0m\u001b[0;34m(\u001b[0m\u001b[0mnp\u001b[0m\u001b[0;34m.\u001b[0m\u001b[0mint\u001b[0m\u001b[0;34m)\u001b[0m\u001b[0;34m\u001b[0m\u001b[0;34m\u001b[0m\u001b[0m\n\u001b[1;32m      8\u001b[0m \u001b[0mdata_info\u001b[0m\u001b[0;34m[\u001b[0m\u001b[0;34m'IPAQ_4a'\u001b[0m\u001b[0;34m]\u001b[0m \u001b[0;34m=\u001b[0m \u001b[0mdata_info\u001b[0m\u001b[0;34m[\u001b[0m\u001b[0;34m'IPAQ_4a'\u001b[0m\u001b[0;34m]\u001b[0m\u001b[0;34m.\u001b[0m\u001b[0mastype\u001b[0m\u001b[0;34m(\u001b[0m\u001b[0mnp\u001b[0m\u001b[0;34m.\u001b[0m\u001b[0mint\u001b[0m\u001b[0;34m)\u001b[0m\u001b[0;34m\u001b[0m\u001b[0;34m\u001b[0m\u001b[0m\n\u001b[0;32m----> 9\u001b[0;31m \u001b[0mdata_info\u001b[0m\u001b[0;34m[\u001b[0m\u001b[0;34m'IPAQ_4b'\u001b[0m\u001b[0;34m]\u001b[0m \u001b[0;34m=\u001b[0m \u001b[0mdata_info\u001b[0m\u001b[0;34m[\u001b[0m\u001b[0;34m'IPAQ_4b'\u001b[0m\u001b[0;34m]\u001b[0m\u001b[0;34m.\u001b[0m\u001b[0mastype\u001b[0m\u001b[0;34m(\u001b[0m\u001b[0mnp\u001b[0m\u001b[0;34m.\u001b[0m\u001b[0mint\u001b[0m\u001b[0;34m)\u001b[0m\u001b[0;34m\u001b[0m\u001b[0;34m\u001b[0m\u001b[0m\n\u001b[0m\u001b[1;32m     10\u001b[0m \u001b[0mdata_info\u001b[0m\u001b[0;34m\u001b[0m\u001b[0;34m\u001b[0m\u001b[0m\n",
      "\u001b[0;32m~/miniconda3/lib/python3.6/site-packages/pandas/core/generic.py\u001b[0m in \u001b[0;36mastype\u001b[0;34m(self, dtype, copy, errors)\u001b[0m\n\u001b[1;32m   5544\u001b[0m         \u001b[0;32melse\u001b[0m\u001b[0;34m:\u001b[0m\u001b[0;34m\u001b[0m\u001b[0;34m\u001b[0m\u001b[0m\n\u001b[1;32m   5545\u001b[0m             \u001b[0;31m# else, only a single dtype is given\u001b[0m\u001b[0;34m\u001b[0m\u001b[0;34m\u001b[0m\u001b[0;34m\u001b[0m\u001b[0m\n\u001b[0;32m-> 5546\u001b[0;31m             \u001b[0mnew_data\u001b[0m \u001b[0;34m=\u001b[0m \u001b[0mself\u001b[0m\u001b[0;34m.\u001b[0m\u001b[0m_mgr\u001b[0m\u001b[0;34m.\u001b[0m\u001b[0mastype\u001b[0m\u001b[0;34m(\u001b[0m\u001b[0mdtype\u001b[0m\u001b[0;34m=\u001b[0m\u001b[0mdtype\u001b[0m\u001b[0;34m,\u001b[0m \u001b[0mcopy\u001b[0m\u001b[0;34m=\u001b[0m\u001b[0mcopy\u001b[0m\u001b[0;34m,\u001b[0m \u001b[0merrors\u001b[0m\u001b[0;34m=\u001b[0m\u001b[0merrors\u001b[0m\u001b[0;34m,\u001b[0m\u001b[0;34m)\u001b[0m\u001b[0;34m\u001b[0m\u001b[0;34m\u001b[0m\u001b[0m\n\u001b[0m\u001b[1;32m   5547\u001b[0m             \u001b[0;32mreturn\u001b[0m \u001b[0mself\u001b[0m\u001b[0;34m.\u001b[0m\u001b[0m_constructor\u001b[0m\u001b[0;34m(\u001b[0m\u001b[0mnew_data\u001b[0m\u001b[0;34m)\u001b[0m\u001b[0;34m.\u001b[0m\u001b[0m__finalize__\u001b[0m\u001b[0;34m(\u001b[0m\u001b[0mself\u001b[0m\u001b[0;34m,\u001b[0m \u001b[0mmethod\u001b[0m\u001b[0;34m=\u001b[0m\u001b[0;34m\"astype\"\u001b[0m\u001b[0;34m)\u001b[0m\u001b[0;34m\u001b[0m\u001b[0;34m\u001b[0m\u001b[0m\n\u001b[1;32m   5548\u001b[0m \u001b[0;34m\u001b[0m\u001b[0m\n",
      "\u001b[0;32m~/miniconda3/lib/python3.6/site-packages/pandas/core/internals/managers.py\u001b[0m in \u001b[0;36mastype\u001b[0;34m(self, dtype, copy, errors)\u001b[0m\n\u001b[1;32m    593\u001b[0m         \u001b[0mself\u001b[0m\u001b[0;34m,\u001b[0m \u001b[0mdtype\u001b[0m\u001b[0;34m,\u001b[0m \u001b[0mcopy\u001b[0m\u001b[0;34m:\u001b[0m \u001b[0mbool\u001b[0m \u001b[0;34m=\u001b[0m \u001b[0;32mFalse\u001b[0m\u001b[0;34m,\u001b[0m \u001b[0merrors\u001b[0m\u001b[0;34m:\u001b[0m \u001b[0mstr\u001b[0m \u001b[0;34m=\u001b[0m \u001b[0;34m\"raise\"\u001b[0m\u001b[0;34m\u001b[0m\u001b[0;34m\u001b[0m\u001b[0m\n\u001b[1;32m    594\u001b[0m     ) -> \"BlockManager\":\n\u001b[0;32m--> 595\u001b[0;31m         \u001b[0;32mreturn\u001b[0m \u001b[0mself\u001b[0m\u001b[0;34m.\u001b[0m\u001b[0mapply\u001b[0m\u001b[0;34m(\u001b[0m\u001b[0;34m\"astype\"\u001b[0m\u001b[0;34m,\u001b[0m \u001b[0mdtype\u001b[0m\u001b[0;34m=\u001b[0m\u001b[0mdtype\u001b[0m\u001b[0;34m,\u001b[0m \u001b[0mcopy\u001b[0m\u001b[0;34m=\u001b[0m\u001b[0mcopy\u001b[0m\u001b[0;34m,\u001b[0m \u001b[0merrors\u001b[0m\u001b[0;34m=\u001b[0m\u001b[0merrors\u001b[0m\u001b[0;34m)\u001b[0m\u001b[0;34m\u001b[0m\u001b[0;34m\u001b[0m\u001b[0m\n\u001b[0m\u001b[1;32m    596\u001b[0m \u001b[0;34m\u001b[0m\u001b[0m\n\u001b[1;32m    597\u001b[0m     def convert(\n",
      "\u001b[0;32m~/miniconda3/lib/python3.6/site-packages/pandas/core/internals/managers.py\u001b[0m in \u001b[0;36mapply\u001b[0;34m(self, f, align_keys, **kwargs)\u001b[0m\n\u001b[1;32m    404\u001b[0m                 \u001b[0mapplied\u001b[0m \u001b[0;34m=\u001b[0m \u001b[0mb\u001b[0m\u001b[0;34m.\u001b[0m\u001b[0mapply\u001b[0m\u001b[0;34m(\u001b[0m\u001b[0mf\u001b[0m\u001b[0;34m,\u001b[0m \u001b[0;34m**\u001b[0m\u001b[0mkwargs\u001b[0m\u001b[0;34m)\u001b[0m\u001b[0;34m\u001b[0m\u001b[0;34m\u001b[0m\u001b[0m\n\u001b[1;32m    405\u001b[0m             \u001b[0;32melse\u001b[0m\u001b[0;34m:\u001b[0m\u001b[0;34m\u001b[0m\u001b[0;34m\u001b[0m\u001b[0m\n\u001b[0;32m--> 406\u001b[0;31m                 \u001b[0mapplied\u001b[0m \u001b[0;34m=\u001b[0m \u001b[0mgetattr\u001b[0m\u001b[0;34m(\u001b[0m\u001b[0mb\u001b[0m\u001b[0;34m,\u001b[0m \u001b[0mf\u001b[0m\u001b[0;34m)\u001b[0m\u001b[0;34m(\u001b[0m\u001b[0;34m**\u001b[0m\u001b[0mkwargs\u001b[0m\u001b[0;34m)\u001b[0m\u001b[0;34m\u001b[0m\u001b[0;34m\u001b[0m\u001b[0m\n\u001b[0m\u001b[1;32m    407\u001b[0m             \u001b[0mresult_blocks\u001b[0m \u001b[0;34m=\u001b[0m \u001b[0m_extend_blocks\u001b[0m\u001b[0;34m(\u001b[0m\u001b[0mapplied\u001b[0m\u001b[0;34m,\u001b[0m \u001b[0mresult_blocks\u001b[0m\u001b[0;34m)\u001b[0m\u001b[0;34m\u001b[0m\u001b[0;34m\u001b[0m\u001b[0m\n\u001b[1;32m    408\u001b[0m \u001b[0;34m\u001b[0m\u001b[0m\n",
      "\u001b[0;32m~/miniconda3/lib/python3.6/site-packages/pandas/core/internals/blocks.py\u001b[0m in \u001b[0;36mastype\u001b[0;34m(self, dtype, copy, errors)\u001b[0m\n\u001b[1;32m    593\u001b[0m             \u001b[0mvals1d\u001b[0m \u001b[0;34m=\u001b[0m \u001b[0mvalues\u001b[0m\u001b[0;34m.\u001b[0m\u001b[0mravel\u001b[0m\u001b[0;34m(\u001b[0m\u001b[0;34m)\u001b[0m\u001b[0;34m\u001b[0m\u001b[0;34m\u001b[0m\u001b[0m\n\u001b[1;32m    594\u001b[0m             \u001b[0;32mtry\u001b[0m\u001b[0;34m:\u001b[0m\u001b[0;34m\u001b[0m\u001b[0;34m\u001b[0m\u001b[0m\n\u001b[0;32m--> 595\u001b[0;31m                 \u001b[0mvalues\u001b[0m \u001b[0;34m=\u001b[0m \u001b[0mastype_nansafe\u001b[0m\u001b[0;34m(\u001b[0m\u001b[0mvals1d\u001b[0m\u001b[0;34m,\u001b[0m \u001b[0mdtype\u001b[0m\u001b[0;34m,\u001b[0m \u001b[0mcopy\u001b[0m\u001b[0;34m=\u001b[0m\u001b[0;32mTrue\u001b[0m\u001b[0;34m)\u001b[0m\u001b[0;34m\u001b[0m\u001b[0;34m\u001b[0m\u001b[0m\n\u001b[0m\u001b[1;32m    596\u001b[0m             \u001b[0;32mexcept\u001b[0m \u001b[0;34m(\u001b[0m\u001b[0mValueError\u001b[0m\u001b[0;34m,\u001b[0m \u001b[0mTypeError\u001b[0m\u001b[0;34m)\u001b[0m\u001b[0;34m:\u001b[0m\u001b[0;34m\u001b[0m\u001b[0;34m\u001b[0m\u001b[0m\n\u001b[1;32m    597\u001b[0m                 \u001b[0;31m# e.g. astype_nansafe can fail on object-dtype of strings\u001b[0m\u001b[0;34m\u001b[0m\u001b[0;34m\u001b[0m\u001b[0;34m\u001b[0m\u001b[0m\n",
      "\u001b[0;32m~/miniconda3/lib/python3.6/site-packages/pandas/core/dtypes/cast.py\u001b[0m in \u001b[0;36mastype_nansafe\u001b[0;34m(arr, dtype, copy, skipna)\u001b[0m\n\u001b[1;32m    970\u001b[0m         \u001b[0;31m# work around NumPy brokenness, #1987\u001b[0m\u001b[0;34m\u001b[0m\u001b[0;34m\u001b[0m\u001b[0;34m\u001b[0m\u001b[0m\n\u001b[1;32m    971\u001b[0m         \u001b[0;32mif\u001b[0m \u001b[0mnp\u001b[0m\u001b[0;34m.\u001b[0m\u001b[0missubdtype\u001b[0m\u001b[0;34m(\u001b[0m\u001b[0mdtype\u001b[0m\u001b[0;34m.\u001b[0m\u001b[0mtype\u001b[0m\u001b[0;34m,\u001b[0m \u001b[0mnp\u001b[0m\u001b[0;34m.\u001b[0m\u001b[0minteger\u001b[0m\u001b[0;34m)\u001b[0m\u001b[0;34m:\u001b[0m\u001b[0;34m\u001b[0m\u001b[0;34m\u001b[0m\u001b[0m\n\u001b[0;32m--> 972\u001b[0;31m             \u001b[0;32mreturn\u001b[0m \u001b[0mlib\u001b[0m\u001b[0;34m.\u001b[0m\u001b[0mastype_intsafe\u001b[0m\u001b[0;34m(\u001b[0m\u001b[0marr\u001b[0m\u001b[0;34m.\u001b[0m\u001b[0mravel\u001b[0m\u001b[0;34m(\u001b[0m\u001b[0;34m)\u001b[0m\u001b[0;34m,\u001b[0m \u001b[0mdtype\u001b[0m\u001b[0;34m)\u001b[0m\u001b[0;34m.\u001b[0m\u001b[0mreshape\u001b[0m\u001b[0;34m(\u001b[0m\u001b[0marr\u001b[0m\u001b[0;34m.\u001b[0m\u001b[0mshape\u001b[0m\u001b[0;34m)\u001b[0m\u001b[0;34m\u001b[0m\u001b[0;34m\u001b[0m\u001b[0m\n\u001b[0m\u001b[1;32m    973\u001b[0m \u001b[0;34m\u001b[0m\u001b[0m\n\u001b[1;32m    974\u001b[0m         \u001b[0;31m# if we have a datetime/timedelta array of objects\u001b[0m\u001b[0;34m\u001b[0m\u001b[0;34m\u001b[0m\u001b[0;34m\u001b[0m\u001b[0m\n",
      "\u001b[0;32mpandas/_libs/lib.pyx\u001b[0m in \u001b[0;36mpandas._libs.lib.astype_intsafe\u001b[0;34m()\u001b[0m\n",
      "\u001b[0;31mValueError\u001b[0m: invalid literal for int() with base 10: ''"
     ]
    }
   ],
   "source": [
    "data_info = pd.concat([quant, quali], axis=1)\n",
    "data_info = data_info.drop_duplicates(subset =\"Subject\", keep ='first')\n",
    "data_info = data_info.dropna(axis=0)\n",
    "data_info = data_info.reset_index(drop=True)\n",
    "data_info.set_index('Subject', inplace=True)\n",
    "data_info['FES_S'] = data_info['FES_S'].astype(np.int)\n",
    "data_info['IPAQ_S'] = data_info['IPAQ_S'].astype(np.int)\n",
    "data_info['IPAQ_4a'] = data_info['IPAQ_4a'].astype(np.int)\n",
    "data_info['IPAQ_4b'] = data_info['IPAQ_4b'].astype(np.int)\n",
    "data_info"
   ]
  },
  {
   "cell_type": "code",
   "execution_count": null,
   "metadata": {
    "ExecuteTime": {
     "end_time": "2020-12-08T14:53:58.149154Z",
     "start_time": "2020-12-08T14:53:58.071Z"
    }
   },
   "outputs": [],
   "source": [
    "# Salvar o arquivo\n",
    "data_info.to_pickle('data_infoBDS')"
   ]
  },
  {
   "cell_type": "code",
   "execution_count": null,
   "metadata": {
    "ExecuteTime": {
     "end_time": "2020-12-08T14:53:58.150604Z",
     "start_time": "2020-12-08T14:53:58.109Z"
    }
   },
   "outputs": [],
   "source": [
    "pd.read_pickle(\"data_infoBDS\")"
   ]
  },
  {
   "cell_type": "code",
   "execution_count": 27,
   "metadata": {
    "ExecuteTime": {
     "end_time": "2020-12-08T14:53:58.268512Z",
     "start_time": "2020-12-08T14:53:58.253289Z"
    },
    "scrolled": true
   },
   "outputs": [
    {
     "data": {
      "text/html": [
       "<div>\n",
       "<style scoped>\n",
       "    .dataframe tbody tr th:only-of-type {\n",
       "        vertical-align: middle;\n",
       "    }\n",
       "\n",
       "    .dataframe tbody tr th {\n",
       "        vertical-align: top;\n",
       "    }\n",
       "\n",
       "    .dataframe thead th {\n",
       "        text-align: right;\n",
       "    }\n",
       "</style>\n",
       "<table border=\"1\" class=\"dataframe\">\n",
       "  <thead>\n",
       "    <tr style=\"text-align: right;\">\n",
       "      <th></th>\n",
       "      <th>1</th>\n",
       "    </tr>\n",
       "    <tr>\n",
       "      <th>Subject</th>\n",
       "      <th></th>\n",
       "    </tr>\n",
       "  </thead>\n",
       "  <tbody>\n",
       "    <tr>\n",
       "      <th>1</th>\n",
       "      <td>0.311111</td>\n",
       "    </tr>\n",
       "    <tr>\n",
       "      <th>2</th>\n",
       "      <td>0.255556</td>\n",
       "    </tr>\n",
       "    <tr>\n",
       "      <th>3</th>\n",
       "      <td>0.400000</td>\n",
       "    </tr>\n",
       "    <tr>\n",
       "      <th>4</th>\n",
       "      <td>0.233333</td>\n",
       "    </tr>\n",
       "    <tr>\n",
       "      <th>5</th>\n",
       "      <td>0.211111</td>\n",
       "    </tr>\n",
       "    <tr>\n",
       "      <th>...</th>\n",
       "      <td>...</td>\n",
       "    </tr>\n",
       "    <tr>\n",
       "      <th>208</th>\n",
       "      <td>0.244444</td>\n",
       "    </tr>\n",
       "    <tr>\n",
       "      <th>209</th>\n",
       "      <td>0.222222</td>\n",
       "    </tr>\n",
       "    <tr>\n",
       "      <th>210</th>\n",
       "      <td>0.211111</td>\n",
       "    </tr>\n",
       "    <tr>\n",
       "      <th>211</th>\n",
       "      <td>0.300000</td>\n",
       "    </tr>\n",
       "    <tr>\n",
       "      <th>212</th>\n",
       "      <td>0.344444</td>\n",
       "    </tr>\n",
       "  </tbody>\n",
       "</table>\n",
       "<p>207 rows × 1 columns</p>\n",
       "</div>"
      ],
      "text/plain": [
       "                1\n",
       "Subject          \n",
       "1        0.311111\n",
       "2        0.255556\n",
       "3        0.400000\n",
       "4        0.233333\n",
       "5        0.211111\n",
       "...           ...\n",
       "208      0.244444\n",
       "209      0.222222\n",
       "210      0.211111\n",
       "211      0.300000\n",
       "212      0.344444\n",
       "\n",
       "[207 rows x 1 columns]"
      ]
     },
     "execution_count": 27,
     "metadata": {},
     "output_type": "execute_result"
    }
   ],
   "source": [
    "# closed_foam\n",
    "\n",
    "PF50_closed_foam = np.load(\"PF50_closed_foam.npy\")\n",
    "PF50_closed_foam = pd.DataFrame(PF50_closed_foam)\n",
    "PF50_closed_foam[0] = PF50_closed_foam[0].astype(np.int)\n",
    "PF50_closed_foam.rename(columns={0:'Subject'}, inplace=True)\n",
    "PF50_closed_foam.set_index('Subject', inplace=True)\n",
    "PF50_closed_foam"
   ]
  },
  {
   "cell_type": "code",
   "execution_count": 28,
   "metadata": {
    "ExecuteTime": {
     "end_time": "2020-12-08T14:53:58.344680Z",
     "start_time": "2020-12-08T14:53:58.270484Z"
    }
   },
   "outputs": [
    {
     "data": {
      "text/html": [
       "<div>\n",
       "<style scoped>\n",
       "    .dataframe tbody tr th:only-of-type {\n",
       "        vertical-align: middle;\n",
       "    }\n",
       "\n",
       "    .dataframe tbody tr th {\n",
       "        vertical-align: top;\n",
       "    }\n",
       "\n",
       "    .dataframe thead th {\n",
       "        text-align: right;\n",
       "    }\n",
       "</style>\n",
       "<table border=\"1\" class=\"dataframe\">\n",
       "  <thead>\n",
       "    <tr style=\"text-align: right;\">\n",
       "      <th></th>\n",
       "      <th>Age</th>\n",
       "      <th>Gender</th>\n",
       "      <th>Height</th>\n",
       "      <th>Weight</th>\n",
       "      <th>BMI</th>\n",
       "      <th>FootLen</th>\n",
       "      <th>Ystudy</th>\n",
       "      <th>Illness</th>\n",
       "      <th>Nmedication</th>\n",
       "      <th>Ortho-Prosthesis</th>\n",
       "      <th>...</th>\n",
       "      <th>Corrective lens</th>\n",
       "      <th>Orthosis in the knee</th>\n",
       "      <th>PaceMaker</th>\n",
       "      <th>Internal fixation in the medulla</th>\n",
       "      <th>Corrective lens</th>\n",
       "      <th>Prosthesis aortic valve</th>\n",
       "      <th>Dental_total</th>\n",
       "      <th>Support_total</th>\n",
       "      <th>Hearing_total</th>\n",
       "      <th>1</th>\n",
       "    </tr>\n",
       "    <tr>\n",
       "      <th>Subject</th>\n",
       "      <th></th>\n",
       "      <th></th>\n",
       "      <th></th>\n",
       "      <th></th>\n",
       "      <th></th>\n",
       "      <th></th>\n",
       "      <th></th>\n",
       "      <th></th>\n",
       "      <th></th>\n",
       "      <th></th>\n",
       "      <th></th>\n",
       "      <th></th>\n",
       "      <th></th>\n",
       "      <th></th>\n",
       "      <th></th>\n",
       "      <th></th>\n",
       "      <th></th>\n",
       "      <th></th>\n",
       "      <th></th>\n",
       "      <th></th>\n",
       "      <th></th>\n",
       "    </tr>\n",
       "  </thead>\n",
       "  <tbody>\n",
       "    <tr>\n",
       "      <th>1</th>\n",
       "      <td>33.000000</td>\n",
       "      <td>1</td>\n",
       "      <td>157.5</td>\n",
       "      <td>54.20</td>\n",
       "      <td>21.849332</td>\n",
       "      <td>21.80</td>\n",
       "      <td>17</td>\n",
       "      <td>1</td>\n",
       "      <td>1</td>\n",
       "      <td>1</td>\n",
       "      <td>...</td>\n",
       "      <td>0</td>\n",
       "      <td>0</td>\n",
       "      <td>0</td>\n",
       "      <td>0</td>\n",
       "      <td>1</td>\n",
       "      <td>0</td>\n",
       "      <td>0</td>\n",
       "      <td>0</td>\n",
       "      <td>0</td>\n",
       "      <td>0.311111</td>\n",
       "    </tr>\n",
       "    <tr>\n",
       "      <th>2</th>\n",
       "      <td>27.583333</td>\n",
       "      <td>1</td>\n",
       "      <td>154.0</td>\n",
       "      <td>44.00</td>\n",
       "      <td>18.552876</td>\n",
       "      <td>22.45</td>\n",
       "      <td>17</td>\n",
       "      <td>0</td>\n",
       "      <td>0</td>\n",
       "      <td>0</td>\n",
       "      <td>...</td>\n",
       "      <td>0</td>\n",
       "      <td>0</td>\n",
       "      <td>0</td>\n",
       "      <td>0</td>\n",
       "      <td>0</td>\n",
       "      <td>0</td>\n",
       "      <td>0</td>\n",
       "      <td>0</td>\n",
       "      <td>0</td>\n",
       "      <td>0.255556</td>\n",
       "    </tr>\n",
       "    <tr>\n",
       "      <th>3</th>\n",
       "      <td>36.916667</td>\n",
       "      <td>0</td>\n",
       "      <td>161.7</td>\n",
       "      <td>63.40</td>\n",
       "      <td>24.247626</td>\n",
       "      <td>23.10</td>\n",
       "      <td>11</td>\n",
       "      <td>0</td>\n",
       "      <td>0</td>\n",
       "      <td>1</td>\n",
       "      <td>...</td>\n",
       "      <td>0</td>\n",
       "      <td>0</td>\n",
       "      <td>0</td>\n",
       "      <td>0</td>\n",
       "      <td>0</td>\n",
       "      <td>0</td>\n",
       "      <td>1</td>\n",
       "      <td>0</td>\n",
       "      <td>0</td>\n",
       "      <td>0.400000</td>\n",
       "    </tr>\n",
       "    <tr>\n",
       "      <th>4</th>\n",
       "      <td>61.750000</td>\n",
       "      <td>0</td>\n",
       "      <td>164.0</td>\n",
       "      <td>68.35</td>\n",
       "      <td>25.412701</td>\n",
       "      <td>24.70</td>\n",
       "      <td>1</td>\n",
       "      <td>0</td>\n",
       "      <td>0</td>\n",
       "      <td>1</td>\n",
       "      <td>...</td>\n",
       "      <td>0</td>\n",
       "      <td>0</td>\n",
       "      <td>0</td>\n",
       "      <td>0</td>\n",
       "      <td>0</td>\n",
       "      <td>0</td>\n",
       "      <td>1</td>\n",
       "      <td>0</td>\n",
       "      <td>0</td>\n",
       "      <td>0.233333</td>\n",
       "    </tr>\n",
       "    <tr>\n",
       "      <th>6</th>\n",
       "      <td>49.333333</td>\n",
       "      <td>0</td>\n",
       "      <td>163.5</td>\n",
       "      <td>70.65</td>\n",
       "      <td>26.428752</td>\n",
       "      <td>23.70</td>\n",
       "      <td>10</td>\n",
       "      <td>0</td>\n",
       "      <td>1</td>\n",
       "      <td>1</td>\n",
       "      <td>...</td>\n",
       "      <td>0</td>\n",
       "      <td>0</td>\n",
       "      <td>0</td>\n",
       "      <td>0</td>\n",
       "      <td>1</td>\n",
       "      <td>0</td>\n",
       "      <td>1</td>\n",
       "      <td>0</td>\n",
       "      <td>0</td>\n",
       "      <td>0.255556</td>\n",
       "    </tr>\n",
       "    <tr>\n",
       "      <th>...</th>\n",
       "      <td>...</td>\n",
       "      <td>...</td>\n",
       "      <td>...</td>\n",
       "      <td>...</td>\n",
       "      <td>...</td>\n",
       "      <td>...</td>\n",
       "      <td>...</td>\n",
       "      <td>...</td>\n",
       "      <td>...</td>\n",
       "      <td>...</td>\n",
       "      <td>...</td>\n",
       "      <td>...</td>\n",
       "      <td>...</td>\n",
       "      <td>...</td>\n",
       "      <td>...</td>\n",
       "      <td>...</td>\n",
       "      <td>...</td>\n",
       "      <td>...</td>\n",
       "      <td>...</td>\n",
       "      <td>...</td>\n",
       "      <td>...</td>\n",
       "    </tr>\n",
       "    <tr>\n",
       "      <th>159</th>\n",
       "      <td>24.750000</td>\n",
       "      <td>1</td>\n",
       "      <td>153.5</td>\n",
       "      <td>62.05</td>\n",
       "      <td>26.334497</td>\n",
       "      <td>21.65</td>\n",
       "      <td>16</td>\n",
       "      <td>1</td>\n",
       "      <td>0</td>\n",
       "      <td>0</td>\n",
       "      <td>...</td>\n",
       "      <td>0</td>\n",
       "      <td>0</td>\n",
       "      <td>0</td>\n",
       "      <td>0</td>\n",
       "      <td>0</td>\n",
       "      <td>0</td>\n",
       "      <td>0</td>\n",
       "      <td>0</td>\n",
       "      <td>0</td>\n",
       "      <td>0.266667</td>\n",
       "    </tr>\n",
       "    <tr>\n",
       "      <th>160</th>\n",
       "      <td>23.583333</td>\n",
       "      <td>1</td>\n",
       "      <td>161.5</td>\n",
       "      <td>56.55</td>\n",
       "      <td>21.681412</td>\n",
       "      <td>22.75</td>\n",
       "      <td>16</td>\n",
       "      <td>0</td>\n",
       "      <td>0</td>\n",
       "      <td>1</td>\n",
       "      <td>...</td>\n",
       "      <td>0</td>\n",
       "      <td>0</td>\n",
       "      <td>0</td>\n",
       "      <td>0</td>\n",
       "      <td>1</td>\n",
       "      <td>0</td>\n",
       "      <td>0</td>\n",
       "      <td>0</td>\n",
       "      <td>0</td>\n",
       "      <td>0.200000</td>\n",
       "    </tr>\n",
       "    <tr>\n",
       "      <th>161</th>\n",
       "      <td>25.333333</td>\n",
       "      <td>1</td>\n",
       "      <td>167.7</td>\n",
       "      <td>60.55</td>\n",
       "      <td>21.530198</td>\n",
       "      <td>23.75</td>\n",
       "      <td>15</td>\n",
       "      <td>1</td>\n",
       "      <td>1</td>\n",
       "      <td>0</td>\n",
       "      <td>...</td>\n",
       "      <td>0</td>\n",
       "      <td>0</td>\n",
       "      <td>0</td>\n",
       "      <td>0</td>\n",
       "      <td>0</td>\n",
       "      <td>0</td>\n",
       "      <td>0</td>\n",
       "      <td>0</td>\n",
       "      <td>0</td>\n",
       "      <td>0.244444</td>\n",
       "    </tr>\n",
       "    <tr>\n",
       "      <th>162</th>\n",
       "      <td>24.083333</td>\n",
       "      <td>0</td>\n",
       "      <td>183.5</td>\n",
       "      <td>63.20</td>\n",
       "      <td>18.769165</td>\n",
       "      <td>25.75</td>\n",
       "      <td>17</td>\n",
       "      <td>0</td>\n",
       "      <td>0</td>\n",
       "      <td>1</td>\n",
       "      <td>...</td>\n",
       "      <td>0</td>\n",
       "      <td>0</td>\n",
       "      <td>0</td>\n",
       "      <td>0</td>\n",
       "      <td>1</td>\n",
       "      <td>0</td>\n",
       "      <td>0</td>\n",
       "      <td>0</td>\n",
       "      <td>0</td>\n",
       "      <td>0.211111</td>\n",
       "    </tr>\n",
       "    <tr>\n",
       "      <th>163</th>\n",
       "      <td>25.416667</td>\n",
       "      <td>0</td>\n",
       "      <td>172.0</td>\n",
       "      <td>74.60</td>\n",
       "      <td>25.216333</td>\n",
       "      <td>24.90</td>\n",
       "      <td>18</td>\n",
       "      <td>1</td>\n",
       "      <td>0</td>\n",
       "      <td>1</td>\n",
       "      <td>...</td>\n",
       "      <td>0</td>\n",
       "      <td>0</td>\n",
       "      <td>0</td>\n",
       "      <td>0</td>\n",
       "      <td>1</td>\n",
       "      <td>0</td>\n",
       "      <td>0</td>\n",
       "      <td>0</td>\n",
       "      <td>0</td>\n",
       "      <td>0.277778</td>\n",
       "    </tr>\n",
       "  </tbody>\n",
       "</table>\n",
       "<p>152 rows × 203 columns</p>\n",
       "</div>"
      ],
      "text/plain": [
       "               Age Gender  Height  Weight        BMI  FootLen  Ystudy Illness  \\\n",
       "Subject                                                                         \n",
       "1        33.000000      1   157.5   54.20  21.849332    21.80      17       1   \n",
       "2        27.583333      1   154.0   44.00  18.552876    22.45      17       0   \n",
       "3        36.916667      0   161.7   63.40  24.247626    23.10      11       0   \n",
       "4        61.750000      0   164.0   68.35  25.412701    24.70       1       0   \n",
       "6        49.333333      0   163.5   70.65  26.428752    23.70      10       0   \n",
       "...            ...    ...     ...     ...        ...      ...     ...     ...   \n",
       "159      24.750000      1   153.5   62.05  26.334497    21.65      16       1   \n",
       "160      23.583333      1   161.5   56.55  21.681412    22.75      16       0   \n",
       "161      25.333333      1   167.7   60.55  21.530198    23.75      15       1   \n",
       "162      24.083333      0   183.5   63.20  18.769165    25.75      17       0   \n",
       "163      25.416667      0   172.0   74.60  25.216333    24.90      18       1   \n",
       "\n",
       "         Nmedication Ortho-Prosthesis  ...  Corrective lens  \\\n",
       "Subject                                ...                    \n",
       "1                  1                1  ...                0   \n",
       "2                  0                0  ...                0   \n",
       "3                  0                1  ...                0   \n",
       "4                  0                1  ...                0   \n",
       "6                  1                1  ...                0   \n",
       "...              ...              ...  ...              ...   \n",
       "159                0                0  ...                0   \n",
       "160                0                1  ...                0   \n",
       "161                1                0  ...                0   \n",
       "162                0                1  ...                0   \n",
       "163                0                1  ...                0   \n",
       "\n",
       "         Orthosis in the knee  PaceMaker  Internal fixation in the medulla  \\\n",
       "Subject                                                                      \n",
       "1                           0          0                                 0   \n",
       "2                           0          0                                 0   \n",
       "3                           0          0                                 0   \n",
       "4                           0          0                                 0   \n",
       "6                           0          0                                 0   \n",
       "...                       ...        ...                               ...   \n",
       "159                         0          0                                 0   \n",
       "160                         0          0                                 0   \n",
       "161                         0          0                                 0   \n",
       "162                         0          0                                 0   \n",
       "163                         0          0                                 0   \n",
       "\n",
       "         Corrective lens  Prosthesis aortic valve  Dental_total  \\\n",
       "Subject                                                           \n",
       "1                      1                        0             0   \n",
       "2                      0                        0             0   \n",
       "3                      0                        0             1   \n",
       "4                      0                        0             1   \n",
       "6                      1                        0             1   \n",
       "...                  ...                      ...           ...   \n",
       "159                    0                        0             0   \n",
       "160                    1                        0             0   \n",
       "161                    0                        0             0   \n",
       "162                    1                        0             0   \n",
       "163                    1                        0             0   \n",
       "\n",
       "         Support_total  Hearing_total         1  \n",
       "Subject                                          \n",
       "1                    0              0  0.311111  \n",
       "2                    0              0  0.255556  \n",
       "3                    0              0  0.400000  \n",
       "4                    0              0  0.233333  \n",
       "6                    0              0  0.255556  \n",
       "...                ...            ...       ...  \n",
       "159                  0              0  0.266667  \n",
       "160                  0              0  0.200000  \n",
       "161                  0              0  0.244444  \n",
       "162                  0              0  0.211111  \n",
       "163                  0              0  0.277778  \n",
       "\n",
       "[152 rows x 203 columns]"
      ]
     },
     "execution_count": 28,
     "metadata": {},
     "output_type": "execute_result"
    }
   ],
   "source": [
    "closed_foam = pd.concat([data_info, PF50_closed_foam], axis=1, join=\"inner\")\n",
    "closed_foam"
   ]
  },
  {
   "cell_type": "code",
   "execution_count": 29,
   "metadata": {
    "ExecuteTime": {
     "end_time": "2020-12-08T14:53:58.351227Z",
     "start_time": "2020-12-08T14:53:58.346614Z"
    }
   },
   "outputs": [],
   "source": [
    "closed_foam.to_pickle('data_closed_foamBDS')"
   ]
  },
  {
   "cell_type": "code",
   "execution_count": 30,
   "metadata": {
    "ExecuteTime": {
     "end_time": "2020-12-08T14:53:58.522348Z",
     "start_time": "2020-12-08T14:53:58.352766Z"
    }
   },
   "outputs": [
    {
     "data": {
      "text/html": [
       "<div>\n",
       "<style scoped>\n",
       "    .dataframe tbody tr th:only-of-type {\n",
       "        vertical-align: middle;\n",
       "    }\n",
       "\n",
       "    .dataframe tbody tr th {\n",
       "        vertical-align: top;\n",
       "    }\n",
       "\n",
       "    .dataframe thead th {\n",
       "        text-align: right;\n",
       "    }\n",
       "</style>\n",
       "<table border=\"1\" class=\"dataframe\">\n",
       "  <thead>\n",
       "    <tr style=\"text-align: right;\">\n",
       "      <th></th>\n",
       "      <th>1</th>\n",
       "    </tr>\n",
       "    <tr>\n",
       "      <th>Subject</th>\n",
       "      <th></th>\n",
       "    </tr>\n",
       "  </thead>\n",
       "  <tbody>\n",
       "    <tr>\n",
       "      <th>1</th>\n",
       "      <td>0.200000</td>\n",
       "    </tr>\n",
       "    <tr>\n",
       "      <th>2</th>\n",
       "      <td>0.133333</td>\n",
       "    </tr>\n",
       "    <tr>\n",
       "      <th>3</th>\n",
       "      <td>0.133333</td>\n",
       "    </tr>\n",
       "    <tr>\n",
       "      <th>4</th>\n",
       "      <td>0.144444</td>\n",
       "    </tr>\n",
       "    <tr>\n",
       "      <th>5</th>\n",
       "      <td>0.111111</td>\n",
       "    </tr>\n",
       "    <tr>\n",
       "      <th>...</th>\n",
       "      <td>...</td>\n",
       "    </tr>\n",
       "    <tr>\n",
       "      <th>208</th>\n",
       "      <td>0.077778</td>\n",
       "    </tr>\n",
       "    <tr>\n",
       "      <th>209</th>\n",
       "      <td>0.244444</td>\n",
       "    </tr>\n",
       "    <tr>\n",
       "      <th>210</th>\n",
       "      <td>0.122222</td>\n",
       "    </tr>\n",
       "    <tr>\n",
       "      <th>211</th>\n",
       "      <td>0.266667</td>\n",
       "    </tr>\n",
       "    <tr>\n",
       "      <th>212</th>\n",
       "      <td>0.311111</td>\n",
       "    </tr>\n",
       "  </tbody>\n",
       "</table>\n",
       "<p>211 rows × 1 columns</p>\n",
       "</div>"
      ],
      "text/plain": [
       "                1\n",
       "Subject          \n",
       "1        0.200000\n",
       "2        0.133333\n",
       "3        0.133333\n",
       "4        0.144444\n",
       "5        0.111111\n",
       "...           ...\n",
       "208      0.077778\n",
       "209      0.244444\n",
       "210      0.122222\n",
       "211      0.266667\n",
       "212      0.311111\n",
       "\n",
       "[211 rows x 1 columns]"
      ]
     },
     "execution_count": 30,
     "metadata": {},
     "output_type": "execute_result"
    }
   ],
   "source": [
    "# closed_rigid\n",
    "\n",
    "\n",
    "PF50_closed_rigid = np.load(\"PF50_closed_rigid.npy\")\n",
    "PF50_closed_rigid = pd.DataFrame(PF50_closed_rigid)\n",
    "PF50_closed_rigid[0] = PF50_closed_rigid[0].astype(np.int)\n",
    "PF50_closed_rigid.rename(columns={0:'Subject'}, inplace=True)\n",
    "PF50_closed_rigid.set_index('Subject', inplace=True)\n",
    "PF50_closed_rigid"
   ]
  },
  {
   "cell_type": "code",
   "execution_count": 31,
   "metadata": {
    "ExecuteTime": {
     "end_time": "2020-12-08T14:53:58.539708Z",
     "start_time": "2020-12-08T14:53:58.525300Z"
    },
    "scrolled": true
   },
   "outputs": [],
   "source": [
    "closed_rigid = pd.concat([data_info, PF50_closed_rigid], axis=1, join=\"inner\")\n",
    "closed_rigid\n",
    "closed_foam.to_pickle('data_closed_rigidBDS')"
   ]
  },
  {
   "cell_type": "code",
   "execution_count": 32,
   "metadata": {
    "ExecuteTime": {
     "end_time": "2020-12-08T14:53:58.593849Z",
     "start_time": "2020-12-08T14:53:58.541967Z"
    }
   },
   "outputs": [
    {
     "data": {
      "text/html": [
       "<div>\n",
       "<style scoped>\n",
       "    .dataframe tbody tr th:only-of-type {\n",
       "        vertical-align: middle;\n",
       "    }\n",
       "\n",
       "    .dataframe tbody tr th {\n",
       "        vertical-align: top;\n",
       "    }\n",
       "\n",
       "    .dataframe thead th {\n",
       "        text-align: right;\n",
       "    }\n",
       "</style>\n",
       "<table border=\"1\" class=\"dataframe\">\n",
       "  <thead>\n",
       "    <tr style=\"text-align: right;\">\n",
       "      <th></th>\n",
       "      <th>1</th>\n",
       "    </tr>\n",
       "    <tr>\n",
       "      <th>Subject</th>\n",
       "      <th></th>\n",
       "    </tr>\n",
       "  </thead>\n",
       "  <tbody>\n",
       "    <tr>\n",
       "      <th>1</th>\n",
       "      <td>0.144444</td>\n",
       "    </tr>\n",
       "    <tr>\n",
       "      <th>2</th>\n",
       "      <td>0.211111</td>\n",
       "    </tr>\n",
       "    <tr>\n",
       "      <th>3</th>\n",
       "      <td>0.100000</td>\n",
       "    </tr>\n",
       "    <tr>\n",
       "      <th>4</th>\n",
       "      <td>0.300000</td>\n",
       "    </tr>\n",
       "    <tr>\n",
       "      <th>5</th>\n",
       "      <td>0.077778</td>\n",
       "    </tr>\n",
       "    <tr>\n",
       "      <th>...</th>\n",
       "      <td>...</td>\n",
       "    </tr>\n",
       "    <tr>\n",
       "      <th>208</th>\n",
       "      <td>0.077778</td>\n",
       "    </tr>\n",
       "    <tr>\n",
       "      <th>209</th>\n",
       "      <td>0.244444</td>\n",
       "    </tr>\n",
       "    <tr>\n",
       "      <th>210</th>\n",
       "      <td>0.144444</td>\n",
       "    </tr>\n",
       "    <tr>\n",
       "      <th>211</th>\n",
       "      <td>0.155556</td>\n",
       "    </tr>\n",
       "    <tr>\n",
       "      <th>212</th>\n",
       "      <td>0.144444</td>\n",
       "    </tr>\n",
       "  </tbody>\n",
       "</table>\n",
       "<p>212 rows × 1 columns</p>\n",
       "</div>"
      ],
      "text/plain": [
       "                1\n",
       "Subject          \n",
       "1        0.144444\n",
       "2        0.211111\n",
       "3        0.100000\n",
       "4        0.300000\n",
       "5        0.077778\n",
       "...           ...\n",
       "208      0.077778\n",
       "209      0.244444\n",
       "210      0.144444\n",
       "211      0.155556\n",
       "212      0.144444\n",
       "\n",
       "[212 rows x 1 columns]"
      ]
     },
     "execution_count": 32,
     "metadata": {},
     "output_type": "execute_result"
    }
   ],
   "source": [
    "# open_rigid\n",
    "\n",
    "\n",
    "PF50_open_rigid = np.load(\"PF50_open_rigid.npy\")\n",
    "PF50_open_rigid = pd.DataFrame(PF50_open_rigid)\n",
    "PF50_open_rigid[0] = PF50_open_rigid[0].astype(np.int)\n",
    "PF50_open_rigid.rename(columns={0:'Subject'}, inplace=True)\n",
    "PF50_open_rigid.set_index('Subject', inplace=True)\n",
    "PF50_open_rigid"
   ]
  },
  {
   "cell_type": "code",
   "execution_count": 33,
   "metadata": {
    "ExecuteTime": {
     "end_time": "2020-12-08T14:53:58.608532Z",
     "start_time": "2020-12-08T14:53:58.596309Z"
    },
    "scrolled": true
   },
   "outputs": [],
   "source": [
    "open_rigid = pd.concat([data_info, PF50_open_rigid], axis=1, join=\"inner\")\n",
    "open_rigid\n",
    "closed_foam.to_pickle('data_open_rigidBDS')"
   ]
  },
  {
   "cell_type": "code",
   "execution_count": 34,
   "metadata": {
    "ExecuteTime": {
     "end_time": "2020-12-08T14:53:58.649824Z",
     "start_time": "2020-12-08T14:53:58.610709Z"
    }
   },
   "outputs": [
    {
     "data": {
      "text/html": [
       "<div>\n",
       "<style scoped>\n",
       "    .dataframe tbody tr th:only-of-type {\n",
       "        vertical-align: middle;\n",
       "    }\n",
       "\n",
       "    .dataframe tbody tr th {\n",
       "        vertical-align: top;\n",
       "    }\n",
       "\n",
       "    .dataframe thead th {\n",
       "        text-align: right;\n",
       "    }\n",
       "</style>\n",
       "<table border=\"1\" class=\"dataframe\">\n",
       "  <thead>\n",
       "    <tr style=\"text-align: right;\">\n",
       "      <th></th>\n",
       "      <th>1</th>\n",
       "    </tr>\n",
       "    <tr>\n",
       "      <th>Subject</th>\n",
       "      <th></th>\n",
       "    </tr>\n",
       "  </thead>\n",
       "  <tbody>\n",
       "    <tr>\n",
       "      <th>1</th>\n",
       "      <td>0.366667</td>\n",
       "    </tr>\n",
       "    <tr>\n",
       "      <th>2</th>\n",
       "      <td>0.266667</td>\n",
       "    </tr>\n",
       "    <tr>\n",
       "      <th>3</th>\n",
       "      <td>0.477778</td>\n",
       "    </tr>\n",
       "    <tr>\n",
       "      <th>4</th>\n",
       "      <td>0.244444</td>\n",
       "    </tr>\n",
       "    <tr>\n",
       "      <th>5</th>\n",
       "      <td>0.155556</td>\n",
       "    </tr>\n",
       "    <tr>\n",
       "      <th>...</th>\n",
       "      <td>...</td>\n",
       "    </tr>\n",
       "    <tr>\n",
       "      <th>208</th>\n",
       "      <td>0.133333</td>\n",
       "    </tr>\n",
       "    <tr>\n",
       "      <th>209</th>\n",
       "      <td>0.122222</td>\n",
       "    </tr>\n",
       "    <tr>\n",
       "      <th>210</th>\n",
       "      <td>0.122222</td>\n",
       "    </tr>\n",
       "    <tr>\n",
       "      <th>211</th>\n",
       "      <td>0.211111</td>\n",
       "    </tr>\n",
       "    <tr>\n",
       "      <th>212</th>\n",
       "      <td>0.177778</td>\n",
       "    </tr>\n",
       "  </tbody>\n",
       "</table>\n",
       "<p>209 rows × 1 columns</p>\n",
       "</div>"
      ],
      "text/plain": [
       "                1\n",
       "Subject          \n",
       "1        0.366667\n",
       "2        0.266667\n",
       "3        0.477778\n",
       "4        0.244444\n",
       "5        0.155556\n",
       "...           ...\n",
       "208      0.133333\n",
       "209      0.122222\n",
       "210      0.122222\n",
       "211      0.211111\n",
       "212      0.177778\n",
       "\n",
       "[209 rows x 1 columns]"
      ]
     },
     "execution_count": 34,
     "metadata": {},
     "output_type": "execute_result"
    }
   ],
   "source": [
    "# open_foam\n",
    "\n",
    "PF50_open_foam = np.load(\"PF50_open_foam.npy\")\n",
    "PF50_open_foam = pd.DataFrame(PF50_open_foam)\n",
    "PF50_open_foam[0] = PF50_open_foam[0].astype(np.int)\n",
    "PF50_open_foam.rename(columns={0:'Subject'}, inplace=True)\n",
    "PF50_open_foam.set_index('Subject', inplace=True)\n",
    "PF50_open_foam"
   ]
  },
  {
   "cell_type": "code",
   "execution_count": 35,
   "metadata": {
    "ExecuteTime": {
     "end_time": "2020-12-08T14:53:58.667436Z",
     "start_time": "2020-12-08T14:53:58.652053Z"
    }
   },
   "outputs": [],
   "source": [
    "\n",
    "open_foam = pd.concat([data_info, PF50_open_foam], axis=1, join=\"inner\")\n",
    "open_foam\n",
    "closed_foam.to_pickle('data_open_foamBDS')"
   ]
  },
  {
   "cell_type": "code",
   "execution_count": 36,
   "metadata": {
    "ExecuteTime": {
     "end_time": "2020-12-08T14:53:58.694467Z",
     "start_time": "2020-12-08T14:53:58.669707Z"
    }
   },
   "outputs": [
    {
     "data": {
      "text/plain": [
       "['Age',\n",
       " 'Gender',\n",
       " 'Height',\n",
       " 'Weight',\n",
       " 'BMI',\n",
       " 'FootLen',\n",
       " 'Ystudy',\n",
       " 'Illness',\n",
       " 'Nmedication',\n",
       " 'Ortho-Prosthesis',\n",
       " 'Disability',\n",
       " 'Falls12m',\n",
       " 'FES_1',\n",
       " 'FES_2',\n",
       " 'FES_3',\n",
       " 'FES_4',\n",
       " 'FES_5',\n",
       " 'FES_6',\n",
       " 'FES_7',\n",
       " 'FES_T',\n",
       " 'FES_S',\n",
       " 'IPAQ_1a',\n",
       " 'IPAQ_1b',\n",
       " 'IPAQ_2a',\n",
       " 'IPAQ_2b',\n",
       " 'IPAQ_3a',\n",
       " 'IPAQ_3b',\n",
       " 'IPAQ_4a',\n",
       " 'IPAQ_4b',\n",
       " 'IPAQ_S',\n",
       " 'TMT_timeA',\n",
       " 'TMT_errorsA',\n",
       " 'TMT_timeB',\n",
       " 'TMT_errorsB',\n",
       " 'Best_1',\n",
       " 'Best_2',\n",
       " 'Best_3l',\n",
       " 'Best_3r',\n",
       " 'Best_4',\n",
       " 'Best_5',\n",
       " 'Best_6l',\n",
       " 'Best_6r',\n",
       " 'Best_7',\n",
       " 'Best_8',\n",
       " 'Best_9',\n",
       " 'Best_10',\n",
       " 'Best_11',\n",
       " 'Best_12',\n",
       " 'Best_13',\n",
       " 'Best_14',\n",
       " 'Best_T',\n",
       " '5alphareductaseinhibitor',\n",
       " 'Alphablocker',\n",
       " 'Analgesic',\n",
       " 'AngiotensinIIreceptorantagonist',\n",
       " 'Angiotensinconvertingenzymeinhibitor',\n",
       " 'Antiarrhythmic',\n",
       " 'Antibiotic',\n",
       " 'Anticholinergic',\n",
       " 'Anticonvulsant',\n",
       " 'Antihistamine',\n",
       " 'Antiinflammatory',\n",
       " 'Antimalarial',\n",
       " 'Antipyretic',\n",
       " 'Antithyroid',\n",
       " 'Antivertigo',\n",
       " 'Benzodiazepine',\n",
       " 'Betablocker',\n",
       " 'Biguanide',\n",
       " 'Bisphosphonate',\n",
       " 'Bloodcirculation',\n",
       " 'Bronchodilator',\n",
       " 'Calciumchannelblocker',\n",
       " 'Centralnervoussystemagent',\n",
       " 'Conjugatedestrogen',\n",
       " 'Corticosteroid',\n",
       " 'DOPAdecarboxylaseinhibitor',\n",
       " 'Diabetesmellitus',\n",
       " 'Dipeptidylpeptidase4inhibitor',\n",
       " 'Diuretic',\n",
       " 'Dopamineagonist',\n",
       " 'Dopamineantagonist',\n",
       " 'Essentialaminoacid',\n",
       " 'Fluoroquinolone',\n",
       " 'HMGCoAreductaseinhibitor',\n",
       " 'Hblocker',\n",
       " 'Herbalsupplement',\n",
       " 'Homeopathic',\n",
       " 'Hypercholesterolemia',\n",
       " 'Hypertension',\n",
       " 'Kinaseinhibitor',\n",
       " 'Kneecartilagereplacement',\n",
       " 'Longactingbetaagonist',\n",
       " 'Meglitinide',\n",
       " 'Musclerelaxant',\n",
       " 'Nonsteroidalantiinflammatory',\n",
       " 'Nucleosidereversetranscriptaseinhibitor',\n",
       " 'Oralcontraceptive',\n",
       " 'Osteoporosis',\n",
       " 'Phenothiazine',\n",
       " 'Phytotherapy',\n",
       " 'Protonpumpinhibitor',\n",
       " 'Salicylate',\n",
       " 'Sedative',\n",
       " 'Selectivenorepinephrinereuptakeinhibitor',\n",
       " 'Selectiveserotoninreuptakeinhibitor',\n",
       " 'Steroid',\n",
       " 'Steroidalprogestin',\n",
       " 'Sulfonylurea',\n",
       " 'Syntheticthyroidhormone',\n",
       " 'Vasodilator',\n",
       " 'Wakefulnesspromotingagent',\n",
       " 'Arthritis',\n",
       " 'Breathlessness',\n",
       " 'Bronchitis',\n",
       " 'Bursitis',\n",
       " 'Conjunctivitis',\n",
       " 'Dermatitis',\n",
       " 'Esophagitis',\n",
       " 'Essential tremor',\n",
       " 'Fatty liver',\n",
       " 'Fibromyalgia',\n",
       " 'Gastritis',\n",
       " 'Gastroesophageal reflux',\n",
       " 'Glaucoma',\n",
       " 'Hypertriglyceridemia',\n",
       " 'Inflammation of the tibial nerve',\n",
       " 'Keratoconus',\n",
       " 'Kidney stones',\n",
       " 'Ligament problems',\n",
       " 'Lumbar tumor',\n",
       " 'Lymphedema of the lower members',\n",
       " 'Migraine',\n",
       " 'Poliomyelitis',\n",
       " 'Progressive breast cancer',\n",
       " 'Prostate disease',\n",
       " 'Prostatitis',\n",
       " 'Rheumatism',\n",
       " 'Sickle cell anemia',\n",
       " 'Sinusitis',\n",
       " 'Skin cancer',\n",
       " 'Skin disease',\n",
       " 'Spine problem',\n",
       " 'Stroke',\n",
       " 'Varicose veins of the legs',\n",
       " 'Vascular leakage of the eyes',\n",
       " 'Allergy',\n",
       " 'Anemia',\n",
       " 'Arrhythmia',\n",
       " 'Ascending colon cancer',\n",
       " 'Deep vein thrombosis',\n",
       " 'Depression',\n",
       " 'Endometriosis',\n",
       " 'Hashimoto disease',\n",
       " 'Heel spurs',\n",
       " 'Hepatitis B',\n",
       " 'Intestine disorder',\n",
       " 'Melanoma',\n",
       " \"Parkinson's disease\",\n",
       " 'Scoliosis',\n",
       " \"Sjogren's syndrome\",\n",
       " 'Urinary tract infection',\n",
       " 'Vasovagal syncope',\n",
       " 'Vitiligo',\n",
       " 'Heart disease_total',\n",
       " 'Osteopenia_total',\n",
       " 'Tendinitis_total',\n",
       " 'Arthrosis_total',\n",
       " 'Herniated lumbar disc_total',\n",
       " 'Hypercholesterolemia_total',\n",
       " 'Anxiety_total',\n",
       " 'Asthma_total',\n",
       " 'Chodromalacia of the knees_total',\n",
       " 'Diabetes mellitus_total',\n",
       " 'Hypertension_total',\n",
       " 'Hyperthyroidism_total',\n",
       " 'Hypoglycemia_total',\n",
       " 'Hypothyroidism_total',\n",
       " 'Labyrinthitis_total',\n",
       " 'Osteoporosis_total',\n",
       " 'Rhinitis_total',\n",
       " 'Intellectual',\n",
       " 'Physical_total',\n",
       " 'Visual_total',\n",
       " 'Hearing_total',\n",
       " 'Orthopedic Shoes',\n",
       " 'Shoes with silicone insole',\n",
       " 'Boots_total',\n",
       " 'Normal Shoes_total',\n",
       " 'Sandal_FlipFlop_total',\n",
       " 'Internal fixation in the toe_foot',\n",
       " 'Internal fixation in the leg',\n",
       " 'By pass',\n",
       " 'Corrective lens',\n",
       " 'Orthosis in the knee',\n",
       " 'PaceMaker',\n",
       " 'Internal fixation in the medulla',\n",
       " 'Corrective lens',\n",
       " 'Prosthesis aortic valve',\n",
       " 'Dental_total',\n",
       " 'Support_total',\n",
       " 'Hearing_total',\n",
       " 1]"
      ]
     },
     "execution_count": 36,
     "metadata": {},
     "output_type": "execute_result"
    }
   ],
   "source": [
    "list(closed_foam.columns)"
   ]
  },
  {
   "cell_type": "code",
   "execution_count": null,
   "metadata": {},
   "outputs": [],
   "source": []
  },
  {
   "cell_type": "code",
   "execution_count": null,
   "metadata": {},
   "outputs": [],
   "source": []
  },
  {
   "cell_type": "code",
   "execution_count": null,
   "metadata": {},
   "outputs": [],
   "source": []
  }
 ],
 "metadata": {
  "kernelspec": {
   "display_name": "Python 3",
   "language": "python",
   "name": "python3"
  },
  "language_info": {
   "codemirror_mode": {
    "name": "ipython",
    "version": 3
   },
   "file_extension": ".py",
   "mimetype": "text/x-python",
   "name": "python",
   "nbconvert_exporter": "python",
   "pygments_lexer": "ipython3",
   "version": "3.6.12"
  },
  "nbTranslate": {
   "displayLangs": [
    "*"
   ],
   "hotkey": "alt-t",
   "langInMainMenu": true,
   "sourceLang": "en",
   "targetLang": "fr",
   "useGoogleTranslate": true
  },
  "toc": {
   "base_numbering": 1,
   "nav_menu": {},
   "number_sections": true,
   "sideBar": true,
   "skip_h1_title": false,
   "title_cell": "Table of Contents",
   "title_sidebar": "Contents",
   "toc_cell": false,
   "toc_position": {},
   "toc_section_display": true,
   "toc_window_display": false
  },
  "varInspector": {
   "cols": {
    "lenName": 16,
    "lenType": 16,
    "lenVar": 40
   },
   "kernels_config": {
    "python": {
     "delete_cmd_postfix": "",
     "delete_cmd_prefix": "del ",
     "library": "var_list.py",
     "varRefreshCmd": "print(var_dic_list())"
    },
    "r": {
     "delete_cmd_postfix": ") ",
     "delete_cmd_prefix": "rm(",
     "library": "var_list.r",
     "varRefreshCmd": "cat(var_dic_list()) "
    }
   },
   "types_to_exclude": [
    "module",
    "function",
    "builtin_function_or_method",
    "instance",
    "_Feature"
   ],
   "window_display": false
  }
 },
 "nbformat": 4,
 "nbformat_minor": 2
}
