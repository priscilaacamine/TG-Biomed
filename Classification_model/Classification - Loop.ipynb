{
 "cells": [
  {
   "cell_type": "code",
   "execution_count": 1,
   "metadata": {
    "ExecuteTime": {
     "end_time": "2020-12-08T22:37:17.153558Z",
     "start_time": "2020-12-08T22:37:15.233343Z"
    }
   },
   "outputs": [],
   "source": [
    "# Importando as bibliotecas necessarias\n",
    "import numpy as np\n",
    "import matplotlib.pyplot as plt\n",
    "import pandas as pd\n",
    "import torch\n",
    "import torch.nn as nn\n",
    "import torch.nn.functional as F\n",
    "from sklearn.model_selection import train_test_split\n",
    "from sklearn.preprocessing import MinMaxScaler, RobustScaler\n",
    "from sklearn.metrics import confusion_matrix\n",
    "from scipy.stats import mode\n",
    "from pickle import dump, load\n",
    "import os\n",
    "# from imblearn.over_sampling import SMOTE\n",
    "pd.set_option(\"display.max_rows\", 300)"
   ]
  },
  {
   "cell_type": "code",
   "execution_count": 2,
   "metadata": {
    "ExecuteTime": {
     "end_time": "2020-12-08T22:37:17.163225Z",
     "start_time": "2020-12-08T22:37:17.155656Z"
    }
   },
   "outputs": [],
   "source": [
    "class Net(nn.Module):\n",
    "    def __init__(self, input_size, num_layers, layers_size, output_size):\n",
    "        super(Net, self).__init__()\n",
    "        self.num_layers = num_layers\n",
    "\n",
    "        self.linears = nn.ModuleList([nn.Linear(input_size, layers_size[0])])\n",
    "        for i in range(0, self.num_layers-2):\n",
    "            self.linears.extend([nn.Linear(layers_size[i], layers_size[i+1])])              \n",
    "        self.linears.append(nn.Linear(layers_size[-1], output_size))\n",
    "\n",
    "# Última camada sem função de ativação --> crossentropy já aplica softmax\n",
    "# ReLU em intermediárias\n",
    "    def forward(self, x):\n",
    "        for layer in self.linears[0:-1]:                   \n",
    "            x = F.relu(layer(x))\n",
    "        x = (self.linears[-1](x))\n",
    "        return(x)\n",
    "\n",
    "# # Aplicando função de ativação na última camada tbm\n",
    "# ### Tentar mudar pra sigmoide se deixar a normalização de 0,1\n",
    "#     def forward(self, x):\n",
    "#         for layer in self.linears:                   \n",
    "#             x = torch.sigmoid(layer(x))\n",
    "# #             x = F.relu(layer(x))\n",
    "#         return(x)"
   ]
  },
  {
   "cell_type": "code",
   "execution_count": 3,
   "metadata": {
    "ExecuteTime": {
     "end_time": "2020-12-08T22:37:17.175041Z",
     "start_time": "2020-12-08T22:37:17.164720Z"
    }
   },
   "outputs": [],
   "source": [
    "def nonRepeatedRandomInt(low, upper, N):\n",
    "        import numpy as np\n",
    "        import random\n",
    "        \n",
    "        numbers = np.arange(low, upper, 1)\n",
    "        random.shuffle(numbers)\n",
    "        shuffleNumbers = np.array(numbers)[0:int(N)]\n",
    "                \n",
    "        return shuffleNumbers\n",
    "\n",
    "def createSurrogate(X):\n",
    "    Xsur  = np.zeros_like(X)\n",
    "    for i in range(X.shape[1]):\n",
    "        Xsur[:,i] = X[nonRepeatedRandomInt(0, X.shape[0], X.shape[0]),i]\n",
    "    return Xsur\n",
    "\n",
    "def save_checkpoint(state, is_best, filename):\n",
    "    if is_best:\n",
    "        torch.save(state, filename)\n",
    "#         print('*****Saved epoch: %d *****' % (state['epoch']))"
   ]
  },
  {
   "cell_type": "code",
   "execution_count": 96,
   "metadata": {
    "ExecuteTime": {
     "end_time": "2020-12-08T23:34:14.195189Z",
     "start_time": "2020-12-08T23:34:14.142022Z"
    }
   },
   "outputs": [],
   "source": [
    "def ls(p, y):\n",
    "    py = (p.T).dot(y)\n",
    "    covP = np.linalg.inv((p.T).dot(p))\n",
    "    beta = covP.dot(py)\n",
    "    return beta\n",
    "\n",
    "def executeMFrols(p, y, pho, D, L=1, supress=False, mfrolsEngine='python'):\n",
    "    import sys\n",
    "    sys.path.insert(1, '/home/rnwatanabe/Dropbox/Nonlinear-System-Identification-and-Frequency-Analysis/')\n",
    "    import frolsfunctions\n",
    "    import gc\n",
    "    \n",
    "    p, y = reshapepymatrices(p, y, L)    \n",
    "    s = 0\n",
    "    ESR = 1.0\n",
    "    l = -1*np.ones((p.shape[1]), dtype=np.int32, order='F')\n",
    "    err = np.zeros((p.shape[1]), dtype=np.float64, order='F')\n",
    "    A = np.zeros((p.shape[1], p.shape[1], p.shape[2]), dtype=np.float64, order='F')\n",
    "    q = np.zeros_like(p)\n",
    "    g = np.zeros((p.shape[2], p.shape[1]), dtype=np.float64, order='F')\n",
    "    \n",
    "    gc.collect()\n",
    "    \n",
    "    if mfrolsEngine == 'python':\n",
    "        beta, l, M0 = mfrols(p, y, pho, s, ESR, l, err, A, q, g, verbose= not supress)\n",
    "    if mfrolsEngine == 'fortran':\n",
    "        if np.ndim(p) == 2:\n",
    "            pTemp = np.zeros((np.shape(p)[0], np.shape(p)[1], 1), dtype=np.float64, order='F')\n",
    "            pTemp[:, :, 0] = p\n",
    "            p = pTemp\n",
    "            M = p.shape[1]\n",
    "            l = -1*np.ones((M), dtype=np.int32, order='F')\n",
    "            err = np.zeros((M), dtype=np.float64, order='F')\n",
    "            A = np.zeros((M, M, 1), dtype=np.float64, order='F')\n",
    "            \n",
    "            g = np.zeros((1, M), dtype=np.float64, order='F')\n",
    "    \n",
    "        if np.ndim(y) == 1:\n",
    "            yTemp = np.zeros((np.shape(y)[0], 1))\n",
    "            yTemp[:, 0] = y\n",
    "            y = yTemp\n",
    "        s = 1\n",
    "        M = p.shape[1]\n",
    "        K = p.shape[2]\n",
    "        beta = np.zeros((M, K), np.float64, order='F')\n",
    "        M0 = 0\n",
    "        qs = np.copy(p)\n",
    "        \n",
    "        beta, M0 = frolsfunctions.frolsfunctions.mfrols(p, y, pho, s, ESR, l, err, \n",
    "                                                        A, qs, g, not supress, \n",
    "                                                        p.shape[0], M, K)\n",
    "        l = l - 1\n",
    "        beta = beta[0:M0,:]\n",
    "\n",
    "    betatemp = np.zeros((p.shape[1],1))\n",
    "    \n",
    "    for i in range(M0):\n",
    "        if (not supress): print(D[int(l[i])], np.mean(beta[i,:]))\n",
    "        betatemp[int(l[i])] = np.mean(beta[i,:])\n",
    "\n",
    "    beta = betatemp\n",
    "    return beta\n",
    "\n",
    "def mfrols(p, y, pho, s, ESR, l, err, A, q, g, verbose=False):\n",
    "    '''\n",
    "    Implements the MFROLS algorithm (see page 97 from Billings, SA (2013)).\n",
    "        written by: Renato Naville Watanabe\n",
    "        beta = mfrols(p, y, pho, s)\n",
    "        Inputs:\n",
    "          p: matrix of np.float64s, is the matrix of candidate terms.\n",
    "          y: vector of np.float64s, output signal.\n",
    "          pho: np.float64, stop criteria.\n",
    "          s: integer, iteration step of the mfrols algorithm.\n",
    "          l: vector of integers, indices of the chosen terms.M = np.shape(p)[1]; l = -1*np.ones((M))\n",
    "          err: vector of np.float64s, the error reduction ratio of each chosen term. err = np.zeros((M))\n",
    "          ESR: np.float64, the sum of the individual error reduction ratios. Initial value eual 1.\n",
    "          A: matrix of np.float64s, auxiliary matrix in the orthogonalization process.\n",
    "                  A = np.zeros((M,M,1))\n",
    "          q: matrix of np.float64s, matrix with each column being the terms orthogonalized\n",
    "                  by the Gram-Schmidt process. q = np.zeros_like(p)\n",
    "          g: vector of np.float64s, auxiliary vector in the orthogonalization process.\n",
    "                  g = np.zeros((1,M))\n",
    "        Output:\n",
    "          beta: vector of np.float64s, coefficients of the chosen terms.\n",
    "          l: vector of integers, indices of the chosen terms\n",
    "          M0: number of chosen terms\n",
    "    '''\n",
    "    \n",
    "\n",
    "    if np.ndim(p) == 2:\n",
    "        pTemp = np.zeros((np.shape(p)[0], np.shape(p)[1], 1))\n",
    "        pTemp[:, :, 0] = p\n",
    "        p = pTemp\n",
    "        M = p.shape[1]\n",
    "        l = -1*np.ones((M))\n",
    "        err = np.zeros((M))\n",
    "        A = np.zeros((M, M, 1))\n",
    "        q = np.zeros_like(p)\n",
    "        g = np.zeros((1, M))\n",
    "\n",
    "    if np.ndim(y) == 1:\n",
    "        yTemp = np.zeros((np.shape(y)[0], 1))\n",
    "        yTemp[:, 0] = y\n",
    "        y = yTemp\n",
    "\n",
    "    M = p.shape[1]\n",
    "    L = p.shape[2]\n",
    "    gs = np.zeros((L, M))\n",
    "    ERR = np.zeros((L, M))\n",
    "    qs = np.copy(p)\n",
    "    \n",
    "    sigma = np.sum(y**2, axis=0)\n",
    "    \n",
    "    for m in range(M):\n",
    "        if np.all(m!=l):\n",
    "            ## The Gram-Schmidt method was implemented in a modified way,\n",
    "            ## as shown in Rice, JR(1966)                \n",
    "            for r in range(s):\n",
    "                qs[:, [m], :] = qs[:, [m], :] - (np.sum(q[:, [r], :]*qs[:, [m], :], axis=0, keepdims=True)\n",
    "                                                 /(np.sum(q[:, [r], :]*q[:, [r], :], axis=0, keepdims=True) + 1e-6)*q[:, [r], :])\n",
    "            \n",
    "            gs[:, [m]] = (np.sum(y*qs[:, m, :], axis=0, keepdims=True)/(np.sum(qs[:, m, :]*qs[:, m, :], axis=0, keepdims=True) + 1e-6)).T\n",
    "            \n",
    "            ERR[:, m] = (gs[:, m]**2*np.sum(qs[:, [m], :]*qs[:, [m], :], axis=0)/sigma)\n",
    "            \n",
    "\n",
    "\n",
    "    ERR_m = np.mean(ERR, axis=0)\n",
    "        \n",
    "    l[s] = np.where(ERR_m==np.nanmax(ERR_m))[0][0]\n",
    "    err[s] = ERR_m[int(l[s])]\n",
    "    \n",
    "    r = np.arange(s)\n",
    "    A[r, s, :] = np.sum(q[:, r, :]*p[:, [int(l[s])], :], axis=0)/(np.sum(q[:, r, :]*q[:, r, :], axis=0)+1e-6)\n",
    "    A[s, s, :] = 1.0\n",
    "    q[:, s, :] = qs[:, int(l[s]), :]\n",
    "    g[:, s] = gs[:, int(l[s])]\n",
    "\n",
    "    ESR = ESR - err[s]   \n",
    "\n",
    "    ## recursive call\n",
    "\n",
    "    if (err[s]>=pho and s<M-1):\n",
    "        if verbose:\n",
    "            print('term number', s)\n",
    "            print('ERR', err[s])\n",
    "            print(l[:s+1])\n",
    "        s += 1\n",
    "        del qs\n",
    "        del gs\n",
    "        beta, l, M0 = mfrols(p, y, pho, s, ESR, l, err, A, q, g, verbose=verbose)\n",
    "    else:\n",
    "        if verbose:\n",
    "            print('term number', s)\n",
    "            print('ERR', err[s])\n",
    "            print(l[:s+1])\n",
    "        s += 1  \n",
    "        M0 = s              \n",
    "        beta = np.empty((M0, L))\n",
    "        for j in range(L):\n",
    "            if s > 1:\n",
    "                beta[:, j] = np.linalg.inv(np.squeeze(A[0:M0, 0:M0, j]))@np.transpose(g[j, 0:M0])\n",
    "            else:\n",
    "                beta[:, j] = (np.squeeze(A[0:M0, 0:M0,j])**-1)*g[j, 0:M0]\n",
    "    return beta, l, M0\n",
    "\n",
    "def reshapepymatrices(p, y, L):\n",
    "    \n",
    "    if len(p.shape) == 2:\n",
    "        p = p.reshape(p.shape[0], p.shape[1], 1)\n",
    "    m = int(np.floor(p.shape[0]/L))\n",
    "    ptemp = np.zeros((m,p.shape[1],L*p.shape[2]), dtype=np.float64, order='F')\n",
    "    ytemp = np.zeros((m,L*p.shape[2]), dtype=np.float64, order='F')\n",
    "    for j in range(p.shape[2]):\n",
    "        for i in range(L):\n",
    "            ptemp[:,:,j*L+i] = p[m*i:m*(i+1),:, j]\n",
    "            ytemp[:, j*L+i] = y[m*i:m*(i+1), j]\n",
    "    pt = ptemp\n",
    "    yt = ytemp\n",
    "    return pt, yt"
   ]
  },
  {
   "cell_type": "code",
   "execution_count": 5,
   "metadata": {
    "ExecuteTime": {
     "end_time": "2020-12-08T22:37:17.296154Z",
     "start_time": "2020-12-08T22:37:17.256940Z"
    }
   },
   "outputs": [],
   "source": [
    "X_train_vali = np.load('X_train_valiBDS.npy')\n",
    "y_train_vali_class = np.load('y_train_vali_classBDS.npy')\n",
    "y_train_vali = np.load('y_train_valiBDS.npy')\n",
    "X_test = np.load('X_testBDS.npy')\n",
    "y_test_class = np.load('y_test_classBDS.npy')\n",
    "y_test = np.load('y_testBDS.npy')\n",
    "features_names = np.load('features_names.npy', allow_pickle=True)\n",
    "\n",
    "\n",
    "# Divide em classes de acordo com a os quartis do dado de treino/vali\n",
    "# quart = np.quantile(y_train_vali,[0.25, 0.5, 0.75])\n",
    "# print(quart)\n",
    "# y_train_vali_class = np.digitize(y_train_vali, quart)\n",
    "# y_test_class = np.digitize(y_test, quart)\n",
    "# print((y_train_vali_class).shape)\n",
    "# print((y_test_class).shape)\n"
   ]
  },
  {
   "cell_type": "code",
   "execution_count": 6,
   "metadata": {
    "ExecuteTime": {
     "end_time": "2020-12-08T22:37:17.529284Z",
     "start_time": "2020-12-08T22:37:17.300353Z"
    }
   },
   "outputs": [
    {
     "name": "stdout",
     "output_type": "stream",
     "text": [
      "Empty DataFrame\n",
      "Columns: [Net, random_state, num_layers, layers_size, net_param, criterion, learning_rate, optimizer, epochs, vali_best_epoch, vali_best_acc, vali_best_loss, vali_best_R, vali_sur_acc, vali_sur_loss, vali_sur_R, vali_c_matrix, vali_c_matrix_perc, test_acc, test_loss, test_R, test_predicted, test_c_matrix, test_c_matrix_perc]\n",
      "Index: []\n",
      "\n",
      "[0 rows x 24 columns]\n"
     ]
    }
   ],
   "source": [
    "# Create empty xlsx with header\n",
    "tags = [\"Net\",\"random_state\",\"num_layers\",\"layers_size\",\"net_param\",\n",
    "        \"criterion\",\"learning_rate\",\"optimizer\",\"epochs\",\n",
    "        \"vali_best_epoch\",\"vali_best_acc\",\"vali_best_loss\",\"vali_best_R\",\n",
    "        \"vali_sur_acc\",\"vali_sur_loss\",\"vali_sur_R\",\"vali_c_matrix\", \n",
    "        \"vali_c_matrix_perc\", \"test_acc\",\"test_loss\",\"test_R\",\n",
    "        \"test_predicted\",\"test_c_matrix\",\"test_c_matrix_perc\"]\n",
    "df_nets = pd.DataFrame(columns = tags)\n",
    "print(df_nets)\n",
    "df_nets.to_excel ('classification_nets_emptyBDS.xlsx', index = False, header=True)"
   ]
  },
  {
   "cell_type": "code",
   "execution_count": 7,
   "metadata": {
    "ExecuteTime": {
     "end_time": "2020-12-08T22:37:38.671592Z",
     "start_time": "2020-12-08T22:37:17.531510Z"
    }
   },
   "outputs": [
    {
     "ename": "KeyboardInterrupt",
     "evalue": "",
     "output_type": "error",
     "traceback": [
      "\u001b[0;31m---------------------------------------------------------------------------\u001b[0m",
      "\u001b[0;31mKeyboardInterrupt\u001b[0m                         Traceback (most recent call last)",
      "\u001b[0;32m<ipython-input-7-463d6afbfa5c>\u001b[0m in \u001b[0;36m<module>\u001b[0;34m\u001b[0m\n\u001b[1;32m     61\u001b[0m         \u001b[0mtargets\u001b[0m \u001b[0;34m=\u001b[0m \u001b[0mtorch\u001b[0m\u001b[0;34m.\u001b[0m\u001b[0mautograd\u001b[0m\u001b[0;34m.\u001b[0m\u001b[0mVariable\u001b[0m\u001b[0;34m(\u001b[0m\u001b[0mtorch\u001b[0m\u001b[0;34m.\u001b[0m\u001b[0mTensor\u001b[0m\u001b[0;34m(\u001b[0m\u001b[0my_train_class\u001b[0m\u001b[0;34m)\u001b[0m\u001b[0;34m.\u001b[0m\u001b[0mlong\u001b[0m\u001b[0;34m(\u001b[0m\u001b[0;34m)\u001b[0m\u001b[0;34m)\u001b[0m\u001b[0;34m\u001b[0m\u001b[0;34m\u001b[0m\u001b[0m\n\u001b[1;32m     62\u001b[0m \u001b[0;34m\u001b[0m\u001b[0m\n\u001b[0;32m---> 63\u001b[0;31m         \u001b[0moptimizer\u001b[0m\u001b[0;34m.\u001b[0m\u001b[0mzero_grad\u001b[0m\u001b[0;34m(\u001b[0m\u001b[0;34m)\u001b[0m\u001b[0;34m\u001b[0m\u001b[0;34m\u001b[0m\u001b[0m\n\u001b[0m\u001b[1;32m     64\u001b[0m         \u001b[0mout\u001b[0m \u001b[0;34m=\u001b[0m \u001b[0mnet\u001b[0m\u001b[0;34m(\u001b[0m\u001b[0minputs\u001b[0m\u001b[0;34m)\u001b[0m\u001b[0;34m\u001b[0m\u001b[0;34m\u001b[0m\u001b[0m\n\u001b[1;32m     65\u001b[0m         \u001b[0mloss\u001b[0m \u001b[0;34m=\u001b[0m \u001b[0mcriterion\u001b[0m\u001b[0;34m(\u001b[0m\u001b[0mout\u001b[0m\u001b[0;34m,\u001b[0m \u001b[0mtargets\u001b[0m\u001b[0;34m.\u001b[0m\u001b[0msqueeze\u001b[0m\u001b[0;34m(\u001b[0m\u001b[0;34m)\u001b[0m\u001b[0;34m)\u001b[0m\u001b[0;34m\u001b[0m\u001b[0;34m\u001b[0m\u001b[0m\n",
      "\u001b[0;32m~/miniconda3/lib/python3.6/site-packages/torch/optim/optimizer.py\u001b[0m in \u001b[0;36mzero_grad\u001b[0;34m(self, set_to_none)\u001b[0m\n\u001b[1;32m    189\u001b[0m                             \u001b[0mp\u001b[0m\u001b[0;34m.\u001b[0m\u001b[0mgrad\u001b[0m\u001b[0;34m.\u001b[0m\u001b[0mdetach_\u001b[0m\u001b[0;34m(\u001b[0m\u001b[0;34m)\u001b[0m\u001b[0;34m\u001b[0m\u001b[0;34m\u001b[0m\u001b[0m\n\u001b[1;32m    190\u001b[0m                         \u001b[0;32melse\u001b[0m\u001b[0;34m:\u001b[0m\u001b[0;34m\u001b[0m\u001b[0;34m\u001b[0m\u001b[0m\n\u001b[0;32m--> 191\u001b[0;31m                             \u001b[0mp\u001b[0m\u001b[0;34m.\u001b[0m\u001b[0mgrad\u001b[0m\u001b[0;34m.\u001b[0m\u001b[0mrequires_grad_\u001b[0m\u001b[0;34m(\u001b[0m\u001b[0;32mFalse\u001b[0m\u001b[0;34m)\u001b[0m\u001b[0;34m\u001b[0m\u001b[0;34m\u001b[0m\u001b[0m\n\u001b[0m\u001b[1;32m    192\u001b[0m                         \u001b[0mp\u001b[0m\u001b[0;34m.\u001b[0m\u001b[0mgrad\u001b[0m\u001b[0;34m.\u001b[0m\u001b[0mzero_\u001b[0m\u001b[0;34m(\u001b[0m\u001b[0;34m)\u001b[0m\u001b[0;34m\u001b[0m\u001b[0;34m\u001b[0m\u001b[0m\n\u001b[1;32m    193\u001b[0m \u001b[0;34m\u001b[0m\u001b[0m\n",
      "\u001b[0;32m~/miniconda3/lib/python3.6/site-packages/torch/tensor.py\u001b[0m in \u001b[0;36mgrad\u001b[0;34m(self)\u001b[0m\n\u001b[1;32m    940\u001b[0m         \"\"\"\n\u001b[1;32m    941\u001b[0m         \u001b[0mrelevant_args\u001b[0m \u001b[0;34m=\u001b[0m \u001b[0;34m(\u001b[0m\u001b[0mself\u001b[0m\u001b[0;34m,\u001b[0m\u001b[0;34m)\u001b[0m\u001b[0;34m\u001b[0m\u001b[0;34m\u001b[0m\u001b[0m\n\u001b[0;32m--> 942\u001b[0;31m         \u001b[0;32mfrom\u001b[0m \u001b[0mtorch\u001b[0m\u001b[0;34m.\u001b[0m\u001b[0moverrides\u001b[0m \u001b[0;32mimport\u001b[0m \u001b[0mhas_torch_function\u001b[0m\u001b[0;34m,\u001b[0m \u001b[0mhandle_torch_function\u001b[0m\u001b[0;34m\u001b[0m\u001b[0;34m\u001b[0m\u001b[0m\n\u001b[0m\u001b[1;32m    943\u001b[0m         \u001b[0;32mif\u001b[0m \u001b[0mtype\u001b[0m\u001b[0;34m(\u001b[0m\u001b[0mself\u001b[0m\u001b[0;34m)\u001b[0m \u001b[0;32mis\u001b[0m \u001b[0;32mnot\u001b[0m \u001b[0mTensor\u001b[0m \u001b[0;32mand\u001b[0m \u001b[0mhas_torch_function\u001b[0m\u001b[0;34m(\u001b[0m\u001b[0mrelevant_args\u001b[0m\u001b[0;34m)\u001b[0m\u001b[0;34m:\u001b[0m\u001b[0;34m\u001b[0m\u001b[0;34m\u001b[0m\u001b[0m\n\u001b[1;32m    944\u001b[0m             \u001b[0;31m# TODO mypy doesn't support @property, see: https://github.com/python/mypy/issues/6185\u001b[0m\u001b[0;34m\u001b[0m\u001b[0;34m\u001b[0m\u001b[0;34m\u001b[0m\u001b[0m\n",
      "\u001b[0;32m~/miniconda3/lib/python3.6/importlib/_bootstrap.py\u001b[0m in \u001b[0;36m_handle_fromlist\u001b[0;34m(module, fromlist, import_, recursive)\u001b[0m\n",
      "\u001b[0;31mKeyboardInterrupt\u001b[0m: "
     ]
    }
   ],
   "source": [
    "# loop de redes\n",
    "Nnets = 5\n",
    "# Load initial xlsx\n",
    "df_nets = pd.read_excel('classification_nets_emptyBDS.xlsx', index_col=None, header=0)\n",
    "\n",
    "# Load data\n",
    "\n",
    "if os.path.exists('Nets') == False: \n",
    "    os.makedirs('Nets')\n",
    "\n",
    "for i in range(Nnets):\n",
    "    number_str = str(i)\n",
    "    zero_filled_number = number_str.zfill(5)\n",
    "    \n",
    "    # Separando o treino da vali (treino 80%, validação 20%)\n",
    "    # Deixar o high variável?\n",
    "    random_state = np.random.randint(0, Nnets*10, 1)[0]\n",
    "#     print('Random State: %d' % (random_state))\n",
    "    X_train, X_vali, y_train_class, y_vali_class = train_test_split(X_train_vali, y_train_vali_class, test_size=0.2, random_state=random_state)\n",
    "\n",
    "    # Escalamento e Transformação dos dados\n",
    "    scaler_x = RobustScaler(with_centering=True)\n",
    "    X_train_scaled = scaler_x.fit_transform(X_train)\n",
    "    X_vali_scaled = scaler_x.transform(X_vali)\n",
    "    X_test_scaled = scaler_x.transform(X_test)\n",
    "    X_train_scaled[:,-1] = 1\n",
    "    X_test_scaled[:,-1] = 1\n",
    "    X_vali_scaled[:,-1] = 1\n",
    "    # save the scaler\n",
    "    dump(scaler_x, open('./Nets/'+zero_filled_number+'_scaler_x.pkl', 'wb'))\n",
    "    \n",
    "    # Create Surrogate ## Para validação ou para teste?\n",
    "    X_vali_scaled_sur = createSurrogate(X_vali_scaled)\n",
    "    \n",
    "    # Parâmetros da rede\n",
    "    torch.manual_seed(1234)\n",
    "    num_layers = 4\n",
    "#     print('Number of layers: %d' % (num_layers))\n",
    "    layer_init_size = np.random.randint(low=1, high=24)\n",
    "#     print('Inicial size layer: %d' % (layer_init_size))\n",
    "    layer_2_size = np.random.randint(low=1, high=24)\n",
    "    layers_size = [layer_init_size, layer_2_size, 4]\n",
    "#     print('Layers sizes:', list(layers_size))\n",
    "    net = Net(input_size=X_train.shape[1], num_layers=num_layers, layers_size=layers_size , output_size=4)\n",
    "    \n",
    "    # Choose optmizer and loss function\n",
    "    criterion = nn.CrossEntropyLoss()\n",
    "    learning_rate = np.random.randint(low=1, high=100)/1000\n",
    "    optimizer = torch.optim.Adam(net.parameters(), lr = learning_rate)\n",
    "    \n",
    "    # Treinamento \n",
    "    epochs = 50000\n",
    "    loss_train = np.zeros(epochs)\n",
    "    loss_vali = np.zeros(epochs)\n",
    "    acc_vali = np.zeros(epochs)\n",
    "    best_acc = 0\n",
    "    \n",
    "    for epoch in range(epochs):\n",
    "\n",
    "        inputs = torch.autograd.Variable(torch.Tensor(X_train_scaled.astype(np.float32)).float())\n",
    "        targets = torch.autograd.Variable(torch.Tensor(y_train_class).long())\n",
    "\n",
    "        optimizer.zero_grad()\n",
    "        out = net(inputs)\n",
    "        loss = criterion(out, targets.squeeze())\n",
    "        loss.backward()\n",
    "        optimizer.step()\n",
    "\n",
    "        loss_train[epoch] = loss.item()\n",
    "\n",
    "        # Validação\n",
    "        if epoch == 0 or (epoch + 1) % 100 == 0:\n",
    "            inputs_vali = torch.autograd.Variable(torch.Tensor(X_vali_scaled.astype(np.float32)).float())\n",
    "            targets_vali = torch.autograd.Variable(torch.Tensor(y_vali_class).long())\n",
    "            out_vali = net(inputs_vali)\n",
    "            loss_v = criterion(out_vali, targets_vali.squeeze())\n",
    "            loss_vali[epoch] = loss_v.item()\n",
    "            _, predicted = torch.max(out_vali.data, 1)\n",
    "\n",
    "            # Calcula acurácia\n",
    "            error_count = y_vali_class.size - np.count_nonzero((targets_vali.squeeze() == predicted) .numpy())\n",
    "            acc_vali[epoch] = 100 * torch.sum(targets_vali.squeeze() == predicted) / y_vali_class.size\n",
    "            \n",
    "            r_vali = np.corrcoef(predicted.detach().numpy().squeeze(), targets_vali.detach().numpy().squeeze())[0,1]\n",
    "            \n",
    "            # remember best acc and save best model\n",
    "            is_best = acc_vali[epoch] >= best_acc\n",
    "            best_acc = max(acc_vali[epoch], best_acc)\n",
    "            save_checkpoint({'epoch': epoch + 1,\n",
    "                            #'arch': args.arch,\n",
    "                            'state_dict': net.state_dict(),\n",
    "                            'best_acc': best_acc,\n",
    "                            'loss': loss_v.item(),\n",
    "                            'R-corrcoef': r_vali,\n",
    "                            'optimizer' : optimizer.state_dict(),\n",
    "                            }, is_best, './Nets/'+zero_filled_number+'_model_best.pth.tar')\n",
    "\n",
    "            if is_best:                \n",
    "                inputs_vali_sur = torch.autograd.Variable(torch.Tensor(X_vali_scaled_sur.astype(np.float32)).float())\n",
    "                targets_vali_sur = torch.autograd.Variable(torch.Tensor(y_vali_class).long())\n",
    "                out_vali_sur = net(inputs_vali_sur)\n",
    "                loss_v_sur = criterion(out_vali_sur, targets_vali_sur.squeeze())\n",
    "                _, predicted_sur = torch.max(out_vali_sur.data, 1)\n",
    "                \n",
    "                # Calcula acurácia\n",
    "                error_count_sur = y_vali_class.size - np.count_nonzero((targets_vali_sur.squeeze() == predicted_sur) .numpy())\n",
    "                acc_vali_sur = 100 * torch.sum(targets_vali_sur.squeeze() == predicted_sur) / y_vali_class.size\n",
    "\n",
    "                r_vali_sur = np.corrcoef(predicted_sur.detach().numpy().squeeze(), targets_vali_sur.detach().numpy().squeeze())[0,1]\n",
    "                \n",
    "                # Confusion matrix\n",
    "                C_vali = confusion_matrix(targets_vali,predicted, labels=[0, 1, 2, 3])\n",
    "                C_perc_vali = C_vali/np.sum(C_vali, axis=1, keepdims=True)*100\n",
    "                \n",
    "#             print('Epoch %d Loss: %.4f' % (epoch + 1, loss.item()))\n",
    "#             print('   Validation Loss: %.4f' % (loss_v.item()))\n",
    "#             print('   Errors: %d; Accuracy: %d%%' % (error_count, acc_vali[epoch]))\n",
    "#             print('   R-corrcoef: %s' % (str(r_vali)))\n",
    "\n",
    "    # Load best model\n",
    "    checkpoint = torch.load('./Nets/'+zero_filled_number+'_model_best.pth.tar')\n",
    "    net.load_state_dict(checkpoint['state_dict'])\n",
    "    optimizer.load_state_dict(checkpoint['optimizer'])\n",
    "    \n",
    "    # Teste\n",
    "    # Avaliando a acurácia do modelo utilizando os dados de teste transformados\n",
    "    inputs = torch.autograd.Variable(torch.Tensor(X_test_scaled.astype(np.float32)).float())\n",
    "    targets = torch.autograd.Variable(torch.Tensor(y_test_class).long())\n",
    "\n",
    "    optimizer.zero_grad()\n",
    "    out = net(inputs)\n",
    "    loss = criterion(out, targets.squeeze())\n",
    "    loss.backward()\n",
    "    optimizer.step()\n",
    "\n",
    "    _, predicted = torch.max(out.data, 1)       \n",
    "\n",
    "    error_count = y_test_class.size - np.count_nonzero((targets.squeeze() == predicted) .numpy())\n",
    "    acc = 100 * torch.sum(targets.squeeze() == predicted) /  y_test_class.size\n",
    "    r = np.corrcoef(predicted.detach().numpy().squeeze(), targets.detach().numpy().squeeze())[0,1]\n",
    "\n",
    "#     print('Errors: %d; Accuracy: %d%%' % (error_count, acc))\n",
    "#     print('Teste Loss: %.4f' % (loss.item()))\n",
    "#     print('R-corrcoef: %s' % (str(r)))\n",
    "\n",
    "    # Confusion matrix\n",
    "    C = confusion_matrix(targets,predicted, labels=[0, 1, 2, 3])\n",
    "    C_perc = C/np.sum(C, axis=1, keepdims=True)*100\n",
    "\n",
    "    net_info = {\n",
    "            \"Net\": [zero_filled_number],\n",
    "            \"random_state\": [random_state],\n",
    "            \"num_layers\": [num_layers],\n",
    "            \"layers_size\": [layers_size],\n",
    "            \"net_param\": [net.parameters],\n",
    "            \"criterion\": ['CrossEntropyLoss'],\n",
    "            \"learning_rate\": [learning_rate],\n",
    "            \"optimizer\": ['Adam'],\n",
    "            \"epochs\": [epochs],\n",
    "            \"vali_best_epoch\": [checkpoint['epoch']],\n",
    "            \"vali_best_acc\": [checkpoint['best_acc']],\n",
    "            \"vali_best_loss\": [checkpoint['loss']],\n",
    "            \"vali_best_R\": [checkpoint['R-corrcoef']],\n",
    "            \"vali_sur_acc\": [acc_vali_sur.item()],\n",
    "            \"vali_sur_loss\": [loss_v_sur.item()],\n",
    "            \"vali_sur_R\": [r_vali_sur],\n",
    "            \"vali_c_matrix\": [C_vali],\n",
    "            \"vali_c_matrix_perc\": [C_perc_vali],\n",
    "            \"test_acc\": [acc.item()],\n",
    "            \"test_loss\": [loss.item()],\n",
    "            \"test_R\": [r],\n",
    "            \"test_predicted\": [predicted.numpy()],\n",
    "            \"test_c_matrix\": [C],\n",
    "            \"test_c_matrix_perc\": [C_perc]\n",
    "            }\n",
    "\n",
    "    tags = [\"Net\",\"random_state\",\"num_layers\",\"layers_size\",\"net_param\",\n",
    "            \"criterion\",\"learning_rate\",\"optimizer\",\"epochs\",\n",
    "            \"vali_best_epoch\",\"vali_best_acc\",\"vali_best_loss\",\"vali_best_R\",\n",
    "            \"vali_sur_acc\",\"vali_sur_loss\",\"vali_sur_R\",\"vali_c_matrix\", \n",
    "            \"vali_c_matrix_perc\", \"test_acc\",\"test_loss\",\"test_R\",\n",
    "            \"test_predicted\",\"test_c_matrix\",\"test_c_matrix_perc\"]\n",
    "    df_nets = df_nets.append(pd.DataFrame(net_info, columns = tags), ignore_index=True)\n",
    "\n",
    "    # Add suffix to identify saved info\n",
    "    df_nets.to_excel('classification_nets_v2.xlsx', index = False, header=True)\n"
   ]
  },
  {
   "cell_type": "markdown",
   "metadata": {},
   "source": [
    "## FROLS"
   ]
  },
  {
   "cell_type": "code",
   "execution_count": 111,
   "metadata": {
    "ExecuteTime": {
     "end_time": "2020-12-08T23:38:23.918080Z",
     "start_time": "2020-12-08T23:38:22.711752Z"
    }
   },
   "outputs": [
    {
     "name": "stdout",
     "output_type": "stream",
     "text": [
      "term number 0\n",
      "ERR 0.9081133900864078\n",
      "[4]\n",
      "term number 1\n",
      "ERR 0.008949488486831459\n",
      "[ 4 42]\n",
      "term number 2\n",
      "ERR 0.00482091653052154\n",
      "[ 4 42  0]\n",
      "term number 3\n",
      "ERR 0.007765403313745634\n",
      "[ 4 42  0 47]\n",
      "term number 4\n",
      "ERR 0.004357926443591625\n",
      "[ 4 42  0 47 52]\n",
      "term number 5\n",
      "ERR 0.0024008093915431827\n",
      "[ 4 42  0 47 52 27]\n",
      "term number 6\n",
      "ERR 0.0021556494926163097\n",
      "[ 4 42  0 47 52 27 36]\n",
      "term number 7\n",
      "ERR 0.0013517390226518346\n",
      "[ 4 42  0 47 52 27 36 53]\n",
      "term number 8\n",
      "ERR 0.001369658436133086\n",
      "[ 4 42  0 47 52 27 36 53 18]\n",
      "term number 9\n",
      "ERR 0.0019628622056309\n",
      "[ 4 42  0 47 52 27 36 53 18 13]\n",
      "term number 10\n",
      "ERR 0.0023647066708755043\n",
      "[ 4 42  0 47 52 27 36 53 18 13 19]\n",
      "term number 11\n",
      "ERR 0.0020505725957837818\n",
      "[ 4 42  0 47 52 27 36 53 18 13 19 17]\n",
      "term number 12\n",
      "ERR 0.0017684568795993977\n",
      "[ 4 42  0 47 52 27 36 53 18 13 19 17 10]\n",
      "term number 13\n",
      "ERR 0.0010626695594442785\n",
      "[ 4 42  0 47 52 27 36 53 18 13 19 17 10 35]\n",
      "term number 14\n",
      "ERR 0.0011940736352401271\n",
      "[ 4 42  0 47 52 27 36 53 18 13 19 17 10 35  1]\n",
      "term number 15\n",
      "ERR 0.0009510682290014097\n",
      "[ 4 42  0 47 52 27 36 53 18 13 19 17 10 35  1 43]\n",
      "term number 16\n",
      "ERR 0.0009700582549671776\n",
      "[ 4 42  0 47 52 27 36 53 18 13 19 17 10 35  1 43  2]\n",
      "term number 17\n",
      "ERR 0.001440262474488511\n",
      "[ 4 42  0 47 52 27 36 53 18 13 19 17 10 35  1 43  2  3]\n",
      "term number 18\n",
      "ERR 0.002082910976776508\n",
      "[ 4 42  0 47 52 27 36 53 18 13 19 17 10 35  1 43  2  3  5]\n",
      "term number 19\n",
      "ERR 0.0006340625436996287\n",
      "[ 4 42  0 47 52 27 36 53 18 13 19 17 10 35  1 43  2  3  5 40]\n",
      "term number 20\n",
      "ERR 0.0007529205474789888\n",
      "[ 4 42  0 47 52 27 36 53 18 13 19 17 10 35  1 43  2  3  5 40 39]\n",
      "term number 21\n",
      "ERR 0.0007088794048286189\n",
      "[ 4 42  0 47 52 27 36 53 18 13 19 17 10 35  1 43  2  3  5 40 39 20]\n",
      "term number 22\n",
      "ERR 0.0005007839964834032\n",
      "[ 4 42  0 47 52 27 36 53 18 13 19 17 10 35  1 43  2  3  5 40 39 20 22]\n",
      "term number 23\n",
      "ERR 0.0006523544372901511\n",
      "[ 4 42  0 47 52 27 36 53 18 13 19 17 10 35  1 43  2  3  5 40 39 20 22 49]\n",
      "term number 24\n",
      "ERR 0.0004059854633068432\n",
      "[ 4 42  0 47 52 27 36 53 18 13 19 17 10 35  1 43  2  3  5 40 39 20 22 49\n",
      " 46]\n",
      "BMI 0.009315844379094641\n",
      "Best_9 -0.01734711942326568\n",
      "Age 0.0017864147457394726\n",
      "Best_T 0.013183989003976021\n",
      "Normal Shoes_total -0.11541610772375392\n",
      "IPAQ_4a -1.8958311186454104e-05\n",
      "Best_3r -0.07164230271347624\n",
      "Sandal_FlipFlop_total -0.046961939067711136\n",
      "FES_7 0.001645540195126291\n",
      "FES_2 -0.0827780515414542\n",
      "FES_T 0.015492833587272836\n",
      "FES_6 -0.03672453679673867\n",
      "Disability -0.07195217172771082\n",
      "Best_3l 0.037223230431756855\n",
      "Gender 0.00014953603613431649\n",
      "Best_11 -0.051025374332382196\n",
      "Height 0.005852441223149396\n",
      "Weight -0.005626925870507661\n",
      "FootLen -0.024961188852715293\n",
      "Best_6r -0.03782534005516194\n",
      "Best_6l 0.023994025419527637\n",
      "FES_S 0.0322351023268243\n",
      "IPAQ_1b -0.0001744537242416269\n",
      "HMGCoAreductaseinhibitor -0.024755513145943153\n",
      "Best_14 -0.01351223849765286\n"
     ]
    }
   ],
   "source": [
    "beta = executeMFrols(X_train_vali, y_train_vali, L=1, pho=5e-4, D=features_names)"
   ]
  },
  {
   "cell_type": "code",
   "execution_count": 112,
   "metadata": {
    "ExecuteTime": {
     "end_time": "2020-12-08T23:38:24.351693Z",
     "start_time": "2020-12-08T23:38:24.173402Z"
    }
   },
   "outputs": [
    {
     "data": {
      "image/png": "[encoded data removed]",
      "text/plain": [
       "<Figure size 432x288 with 1 Axes>"
      ]
     },
     "metadata": {
      "needs_background": "light"
     },
     "output_type": "display_data"
    },
    {
     "name": "stdout",
     "output_type": "stream",
     "text": [
      "41.3 %\n"
     ]
    }
   ],
   "source": [
    "import matplotlib.pyplot as plt\n",
    "\n",
    "quart = np.quantile(y_train_vali,[0.25, 0.5, 0.75])\n",
    "\n",
    "y_test_class = np.digitize(y_test, quart)\n",
    "yestClass = np.digitize(X_test@beta, quart)\n",
    "\n",
    "\n",
    "plt.figure()\n",
    "plt.plot(yestClass, 'ob')\n",
    "plt.plot(y_test_class, 'xr')\n",
    "plt.show()\n",
    "\n",
    "print(np.round(np.sum(y_test_class==yestClass)/len(yestClass)*100,2), '%')"
   ]
  },
  {
   "cell_type": "markdown",
   "metadata": {},
   "source": [
    "## Mínimos quadrados"
   ]
  },
  {
   "cell_type": "code",
   "execution_count": 105,
   "metadata": {
    "ExecuteTime": {
     "end_time": "2020-12-08T23:35:30.285217Z",
     "start_time": "2020-12-08T23:35:30.273869Z"
    }
   },
   "outputs": [],
   "source": [
    "beta = ls(X_train_vali, y_train_vali)"
   ]
  },
  {
   "cell_type": "code",
   "execution_count": 106,
   "metadata": {
    "ExecuteTime": {
     "end_time": "2020-12-08T23:35:30.991784Z",
     "start_time": "2020-12-08T23:35:30.815488Z"
    }
   },
   "outputs": [
    {
     "data": {
      "image/png": "[encoded data removed]",
      "text/plain": [
       "<Figure size 432x288 with 1 Axes>"
      ]
     },
     "metadata": {
      "needs_background": "light"
     },
     "output_type": "display_data"
    },
    {
     "name": "stdout",
     "output_type": "stream",
     "text": [
      "30.43 %\n"
     ]
    }
   ],
   "source": [
    "y_test_class = np.digitize(y_test, quart)\n",
    "yestClass = np.digitize(X_test@beta, quart)\n",
    "\n",
    "\n",
    "plt.figure()\n",
    "plt.plot(yestClass, 'ob')\n",
    "plt.plot(y_test_class, 'xr')\n",
    "plt.show()\n",
    "\n",
    "print(np.round(np.sum(y_test_class==yestClass)/len(yestClass)*100,2), '%')"
   ]
  },
  {
   "cell_type": "markdown",
   "metadata": {
    "ExecuteTime": {
     "end_time": "2020-12-08T18:51:18.971834Z",
     "start_time": "2020-12-08T18:51:18.966910Z"
    }
   },
   "source": [
    "## Random Forest"
   ]
  },
  {
   "cell_type": "code",
   "execution_count": 107,
   "metadata": {
    "ExecuteTime": {
     "end_time": "2020-12-08T23:35:33.983859Z",
     "start_time": "2020-12-08T23:35:33.629591Z"
    }
   },
   "outputs": [
    {
     "data": {
      "image/png": "[encoded data removed]",
      "text/plain": [
       "<Figure size 432x288 with 1 Axes>"
      ]
     },
     "metadata": {
      "needs_background": "light"
     },
     "output_type": "display_data"
    },
    {
     "name": "stdout",
     "output_type": "stream",
     "text": [
      "30.43 %\n"
     ]
    }
   ],
   "source": [
    "from sklearn.ensemble import RandomForestRegressor\n",
    "\n",
    "regr = RandomForestRegressor(max_depth=20, random_state=0)\n",
    "regr.fit(X_train_vali, y_train_vali.squeeze())\n",
    "yest = regr.predict(X_test)\n",
    "\n",
    "y_test_class = np.digitize(y_test, quart)\n",
    "yestClass = np.digitize(yest, quart)\n",
    "\n",
    "\n",
    "plt.figure()\n",
    "plt.plot(yestClass, 'ob')\n",
    "plt.plot(y_test_class, 'xr')\n",
    "plt.show()\n",
    "\n",
    "print(np.round(np.sum(y_test_class.squeeze()==yestClass.squeeze())/len(yestClass)*100,2), '%')\n"
   ]
  },
  {
   "cell_type": "code",
   "execution_count": null,
   "metadata": {},
   "outputs": [],
   "source": []
  },
  {
   "cell_type": "code",
   "execution_count": 108,
   "metadata": {
    "ExecuteTime": {
     "end_time": "2020-12-08T23:35:36.736285Z",
     "start_time": "2020-12-08T23:35:36.557424Z"
    }
   },
   "outputs": [
    {
     "data": {
      "image/png": "[encoded data removed]",
      "text/plain": [
       "<Figure size 432x288 with 1 Axes>"
      ]
     },
     "metadata": {
      "needs_background": "light"
     },
     "output_type": "display_data"
    },
    {
     "name": "stdout",
     "output_type": "stream",
     "text": [
      "45.65 %\n"
     ]
    }
   ],
   "source": [
    "from sklearn.svm import SVR\n",
    "from sklearn.pipeline import make_pipeline\n",
    "from sklearn.preprocessing import StandardScaler\n",
    "\n",
    "regr = make_pipeline(RobustScaler(), SVR(C=1.0, epsilon=0.1))\n",
    "regr.fit(X_train_vali, y_train_vali.squeeze())\n",
    "\n",
    "yest = regr.predict(X_test)\n",
    "\n",
    "y_test_class = np.digitize(y_test, quart)\n",
    "yestClass = np.digitize(yest, quart)\n",
    "\n",
    "\n",
    "plt.figure()\n",
    "plt.plot(yestClass, 'ob')\n",
    "plt.plot(y_test_class, 'xr')\n",
    "plt.show()\n",
    "\n",
    "print(np.round(np.sum(y_test_class.squeeze()==yestClass.squeeze())/len(yestClass)*100,2), '%')\n"
   ]
  },
  {
   "cell_type": "code",
   "execution_count": null,
   "metadata": {},
   "outputs": [],
   "source": []
  }
 ],
 "metadata": {
  "kernelspec": {
   "display_name": "Python 3",
   "language": "python",
   "name": "python3"
  },
  "language_info": {
   "codemirror_mode": {
    "name": "ipython",
    "version": 3
   },
   "file_extension": ".py",
   "mimetype": "text/x-python",
   "name": "python",
   "nbconvert_exporter": "python",
   "pygments_lexer": "ipython3",
   "version": "3.6.12"
  },
  "nbTranslate": {
   "displayLangs": [
    "*"
   ],
   "hotkey": "alt-t",
   "langInMainMenu": true,
   "sourceLang": "en",
   "targetLang": "fr",
   "useGoogleTranslate": true
  },
  "toc": {
   "base_numbering": 1,
   "nav_menu": {},
   "number_sections": true,
   "sideBar": true,
   "skip_h1_title": false,
   "title_cell": "Table of Contents",
   "title_sidebar": "Contents",
   "toc_cell": false,
   "toc_position": {},
   "toc_section_display": true,
   "toc_window_display": false
  },
  "varInspector": {
   "cols": {
    "lenName": 16,
    "lenType": 16,
    "lenVar": 40
   },
   "kernels_config": {
    "python": {
     "delete_cmd_postfix": "",
     "delete_cmd_prefix": "del ",
     "library": "var_list.py",
     "varRefreshCmd": "print(var_dic_list())"
    },
    "r": {
     "delete_cmd_postfix": ") ",
     "delete_cmd_prefix": "rm(",
     "library": "var_list.r",
     "varRefreshCmd": "cat(var_dic_list()) "
    }
   },
   "types_to_exclude": [
    "module",
    "function",
    "builtin_function_or_method",
    "instance",
    "_Feature"
   ],
   "window_display": false
  }
 },
 "nbformat": 4,
 "nbformat_minor": 2
}
