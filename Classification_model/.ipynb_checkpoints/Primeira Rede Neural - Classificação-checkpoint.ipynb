{
 "cells": [
  {
   "cell_type": "code",
   "execution_count": 1,
   "metadata": {
    "collapsed": true
   },
   "outputs": [],
   "source": [
    "import numpy as np\n",
    "import matplotlib.pyplot as plt"
   ]
  },
  {
   "cell_type": "code",
   "execution_count": 2,
   "metadata": {
    "collapsed": true
   },
   "outputs": [],
   "source": [
    "import pandas as pd\n",
    "import torch\n",
    "import torch.nn as nn"
   ]
  },
  {
   "cell_type": "code",
   "execution_count": 25,
   "metadata": {
    "collapsed": true
   },
   "outputs": [],
   "source": [
    "x1 = np.random.randn(200)\n",
    "x2 = np.random.randn(200)\n",
    "x3 = np.random.randn(200)\n",
    "x4 = np.random.randn(200)\n",
    "yout = np.zeros(200, dtype = int)\n",
    "\n",
    "for i in range(0, len(x1)):\n",
    "    y = 3*x1[i] + 2*x2[i] + 4*x3[i] + 7*x4[i]\n",
    "    \n",
    "    if y <= 0:\n",
    "        yout[i] = 0\n",
    "    else:\n",
    "        yout[i] = 1\n",
    "            \n"
   ]
  },
  {
   "cell_type": "code",
   "execution_count": 26,
   "metadata": {
    "collapsed": true
   },
   "outputs": [],
   "source": [
    "data = [x1, x2, x3, x4, yout]\n",
    "data = np.transpose(data)"
   ]
  },
  {
   "cell_type": "code",
   "execution_count": 27,
   "metadata": {
    "collapsed": true
   },
   "outputs": [],
   "source": [
    "train_input = data[:150, :4]\n",
    "train_target = data[:150, 4]"
   ]
  },
  {
   "cell_type": "code",
   "execution_count": 28,
   "metadata": {
    "collapsed": true
   },
   "outputs": [],
   "source": [
    "test_input = data[150:, :4]\n",
    "test_target = data[150:, 4]"
   ]
  },
  {
   "cell_type": "code",
   "execution_count": 29,
   "metadata": {},
   "outputs": [
    {
     "data": {
      "text/plain": [
       "<torch._C.Generator at 0x225549103b0>"
      ]
     },
     "execution_count": 29,
     "metadata": {},
     "output_type": "execute_result"
    }
   ],
   "source": [
    "torch.manual_seed(1234)"
   ]
  },
  {
   "cell_type": "code",
   "execution_count": 34,
   "metadata": {
    "collapsed": true
   },
   "outputs": [],
   "source": [
    "# N = 1 # Batch size\n",
    "D_in = 4 # Input dimension\n",
    "D_out = 2 # Output dimension \n",
    "hidden_units = 3"
   ]
  },
  {
   "cell_type": "code",
   "execution_count": 35,
   "metadata": {
    "collapsed": true
   },
   "outputs": [],
   "source": [
    "net = nn.Sequential(\n",
    "    nn.Linear(D_in, hidden_units),\n",
    "    nn.ReLU(),\n",
    "    nn.Linear(hidden_units, D_out),)"
   ]
  },
  {
   "cell_type": "code",
   "execution_count": 36,
   "metadata": {
    "collapsed": true
   },
   "outputs": [],
   "source": [
    "# Choose optmizer and loss function\n",
    "criterion = nn.CrossEntropyLoss()\n",
    "optimizer = torch.optim.SGD(net.parameters(), lr = 0.1, momentum = 0.9) # lr = learning rate "
   ]
  },
  {
   "cell_type": "code",
   "execution_count": 46,
   "metadata": {},
   "outputs": [
    {
     "name": "stdout",
     "output_type": "stream",
     "text": [
      "Epoch 1 Loss: 0.0306\n",
      "Epoch 10 Loss: 0.0284\n",
      "Epoch 20 Loss: 0.0268\n",
      "Epoch 30 Loss: 0.0255\n",
      "Epoch 40 Loss: 0.0245\n",
      "Epoch 50 Loss: 0.0236\n"
     ]
    }
   ],
   "source": [
    "# Train\n",
    "epochs = 50\n",
    "\n",
    "for epoch in range(epochs):\n",
    "    inputs = torch.autograd.Variable(torch.Tensor(train_input).float())\n",
    "    targets = torch.autograd.Variable(torch.Tensor(train_target).long())\n",
    "    \n",
    "    optimizer.zero_grad()\n",
    "    out = net(inputs)\n",
    "    loss = criterion(out, targets)\n",
    "    loss.backward()\n",
    "    optimizer.step()\n",
    "    \n",
    "    if epoch == 0 or (epoch + 1) % 10 == 0:\n",
    "        print('Epoch %d Loss: %.4f' % (epoch + 1, loss.item()))"
   ]
  },
  {
   "cell_type": "code",
   "execution_count": 41,
   "metadata": {},
   "outputs": [
    {
     "name": "stdout",
     "output_type": "stream",
     "text": [
      "Errors: 1; Accuracy: 98%\n"
     ]
    }
   ],
   "source": [
    "# Avaliando a acurácia do modelo\n",
    "inputs = torch.autograd.Variable(torch.Tensor(test_input).float())\n",
    "targets = torch.autograd.Variable(torch.Tensor(test_target).long())\n",
    "\n",
    "optimizer.zero_grad()\n",
    "out = net(inputs)\n",
    "_, predicted = torch.max(out.data, 1)\n",
    "\n",
    "error_count = test_target.size - np.count_nonzero((targets == predicted) .numpy())\n",
    "print('Errors: %d; Accuracy: %d%%' % (error_count, 100 * torch.sum(targets == predicted) / test_target.size))"
   ]
  },
  {
   "cell_type": "code",
   "execution_count": null,
   "metadata": {
    "collapsed": true
   },
   "outputs": [],
   "source": []
  }
 ],
 "metadata": {
  "kernelspec": {
   "display_name": "Python 3",
   "language": "python",
   "name": "python3"
  },
  "language_info": {
   "codemirror_mode": {
    "name": "ipython",
    "version": 3
   },
   "file_extension": ".py",
   "mimetype": "text/x-python",
   "name": "python",
   "nbconvert_exporter": "python",
   "pygments_lexer": "ipython3",
   "version": "3.7.3"
  }
 },
 "nbformat": 4,
 "nbformat_minor": 2
}
