{
 "cells": [
  {
   "cell_type": "code",
   "execution_count": 1,
   "metadata": {
    "ExecuteTime": {
     "end_time": "2020-12-08T14:55:33.011309Z",
     "start_time": "2020-12-08T14:55:32.466120Z"
    }
   },
   "outputs": [],
   "source": [
    "# Importando as bibliotecas necessarias\n",
    "import numpy as np\n",
    "import matplotlib.pyplot as plt\n",
    "import pandas as pd\n",
    "# pd.set_option(\"display.max_rows\", 300)"
   ]
  },
  {
   "cell_type": "code",
   "execution_count": 2,
   "metadata": {
    "ExecuteTime": {
     "end_time": "2020-12-08T14:55:33.032449Z",
     "start_time": "2020-12-08T14:55:33.014404Z"
    }
   },
   "outputs": [
    {
     "data": {
      "text/plain": [
       "['Age',\n",
       " 'Gender',\n",
       " 'Height',\n",
       " 'Weight',\n",
       " 'BMI',\n",
       " 'FootLen',\n",
       " 'Ystudy',\n",
       " 'Illness',\n",
       " 'Nmedication',\n",
       " 'Ortho-Prosthesis',\n",
       " 'Disability',\n",
       " 'Falls12m',\n",
       " 'FES_1',\n",
       " 'FES_2',\n",
       " 'FES_3',\n",
       " 'FES_4',\n",
       " 'FES_5',\n",
       " 'FES_6',\n",
       " 'FES_7',\n",
       " 'FES_T',\n",
       " 'FES_S',\n",
       " 'IPAQ_1a',\n",
       " 'IPAQ_1b',\n",
       " 'IPAQ_2a',\n",
       " 'IPAQ_2b',\n",
       " 'IPAQ_3a',\n",
       " 'IPAQ_3b',\n",
       " 'IPAQ_4a',\n",
       " 'IPAQ_4b',\n",
       " 'IPAQ_S',\n",
       " 'TMT_timeA',\n",
       " 'TMT_errorsA',\n",
       " 'TMT_timeB',\n",
       " 'TMT_errorsB',\n",
       " 'Best_1',\n",
       " 'Best_2',\n",
       " 'Best_3l',\n",
       " 'Best_3r',\n",
       " 'Best_4',\n",
       " 'Best_5',\n",
       " 'Best_6l',\n",
       " 'Best_6r',\n",
       " 'Best_7',\n",
       " 'Best_8',\n",
       " 'Best_9',\n",
       " 'Best_10',\n",
       " 'Best_11',\n",
       " 'Best_12',\n",
       " 'Best_13',\n",
       " 'Best_14',\n",
       " 'Best_T',\n",
       " '5alphareductaseinhibitor',\n",
       " 'Alphablocker',\n",
       " 'Analgesic',\n",
       " 'AngiotensinIIreceptorantagonist',\n",
       " 'Angiotensinconvertingenzymeinhibitor',\n",
       " 'Antiarrhythmic',\n",
       " 'Antibiotic',\n",
       " 'Anticholinergic',\n",
       " 'Anticonvulsant',\n",
       " 'Antihistamine',\n",
       " 'Antiinflammatory',\n",
       " 'Antimalarial',\n",
       " 'Antipyretic',\n",
       " 'Antithyroid',\n",
       " 'Antivertigo',\n",
       " 'Benzodiazepine',\n",
       " 'Betablocker',\n",
       " 'Biguanide',\n",
       " 'Bisphosphonate',\n",
       " 'Bloodcirculation',\n",
       " 'Bronchodilator',\n",
       " 'Calciumchannelblocker',\n",
       " 'Centralnervoussystemagent',\n",
       " 'Conjugatedestrogen',\n",
       " 'Corticosteroid',\n",
       " 'DOPAdecarboxylaseinhibitor',\n",
       " 'Diabetesmellitus',\n",
       " 'Dipeptidylpeptidase4inhibitor',\n",
       " 'Diuretic',\n",
       " 'Dopamineagonist',\n",
       " 'Dopamineantagonist',\n",
       " 'Essentialaminoacid',\n",
       " 'Fluoroquinolone',\n",
       " 'HMGCoAreductaseinhibitor',\n",
       " 'Hblocker',\n",
       " 'Herbalsupplement',\n",
       " 'Homeopathic',\n",
       " 'Hypercholesterolemia',\n",
       " 'Hypertension',\n",
       " 'Kinaseinhibitor',\n",
       " 'Kneecartilagereplacement',\n",
       " 'Longactingbetaagonist',\n",
       " 'Meglitinide',\n",
       " 'Musclerelaxant',\n",
       " 'Nonsteroidalantiinflammatory',\n",
       " 'Nucleosidereversetranscriptaseinhibitor',\n",
       " 'Oralcontraceptive',\n",
       " 'Osteoporosis',\n",
       " 'Phenothiazine',\n",
       " 'Phytotherapy',\n",
       " 'Protonpumpinhibitor',\n",
       " 'Salicylate',\n",
       " 'Sedative',\n",
       " 'Selectivenorepinephrinereuptakeinhibitor',\n",
       " 'Selectiveserotoninreuptakeinhibitor',\n",
       " 'Steroid',\n",
       " 'Steroidalprogestin',\n",
       " 'Sulfonylurea',\n",
       " 'Syntheticthyroidhormone',\n",
       " 'Vasodilator',\n",
       " 'Wakefulnesspromotingagent',\n",
       " 'Arthritis',\n",
       " 'Breathlessness',\n",
       " 'Bronchitis',\n",
       " 'Bursitis',\n",
       " 'Conjunctivitis',\n",
       " 'Dermatitis',\n",
       " 'Esophagitis',\n",
       " 'Essential tremor',\n",
       " 'Fatty liver',\n",
       " 'Fibromyalgia',\n",
       " 'Gastritis',\n",
       " 'Gastroesophageal reflux',\n",
       " 'Glaucoma',\n",
       " 'Hypertriglyceridemia',\n",
       " 'Inflammation of the tibial nerve',\n",
       " 'Keratoconus',\n",
       " 'Kidney stones',\n",
       " 'Ligament problems',\n",
       " 'Lumbar tumor',\n",
       " 'Lymphedema of the lower members',\n",
       " 'Migraine',\n",
       " 'Poliomyelitis',\n",
       " 'Progressive breast cancer',\n",
       " 'Prostate disease',\n",
       " 'Prostatitis',\n",
       " 'Rheumatism',\n",
       " 'Sickle cell anemia',\n",
       " 'Sinusitis',\n",
       " 'Skin cancer',\n",
       " 'Skin disease',\n",
       " 'Spine problem',\n",
       " 'Stroke',\n",
       " 'Varicose veins of the legs',\n",
       " 'Vascular leakage of the eyes',\n",
       " 'Allergy',\n",
       " 'Anemia',\n",
       " 'Arrhythmia',\n",
       " 'Ascending colon cancer',\n",
       " 'Deep vein thrombosis',\n",
       " 'Depression',\n",
       " 'Endometriosis',\n",
       " 'Hashimoto disease',\n",
       " 'Heel spurs',\n",
       " 'Hepatitis B',\n",
       " 'Intestine disorder',\n",
       " 'Melanoma',\n",
       " \"Parkinson's disease\",\n",
       " 'Scoliosis',\n",
       " \"Sjogren's syndrome\",\n",
       " 'Urinary tract infection',\n",
       " 'Vasovagal syncope',\n",
       " 'Vitiligo',\n",
       " 'Heart disease_total',\n",
       " 'Osteopenia_total',\n",
       " 'Tendinitis_total',\n",
       " 'Arthrosis_total',\n",
       " 'Herniated lumbar disc_total',\n",
       " 'Hypercholesterolemia_total',\n",
       " 'Anxiety_total',\n",
       " 'Asthma_total',\n",
       " 'Chodromalacia of the knees_total',\n",
       " 'Diabetes mellitus_total',\n",
       " 'Hypertension_total',\n",
       " 'Hyperthyroidism_total',\n",
       " 'Hypoglycemia_total',\n",
       " 'Hypothyroidism_total',\n",
       " 'Labyrinthitis_total',\n",
       " 'Osteoporosis_total',\n",
       " 'Rhinitis_total',\n",
       " 'Intellectual',\n",
       " 'Physical_total',\n",
       " 'Visual_total',\n",
       " 'Hearing_total',\n",
       " 'Orthopedic Shoes',\n",
       " 'Shoes with silicone insole',\n",
       " 'Boots_total',\n",
       " 'Normal Shoes_total',\n",
       " 'Sandal_FlipFlop_total',\n",
       " 'Internal fixation in the toe_foot',\n",
       " 'Internal fixation in the leg',\n",
       " 'By pass',\n",
       " 'Corrective lens',\n",
       " 'Orthosis in the knee',\n",
       " 'PaceMaker',\n",
       " 'Internal fixation in the medulla',\n",
       " 'Corrective lens',\n",
       " 'Prosthesis aortic valve',\n",
       " 'Dental_total',\n",
       " 'Support_total',\n",
       " 'Hearing_total',\n",
       " 1]"
      ]
     },
     "execution_count": 2,
     "metadata": {},
     "output_type": "execute_result"
    }
   ],
   "source": [
    "data = pd.read_pickle(\"../Data_prep/data_closed_foamBDS\")\n",
    "list(data)"
   ]
  },
  {
   "cell_type": "code",
   "execution_count": 3,
   "metadata": {
    "ExecuteTime": {
     "end_time": "2020-12-08T14:55:33.040181Z",
     "start_time": "2020-12-08T14:55:33.036690Z"
    }
   },
   "outputs": [
    {
     "name": "stdout",
     "output_type": "stream",
     "text": [
      "(152, 203)\n"
     ]
    }
   ],
   "source": [
    "print(data.shape)"
   ]
  },
  {
   "cell_type": "markdown",
   "metadata": {},
   "source": [
    "# Juntando colunas \"Corrective lens\" duplicadas para \"Corrective_lens\""
   ]
  },
  {
   "cell_type": "code",
   "execution_count": 4,
   "metadata": {
    "ExecuteTime": {
     "end_time": "2020-12-08T14:55:33.050277Z",
     "start_time": "2020-12-08T14:55:33.042477Z"
    }
   },
   "outputs": [],
   "source": [
    "def junta_dupli(df, x):\n",
    "    #print(len(list(df.columns)))\n",
    "    #print(df[x].shape)\n",
    "    df[x + \"_total\"] = df[x].sum(axis=1)\n",
    "    df = df.drop([x], 1)\n",
    "    #print(len(list(df.columns)))\n",
    "    return df"
   ]
  },
  {
   "cell_type": "code",
   "execution_count": 5,
   "metadata": {
    "ExecuteTime": {
     "end_time": "2020-12-08T14:55:33.074067Z",
     "start_time": "2020-12-08T14:55:33.054529Z"
    }
   },
   "outputs": [
    {
     "data": {
      "text/html": [
       "<div>\n",
       "<style scoped>\n",
       "    .dataframe tbody tr th:only-of-type {\n",
       "        vertical-align: middle;\n",
       "    }\n",
       "\n",
       "    .dataframe tbody tr th {\n",
       "        vertical-align: top;\n",
       "    }\n",
       "\n",
       "    .dataframe thead th {\n",
       "        text-align: right;\n",
       "    }\n",
       "</style>\n",
       "<table border=\"1\" class=\"dataframe\">\n",
       "  <thead>\n",
       "    <tr style=\"text-align: right;\">\n",
       "      <th></th>\n",
       "      <th>Corrective lens</th>\n",
       "      <th>Corrective lens</th>\n",
       "    </tr>\n",
       "    <tr>\n",
       "      <th>Subject</th>\n",
       "      <th></th>\n",
       "      <th></th>\n",
       "    </tr>\n",
       "  </thead>\n",
       "  <tbody>\n",
       "    <tr>\n",
       "      <th>1</th>\n",
       "      <td>0</td>\n",
       "      <td>1</td>\n",
       "    </tr>\n",
       "    <tr>\n",
       "      <th>2</th>\n",
       "      <td>0</td>\n",
       "      <td>0</td>\n",
       "    </tr>\n",
       "    <tr>\n",
       "      <th>3</th>\n",
       "      <td>0</td>\n",
       "      <td>0</td>\n",
       "    </tr>\n",
       "    <tr>\n",
       "      <th>4</th>\n",
       "      <td>0</td>\n",
       "      <td>0</td>\n",
       "    </tr>\n",
       "    <tr>\n",
       "      <th>6</th>\n",
       "      <td>0</td>\n",
       "      <td>1</td>\n",
       "    </tr>\n",
       "    <tr>\n",
       "      <th>...</th>\n",
       "      <td>...</td>\n",
       "      <td>...</td>\n",
       "    </tr>\n",
       "    <tr>\n",
       "      <th>159</th>\n",
       "      <td>0</td>\n",
       "      <td>0</td>\n",
       "    </tr>\n",
       "    <tr>\n",
       "      <th>160</th>\n",
       "      <td>0</td>\n",
       "      <td>1</td>\n",
       "    </tr>\n",
       "    <tr>\n",
       "      <th>161</th>\n",
       "      <td>0</td>\n",
       "      <td>0</td>\n",
       "    </tr>\n",
       "    <tr>\n",
       "      <th>162</th>\n",
       "      <td>0</td>\n",
       "      <td>1</td>\n",
       "    </tr>\n",
       "    <tr>\n",
       "      <th>163</th>\n",
       "      <td>0</td>\n",
       "      <td>1</td>\n",
       "    </tr>\n",
       "  </tbody>\n",
       "</table>\n",
       "<p>152 rows × 2 columns</p>\n",
       "</div>"
      ],
      "text/plain": [
       "         Corrective lens  Corrective lens\n",
       "Subject                                  \n",
       "1                      0                1\n",
       "2                      0                0\n",
       "3                      0                0\n",
       "4                      0                0\n",
       "6                      0                1\n",
       "...                  ...              ...\n",
       "159                    0                0\n",
       "160                    0                1\n",
       "161                    0                0\n",
       "162                    0                1\n",
       "163                    0                1\n",
       "\n",
       "[152 rows x 2 columns]"
      ]
     },
     "execution_count": 5,
     "metadata": {},
     "output_type": "execute_result"
    }
   ],
   "source": [
    "data['Corrective lens']"
   ]
  },
  {
   "cell_type": "code",
   "execution_count": 6,
   "metadata": {
    "ExecuteTime": {
     "end_time": "2020-12-08T14:55:33.090287Z",
     "start_time": "2020-12-08T14:55:33.076346Z"
    }
   },
   "outputs": [
    {
     "data": {
      "text/plain": [
       "Subject\n",
       "1      1\n",
       "2      0\n",
       "3      0\n",
       "4      0\n",
       "6      1\n",
       "      ..\n",
       "159    0\n",
       "160    1\n",
       "161    0\n",
       "162    1\n",
       "163    1\n",
       "Name: Corrective_lens, Length: 152, dtype: int64"
      ]
     },
     "execution_count": 6,
     "metadata": {},
     "output_type": "execute_result"
    }
   ],
   "source": [
    "data['Corrective_lens'] = data['Corrective lens'].sum(axis=1)\n",
    "data = data.drop(['Corrective lens'], 1)\n",
    "data['Corrective_lens']"
   ]
  },
  {
   "cell_type": "code",
   "execution_count": 7,
   "metadata": {
    "ExecuteTime": {
     "end_time": "2020-12-08T14:55:33.099415Z",
     "start_time": "2020-12-08T14:55:33.092261Z"
    }
   },
   "outputs": [
    {
     "name": "stdout",
     "output_type": "stream",
     "text": [
      "(152, 202)\n"
     ]
    }
   ],
   "source": [
    "print(data.shape)"
   ]
  },
  {
   "cell_type": "markdown",
   "metadata": {},
   "source": [
    "# Juntando colunas \"Hearing_total\" duplicadas para \"Hearing_dis_ortho_total\""
   ]
  },
  {
   "cell_type": "code",
   "execution_count": 8,
   "metadata": {
    "ExecuteTime": {
     "end_time": "2020-12-08T14:55:33.119281Z",
     "start_time": "2020-12-08T14:55:33.101406Z"
    }
   },
   "outputs": [
    {
     "data": {
      "text/html": [
       "<div>\n",
       "<style scoped>\n",
       "    .dataframe tbody tr th:only-of-type {\n",
       "        vertical-align: middle;\n",
       "    }\n",
       "\n",
       "    .dataframe tbody tr th {\n",
       "        vertical-align: top;\n",
       "    }\n",
       "\n",
       "    .dataframe thead th {\n",
       "        text-align: right;\n",
       "    }\n",
       "</style>\n",
       "<table border=\"1\" class=\"dataframe\">\n",
       "  <thead>\n",
       "    <tr style=\"text-align: right;\">\n",
       "      <th></th>\n",
       "      <th>Hearing_total</th>\n",
       "      <th>Hearing_total</th>\n",
       "    </tr>\n",
       "    <tr>\n",
       "      <th>Subject</th>\n",
       "      <th></th>\n",
       "      <th></th>\n",
       "    </tr>\n",
       "  </thead>\n",
       "  <tbody>\n",
       "    <tr>\n",
       "      <th>1</th>\n",
       "      <td>0</td>\n",
       "      <td>0</td>\n",
       "    </tr>\n",
       "    <tr>\n",
       "      <th>2</th>\n",
       "      <td>0</td>\n",
       "      <td>0</td>\n",
       "    </tr>\n",
       "    <tr>\n",
       "      <th>3</th>\n",
       "      <td>0</td>\n",
       "      <td>0</td>\n",
       "    </tr>\n",
       "    <tr>\n",
       "      <th>4</th>\n",
       "      <td>0</td>\n",
       "      <td>0</td>\n",
       "    </tr>\n",
       "    <tr>\n",
       "      <th>6</th>\n",
       "      <td>0</td>\n",
       "      <td>0</td>\n",
       "    </tr>\n",
       "    <tr>\n",
       "      <th>...</th>\n",
       "      <td>...</td>\n",
       "      <td>...</td>\n",
       "    </tr>\n",
       "    <tr>\n",
       "      <th>159</th>\n",
       "      <td>0</td>\n",
       "      <td>0</td>\n",
       "    </tr>\n",
       "    <tr>\n",
       "      <th>160</th>\n",
       "      <td>0</td>\n",
       "      <td>0</td>\n",
       "    </tr>\n",
       "    <tr>\n",
       "      <th>161</th>\n",
       "      <td>0</td>\n",
       "      <td>0</td>\n",
       "    </tr>\n",
       "    <tr>\n",
       "      <th>162</th>\n",
       "      <td>0</td>\n",
       "      <td>0</td>\n",
       "    </tr>\n",
       "    <tr>\n",
       "      <th>163</th>\n",
       "      <td>0</td>\n",
       "      <td>0</td>\n",
       "    </tr>\n",
       "  </tbody>\n",
       "</table>\n",
       "<p>152 rows × 2 columns</p>\n",
       "</div>"
      ],
      "text/plain": [
       "         Hearing_total  Hearing_total\n",
       "Subject                              \n",
       "1                    0              0\n",
       "2                    0              0\n",
       "3                    0              0\n",
       "4                    0              0\n",
       "6                    0              0\n",
       "...                ...            ...\n",
       "159                  0              0\n",
       "160                  0              0\n",
       "161                  0              0\n",
       "162                  0              0\n",
       "163                  0              0\n",
       "\n",
       "[152 rows x 2 columns]"
      ]
     },
     "execution_count": 8,
     "metadata": {},
     "output_type": "execute_result"
    }
   ],
   "source": [
    "data['Hearing_total']"
   ]
  },
  {
   "cell_type": "code",
   "execution_count": 9,
   "metadata": {
    "ExecuteTime": {
     "end_time": "2020-12-08T14:55:33.138443Z",
     "start_time": "2020-12-08T14:55:33.121139Z"
    }
   },
   "outputs": [
    {
     "data": {
      "text/plain": [
       "Subject\n",
       "1      0\n",
       "2      0\n",
       "3      0\n",
       "4      0\n",
       "6      0\n",
       "      ..\n",
       "159    0\n",
       "160    0\n",
       "161    0\n",
       "162    0\n",
       "163    0\n",
       "Name: Hearing_dis_ortho_total, Length: 152, dtype: int64"
      ]
     },
     "execution_count": 9,
     "metadata": {},
     "output_type": "execute_result"
    }
   ],
   "source": [
    "data['Hearing_dis_ortho_total'] = data['Hearing_total'].sum(axis=1)\n",
    "data = data.drop(['Hearing_total'], 1)\n",
    "data['Hearing_dis_ortho_total']"
   ]
  },
  {
   "cell_type": "code",
   "execution_count": 10,
   "metadata": {
    "ExecuteTime": {
     "end_time": "2020-12-08T14:55:33.144948Z",
     "start_time": "2020-12-08T14:55:33.140670Z"
    }
   },
   "outputs": [
    {
     "name": "stdout",
     "output_type": "stream",
     "text": [
      "(152, 201)\n"
     ]
    }
   ],
   "source": [
    "print(data.shape)"
   ]
  },
  {
   "cell_type": "markdown",
   "metadata": {},
   "source": [
    "# Verificar colunas \"_total\" com valores acima de 1 e ajustar para 0 e 1\n",
    "###  Normal Shoes_total, Dental_total, Hearing_dis_ortho_total"
   ]
  },
  {
   "cell_type": "code",
   "execution_count": 11,
   "metadata": {
    "ExecuteTime": {
     "end_time": "2020-12-08T14:55:33.173157Z",
     "start_time": "2020-12-08T14:55:33.147416Z"
    }
   },
   "outputs": [
    {
     "name": "stdout",
     "output_type": "stream",
     "text": [
      "         Heart disease_total  Osteopenia_total  Tendinitis_total  \\\n",
      "Subject                                                            \n",
      "1                          0                 0                 0   \n",
      "2                          0                 0                 0   \n",
      "3                          0                 0                 0   \n",
      "4                          0                 0                 0   \n",
      "6                          0                 0                 0   \n",
      "...                      ...               ...               ...   \n",
      "159                        0                 0                 1   \n",
      "160                        0                 0                 0   \n",
      "161                        0                 0                 0   \n",
      "162                        0                 0                 0   \n",
      "163                        0                 0                 0   \n",
      "\n",
      "         Arthrosis_total  Herniated lumbar disc_total  \\\n",
      "Subject                                                 \n",
      "1                      0                            0   \n",
      "2                      0                            0   \n",
      "3                      0                            0   \n",
      "4                      0                            0   \n",
      "6                      0                            0   \n",
      "...                  ...                          ...   \n",
      "159                    0                            0   \n",
      "160                    0                            0   \n",
      "161                    0                            0   \n",
      "162                    0                            0   \n",
      "163                    0                            0   \n",
      "\n",
      "         Hypercholesterolemia_total  Anxiety_total  Asthma_total  \\\n",
      "Subject                                                            \n",
      "1                                 0              0             0   \n",
      "2                                 0              0             0   \n",
      "3                                 0              0             0   \n",
      "4                                 0              0             0   \n",
      "6                                 0              0             0   \n",
      "...                             ...            ...           ...   \n",
      "159                               0              0             1   \n",
      "160                               0              0             0   \n",
      "161                               0              0             0   \n",
      "162                               0              0             0   \n",
      "163                               0              0             1   \n",
      "\n",
      "         Chodromalacia of the knees_total  Diabetes mellitus_total  ...  \\\n",
      "Subject                                                             ...   \n",
      "1                                       0                        0  ...   \n",
      "2                                       0                        0  ...   \n",
      "3                                       0                        0  ...   \n",
      "4                                       0                        0  ...   \n",
      "6                                       0                        0  ...   \n",
      "...                                   ...                      ...  ...   \n",
      "159                                     0                        0  ...   \n",
      "160                                     0                        0  ...   \n",
      "161                                     0                        0  ...   \n",
      "162                                     0                        0  ...   \n",
      "163                                     0                        0  ...   \n",
      "\n",
      "         Osteoporosis_total  Rhinitis_total  Physical_total  Visual_total  \\\n",
      "Subject                                                                     \n",
      "1                         0               0               0             0   \n",
      "2                         0               0               0             0   \n",
      "3                         0               0               0             0   \n",
      "4                         0               0               0             0   \n",
      "6                         0               0               0             0   \n",
      "...                     ...             ...             ...           ...   \n",
      "159                       0               0               0             0   \n",
      "160                       0               0               0             0   \n",
      "161                       0               0               0             0   \n",
      "162                       0               0               0             0   \n",
      "163                       0               0               0             0   \n",
      "\n",
      "         Boots_total  Normal Shoes_total  Sandal_FlipFlop_total  Dental_total  \\\n",
      "Subject                                                                         \n",
      "1                  0                   0                      1             0   \n",
      "2                  0                   1                      1             0   \n",
      "3                  1                   0                      0             1   \n",
      "4                  0                   1                      0             1   \n",
      "6                  0                   1                      0             1   \n",
      "...              ...                 ...                    ...           ...   \n",
      "159                0                   1                      0             0   \n",
      "160                0                   1                      0             0   \n",
      "161                0                   1                      0             0   \n",
      "162                0                   1                      0             0   \n",
      "163                0                   1                      0             0   \n",
      "\n",
      "         Support_total  Hearing_dis_ortho_total  \n",
      "Subject                                          \n",
      "1                    0                        0  \n",
      "2                    0                        0  \n",
      "3                    0                        0  \n",
      "4                    0                        0  \n",
      "6                    0                        0  \n",
      "...                ...                      ...  \n",
      "159                  0                        0  \n",
      "160                  0                        0  \n",
      "161                  0                        0  \n",
      "162                  0                        0  \n",
      "163                  0                        0  \n",
      "\n",
      "[152 rows x 25 columns]\n"
     ]
    }
   ],
   "source": [
    "df2 = data.filter(regex='_total')\n",
    "print(df2)"
   ]
  },
  {
   "cell_type": "code",
   "execution_count": 12,
   "metadata": {
    "ExecuteTime": {
     "end_time": "2020-12-08T14:55:33.185610Z",
     "start_time": "2020-12-08T14:55:33.175407Z"
    }
   },
   "outputs": [
    {
     "name": "stdout",
     "output_type": "stream",
     "text": [
      "[(array([ 21,  23,  41,  44,  46,  49,  61,  68,  70,  74,  75,  79,  85,\n",
      "        94,  98,  99, 108, 109, 122, 139, 142, 142]), array([20, 20, 20, 20, 24, 20, 20, 20, 20, 20, 22, 24, 22, 22, 24, 22, 20,\n",
      "       20, 22, 20, 22, 24]))]\n"
     ]
    }
   ],
   "source": [
    "print([np.where(df2>1)])"
   ]
  },
  {
   "cell_type": "code",
   "execution_count": 13,
   "metadata": {
    "ExecuteTime": {
     "end_time": "2020-12-08T14:55:33.201337Z",
     "start_time": "2020-12-08T14:55:33.187834Z"
    }
   },
   "outputs": [
    {
     "data": {
      "text/plain": [
       "Subject\n",
       "1      0\n",
       "2      1\n",
       "3      0\n",
       "4      1\n",
       "6      1\n",
       "      ..\n",
       "159    1\n",
       "160    1\n",
       "161    1\n",
       "162    1\n",
       "163    1\n",
       "Name: Normal Shoes_total, Length: 152, dtype: int64"
      ]
     },
     "execution_count": 13,
     "metadata": {},
     "output_type": "execute_result"
    }
   ],
   "source": [
    "data['Normal Shoes_total']=np.clip(data['Normal Shoes_total'],0,1)\n",
    "data['Normal Shoes_total']"
   ]
  },
  {
   "cell_type": "code",
   "execution_count": 14,
   "metadata": {
    "ExecuteTime": {
     "end_time": "2020-12-08T14:55:33.213290Z",
     "start_time": "2020-12-08T14:55:33.203199Z"
    }
   },
   "outputs": [
    {
     "data": {
      "text/plain": [
       "Subject\n",
       "1      0\n",
       "2      0\n",
       "3      1\n",
       "4      1\n",
       "6      1\n",
       "      ..\n",
       "159    0\n",
       "160    0\n",
       "161    0\n",
       "162    0\n",
       "163    0\n",
       "Name: Dental_total, Length: 152, dtype: int64"
      ]
     },
     "execution_count": 14,
     "metadata": {},
     "output_type": "execute_result"
    }
   ],
   "source": [
    "data['Dental_total']=np.clip(data['Dental_total'],0,1)\n",
    "data['Dental_total']"
   ]
  },
  {
   "cell_type": "code",
   "execution_count": 15,
   "metadata": {
    "ExecuteTime": {
     "end_time": "2020-12-08T14:55:33.231486Z",
     "start_time": "2020-12-08T14:55:33.215333Z"
    }
   },
   "outputs": [
    {
     "data": {
      "text/plain": [
       "Subject\n",
       "1      0\n",
       "2      0\n",
       "3      1\n",
       "4      1\n",
       "6      1\n",
       "      ..\n",
       "159    0\n",
       "160    0\n",
       "161    0\n",
       "162    0\n",
       "163    0\n",
       "Name: Hearing_dis_ortho_total, Length: 152, dtype: int64"
      ]
     },
     "execution_count": 15,
     "metadata": {},
     "output_type": "execute_result"
    }
   ],
   "source": [
    "data['Hearing_dis_ortho_total']=np.clip(data['Dental_total'],0,1)\n",
    "data['Hearing_dis_ortho_total']"
   ]
  },
  {
   "cell_type": "code",
   "execution_count": 16,
   "metadata": {
    "ExecuteTime": {
     "end_time": "2020-12-08T14:55:33.241513Z",
     "start_time": "2020-12-08T14:55:33.234188Z"
    }
   },
   "outputs": [
    {
     "name": "stdout",
     "output_type": "stream",
     "text": [
      "[(array([], dtype=int64), array([], dtype=int64))]\n"
     ]
    }
   ],
   "source": [
    "df2 = data.filter(regex='_total')\n",
    "print([np.where(df2>1)])"
   ]
  },
  {
   "cell_type": "markdown",
   "metadata": {},
   "source": [
    "# Adicionar caracteristica constante = 1"
   ]
  },
  {
   "cell_type": "code",
   "execution_count": 17,
   "metadata": {
    "ExecuteTime": {
     "end_time": "2020-12-08T14:55:33.249233Z",
     "start_time": "2020-12-08T14:55:33.244003Z"
    }
   },
   "outputs": [
    {
     "name": "stdout",
     "output_type": "stream",
     "text": [
      "(152, 201)\n"
     ]
    }
   ],
   "source": [
    "print(data.shape)"
   ]
  },
  {
   "cell_type": "code",
   "execution_count": 18,
   "metadata": {
    "ExecuteTime": {
     "end_time": "2020-12-08T14:55:33.263747Z",
     "start_time": "2020-12-08T14:55:33.253688Z"
    }
   },
   "outputs": [
    {
     "name": "stdout",
     "output_type": "stream",
     "text": [
      "(152,)\n"
     ]
    }
   ],
   "source": [
    "ones = np.ones(data.shape[0])\n",
    "print(ones.shape)"
   ]
  },
  {
   "cell_type": "code",
   "execution_count": 19,
   "metadata": {
    "ExecuteTime": {
     "end_time": "2020-12-08T14:55:33.276588Z",
     "start_time": "2020-12-08T14:55:33.270114Z"
    }
   },
   "outputs": [],
   "source": [
    "data['Ones'] = ones"
   ]
  },
  {
   "cell_type": "code",
   "execution_count": 20,
   "metadata": {
    "ExecuteTime": {
     "end_time": "2020-12-08T14:55:33.289511Z",
     "start_time": "2020-12-08T14:55:33.278990Z"
    }
   },
   "outputs": [
    {
     "name": "stdout",
     "output_type": "stream",
     "text": [
      "Subject\n",
      "1      1.0\n",
      "2      1.0\n",
      "3      1.0\n",
      "4      1.0\n",
      "6      1.0\n",
      "      ... \n",
      "159    1.0\n",
      "160    1.0\n",
      "161    1.0\n",
      "162    1.0\n",
      "163    1.0\n",
      "Name: Ones, Length: 152, dtype: float64\n"
     ]
    }
   ],
   "source": [
    "print(data['Ones'])"
   ]
  },
  {
   "cell_type": "code",
   "execution_count": 21,
   "metadata": {
    "ExecuteTime": {
     "end_time": "2020-12-08T14:55:33.303902Z",
     "start_time": "2020-12-08T14:55:33.293024Z"
    }
   },
   "outputs": [
    {
     "name": "stdout",
     "output_type": "stream",
     "text": [
      "(152, 202)\n"
     ]
    }
   ],
   "source": [
    "print(data.shape)"
   ]
  },
  {
   "cell_type": "markdown",
   "metadata": {},
   "source": [
    "# Checar atualizações"
   ]
  },
  {
   "cell_type": "code",
   "execution_count": 22,
   "metadata": {
    "ExecuteTime": {
     "end_time": "2020-12-08T14:55:33.334665Z",
     "start_time": "2020-12-08T14:55:33.326446Z"
    }
   },
   "outputs": [
    {
     "name": "stdout",
     "output_type": "stream",
     "text": [
      "(152, 202)\n"
     ]
    }
   ],
   "source": [
    "print(data.shape)"
   ]
  },
  {
   "cell_type": "code",
   "execution_count": 23,
   "metadata": {
    "ExecuteTime": {
     "end_time": "2020-12-08T14:55:33.370764Z",
     "start_time": "2020-12-08T14:55:33.366462Z"
    }
   },
   "outputs": [
    {
     "name": "stdout",
     "output_type": "stream",
     "text": [
      "Subject\n",
      "1      1\n",
      "2      0\n",
      "3      0\n",
      "4      0\n",
      "6      1\n",
      "      ..\n",
      "159    0\n",
      "160    1\n",
      "161    0\n",
      "162    1\n",
      "163    1\n",
      "Name: Corrective_lens, Length: 152, dtype: int64\n"
     ]
    }
   ],
   "source": [
    "print(data['Corrective_lens'])"
   ]
  },
  {
   "cell_type": "code",
   "execution_count": 24,
   "metadata": {
    "ExecuteTime": {
     "end_time": "2020-12-08T14:55:33.412509Z",
     "start_time": "2020-12-08T14:55:33.405499Z"
    }
   },
   "outputs": [
    {
     "name": "stdout",
     "output_type": "stream",
     "text": [
      "Subject\n",
      "1      1.0\n",
      "2      1.0\n",
      "3      1.0\n",
      "4      1.0\n",
      "6      1.0\n",
      "      ... \n",
      "159    1.0\n",
      "160    1.0\n",
      "161    1.0\n",
      "162    1.0\n",
      "163    1.0\n",
      "Name: Ones, Length: 152, dtype: float64\n"
     ]
    }
   ],
   "source": [
    "print(data['Ones'])"
   ]
  },
  {
   "cell_type": "code",
   "execution_count": 25,
   "metadata": {
    "ExecuteTime": {
     "end_time": "2020-12-08T14:55:33.448292Z",
     "start_time": "2020-12-08T14:55:33.441925Z"
    }
   },
   "outputs": [
    {
     "name": "stdout",
     "output_type": "stream",
     "text": [
      "[(array([], dtype=int64), array([], dtype=int64))]\n"
     ]
    }
   ],
   "source": [
    "df2 = data.filter(regex='_total')\n",
    "print([np.where(df2>1)])"
   ]
  },
  {
   "cell_type": "code",
   "execution_count": 26,
   "metadata": {
    "ExecuteTime": {
     "end_time": "2020-12-08T14:55:33.483136Z",
     "start_time": "2020-12-08T14:55:33.477289Z"
    }
   },
   "outputs": [],
   "source": [
    "# Salva database_ajusted\n",
    "data.to_pickle('data_closed_foam_adjustedBDS')"
   ]
  },
  {
   "cell_type": "markdown",
   "metadata": {},
   "source": [
    "# Clean do database"
   ]
  },
  {
   "cell_type": "code",
   "execution_count": 27,
   "metadata": {
    "ExecuteTime": {
     "end_time": "2020-12-08T14:55:33.536008Z",
     "start_time": "2020-12-08T14:55:33.527073Z"
    },
    "scrolled": true
   },
   "outputs": [
    {
     "name": "stdout",
     "output_type": "stream",
     "text": [
      "['Age', 'Gender', 'Height', 'Weight', 'BMI', 'FootLen', 'Ystudy', 'Illness', 'Nmedication', 'Ortho-Prosthesis', 'Disability', 'Falls12m', 'FES_1', 'FES_2', 'FES_3', 'FES_4', 'FES_5', 'FES_6', 'FES_7', 'FES_T', 'FES_S', 'IPAQ_1a', 'IPAQ_1b', 'IPAQ_2a', 'IPAQ_2b', 'IPAQ_3a', 'IPAQ_3b', 'IPAQ_4a', 'IPAQ_4b', 'IPAQ_S', 'TMT_timeA', 'TMT_errorsA', 'TMT_timeB', 'TMT_errorsB', 'Best_1', 'Best_2', 'Best_3l', 'Best_3r', 'Best_4', 'Best_5', 'Best_6l', 'Best_6r', 'Best_7', 'Best_8', 'Best_9', 'Best_10', 'Best_11', 'Best_12', 'Best_13', 'Best_14', 'Best_T', '5alphareductaseinhibitor', 'Alphablocker', 'Analgesic', 'AngiotensinIIreceptorantagonist', 'Angiotensinconvertingenzymeinhibitor', 'Antiarrhythmic', 'Antibiotic', 'Anticholinergic', 'Anticonvulsant', 'Antihistamine', 'Antiinflammatory', 'Antimalarial', 'Antipyretic', 'Antithyroid', 'Antivertigo', 'Benzodiazepine', 'Betablocker', 'Biguanide', 'Bisphosphonate', 'Bloodcirculation', 'Bronchodilator', 'Calciumchannelblocker', 'Centralnervoussystemagent', 'Conjugatedestrogen', 'Corticosteroid', 'DOPAdecarboxylaseinhibitor', 'Diabetesmellitus', 'Dipeptidylpeptidase4inhibitor', 'Diuretic', 'Dopamineagonist', 'Dopamineantagonist', 'Essentialaminoacid', 'Fluoroquinolone', 'HMGCoAreductaseinhibitor', 'Hblocker', 'Herbalsupplement', 'Homeopathic', 'Hypercholesterolemia', 'Hypertension', 'Kinaseinhibitor', 'Kneecartilagereplacement', 'Longactingbetaagonist', 'Meglitinide', 'Musclerelaxant', 'Nonsteroidalantiinflammatory', 'Nucleosidereversetranscriptaseinhibitor', 'Oralcontraceptive', 'Osteoporosis', 'Phenothiazine', 'Phytotherapy', 'Protonpumpinhibitor', 'Salicylate', 'Sedative', 'Selectivenorepinephrinereuptakeinhibitor', 'Selectiveserotoninreuptakeinhibitor', 'Steroid', 'Steroidalprogestin', 'Sulfonylurea', 'Syntheticthyroidhormone', 'Vasodilator', 'Wakefulnesspromotingagent', 'Arthritis', 'Breathlessness', 'Bronchitis', 'Bursitis', 'Conjunctivitis', 'Dermatitis', 'Esophagitis', 'Essential tremor', 'Fatty liver', 'Fibromyalgia', 'Gastritis', 'Gastroesophageal reflux', 'Glaucoma', 'Hypertriglyceridemia', 'Inflammation of the tibial nerve', 'Keratoconus', 'Kidney stones', 'Ligament problems', 'Lumbar tumor', 'Lymphedema of the lower members', 'Migraine', 'Poliomyelitis', 'Progressive breast cancer', 'Prostate disease', 'Prostatitis', 'Rheumatism', 'Sickle cell anemia', 'Sinusitis', 'Skin cancer', 'Skin disease', 'Spine problem', 'Stroke', 'Varicose veins of the legs', 'Vascular leakage of the eyes', 'Allergy', 'Anemia', 'Arrhythmia', 'Ascending colon cancer', 'Deep vein thrombosis', 'Depression', 'Endometriosis', 'Hashimoto disease', 'Heel spurs', 'Hepatitis B', 'Intestine disorder', 'Melanoma', \"Parkinson's disease\", 'Scoliosis', \"Sjogren's syndrome\", 'Urinary tract infection', 'Vasovagal syncope', 'Vitiligo', 'Heart disease_total', 'Osteopenia_total', 'Tendinitis_total', 'Arthrosis_total', 'Herniated lumbar disc_total', 'Hypercholesterolemia_total', 'Anxiety_total', 'Asthma_total', 'Chodromalacia of the knees_total', 'Diabetes mellitus_total', 'Hypertension_total', 'Hyperthyroidism_total', 'Hypoglycemia_total', 'Hypothyroidism_total', 'Labyrinthitis_total', 'Osteoporosis_total', 'Rhinitis_total', 'Intellectual', 'Physical_total', 'Visual_total', 'Orthopedic Shoes', 'Shoes with silicone insole', 'Boots_total', 'Normal Shoes_total', 'Sandal_FlipFlop_total', 'Internal fixation in the toe_foot', 'Internal fixation in the leg', 'By pass', 'Orthosis in the knee', 'PaceMaker', 'Internal fixation in the medulla', 'Prosthesis aortic valve', 'Dental_total', 'Support_total', 1, 'Corrective_lens', 'Hearing_dis_ortho_total', 'Ones']\n"
     ]
    },
    {
     "data": {
      "text/plain": [
       "(array([51]),)"
      ]
     },
     "execution_count": 27,
     "metadata": {},
     "output_type": "execute_result"
    }
   ],
   "source": [
    "data_adjusted = pd.read_pickle(\"data_closed_foam_adjustedBDS\")\n",
    "columns = list(data_adjusted)\n",
    "print(columns)\n",
    "np.where(np.array(columns)=='5alphareductaseinhibitor')"
   ]
  },
  {
   "cell_type": "code",
   "execution_count": 28,
   "metadata": {
    "ExecuteTime": {
     "end_time": "2020-12-08T14:55:33.564859Z",
     "start_time": "2020-12-08T14:55:33.561347Z"
    }
   },
   "outputs": [
    {
     "name": "stdout",
     "output_type": "stream",
     "text": [
      "(152, 202)\n"
     ]
    }
   ],
   "source": [
    "print(data_adjusted.shape)"
   ]
  },
  {
   "cell_type": "code",
   "execution_count": 29,
   "metadata": {
    "ExecuteTime": {
     "end_time": "2020-12-08T14:55:33.839728Z",
     "start_time": "2020-12-08T14:55:33.597186Z"
    }
   },
   "outputs": [
    {
     "name": "stdout",
     "output_type": "stream",
     "text": [
      "5alphareductaseinhibitor  =  1\n",
      "Alphablocker  =  1\n",
      "Analgesic  =  3\n",
      "Angiotensinconvertingenzymeinhibitor  =  4\n",
      "Antiarrhythmic  =  3\n",
      "Antibiotic  =  2\n",
      "Anticholinergic  =  1\n",
      "Anticonvulsant  =  1\n",
      "Antihistamine  =  2\n",
      "Antiinflammatory  =  4\n",
      "Antimalarial  =  1\n",
      "Antipyretic  =  1\n",
      "Antithyroid  =  2\n",
      "Antivertigo  =  1\n",
      "Benzodiazepine  =  5\n",
      "Betablocker  =  12\n",
      "Biguanide  =  7\n",
      "Bisphosphonate  =  8\n",
      "Bloodcirculation  =  1\n",
      "Bronchodilator  =  1\n",
      "Calciumchannelblocker  =  2\n",
      "Centralnervoussystemagent  =  1\n",
      "Conjugatedestrogen  =  2\n",
      "Corticosteroid  =  8\n",
      "DOPAdecarboxylaseinhibitor  =  1\n",
      "Diabetesmellitus  =  1\n",
      "Dipeptidylpeptidase4inhibitor  =  3\n",
      "Diuretic  =  12\n",
      "Dopamineagonist  =  1\n",
      "Dopamineantagonist  =  1\n",
      "Essentialaminoacid  =  1\n",
      "Fluoroquinolone  =  1\n",
      "Hblocker  =  1\n",
      "Herbalsupplement  =  1\n",
      "Homeopathic  =  5\n",
      "Hypercholesterolemia  =  1\n",
      "Hypertension  =  1\n",
      "Kinaseinhibitor  =  1\n",
      "Kneecartilagereplacement  =  0\n",
      "Longactingbetaagonist  =  4\n",
      "Meglitinide  =  1\n",
      "Musclerelaxant  =  1\n",
      "Nonsteroidalantiinflammatory  =  7\n",
      "Nucleosidereversetranscriptaseinhibitor  =  1\n",
      "Oralcontraceptive  =  14\n",
      "Osteoporosis  =  1\n",
      "Phenothiazine  =  0\n",
      "Phytotherapy  =  2\n",
      "Protonpumpinhibitor  =  8\n",
      "Salicylate  =  1\n",
      "Sedative  =  1\n",
      "Selectivenorepinephrinereuptakeinhibitor  =  1\n",
      "Selectiveserotoninreuptakeinhibitor  =  7\n",
      "Steroid  =  1\n",
      "Steroidalprogestin  =  2\n",
      "Sulfonylurea  =  4\n",
      "Syntheticthyroidhormone  =  12\n",
      "Vasodilator  =  1\n",
      "Wakefulnesspromotingagent  =  1\n",
      "Arthritis  =  2\n",
      "Breathlessness  =  1\n",
      "Bronchitis  =  2\n",
      "Bursitis  =  1\n",
      "Conjunctivitis  =  1\n",
      "Dermatitis  =  0\n",
      "Esophagitis  =  1\n",
      "Essential tremor  =  1\n",
      "Fatty liver  =  1\n",
      "Fibromyalgia  =  1\n",
      "Gastritis  =  2\n",
      "Gastroesophageal reflux  =  2\n",
      "Glaucoma  =  0\n",
      "Hypertriglyceridemia  =  1\n",
      "Inflammation of the tibial nerve  =  1\n",
      "Keratoconus  =  0\n",
      "Kidney stones  =  1\n",
      "Ligament problems  =  1\n",
      "Lumbar tumor  =  1\n",
      "Lymphedema of the lower members  =  1\n",
      "Migraine  =  2\n",
      "Poliomyelitis  =  0\n",
      "Progressive breast cancer  =  1\n",
      "Prostate disease  =  1\n",
      "Prostatitis  =  1\n",
      "Rheumatism  =  1\n",
      "Sickle cell anemia  =  1\n",
      "Sinusitis  =  5\n",
      "Skin cancer  =  1\n",
      "Skin disease  =  1\n",
      "Spine problem  =  2\n",
      "Stroke  =  1\n",
      "Varicose veins of the legs  =  1\n",
      "Vascular leakage of the eyes  =  1\n",
      "Allergy  =  2\n",
      "Anemia  =  1\n",
      "Arrhythmia  =  2\n",
      "Ascending colon cancer  =  1\n",
      "Deep vein thrombosis  =  1\n",
      "Depression  =  1\n",
      "Endometriosis  =  2\n",
      "Hashimoto disease  =  1\n",
      "Heel spurs  =  2\n",
      "Hepatitis B  =  1\n",
      "Intestine disorder  =  1\n",
      "Melanoma  =  1\n",
      "Parkinson's disease  =  1\n",
      "Scoliosis  =  1\n",
      "Sjogren's syndrome  =  1\n",
      "Urinary tract infection  =  1\n",
      "Vasovagal syncope  =  1\n",
      "Vitiligo  =  1\n",
      "Heart disease_total  =  3\n",
      "Osteopenia_total  =  14\n",
      "Tendinitis_total  =  3\n",
      "Arthrosis_total  =  9\n",
      "Herniated lumbar disc_total  =  2\n",
      "Anxiety_total  =  2\n",
      "Asthma_total  =  8\n",
      "Chodromalacia of the knees_total  =  2\n",
      "Diabetes mellitus_total  =  11\n",
      "Hyperthyroidism_total  =  3\n",
      "Hypoglycemia_total  =  3\n",
      "Hypothyroidism_total  =  12\n",
      "Labyrinthitis_total  =  9\n",
      "Osteoporosis_total  =  10\n",
      "Rhinitis_total  =  11\n",
      "Intellectual  =  0\n",
      "Physical_total  =  1\n",
      "Visual_total  =  3\n",
      "Orthopedic Shoes  =  0\n",
      "Shoes with silicone insole  =  1\n",
      "Boots_total  =  4\n",
      "Internal fixation in the toe_foot  =  1\n",
      "Internal fixation in the leg  =  1\n",
      "By pass  =  1\n",
      "Orthosis in the knee  =  1\n",
      "PaceMaker  =  0\n",
      "Internal fixation in the medulla  =  1\n",
      "Prosthesis aortic valve  =  1\n",
      "Support_total  =  0\n"
     ]
    }
   ],
   "source": [
    "i = 0\n",
    "for col in columns[51:]:\n",
    "        soma = np.sum(data_adjusted[col])\n",
    "        if soma<(0.1*data_adjusted.shape[0]):\n",
    "            print(col, ' = ', soma)\n",
    "            data_adjusted = data_adjusted.drop([col], 1)\n",
    "data_adjusted = data_adjusted.drop('Best_1', 1)    "
   ]
  },
  {
   "cell_type": "code",
   "execution_count": 30,
   "metadata": {
    "ExecuteTime": {
     "end_time": "2020-12-08T14:55:33.848670Z",
     "start_time": "2020-12-08T14:55:33.845249Z"
    }
   },
   "outputs": [
    {
     "name": "stdout",
     "output_type": "stream",
     "text": [
      "(152, 62)\n"
     ]
    }
   ],
   "source": [
    "print(data_adjusted.shape)"
   ]
  },
  {
   "cell_type": "code",
   "execution_count": 31,
   "metadata": {
    "ExecuteTime": {
     "end_time": "2020-12-08T14:55:33.872499Z",
     "start_time": "2020-12-08T14:55:33.853236Z"
    }
   },
   "outputs": [],
   "source": [
    "data_adjusted.rename(columns={1:'PF50'}, inplace=True)"
   ]
  },
  {
   "cell_type": "code",
   "execution_count": 32,
   "metadata": {
    "ExecuteTime": {
     "end_time": "2020-12-08T14:55:33.890667Z",
     "start_time": "2020-12-08T14:55:33.874973Z"
    }
   },
   "outputs": [
    {
     "data": {
      "text/plain": [
       "['Age',\n",
       " 'Gender',\n",
       " 'Height',\n",
       " 'Weight',\n",
       " 'BMI',\n",
       " 'FootLen',\n",
       " 'Ystudy',\n",
       " 'Illness',\n",
       " 'Nmedication',\n",
       " 'Ortho-Prosthesis',\n",
       " 'Disability',\n",
       " 'Falls12m',\n",
       " 'FES_1',\n",
       " 'FES_2',\n",
       " 'FES_3',\n",
       " 'FES_4',\n",
       " 'FES_5',\n",
       " 'FES_6',\n",
       " 'FES_7',\n",
       " 'FES_T',\n",
       " 'FES_S',\n",
       " 'IPAQ_1a',\n",
       " 'IPAQ_1b',\n",
       " 'IPAQ_2a',\n",
       " 'IPAQ_2b',\n",
       " 'IPAQ_3a',\n",
       " 'IPAQ_3b',\n",
       " 'IPAQ_4a',\n",
       " 'IPAQ_4b',\n",
       " 'IPAQ_S',\n",
       " 'TMT_timeA',\n",
       " 'TMT_errorsA',\n",
       " 'TMT_timeB',\n",
       " 'TMT_errorsB',\n",
       " 'Best_1',\n",
       " 'Best_2',\n",
       " 'Best_3l',\n",
       " 'Best_3r',\n",
       " 'Best_4',\n",
       " 'Best_5',\n",
       " 'Best_6l',\n",
       " 'Best_6r',\n",
       " 'Best_7',\n",
       " 'Best_8',\n",
       " 'Best_9',\n",
       " 'Best_10',\n",
       " 'Best_11',\n",
       " 'Best_12',\n",
       " 'Best_13',\n",
       " 'Best_14',\n",
       " 'Best_T',\n",
       " 'AngiotensinIIreceptorantagonist',\n",
       " 'HMGCoAreductaseinhibitor',\n",
       " 'Hypercholesterolemia_total',\n",
       " 'Hypertension_total',\n",
       " 'Normal Shoes_total',\n",
       " 'Sandal_FlipFlop_total',\n",
       " 'Dental_total',\n",
       " 'PF50',\n",
       " 'Corrective_lens',\n",
       " 'Hearing_dis_ortho_total',\n",
       " 'Ones']"
      ]
     },
     "execution_count": 32,
     "metadata": {},
     "output_type": "execute_result"
    }
   ],
   "source": [
    "list(data_adjusted)"
   ]
  },
  {
   "cell_type": "code",
   "execution_count": 33,
   "metadata": {
    "ExecuteTime": {
     "end_time": "2020-12-08T14:55:33.898723Z",
     "start_time": "2020-12-08T14:55:33.895097Z"
    }
   },
   "outputs": [],
   "source": [
    "# Salva database_ajusted\n",
    "data_adjusted.to_pickle('data_closed_foam_adjusted_cleanBDS')"
   ]
  },
  {
   "cell_type": "code",
   "execution_count": 34,
   "metadata": {
    "ExecuteTime": {
     "end_time": "2020-12-08T14:55:33.919953Z",
     "start_time": "2020-12-08T14:55:33.900989Z"
    }
   },
   "outputs": [
    {
     "data": {
      "text/plain": [
       "['Age',\n",
       " 'Gender',\n",
       " 'Height',\n",
       " 'Weight',\n",
       " 'BMI',\n",
       " 'FootLen',\n",
       " 'Ystudy',\n",
       " 'Illness',\n",
       " 'Nmedication',\n",
       " 'Ortho-Prosthesis',\n",
       " 'Disability',\n",
       " 'Falls12m',\n",
       " 'FES_1',\n",
       " 'FES_2',\n",
       " 'FES_3',\n",
       " 'FES_4',\n",
       " 'FES_5',\n",
       " 'FES_6',\n",
       " 'FES_7',\n",
       " 'FES_T',\n",
       " 'FES_S',\n",
       " 'IPAQ_1a',\n",
       " 'IPAQ_1b',\n",
       " 'IPAQ_2a',\n",
       " 'IPAQ_2b',\n",
       " 'IPAQ_3a',\n",
       " 'IPAQ_3b',\n",
       " 'IPAQ_4a',\n",
       " 'IPAQ_4b',\n",
       " 'IPAQ_S',\n",
       " 'TMT_timeA',\n",
       " 'TMT_errorsA',\n",
       " 'TMT_timeB',\n",
       " 'TMT_errorsB',\n",
       " 'Best_1',\n",
       " 'Best_2',\n",
       " 'Best_3l',\n",
       " 'Best_3r',\n",
       " 'Best_4',\n",
       " 'Best_5',\n",
       " 'Best_6l',\n",
       " 'Best_6r',\n",
       " 'Best_7',\n",
       " 'Best_8',\n",
       " 'Best_9',\n",
       " 'Best_10',\n",
       " 'Best_11',\n",
       " 'Best_12',\n",
       " 'Best_13',\n",
       " 'Best_14',\n",
       " 'Best_T',\n",
       " 'AngiotensinIIreceptorantagonist',\n",
       " 'HMGCoAreductaseinhibitor',\n",
       " 'Hypercholesterolemia_total',\n",
       " 'Hypertension_total',\n",
       " 'Normal Shoes_total',\n",
       " 'Sandal_FlipFlop_total',\n",
       " 'Dental_total',\n",
       " 'PF50',\n",
       " 'Corrective_lens',\n",
       " 'Hearing_dis_ortho_total',\n",
       " 'Ones']"
      ]
     },
     "execution_count": 34,
     "metadata": {},
     "output_type": "execute_result"
    }
   ],
   "source": [
    "data = pd.read_pickle(\"data_closed_foam_adjusted_cleanBDS\")\n",
    "list(data)"
   ]
  },
  {
   "cell_type": "code",
   "execution_count": 35,
   "metadata": {
    "ExecuteTime": {
     "end_time": "2020-12-08T14:55:33.928924Z",
     "start_time": "2020-12-08T14:55:33.922606Z"
    }
   },
   "outputs": [
    {
     "name": "stdout",
     "output_type": "stream",
     "text": [
      "Age                              33\n",
      "Gender                            1\n",
      "Height                        157.5\n",
      "Weight                         54.2\n",
      "BMI                         21.8493\n",
      "                             ...   \n",
      "Dental_total                      0\n",
      "PF50                       0.311111\n",
      "Corrective_lens                   1\n",
      "Hearing_dis_ortho_total           0\n",
      "Ones                              1\n",
      "Name: 1, Length: 62, dtype: object\n"
     ]
    }
   ],
   "source": [
    "print(data.iloc[0])"
   ]
  },
  {
   "cell_type": "code",
   "execution_count": 36,
   "metadata": {
    "ExecuteTime": {
     "end_time": "2020-12-08T17:25:50.498930Z",
     "start_time": "2020-12-08T17:25:50.360661Z"
    }
   },
   "outputs": [
    {
     "data": {
      "text/html": [
       "<div>\n",
       "<style scoped>\n",
       "    .dataframe tbody tr th:only-of-type {\n",
       "        vertical-align: middle;\n",
       "    }\n",
       "\n",
       "    .dataframe tbody tr th {\n",
       "        vertical-align: top;\n",
       "    }\n",
       "\n",
       "    .dataframe thead th {\n",
       "        text-align: right;\n",
       "    }\n",
       "</style>\n",
       "<table border=\"1\" class=\"dataframe\">\n",
       "  <thead>\n",
       "    <tr style=\"text-align: right;\">\n",
       "      <th></th>\n",
       "      <th>Age</th>\n",
       "      <th>Gender</th>\n",
       "      <th>Height</th>\n",
       "      <th>Weight</th>\n",
       "      <th>BMI</th>\n",
       "      <th>FootLen</th>\n",
       "      <th>Ystudy</th>\n",
       "      <th>Illness</th>\n",
       "      <th>Nmedication</th>\n",
       "      <th>Ortho-Prosthesis</th>\n",
       "      <th>...</th>\n",
       "      <th>HMGCoAreductaseinhibitor</th>\n",
       "      <th>Hypercholesterolemia_total</th>\n",
       "      <th>Hypertension_total</th>\n",
       "      <th>Normal Shoes_total</th>\n",
       "      <th>Sandal_FlipFlop_total</th>\n",
       "      <th>Dental_total</th>\n",
       "      <th>PF50</th>\n",
       "      <th>Corrective_lens</th>\n",
       "      <th>Hearing_dis_ortho_total</th>\n",
       "      <th>Ones</th>\n",
       "    </tr>\n",
       "    <tr>\n",
       "      <th>Subject</th>\n",
       "      <th></th>\n",
       "      <th></th>\n",
       "      <th></th>\n",
       "      <th></th>\n",
       "      <th></th>\n",
       "      <th></th>\n",
       "      <th></th>\n",
       "      <th></th>\n",
       "      <th></th>\n",
       "      <th></th>\n",
       "      <th></th>\n",
       "      <th></th>\n",
       "      <th></th>\n",
       "      <th></th>\n",
       "      <th></th>\n",
       "      <th></th>\n",
       "      <th></th>\n",
       "      <th></th>\n",
       "      <th></th>\n",
       "      <th></th>\n",
       "      <th></th>\n",
       "    </tr>\n",
       "  </thead>\n",
       "  <tbody>\n",
       "    <tr>\n",
       "      <th>1</th>\n",
       "      <td>33.000000</td>\n",
       "      <td>1</td>\n",
       "      <td>157.5</td>\n",
       "      <td>54.20</td>\n",
       "      <td>21.849332</td>\n",
       "      <td>21.80</td>\n",
       "      <td>17</td>\n",
       "      <td>1</td>\n",
       "      <td>1</td>\n",
       "      <td>1</td>\n",
       "      <td>...</td>\n",
       "      <td>0</td>\n",
       "      <td>0</td>\n",
       "      <td>0</td>\n",
       "      <td>0</td>\n",
       "      <td>1</td>\n",
       "      <td>0</td>\n",
       "      <td>0.311111</td>\n",
       "      <td>1</td>\n",
       "      <td>0</td>\n",
       "      <td>1.0</td>\n",
       "    </tr>\n",
       "    <tr>\n",
       "      <th>2</th>\n",
       "      <td>27.583333</td>\n",
       "      <td>1</td>\n",
       "      <td>154.0</td>\n",
       "      <td>44.00</td>\n",
       "      <td>18.552876</td>\n",
       "      <td>22.45</td>\n",
       "      <td>17</td>\n",
       "      <td>0</td>\n",
       "      <td>0</td>\n",
       "      <td>0</td>\n",
       "      <td>...</td>\n",
       "      <td>0</td>\n",
       "      <td>0</td>\n",
       "      <td>0</td>\n",
       "      <td>1</td>\n",
       "      <td>1</td>\n",
       "      <td>0</td>\n",
       "      <td>0.255556</td>\n",
       "      <td>0</td>\n",
       "      <td>0</td>\n",
       "      <td>1.0</td>\n",
       "    </tr>\n",
       "    <tr>\n",
       "      <th>3</th>\n",
       "      <td>36.916667</td>\n",
       "      <td>0</td>\n",
       "      <td>161.7</td>\n",
       "      <td>63.40</td>\n",
       "      <td>24.247626</td>\n",
       "      <td>23.10</td>\n",
       "      <td>11</td>\n",
       "      <td>0</td>\n",
       "      <td>0</td>\n",
       "      <td>1</td>\n",
       "      <td>...</td>\n",
       "      <td>0</td>\n",
       "      <td>0</td>\n",
       "      <td>0</td>\n",
       "      <td>0</td>\n",
       "      <td>0</td>\n",
       "      <td>1</td>\n",
       "      <td>0.400000</td>\n",
       "      <td>0</td>\n",
       "      <td>1</td>\n",
       "      <td>1.0</td>\n",
       "    </tr>\n",
       "    <tr>\n",
       "      <th>4</th>\n",
       "      <td>61.750000</td>\n",
       "      <td>0</td>\n",
       "      <td>164.0</td>\n",
       "      <td>68.35</td>\n",
       "      <td>25.412701</td>\n",
       "      <td>24.70</td>\n",
       "      <td>1</td>\n",
       "      <td>0</td>\n",
       "      <td>0</td>\n",
       "      <td>1</td>\n",
       "      <td>...</td>\n",
       "      <td>0</td>\n",
       "      <td>0</td>\n",
       "      <td>0</td>\n",
       "      <td>1</td>\n",
       "      <td>0</td>\n",
       "      <td>1</td>\n",
       "      <td>0.233333</td>\n",
       "      <td>0</td>\n",
       "      <td>1</td>\n",
       "      <td>1.0</td>\n",
       "    </tr>\n",
       "    <tr>\n",
       "      <th>6</th>\n",
       "      <td>49.333333</td>\n",
       "      <td>0</td>\n",
       "      <td>163.5</td>\n",
       "      <td>70.65</td>\n",
       "      <td>26.428752</td>\n",
       "      <td>23.70</td>\n",
       "      <td>10</td>\n",
       "      <td>0</td>\n",
       "      <td>1</td>\n",
       "      <td>1</td>\n",
       "      <td>...</td>\n",
       "      <td>0</td>\n",
       "      <td>0</td>\n",
       "      <td>0</td>\n",
       "      <td>1</td>\n",
       "      <td>0</td>\n",
       "      <td>1</td>\n",
       "      <td>0.255556</td>\n",
       "      <td>1</td>\n",
       "      <td>1</td>\n",
       "      <td>1.0</td>\n",
       "    </tr>\n",
       "    <tr>\n",
       "      <th>...</th>\n",
       "      <td>...</td>\n",
       "      <td>...</td>\n",
       "      <td>...</td>\n",
       "      <td>...</td>\n",
       "      <td>...</td>\n",
       "      <td>...</td>\n",
       "      <td>...</td>\n",
       "      <td>...</td>\n",
       "      <td>...</td>\n",
       "      <td>...</td>\n",
       "      <td>...</td>\n",
       "      <td>...</td>\n",
       "      <td>...</td>\n",
       "      <td>...</td>\n",
       "      <td>...</td>\n",
       "      <td>...</td>\n",
       "      <td>...</td>\n",
       "      <td>...</td>\n",
       "      <td>...</td>\n",
       "      <td>...</td>\n",
       "      <td>...</td>\n",
       "    </tr>\n",
       "    <tr>\n",
       "      <th>159</th>\n",
       "      <td>24.750000</td>\n",
       "      <td>1</td>\n",
       "      <td>153.5</td>\n",
       "      <td>62.05</td>\n",
       "      <td>26.334497</td>\n",
       "      <td>21.65</td>\n",
       "      <td>16</td>\n",
       "      <td>1</td>\n",
       "      <td>0</td>\n",
       "      <td>0</td>\n",
       "      <td>...</td>\n",
       "      <td>0</td>\n",
       "      <td>0</td>\n",
       "      <td>0</td>\n",
       "      <td>1</td>\n",
       "      <td>0</td>\n",
       "      <td>0</td>\n",
       "      <td>0.266667</td>\n",
       "      <td>0</td>\n",
       "      <td>0</td>\n",
       "      <td>1.0</td>\n",
       "    </tr>\n",
       "    <tr>\n",
       "      <th>160</th>\n",
       "      <td>23.583333</td>\n",
       "      <td>1</td>\n",
       "      <td>161.5</td>\n",
       "      <td>56.55</td>\n",
       "      <td>21.681412</td>\n",
       "      <td>22.75</td>\n",
       "      <td>16</td>\n",
       "      <td>0</td>\n",
       "      <td>0</td>\n",
       "      <td>1</td>\n",
       "      <td>...</td>\n",
       "      <td>0</td>\n",
       "      <td>0</td>\n",
       "      <td>0</td>\n",
       "      <td>1</td>\n",
       "      <td>0</td>\n",
       "      <td>0</td>\n",
       "      <td>0.200000</td>\n",
       "      <td>1</td>\n",
       "      <td>0</td>\n",
       "      <td>1.0</td>\n",
       "    </tr>\n",
       "    <tr>\n",
       "      <th>161</th>\n",
       "      <td>25.333333</td>\n",
       "      <td>1</td>\n",
       "      <td>167.7</td>\n",
       "      <td>60.55</td>\n",
       "      <td>21.530198</td>\n",
       "      <td>23.75</td>\n",
       "      <td>15</td>\n",
       "      <td>1</td>\n",
       "      <td>1</td>\n",
       "      <td>0</td>\n",
       "      <td>...</td>\n",
       "      <td>0</td>\n",
       "      <td>0</td>\n",
       "      <td>0</td>\n",
       "      <td>1</td>\n",
       "      <td>0</td>\n",
       "      <td>0</td>\n",
       "      <td>0.244444</td>\n",
       "      <td>0</td>\n",
       "      <td>0</td>\n",
       "      <td>1.0</td>\n",
       "    </tr>\n",
       "    <tr>\n",
       "      <th>162</th>\n",
       "      <td>24.083333</td>\n",
       "      <td>0</td>\n",
       "      <td>183.5</td>\n",
       "      <td>63.20</td>\n",
       "      <td>18.769165</td>\n",
       "      <td>25.75</td>\n",
       "      <td>17</td>\n",
       "      <td>0</td>\n",
       "      <td>0</td>\n",
       "      <td>1</td>\n",
       "      <td>...</td>\n",
       "      <td>0</td>\n",
       "      <td>0</td>\n",
       "      <td>0</td>\n",
       "      <td>1</td>\n",
       "      <td>0</td>\n",
       "      <td>0</td>\n",
       "      <td>0.211111</td>\n",
       "      <td>1</td>\n",
       "      <td>0</td>\n",
       "      <td>1.0</td>\n",
       "    </tr>\n",
       "    <tr>\n",
       "      <th>163</th>\n",
       "      <td>25.416667</td>\n",
       "      <td>0</td>\n",
       "      <td>172.0</td>\n",
       "      <td>74.60</td>\n",
       "      <td>25.216333</td>\n",
       "      <td>24.90</td>\n",
       "      <td>18</td>\n",
       "      <td>1</td>\n",
       "      <td>0</td>\n",
       "      <td>1</td>\n",
       "      <td>...</td>\n",
       "      <td>0</td>\n",
       "      <td>0</td>\n",
       "      <td>0</td>\n",
       "      <td>1</td>\n",
       "      <td>0</td>\n",
       "      <td>0</td>\n",
       "      <td>0.277778</td>\n",
       "      <td>1</td>\n",
       "      <td>0</td>\n",
       "      <td>1.0</td>\n",
       "    </tr>\n",
       "  </tbody>\n",
       "</table>\n",
       "<p>152 rows × 62 columns</p>\n",
       "</div>"
      ],
      "text/plain": [
       "               Age Gender  Height  Weight        BMI  FootLen  Ystudy Illness  \\\n",
       "Subject                                                                         \n",
       "1        33.000000      1   157.5   54.20  21.849332    21.80      17       1   \n",
       "2        27.583333      1   154.0   44.00  18.552876    22.45      17       0   \n",
       "3        36.916667      0   161.7   63.40  24.247626    23.10      11       0   \n",
       "4        61.750000      0   164.0   68.35  25.412701    24.70       1       0   \n",
       "6        49.333333      0   163.5   70.65  26.428752    23.70      10       0   \n",
       "...            ...    ...     ...     ...        ...      ...     ...     ...   \n",
       "159      24.750000      1   153.5   62.05  26.334497    21.65      16       1   \n",
       "160      23.583333      1   161.5   56.55  21.681412    22.75      16       0   \n",
       "161      25.333333      1   167.7   60.55  21.530198    23.75      15       1   \n",
       "162      24.083333      0   183.5   63.20  18.769165    25.75      17       0   \n",
       "163      25.416667      0   172.0   74.60  25.216333    24.90      18       1   \n",
       "\n",
       "         Nmedication Ortho-Prosthesis  ... HMGCoAreductaseinhibitor  \\\n",
       "Subject                                ...                            \n",
       "1                  1                1  ...                        0   \n",
       "2                  0                0  ...                        0   \n",
       "3                  0                1  ...                        0   \n",
       "4                  0                1  ...                        0   \n",
       "6                  1                1  ...                        0   \n",
       "...              ...              ...  ...                      ...   \n",
       "159                0                0  ...                        0   \n",
       "160                0                1  ...                        0   \n",
       "161                1                0  ...                        0   \n",
       "162                0                1  ...                        0   \n",
       "163                0                1  ...                        0   \n",
       "\n",
       "         Hypercholesterolemia_total  Hypertension_total  Normal Shoes_total  \\\n",
       "Subject                                                                       \n",
       "1                                 0                   0                   0   \n",
       "2                                 0                   0                   1   \n",
       "3                                 0                   0                   0   \n",
       "4                                 0                   0                   1   \n",
       "6                                 0                   0                   1   \n",
       "...                             ...                 ...                 ...   \n",
       "159                               0                   0                   1   \n",
       "160                               0                   0                   1   \n",
       "161                               0                   0                   1   \n",
       "162                               0                   0                   1   \n",
       "163                               0                   0                   1   \n",
       "\n",
       "         Sandal_FlipFlop_total  Dental_total      PF50  Corrective_lens  \\\n",
       "Subject                                                                   \n",
       "1                            1             0  0.311111                1   \n",
       "2                            1             0  0.255556                0   \n",
       "3                            0             1  0.400000                0   \n",
       "4                            0             1  0.233333                0   \n",
       "6                            0             1  0.255556                1   \n",
       "...                        ...           ...       ...              ...   \n",
       "159                          0             0  0.266667                0   \n",
       "160                          0             0  0.200000                1   \n",
       "161                          0             0  0.244444                0   \n",
       "162                          0             0  0.211111                1   \n",
       "163                          0             0  0.277778                1   \n",
       "\n",
       "         Hearing_dis_ortho_total  Ones  \n",
       "Subject                                 \n",
       "1                              0   1.0  \n",
       "2                              0   1.0  \n",
       "3                              1   1.0  \n",
       "4                              1   1.0  \n",
       "6                              1   1.0  \n",
       "...                          ...   ...  \n",
       "159                            0   1.0  \n",
       "160                            0   1.0  \n",
       "161                            0   1.0  \n",
       "162                            0   1.0  \n",
       "163                            0   1.0  \n",
       "\n",
       "[152 rows x 62 columns]"
      ]
     },
     "execution_count": 36,
     "metadata": {},
     "output_type": "execute_result"
    }
   ],
   "source": [
    "data"
   ]
  },
  {
   "cell_type": "code",
   "execution_count": 43,
   "metadata": {
    "ExecuteTime": {
     "end_time": "2020-12-08T17:29:37.378606Z",
     "start_time": "2020-12-08T17:29:37.354650Z"
    }
   },
   "outputs": [
    {
     "name": "stdout",
     "output_type": "stream",
     "text": [
      "Features:  ['Age', 'Gender', 'Height', 'Weight', 'BMI', 'FootLen', 'Ystudy', 'Illness', 'Nmedication', 'Ortho-Prosthesis', 'Disability', 'Falls12m', 'FES_1', 'FES_2', 'FES_3', 'FES_4', 'FES_5', 'FES_6', 'FES_7', 'FES_T', 'FES_S', 'IPAQ_1a', 'IPAQ_1b', 'IPAQ_2a', 'IPAQ_2b', 'IPAQ_3a', 'IPAQ_3b', 'IPAQ_4a', 'IPAQ_4b', 'IPAQ_S', 'TMT_timeA', 'TMT_errorsA', 'TMT_timeB', 'TMT_errorsB', 'Best_1', 'Best_2', 'Best_3l', 'Best_3r', 'Best_4', 'Best_5', 'Best_6l', 'Best_6r', 'Best_7', 'Best_8', 'Best_9', 'Best_10', 'Best_11', 'Best_12', 'Best_13', 'Best_14', 'Best_T', 'AngiotensinIIreceptorantagonist', 'HMGCoAreductaseinhibitor', 'Hypercholesterolemia_total', 'Hypertension_total', 'Normal Shoes_total', 'Sandal_FlipFlop_total', 'Dental_total', 'Corrective_lens', 'Hearing_dis_ortho_total', 'Ones']\n",
      "[0.22 0.28 0.36]\n",
      "(106, 1)\n",
      "(46, 1)\n"
     ]
    }
   ],
   "source": [
    "## Salva dado de treino/vali e dado de teste\n",
    "from sklearn.model_selection import train_test_split\n",
    "\n",
    "\n",
    "# Read clean data (features <10% excluded) = 25 features\n",
    "data = pd.read_pickle(\"data_closed_foam_adjusted_cleanBDS\")\n",
    "pf50 = np.round(data[\"PF50\"].values, 2)\n",
    "\n",
    "# Usar todas as 24 características + ones\n",
    "features = data.copy()\n",
    "features.drop(\"PF50\", axis=1, inplace=True)\n",
    "\n",
    "features_names = features.columns\n",
    "print('Features: ',list(features_names))\n",
    "X = features.values.astype('float')\n",
    "y = pf50.reshape(len(pf50), 1)\n",
    "\n",
    "# Separando o dataset em treino/vali e teste (treino/vali 70%, teste 30%)\n",
    "X_train_vali, X_test, y_train_vali, y_test = train_test_split(X, y, test_size=0.3, random_state=42)\n",
    "\n",
    "# Dividehn5 vcnky, em classes de acordo com a os quartis do dado de treino/vali\n",
    "quart = np.quantile(y_train_vali,[0.25, 0.5, 0.75])\n",
    "print(quart)\n",
    "y_train_vali_class = np.digitize(y_train_vali, quart)\n",
    "y_test_class = np.digitize(y_test, quart)\n",
    "print((y_train_vali_class).shape)\n",
    "print((y_test_class).shape)\n",
    "\n",
    "# Salvando os dados em datasets separados\n",
    "\n"
   ]
  },
  {
   "cell_type": "code",
   "execution_count": 52,
   "metadata": {
    "ExecuteTime": {
     "end_time": "2020-12-08T17:31:37.905336Z",
     "start_time": "2020-12-08T17:31:37.899692Z"
    }
   },
   "outputs": [],
   "source": [
    "from boruta import BorutaPy\n",
    "from sklearn.ensemble import RandomForestRegressor\n",
    "import numpy as np\n",
    "###initialize Boruta\n",
    "forest = RandomForestRegressor(n_jobs = -1, max_depth = 10)"
   ]
  },
  {
   "cell_type": "code",
   "execution_count": 57,
   "metadata": {
    "ExecuteTime": {
     "end_time": "2020-12-08T17:32:43.052415Z",
     "start_time": "2020-12-08T17:32:15.579141Z"
    }
   },
   "outputs": [
    {
     "data": {
      "text/plain": [
       "BorutaPy(estimator=RandomForestRegressor(max_depth=10, n_estimators=20,\n",
       "                                         n_jobs=-1,\n",
       "                                         random_state=RandomState(MT19937) at 0x7F0BEC093EB8),\n",
       "         max_iter=1000, n_estimators='auto',\n",
       "         random_state=RandomState(MT19937) at 0x7F0BEC093EB8)"
      ]
     },
     "execution_count": 57,
     "metadata": {},
     "output_type": "execute_result"
    }
   ],
   "source": [
    "boruta = BorutaPy(estimator=forest, n_estimators='auto', max_iter=1000) # number of trials to perform\n",
    "boruta.fit(X_train_vali, y_train_vali.squeeze())"
   ]
  },
  {
   "cell_type": "code",
   "execution_count": 58,
   "metadata": {
    "ExecuteTime": {
     "end_time": "2020-12-08T17:32:43.717545Z",
     "start_time": "2020-12-08T17:32:43.714185Z"
    }
   },
   "outputs": [
    {
     "name": "stdout",
     "output_type": "stream",
     "text": [
      "features in the green area: ['Age']\n",
      "features in the blue area: []\n"
     ]
    }
   ],
   "source": [
    "green_area = features_names[boruta.support_].to_list()\n",
    "blue_area = features_names[boruta.support_weak_].to_list()\n",
    "print('features in the green area:', green_area)\n",
    "print('features in the blue area:', blue_area)"
   ]
  },
  {
   "cell_type": "code",
   "execution_count": 59,
   "metadata": {
    "ExecuteTime": {
     "end_time": "2020-12-08T17:33:14.420373Z",
     "start_time": "2020-12-08T17:33:14.400184Z"
    }
   },
   "outputs": [
    {
     "data": {
      "text/plain": [
       "Index(['Age', 'Gender', 'Height', 'Weight', 'BMI', 'FootLen', 'Ystudy',\n",
       "       'Illness', 'Nmedication', 'Ortho-Prosthesis', 'Disability', 'Falls12m',\n",
       "       'FES_1', 'FES_2', 'FES_3', 'FES_4', 'FES_5', 'FES_6', 'FES_7', 'FES_T',\n",
       "       'FES_S', 'IPAQ_1a', 'IPAQ_1b', 'IPAQ_2a', 'IPAQ_2b', 'IPAQ_3a',\n",
       "       'IPAQ_3b', 'IPAQ_4a', 'IPAQ_4b', 'IPAQ_S', 'TMT_timeA', 'TMT_errorsA',\n",
       "       'TMT_timeB', 'TMT_errorsB', 'Best_1', 'Best_2', 'Best_3l', 'Best_3r',\n",
       "       'Best_4', 'Best_5', 'Best_6l', 'Best_6r', 'Best_7', 'Best_8', 'Best_9',\n",
       "       'Best_10', 'Best_11', 'Best_12', 'Best_13', 'Best_14', 'Best_T',\n",
       "       'AngiotensinIIreceptorantagonist', 'HMGCoAreductaseinhibitor',\n",
       "       'Hypercholesterolemia_total', 'Hypertension_total',\n",
       "       'Normal Shoes_total', 'Sandal_FlipFlop_total', 'Dental_total',\n",
       "       'Corrective_lens', 'Hearing_dis_ortho_total', 'Ones'],\n",
       "      dtype='object')"
      ]
     },
     "execution_count": 59,
     "metadata": {},
     "output_type": "execute_result"
    }
   ],
   "source": [
    "features_names\n"
   ]
  },
  {
   "cell_type": "code",
   "execution_count": 62,
   "metadata": {
    "ExecuteTime": {
     "end_time": "2020-12-08T17:57:17.609348Z",
     "start_time": "2020-12-08T17:57:17.597560Z"
    }
   },
   "outputs": [],
   "source": [
    "np.save('X_testBDS.npy', X_test)\n",
    "np.save('y_testBDS.npy', y_test)\n",
    "np.save('y_test_classBDS.npy', y_test_class)\n",
    "np.save('X_train_valiBDS.npy', X_train_vali)\n",
    "np.save('y_train_valiBDS.npy', y_train_vali)\n",
    "np.save('y_train_vali_classBDS.npy', y_train_vali_class)\n",
    "np.save('features_names.npy', np.array(features_names), allow_pickle=True)"
   ]
  },
  {
   "cell_type": "code",
   "execution_count": null,
   "metadata": {},
   "outputs": [],
   "source": []
  }
 ],
 "metadata": {
  "kernelspec": {
   "display_name": "Python 3",
   "language": "python",
   "name": "python3"
  },
  "language_info": {
   "codemirror_mode": {
    "name": "ipython",
    "version": 3
   },
   "file_extension": ".py",
   "mimetype": "text/x-python",
   "name": "python",
   "nbconvert_exporter": "python",
   "pygments_lexer": "ipython3",
   "version": "3.6.12"
  },
  "nbTranslate": {
   "displayLangs": [
    "*"
   ],
   "hotkey": "alt-t",
   "langInMainMenu": true,
   "sourceLang": "en",
   "targetLang": "fr",
   "useGoogleTranslate": true
  },
  "toc": {
   "base_numbering": 1,
   "nav_menu": {},
   "number_sections": true,
   "sideBar": true,
   "skip_h1_title": false,
   "title_cell": "Table of Contents",
   "title_sidebar": "Contents",
   "toc_cell": false,
   "toc_position": {},
   "toc_section_display": true,
   "toc_window_display": false
  },
  "varInspector": {
   "cols": {
    "lenName": 16,
    "lenType": 16,
    "lenVar": 40
   },
   "kernels_config": {
    "python": {
     "delete_cmd_postfix": "",
     "delete_cmd_prefix": "del ",
     "library": "var_list.py",
     "varRefreshCmd": "print(var_dic_list())"
    },
    "r": {
     "delete_cmd_postfix": ") ",
     "delete_cmd_prefix": "rm(",
     "library": "var_list.r",
     "varRefreshCmd": "cat(var_dic_list()) "
    }
   },
   "types_to_exclude": [
    "module",
    "function",
    "builtin_function_or_method",
    "instance",
    "_Feature"
   ],
   "window_display": false
  }
 },
 "nbformat": 4,
 "nbformat_minor": 2
}
