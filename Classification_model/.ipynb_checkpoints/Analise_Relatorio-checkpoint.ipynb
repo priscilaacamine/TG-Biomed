{
 "cells": [
  {
   "cell_type": "code",
   "execution_count": 1,
   "metadata": {},
   "outputs": [],
   "source": [
    "# Importando as bibliotecas necessarias\n",
    "import numpy as np\n",
    "import matplotlib.pyplot as plt\n",
    "# %matplotlib notebook\n",
    "import pandas as pd\n",
    "from scipy.stats import mode, pearsonr, spearmanr\n",
    "import glob, os\n",
    "from sklearn.metrics import confusion_matrix\n",
    "pd.set_option(\"display.max_rows\", 300)"
   ]
  },
  {
   "cell_type": "code",
   "execution_count": 2,
   "metadata": {},
   "outputs": [
    {
     "name": "stdout",
     "output_type": "stream",
     "text": [
      "[0.13   0.175  0.2125]\n",
      "(144, 1)\n",
      "(63, 1)\n"
     ]
    }
   ],
   "source": [
    "y_train_vali = np.load('y_train_vali.npy')\n",
    "y_test = np.load('y_test.npy')\n",
    "\n",
    "# Divide em classes de acordo com a os quartis do dado de treino/vali\n",
    "quart = np.quantile(y_train_vali,[0.25, 0.5, 0.75])\n",
    "print(quart)\n",
    "y_train_vali_class = np.digitize(y_train_vali, quart)\n",
    "y_test_class = np.digitize(y_test, quart)\n",
    "print((y_train_vali_class).shape)\n",
    "print((y_test_class).shape)"
   ]
  },
  {
   "cell_type": "code",
   "execution_count": 3,
   "metadata": {},
   "outputs": [
    {
     "data": {
      "image/png": "[encoded data removed]",
      "text/plain": [
       "<Figure size 432x288 with 1 Axes>"
      ]
     },
     "metadata": {
      "needs_background": "light"
     },
     "output_type": "display_data"
    }
   ],
   "source": [
    "plt.figure()\n",
    "plt.boxplot(y_train_vali)\n",
    "plt.ylabel('PF50')\n",
    "plt.xlabel('Grupo de treinamento e validação')\n",
    "plt.savefig('Boxplot_treino_vali.png')\n",
    "plt.show()"
   ]
  },
  {
   "cell_type": "code",
   "execution_count": 4,
   "metadata": {},
   "outputs": [
    {
     "data": {
      "image/png": "[encoded data removed]",
      "text/plain": [
       "<Figure size 432x288 with 1 Axes>"
      ]
     },
     "metadata": {
      "needs_background": "light"
     },
     "output_type": "display_data"
    }
   ],
   "source": [
    "plt.figure()\n",
    "plt.hist(y_train_vali_class)\n",
    "plt.xlabel('Classe')\n",
    "plt.ylabel('Frequência')\n",
    "plt.savefig('Histograma_treino_vali.png')\n",
    "plt.show()"
   ]
  },
  {
   "cell_type": "code",
   "execution_count": 5,
   "metadata": {},
   "outputs": [],
   "source": [
    "# Read xlsx with nets info\n",
    "df_nets = pd.read_excel('SELECTED_NETS.xlsx', index_col=None, header=0)"
   ]
  },
  {
   "cell_type": "code",
   "execution_count": 6,
   "metadata": {},
   "outputs": [],
   "source": [
    "leave_out = [21, 20, 23, 55, 5, 41, 60, 31]\n",
    "all_patients = range(63)\n",
    "selected_patients = list(set(all_patients) - set(leave_out))"
   ]
  },
  {
   "cell_type": "code",
   "execution_count": 7,
   "metadata": {},
   "outputs": [
    {
     "name": "stdout",
     "output_type": "stream",
     "text": [
      "47.27272727272727\n"
     ]
    }
   ],
   "source": [
    "# New Acc\n",
    "\n",
    "all_predicted = np.empty([df_nets.shape[0], 55])\n",
    "new_acc = np.empty([df_nets.shape[0]])\n",
    "classTarget = np.load('y_test_class.npy')\n",
    "classTarget_8out = classTarget[selected_patients]\n",
    "for net_number in range(df_nets.shape[0]):\n",
    "    netX = df_nets.iloc[net_number]\n",
    "    net_predicted_str = netX['test_predicted'][1:-1].replace(\"\\n\", \"\")\n",
    "    net_predicted = np.fromstring(net_predicted_str, dtype=int, sep=' ')\n",
    "    net_predicted_8out = net_predicted[selected_patients]\n",
    "    all_predicted[net_number] = net_predicted[selected_patients]\n",
    "    \n",
    "    new_acc[net_number] = np.sum(classTarget_8out.squeeze()==net_predicted_8out.squeeze())/len(classTarget_8out)*100\n",
    "\n",
    "df_nets['new_acc'] = new_acc\n",
    "print(max(new_acc))"
   ]
  },
  {
   "cell_type": "code",
   "execution_count": 8,
   "metadata": {},
   "outputs": [
    {
     "name": "stdout",
     "output_type": "stream",
     "text": [
      "(10, 55)\n"
     ]
    },
    {
     "data": {
      "image/png": "[encoded data removed]",
      "text/plain": [
       "<Figure size 432x288 with 1 Axes>"
      ]
     },
     "metadata": {
      "needs_background": "light"
     },
     "output_type": "display_data"
    },
    {
     "name": "stdout",
     "output_type": "stream",
     "text": [
      "Errors: 24; Accuracy: 56.363636%\n",
      "R-corrcoef: 0.4409276420663171\n",
      "[[17  0  1  2]\n",
      " [ 8  5  0  2]\n",
      " [ 5  0  5  1]\n",
      " [ 2  1  2  4]]\n",
      "[[85.          0.          5.         10.        ]\n",
      " [53.33333333 33.33333333  0.         13.33333333]\n",
      " [45.45454545  0.         45.45454545  9.09090909]\n",
      " [22.22222222 11.11111111 22.22222222 44.44444444]]\n"
     ]
    }
   ],
   "source": [
    "all_predicted = np.empty([df_nets.shape[0], 55])\n",
    "for net_number in range(df_nets.shape[0]):\n",
    "    netX = df_nets.iloc[net_number]\n",
    "    net_predicted_str = netX['test_predicted'][1:-1].replace(\"\\n\", \"\")\n",
    "    net_predicted = np.fromstring(net_predicted_str, dtype=int, sep=' ')\n",
    "    all_predicted[net_number] = net_predicted[selected_patients]\n",
    "\n",
    "print(all_predicted.shape)\n",
    "\n",
    "voteClassOut, count = mode(all_predicted, axis=0)\n",
    "# print(voteClassOut)\n",
    "voteClassOut = voteClassOut.reshape(55,1)\n",
    "\n",
    "classTarget = np.load('y_test_class.npy')\n",
    "classTarget_8out = classTarget[selected_patients]\n",
    "# print(classTarget.reshape(1, 63))\n",
    "\n",
    "plt.figure()\n",
    "plt.plot(classTarget_8out, 'ob', label='Alvo')\n",
    "plt.plot(voteClassOut, 'xr', label='Predição')\n",
    "plt.xlabel('Indivíduos')\n",
    "plt.ylabel('Classe')\n",
    "plt.title('Método Votação Leave-8-out')\n",
    "plt.legend()\n",
    "plt.savefig('Vote_leave8out.png')\n",
    "plt.show()\n",
    "\n",
    "error_count = len(classTarget_8out) - np.count_nonzero((classTarget_8out.squeeze() == voteClassOut.squeeze()))\n",
    "acc = np.sum(classTarget_8out.squeeze()==voteClassOut.squeeze())/len(classTarget_8out)*100\n",
    "r = np.corrcoef(voteClassOut.squeeze(), classTarget_8out.squeeze())[0,1]\n",
    "\n",
    "print('Errors: %d; Accuracy: %f%%' % (error_count, acc))\n",
    "print('R-corrcoef: %s' % (str(r)))\n",
    "\n",
    "# Confusion matrix\n",
    "C = confusion_matrix(classTarget_8out,voteClassOut, labels=[0, 1, 2, 3])\n",
    "C_perc = C/np.sum(C, axis=1, keepdims=True)*100\n",
    "print(C)\n",
    "print(C_perc)"
   ]
  },
  {
   "cell_type": "code",
   "execution_count": 9,
   "metadata": {},
   "outputs": [
    {
     "name": "stdout",
     "output_type": "stream",
     "text": [
      "(10, 8)\n"
     ]
    },
    {
     "data": {
      "image/png": "[encoded data removed]",
      "text/plain": [
       "<Figure size 432x288 with 1 Axes>"
      ]
     },
     "metadata": {
      "needs_background": "light"
     },
     "output_type": "display_data"
    },
    {
     "name": "stdout",
     "output_type": "stream",
     "text": [
      "Errors: 3; Accuracy: 62.500000%\n",
      "R-corrcoef: 0.6393293950763895\n",
      "[[3 0 0 0]\n",
      " [0 0 0 0]\n",
      " [0 0 1 1]\n",
      " [1 0 1 1]]\n",
      "[[100.           0.           0.           0.        ]\n",
      " [         nan          nan          nan          nan]\n",
      " [  0.           0.          50.          50.        ]\n",
      " [ 33.33333333   0.          33.33333333  33.33333333]]\n"
     ]
    },
    {
     "name": "stderr",
     "output_type": "stream",
     "text": [
      "D:\\anaconda3\\envs\\zika\\lib\\site-packages\\ipykernel_launcher.py:36: RuntimeWarning: invalid value encountered in true_divide\n"
     ]
    }
   ],
   "source": [
    "all_predicted = np.empty([df_nets.shape[0], 8])\n",
    "for net_number in range(df_nets.shape[0]):\n",
    "    netX = df_nets.iloc[net_number]\n",
    "    net_predicted_str = netX['test_predicted'][1:-1].replace(\"\\n\", \"\")\n",
    "    net_predicted = np.fromstring(net_predicted_str, dtype=int, sep=' ')\n",
    "    all_predicted[net_number] = net_predicted[leave_out]\n",
    "\n",
    "print(all_predicted.shape)\n",
    "\n",
    "voteClassOut, count = mode(all_predicted, axis=0)\n",
    "# print(voteClassOut)\n",
    "voteClassOut = voteClassOut.reshape(8,1)\n",
    "\n",
    "classTarget = np.load('y_test_class.npy')\n",
    "classTarget_8out = classTarget[leave_out]\n",
    "\n",
    "plt.figure()\n",
    "plt.plot(classTarget_8out, 'ob', label='Alvo')\n",
    "plt.plot(voteClassOut, 'xr', label='Predição')\n",
    "plt.xlabel('Indivíduos')\n",
    "plt.ylabel('Classe')\n",
    "plt.title('Método Votação Teste 8-out')\n",
    "plt.legend()\n",
    "plt.savefig('Vote_test8out.png')\n",
    "plt.show()\n",
    "\n",
    "error_count = len(classTarget_8out) - np.count_nonzero((classTarget_8out.squeeze() == voteClassOut.squeeze()))\n",
    "acc = np.sum(classTarget_8out.squeeze()==voteClassOut.squeeze())/len(classTarget_8out)*100\n",
    "r = np.corrcoef(voteClassOut.squeeze(), classTarget_8out.squeeze())[0,1]\n",
    "\n",
    "print('Errors: %d; Accuracy: %f%%' % (error_count, acc))\n",
    "print('R-corrcoef: %s' % (str(r)))\n",
    "\n",
    "# Confusion matrix\n",
    "C = confusion_matrix(classTarget_8out,voteClassOut, labels=[0, 1, 2, 3])\n",
    "C_perc = C/np.sum(C, axis=1, keepdims=True)*100\n",
    "print(C)\n",
    "print(C_perc)"
   ]
  },
  {
   "cell_type": "code",
   "execution_count": null,
   "metadata": {},
   "outputs": [],
   "source": []
  },
  {
   "cell_type": "code",
   "execution_count": null,
   "metadata": {},
   "outputs": [],
   "source": []
  },
  {
   "cell_type": "code",
   "execution_count": null,
   "metadata": {},
   "outputs": [],
   "source": []
  }
 ],
 "metadata": {
  "kernelspec": {
   "display_name": "zika",
   "language": "python",
   "name": "zika"
  },
  "language_info": {
   "codemirror_mode": {
    "name": "ipython",
    "version": 3
   },
   "file_extension": ".py",
   "mimetype": "text/x-python",
   "name": "python",
   "nbconvert_exporter": "python",
   "pygments_lexer": "ipython3",
   "version": "3.7.1"
  }
 },
 "nbformat": 4,
 "nbformat_minor": 2
}
