{
 "cells": [
  {
   "cell_type": "code",
   "execution_count": 1,
   "metadata": {},
   "outputs": [],
   "source": [
    "# Importando as bibliotecas necessarias\n",
    "import numpy as np\n",
    "import matplotlib.pyplot as plt\n",
    "# %matplotlib notebook\n",
    "import pandas as pd\n",
    "from scipy.stats import mode\n",
    "pd.set_option(\"display.max_rows\", 300)"
   ]
  },
  {
   "cell_type": "code",
   "execution_count": 2,
   "metadata": {},
   "outputs": [
    {
     "data": {
      "text/plain": [
       "(10000, 22)"
      ]
     },
     "execution_count": 2,
     "metadata": {},
     "output_type": "execute_result"
    }
   ],
   "source": [
    "# Read xlsx with nets info\n",
    "df_nets = pd.read_excel('./Loop_v1/classification_nets_v1.xlsx', index_col=None, header=0)\n",
    "df_nets.shape"
   ]
  },
  {
   "cell_type": "code",
   "execution_count": 3,
   "metadata": {},
   "outputs": [
    {
     "name": "stdout",
     "output_type": "stream",
     "text": [
      "47\n"
     ]
    },
    {
     "data": {
      "text/plain": [
       "(array([7530], dtype=int64),)"
      ]
     },
     "execution_count": 3,
     "metadata": {},
     "output_type": "execute_result"
    }
   ],
   "source": [
    "print(max(df_nets['test_acc']))\n",
    "np.where(df_nets['test_acc']==max(df_nets['test_acc']))"
   ]
  },
  {
   "cell_type": "code",
   "execution_count": 4,
   "metadata": {},
   "outputs": [
    {
     "name": "stdout",
     "output_type": "stream",
     "text": [
      "43.007\n",
      "28.286\n",
      "25.1427\n"
     ]
    }
   ],
   "source": [
    "print(np.mean(df_nets['vali_best_acc']))\n",
    "print(np.mean(df_nets['vali_sur_acc']))\n",
    "print(np.mean(df_nets['test_acc']))"
   ]
  },
  {
   "cell_type": "code",
   "execution_count": 5,
   "metadata": {},
   "outputs": [
    {
     "data": {
      "text/plain": [
       "(7920, 22)"
      ]
     },
     "execution_count": 5,
     "metadata": {},
     "output_type": "execute_result"
    }
   ],
   "source": [
    "# Retira linhas com valores vazios (quando o R é vazio é pq q rede deu como output uma única classe para todos os sujeitos)\n",
    "df_nets_nan = df_nets.dropna()\n",
    "df_nets_nan.reset_index(drop=True, inplace=True)\n",
    "df_nets_nan.shape"
   ]
  },
  {
   "cell_type": "code",
   "execution_count": 6,
   "metadata": {},
   "outputs": [
    {
     "data": {
      "text/plain": [
       "(7489, 22)"
      ]
     },
     "execution_count": 6,
     "metadata": {},
     "output_type": "execute_result"
    }
   ],
   "source": [
    "# Retira linhas em que surrogate foi melhor que a validação (acurácia)\n",
    "df_nets_sur = df_nets_nan.drop(np.where(df_nets_nan['vali_best_acc']<df_nets_nan['vali_sur_acc'])[0], axis=0)\n",
    "df_nets_sur.reset_index(drop=True, inplace=True)\n",
    "df_nets_sur.shape"
   ]
  },
  {
   "cell_type": "code",
   "execution_count": 7,
   "metadata": {},
   "outputs": [
    {
     "data": {
      "text/plain": [
       "(6495, 22)"
      ]
     },
     "execution_count": 7,
     "metadata": {},
     "output_type": "execute_result"
    }
   ],
   "source": [
    "# Retira linhas em que surrogate foi melhor que a validação (R)\n",
    "# Analisar R bruto ou o módulo? (nesse caso R negativo é bom?)\n",
    "df_nets_sur = df_nets_sur.drop(np.where(df_nets_sur['vali_best_R']<df_nets_sur['vali_sur_R'])[0], axis=0)\n",
    "df_nets_sur.reset_index(drop=True, inplace=True)\n",
    "df_nets_sur.shape"
   ]
  },
  {
   "cell_type": "code",
   "execution_count": 8,
   "metadata": {},
   "outputs": [
    {
     "data": {
      "text/plain": [
       "(5187, 22)"
      ]
     },
     "execution_count": 8,
     "metadata": {},
     "output_type": "execute_result"
    }
   ],
   "source": [
    "# Retira linhas em que surrogate foi melhor que a validação (loss)\n",
    "df_nets_sur = df_nets_sur.drop(np.where(df_nets_sur['vali_best_loss']>df_nets_sur['vali_sur_loss'])[0], axis=0)\n",
    "df_nets_sur.reset_index(drop=True, inplace=True)\n",
    "df_nets_sur.shape"
   ]
  },
  {
   "cell_type": "code",
   "execution_count": 9,
   "metadata": {},
   "outputs": [
    {
     "data": {
      "text/plain": [
       "(5166, 22)"
      ]
     },
     "execution_count": 9,
     "metadata": {},
     "output_type": "execute_result"
    }
   ],
   "source": [
    "# Retira linhas em que a acurácia da validação foi menor que 25%\n",
    "df_nets_vali = df_nets_sur.drop(np.where(df_nets_sur['vali_best_acc']<25)[0], axis=0)\n",
    "df_nets_vali.reset_index(drop=True, inplace=True)\n",
    "df_nets_vali.shape"
   ]
  },
  {
   "cell_type": "code",
   "execution_count": 10,
   "metadata": {},
   "outputs": [
    {
     "data": {
      "text/plain": [
       "(85, 22)"
      ]
     },
     "execution_count": 10,
     "metadata": {},
     "output_type": "execute_result"
    }
   ],
   "source": [
    "# Análise da matriz de confusão.\n",
    "# MATRIZ DE CONFUSÃO DO TESTE --> Salvar a da validação (15 sujeitos vali)\n",
    "# Diagonal principal todos maior que 25%.\n",
    "\n",
    "netok = []\n",
    "net2drop = []\n",
    "for net_number in range(df_nets_vali.shape[0]):\n",
    "    netX = df_nets_vali.iloc[net_number]\n",
    "    c_matrix_perc = netX['c_matrix_perc'].replace(\"\\n\", \"\")\n",
    "    c_matrix_perc = c_matrix_perc.replace(\"[\", \"\")\n",
    "    c_matrix_perc = c_matrix_perc.replace(\"]\", \"\")\n",
    "    c_matrix_perc = np.fromstring(c_matrix_perc, sep=' ').reshape(4,4)\n",
    "    if (c_matrix_perc[0][0]>25 and c_matrix_perc[1][1]>25 and c_matrix_perc[2][2]>25 and c_matrix_perc[3][3]>25):\n",
    "        netok.append(net_number)\n",
    "    else:\n",
    "        net2drop.append(net_number)\n",
    "net2drop_array = np.array(net2drop)\n",
    "df_nets_25 = df_nets_vali.drop(net2drop_array, axis=0)\n",
    "df_nets_25.reset_index(drop=True, inplace=True)\n",
    "df_nets_25.shape"
   ]
  },
  {
   "cell_type": "code",
   "execution_count": 11,
   "metadata": {},
   "outputs": [
    {
     "data": {
      "text/plain": [
       "array([], dtype=int64)"
      ]
     },
     "execution_count": 11,
     "metadata": {},
     "output_type": "execute_result"
    }
   ],
   "source": [
    "np.where(df_nets_25['vali_best_acc']<25)[0]"
   ]
  },
  {
   "cell_type": "code",
   "execution_count": 12,
   "metadata": {},
   "outputs": [
    {
     "name": "stdout",
     "output_type": "stream",
     "text": [
      "48.27058823529412\n",
      "21.51764705882353\n",
      "34.50588235294118\n"
     ]
    }
   ],
   "source": [
    "print(np.mean(df_nets_25['vali_best_acc']))\n",
    "print(np.mean(df_nets_25['vali_sur_acc']))\n",
    "print(np.mean(df_nets_25['test_acc']))"
   ]
  },
  {
   "cell_type": "code",
   "execution_count": 13,
   "metadata": {},
   "outputs": [
    {
     "name": "stdout",
     "output_type": "stream",
     "text": [
      "47\n"
     ]
    },
    {
     "data": {
      "text/plain": [
       "(array([57], dtype=int64),)"
      ]
     },
     "execution_count": 13,
     "metadata": {},
     "output_type": "execute_result"
    }
   ],
   "source": [
    "print(max(df_nets_25['test_acc']))\n",
    "np.where(df_nets_25['test_acc']==max(df_nets_25['test_acc']))"
   ]
  },
  {
   "cell_type": "code",
   "execution_count": 14,
   "metadata": {},
   "outputs": [
    {
     "data": {
      "text/plain": [
       "Net                                                             7530\n",
       "random_state                                                   94148\n",
       "num_layers                                                         4\n",
       "layers_size                                              [14, 11, 4]\n",
       "net_param          <bound method Module.parameters of Net(\\n  (li...\n",
       "criterion                                           CrossEntropyLoss\n",
       "learning_rate                                                  0.047\n",
       "optimizer                                                       Adam\n",
       "epochs                                                         50000\n",
       "vali_best_epoch                                                 3900\n",
       "vali_best_acc                                                     53\n",
       "vali_best_loss                                               49.0356\n",
       "vali_best_R                                                0.0827464\n",
       "vali_sur_acc                                                      13\n",
       "vali_sur_loss                                                54.0906\n",
       "vali_sur_R                                                 -0.330986\n",
       "test_acc                                                          47\n",
       "test_loss                                                    21.4895\n",
       "test_R                                                      0.263551\n",
       "predicted          [1 0 0 0 3 0 3 1 1 1 0 0 3 0 0 3 0 2 0 3 0 0 1...\n",
       "c_matrix           [[13  6  1  3]\\n [ 3  7  1  4]\\n [ 5  2  5  1]...\n",
       "c_matrix_perc      [[56.52173913 26.08695652  4.34782609 13.04347...\n",
       "Name: 57, dtype: object"
      ]
     },
     "execution_count": 14,
     "metadata": {},
     "output_type": "execute_result"
    }
   ],
   "source": [
    "net_number = 57\n",
    "netX = df_nets_25.iloc[net_number]\n",
    "netX"
   ]
  },
  {
   "cell_type": "markdown",
   "metadata": {},
   "source": [
    "# Análise da moda das melhores redes"
   ]
  },
  {
   "cell_type": "markdown",
   "metadata": {},
   "source": [
    "# df_nets_25"
   ]
  },
  {
   "cell_type": "code",
   "execution_count": 15,
   "metadata": {},
   "outputs": [],
   "source": [
    "all_predicted = np.empty([df_nets_25.shape[0], 63])\n",
    "for net_number in range(df_nets_25.shape[0]):\n",
    "    netX = df_nets_25.iloc[net_number]\n",
    "    net_predicted_str = netX['predicted'][1:-1].replace(\"\\n\", \"\")\n",
    "    net_predicted = np.fromstring(net_predicted_str, dtype=int, sep=' ')\n",
    "    all_predicted[net_number] = net_predicted"
   ]
  },
  {
   "cell_type": "code",
   "execution_count": 16,
   "metadata": {},
   "outputs": [
    {
     "data": {
      "text/plain": [
       "(85, 63)"
      ]
     },
     "execution_count": 16,
     "metadata": {},
     "output_type": "execute_result"
    }
   ],
   "source": [
    "all_predicted.shape"
   ]
  },
  {
   "cell_type": "code",
   "execution_count": 17,
   "metadata": {},
   "outputs": [
    {
     "name": "stdout",
     "output_type": "stream",
     "text": [
      "[[1. 0. 3. 0. 2. 0. 2. 1. 1. 3. 1. 0. 0. 1. 0. 3. 1. 2. 0. 3. 0. 3. 0. 2.\n",
      "  3. 0. 3. 1. 3. 1. 1. 2. 2. 0. 2. 2. 1. 1. 0. 1. 1. 0. 2. 0. 2. 2. 2. 3.\n",
      "  3. 1. 0. 3. 0. 1. 3. 3. 2. 0. 3. 0. 3. 3. 1.]]\n"
     ]
    }
   ],
   "source": [
    "voteClassOut, count = mode(all_predicted, axis=0)\n",
    "print(voteClassOut)\n",
    "voteClassOut = voteClassOut.reshape(63,1)"
   ]
  },
  {
   "cell_type": "code",
   "execution_count": 18,
   "metadata": {},
   "outputs": [
    {
     "data": {
      "text/plain": [
       "array([[36, 33, 43, 78, 28, 34, 49, 32, 61, 48, 41, 42, 26, 29, 36, 55,\n",
       "        39, 48, 44, 68, 44, 34, 33, 54, 39, 38, 65, 53, 30, 32, 63, 61,\n",
       "        56, 79, 32, 45, 35, 35, 26, 35, 33, 62, 51, 58, 58, 40, 33, 34,\n",
       "        55, 35, 33, 38, 34, 59, 71, 41, 34, 52, 33, 32, 66, 39, 37]])"
      ]
     },
     "execution_count": 18,
     "metadata": {},
     "output_type": "execute_result"
    }
   ],
   "source": [
    "count"
   ]
  },
  {
   "cell_type": "code",
   "execution_count": 19,
   "metadata": {},
   "outputs": [
    {
     "name": "stdout",
     "output_type": "stream",
     "text": [
      "[[1 0 0 0 0 0 1 2 1 2 2 2 1 3 1 1 0 2 0 0 0 2 1 3 3 3 2 1 0 0 0 2 2 1 2 1\n",
      "  0 1 0 0 0 0 3 0 2 0 0 3 1 0 0 3 2 1 3 3 1 1 0 2 3 3 3]]\n"
     ]
    }
   ],
   "source": [
    "classTarget = np.load('y_test_class.npy')\n",
    "print(classTarget.reshape(1, 63))"
   ]
  },
  {
   "cell_type": "code",
   "execution_count": 20,
   "metadata": {},
   "outputs": [
    {
     "data": {
      "image/png": "[encoded data removed]",
      "text/plain": [
       "<Figure size 432x288 with 1 Axes>"
      ]
     },
     "metadata": {
      "needs_background": "light"
     },
     "output_type": "display_data"
    },
    {
     "name": "stdout",
     "output_type": "stream",
     "text": [
      "Acurácia 41.269841269841265 %\n"
     ]
    }
   ],
   "source": [
    "plt.figure()\n",
    "plt.plot(classTarget, 'ob')\n",
    "plt.plot(voteClassOut, 'xr')\n",
    "plt.show()\n",
    "print('Acurácia', np.sum(classTarget.squeeze()==voteClassOut.squeeze())/len(classTarget)*100, '%')"
   ]
  },
  {
   "cell_type": "markdown",
   "metadata": {},
   "source": [
    "# df_nets_vali"
   ]
  },
  {
   "cell_type": "code",
   "execution_count": 21,
   "metadata": {},
   "outputs": [
    {
     "data": {
      "text/plain": [
       "(5166, 63)"
      ]
     },
     "execution_count": 21,
     "metadata": {},
     "output_type": "execute_result"
    }
   ],
   "source": [
    "all_predicted = np.empty([df_nets_vali.shape[0], 63])\n",
    "for net_number in range(df_nets_vali.shape[0]):\n",
    "    netX = df_nets_vali.iloc[net_number]\n",
    "    net_predicted_str = netX['predicted'][1:-1].replace(\"\\n\", \"\")\n",
    "    net_predicted = np.fromstring(net_predicted_str, dtype=int, sep=' ')\n",
    "    all_predicted[net_number] = net_predicted\n",
    "\n",
    "all_predicted.shape"
   ]
  },
  {
   "cell_type": "code",
   "execution_count": 22,
   "metadata": {},
   "outputs": [
    {
     "name": "stdout",
     "output_type": "stream",
     "text": [
      "[[1. 1. 3. 0. 1. 1. 2. 1. 1. 3. 1. 0. 1. 1. 0. 3. 1. 2. 1. 3. 3. 3. 0. 2.\n",
      "  3. 1. 3. 1. 3. 1. 1. 2. 2. 0. 3. 2. 1. 1. 2. 1. 3. 1. 2. 1. 2. 3. 2. 3.\n",
      "  3. 1. 3. 3. 1. 1. 3. 3. 1. 0. 3. 1. 3. 3. 1.]]\n"
     ]
    }
   ],
   "source": [
    "voteClassOut, count = mode(all_predicted, axis=0)\n",
    "print(voteClassOut)\n",
    "voteClassOut = voteClassOut.reshape(63,1)"
   ]
  },
  {
   "cell_type": "code",
   "execution_count": 23,
   "metadata": {},
   "outputs": [
    {
     "data": {
      "text/plain": [
       "array([[1815, 2126, 3119, 3519, 1792, 1703, 2184, 2473, 3032, 3197, 2469,\n",
       "        2212, 1720, 2300, 1799, 3511, 2614, 1873, 2283, 3789, 1472, 2448,\n",
       "        1586, 2453, 2133, 1795, 3629, 3004, 2234, 2384, 3399, 2144, 1854,\n",
       "        4039, 2061, 2117, 2318, 2238, 1925, 2454, 2249, 1855, 2672, 2366,\n",
       "        2401, 2066, 2055, 1930, 3257, 2118, 1714, 1919, 1823, 3056, 3195,\n",
       "        2076, 1838, 2222, 2436, 2123, 3011, 2197, 2370]])"
      ]
     },
     "execution_count": 23,
     "metadata": {},
     "output_type": "execute_result"
    }
   ],
   "source": [
    "count"
   ]
  },
  {
   "cell_type": "code",
   "execution_count": 24,
   "metadata": {},
   "outputs": [
    {
     "name": "stdout",
     "output_type": "stream",
     "text": [
      "[[1 0 0 0 0 0 1 2 1 2 2 2 1 3 1 1 0 2 0 0 0 2 1 3 3 3 2 1 0 0 0 2 2 1 2 1\n",
      "  0 1 0 0 0 0 3 0 2 0 0 3 1 0 0 3 2 1 3 3 1 1 0 2 3 3 3]]\n"
     ]
    }
   ],
   "source": [
    "classTarget = np.load('y_test_class.npy')\n",
    "print(classTarget.reshape(1, 63))"
   ]
  },
  {
   "cell_type": "code",
   "execution_count": 25,
   "metadata": {},
   "outputs": [
    {
     "data": {
      "image/png": "[encoded data removed]",
      "text/plain": [
       "<Figure size 432x288 with 1 Axes>"
      ]
     },
     "metadata": {
      "needs_background": "light"
     },
     "output_type": "display_data"
    },
    {
     "name": "stdout",
     "output_type": "stream",
     "text": [
      "Acurácia 30.158730158730158 %\n"
     ]
    }
   ],
   "source": [
    "plt.figure()\n",
    "plt.plot(classTarget, 'ob')\n",
    "plt.plot(voteClassOut, 'xr')\n",
    "plt.show()\n",
    "print('Acurácia', np.sum(classTarget.squeeze()==voteClassOut.squeeze())/len(classTarget)*100, '%')"
   ]
  },
  {
   "cell_type": "markdown",
   "metadata": {},
   "source": [
    "# Save selected nets"
   ]
  },
  {
   "cell_type": "code",
   "execution_count": 26,
   "metadata": {},
   "outputs": [],
   "source": [
    "# df_nets_vali.to_excel ('selected_nets_vali.xlsx', index = False, header=True)\n",
    "# df_nets_25.to_excel ('selected_nets_test_cmatrix.xlsx', index = False, header=True)"
   ]
  },
  {
   "cell_type": "code",
   "execution_count": null,
   "metadata": {},
   "outputs": [],
   "source": []
  }
 ],
 "metadata": {
  "kernelspec": {
   "display_name": "zika",
   "language": "python",
   "name": "zika"
  },
  "language_info": {
   "codemirror_mode": {
    "name": "ipython",
    "version": 3
   },
   "file_extension": ".py",
   "mimetype": "text/x-python",
   "name": "python",
   "nbconvert_exporter": "python",
   "pygments_lexer": "ipython3",
   "version": "3.7.1"
  }
 },
 "nbformat": 4,
 "nbformat_minor": 2
}
