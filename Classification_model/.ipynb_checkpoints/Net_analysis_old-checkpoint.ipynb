{
 "cells": [
  {
   "cell_type": "code",
   "execution_count": 15,
   "metadata": {},
   "outputs": [],
   "source": [
    "# Importando as bibliotecas necessarias\n",
    "import numpy as np\n",
    "import matplotlib.pyplot as plt\n",
    "# %matplotlib notebook\n",
    "import pandas as pd\n",
    "from scipy.stats import mode, pearsonr, spearmanr\n",
    "import glob, os\n",
    "pd.set_option(\"display.max_rows\", 300)"
   ]
  },
  {
   "cell_type": "code",
   "execution_count": 16,
   "metadata": {},
   "outputs": [],
   "source": [
    "def vote_acc(selected_nets):\n",
    "\n",
    "    all_predicted = np.empty([selected_nets.shape[0], 63])\n",
    "    for net_number in range(selected_nets.shape[0]):\n",
    "        netX = selected_nets.iloc[net_number]\n",
    "        net_predicted_str = netX['test_predicted'][1:-1].replace(\"\\n\", \"\")\n",
    "        net_predicted = np.fromstring(net_predicted_str, dtype=int, sep=' ')\n",
    "        all_predicted[net_number] = net_predicted\n",
    "\n",
    "    print(all_predicted.shape)\n",
    "\n",
    "    voteClassOut, count = mode(all_predicted, axis=0)\n",
    "    # print(voteClassOut)\n",
    "    voteClassOut = voteClassOut.reshape(63,1)\n",
    "\n",
    "    classTarget = np.load('y_test_class.npy')\n",
    "    # print(classTarget.reshape(1, 63))\n",
    "\n",
    "    print('Acurácia', np.sum(classTarget.squeeze()==voteClassOut.squeeze())/len(classTarget)*100, '%')\n",
    "#     plt.figure()\n",
    "#     plt.plot(classTarget, 'ob')\n",
    "#     plt.plot(voteClassOut, 'xr')\n",
    "#     plt.show()"
   ]
  },
  {
   "cell_type": "code",
   "execution_count": 17,
   "metadata": {},
   "outputs": [],
   "source": [
    "def vote_acc_old(selected_nets):\n",
    "\n",
    "    all_predicted = np.empty([selected_nets.shape[0], 63])\n",
    "    for net_number in range(selected_nets.shape[0]):\n",
    "        netX = selected_nets.iloc[net_number]\n",
    "        net_predicted_str = netX['predicted'][1:-1].replace(\"\\n\", \"\")\n",
    "        net_predicted = np.fromstring(net_predicted_str, dtype=int, sep=' ')\n",
    "        all_predicted[net_number] = net_predicted\n",
    "\n",
    "    print(all_predicted.shape)\n",
    "\n",
    "    voteClassOut, count = mode(all_predicted, axis=0)\n",
    "    # print(voteClassOut)\n",
    "    voteClassOut = voteClassOut.reshape(63,1)\n",
    "\n",
    "    classTarget = np.load('y_test_class.npy')\n",
    "    # print(classTarget.reshape(1, 63))\n",
    "\n",
    "    print('Acurácia', np.sum(classTarget.squeeze()==voteClassOut.squeeze())/len(classTarget)*100, '%')\n",
    "    plt.figure()\n",
    "    plt.plot(classTarget, 'ob')\n",
    "    plt.plot(voteClassOut, 'xr')\n",
    "    plt.show()"
   ]
  },
  {
   "cell_type": "code",
   "execution_count": 18,
   "metadata": {},
   "outputs": [],
   "source": [
    "def acc_corr(selected_nets, ft_vali, ft_test):\n",
    "    feature_vali = selected_nets[ft_vali]\n",
    "    feature_test = selected_nets[ft_test]\n",
    "    pcorr, _ = pearsonr(feature_vali, feature_test)\n",
    "    scorr, _ = spearmanr(feature_vali, feature_test)\n",
    "    print(str(ft_vali),'x',str(ft_test))\n",
    "    print('Correlação de Pearson:', pcorr)\n",
    "    print('Correlação de Spearman:', scorr)\n",
    "#     plt.scatter(feature_vali, feature_test)\n",
    "#     plt.xlabel(ft_vali)\n",
    "#     plt.ylabel(ft_test)\n",
    "#     plt.show()"
   ]
  },
  {
   "cell_type": "code",
   "execution_count": 19,
   "metadata": {
    "scrolled": false
   },
   "outputs": [],
   "source": [
    "# # Juntar todos os xlsx em um só\n",
    "# all_data = pd.DataFrame()\n",
    "# for f in glob.glob('D:/TG-HPC_data/hpc_xlsx/*.xlsx'):\n",
    "#     df = pd.read_excel(f)\n",
    "#     all_data = all_data.append(df,ignore_index=True)\n",
    "# print(all_data)\n",
    "# all_data.to_excel ('all_nets_hpc.xlsx', index = False, header=True)"
   ]
  },
  {
   "cell_type": "code",
   "execution_count": 20,
   "metadata": {},
   "outputs": [
    {
     "name": "stdout",
     "output_type": "stream",
     "text": [
      "(10000, 63)\n",
      "Acurácia 26.984126984126984 %\n"
     ]
    },
    {
     "data": {
      "image/png": "[encoded data removed]",
      "text/plain": [
       "<Figure size 432x288 with 1 Axes>"
      ]
     },
     "metadata": {
      "needs_background": "light"
     },
     "output_type": "display_data"
    }
   ],
   "source": [
    "# Read xlsx with nets info\n",
    "# df_nets = pd.read_excel('all_nets_hpc.xlsx', index_col=None, header=0)\n",
    "df_nets = pd.read_excel('./Loop_v1/classification_nets_v1.xlsx', index_col=None, header=0)\n",
    "vote_acc_old(df_nets)"
   ]
  },
  {
   "cell_type": "code",
   "execution_count": 21,
   "metadata": {},
   "outputs": [
    {
     "name": "stdout",
     "output_type": "stream",
     "text": [
      "(7920, 63)\n",
      "Acurácia 30.158730158730158 %\n"
     ]
    },
    {
     "data": {
      "image/png": "[encoded data removed]",
      "text/plain": [
       "<Figure size 432x288 with 1 Axes>"
      ]
     },
     "metadata": {
      "needs_background": "light"
     },
     "output_type": "display_data"
    }
   ],
   "source": [
    "# Retira linhas com valores vazios (quando o R é vazio é pq q rede deu como output uma única classe para todos os sujeitos)\n",
    "df_nets_nan = df_nets.dropna()\n",
    "df_nets_nan.reset_index(drop=True, inplace=True)\n",
    "vote_acc_old(df_nets_nan)"
   ]
  },
  {
   "cell_type": "code",
   "execution_count": 22,
   "metadata": {},
   "outputs": [
    {
     "name": "stdout",
     "output_type": "stream",
     "text": [
      "vali_best_acc x test_acc\n",
      "Correlação de Pearson: 0.018307509667063848\n",
      "Correlação de Spearman: 0.02829656786015057\n",
      "vali_best_loss x test_acc\n",
      "Correlação de Pearson: -0.004864687484859\n",
      "Correlação de Spearman: 0.010960499232426512\n",
      "vali_best_R x test_acc\n",
      "Correlação de Pearson: 0.05681709540871634\n",
      "Correlação de Spearman: 0.05753898256925696\n",
      "vali_sur_acc x test_acc\n",
      "Correlação de Pearson: -0.02343032579122847\n",
      "Correlação de Spearman: -0.03487084950015567\n",
      "vali_sur_loss x test_acc\n",
      "Correlação de Pearson: -0.00743485360870514\n",
      "Correlação de Spearman: -0.011378922185500953\n",
      "vali_sur_R x test_acc\n",
      "Correlação de Pearson: 0.016525073525862577\n",
      "Correlação de Spearman: 0.011497826437973082\n"
     ]
    }
   ],
   "source": [
    "acc_corr(df_nets_nan, 'vali_best_acc', 'test_acc')\n",
    "acc_corr(df_nets_nan, 'vali_best_loss', 'test_acc')\n",
    "acc_corr(df_nets_nan, 'vali_best_R', 'test_acc')\n",
    "acc_corr(df_nets_nan, 'vali_sur_acc', 'test_acc')\n",
    "acc_corr(df_nets_nan, 'vali_sur_loss', 'test_acc')\n",
    "acc_corr(df_nets_nan, 'vali_sur_R', 'test_acc')"
   ]
  },
  {
   "cell_type": "code",
   "execution_count": 23,
   "metadata": {
    "scrolled": false
   },
   "outputs": [
    {
     "name": "stdout",
     "output_type": "stream",
     "text": [
      "vali_best_acc x test_loss\n",
      "Correlação de Pearson: 0.027232862782462147\n",
      "Correlação de Spearman: 0.08702972292461855\n",
      "vali_best_loss x test_loss\n",
      "Correlação de Pearson: 0.5846469146003932\n",
      "Correlação de Spearman: 0.7489773428055312\n",
      "vali_best_R x test_loss\n",
      "Correlação de Pearson: -0.023140405716762975\n",
      "Correlação de Spearman: -0.002897912417050456\n",
      "vali_sur_acc x test_loss\n",
      "Correlação de Pearson: -0.06307112228823271\n",
      "Correlação de Spearman: -0.07661453880627629\n",
      "vali_sur_loss x test_loss\n",
      "Correlação de Pearson: 0.47773754124401335\n",
      "Correlação de Spearman: 0.7393471150943814\n",
      "vali_sur_R x test_loss\n",
      "Correlação de Pearson: -0.00302869955294024\n",
      "Correlação de Spearman: -0.008771992235082569\n"
     ]
    }
   ],
   "source": [
    "acc_corr(df_nets_nan, 'vali_best_acc', 'test_loss')\n",
    "acc_corr(df_nets_nan, 'vali_best_loss', 'test_loss') # Correlação alta\n",
    "acc_corr(df_nets_nan, 'vali_best_R', 'test_loss')\n",
    "acc_corr(df_nets_nan, 'vali_sur_acc', 'test_loss')\n",
    "acc_corr(df_nets_nan, 'vali_sur_loss', 'test_loss')\n",
    "acc_corr(df_nets_nan, 'vali_sur_R', 'test_loss')"
   ]
  },
  {
   "cell_type": "code",
   "execution_count": 24,
   "metadata": {
    "scrolled": false
   },
   "outputs": [
    {
     "name": "stdout",
     "output_type": "stream",
     "text": [
      "vali_best_acc x test_R\n",
      "Correlação de Pearson: 0.027972016719659425\n",
      "Correlação de Spearman: 0.01603126812672766\n",
      "vali_best_loss x test_R\n",
      "Correlação de Pearson: -0.06499070665219904\n",
      "Correlação de Spearman: -0.12464929434494958\n",
      "vali_best_R x test_R\n",
      "Correlação de Pearson: 0.08318448433809739\n",
      "Correlação de Spearman: 0.0693432045602188\n",
      "vali_sur_acc x test_R\n",
      "Correlação de Pearson: 0.013331073606563715\n",
      "Correlação de Spearman: 0.012047105813006354\n",
      "vali_sur_loss x test_R\n",
      "Correlação de Pearson: -0.04464076185440312\n",
      "Correlação de Spearman: -0.12394439419245376\n",
      "vali_sur_R x test_R\n",
      "Correlação de Pearson: 0.005270696896201348\n",
      "Correlação de Spearman: 0.004910611052596957\n"
     ]
    }
   ],
   "source": [
    "acc_corr(df_nets_nan, 'vali_best_acc', 'test_R')\n",
    "acc_corr(df_nets_nan, 'vali_best_loss', 'test_R')\n",
    "acc_corr(df_nets_nan, 'vali_best_R', 'test_R')\n",
    "acc_corr(df_nets_nan, 'vali_sur_acc', 'test_R')\n",
    "acc_corr(df_nets_nan, 'vali_sur_loss', 'test_R')\n",
    "acc_corr(df_nets_nan, 'vali_sur_R', 'test_R')"
   ]
  },
  {
   "cell_type": "code",
   "execution_count": 25,
   "metadata": {
    "scrolled": true
   },
   "outputs": [
    {
     "name": "stdout",
     "output_type": "stream",
     "text": [
      "test_loss x test_acc\n",
      "Correlação de Pearson: -0.045177799319547934\n",
      "Correlação de Spearman: -0.044235994257509514\n"
     ]
    }
   ],
   "source": [
    "acc_corr(df_nets_nan, 'test_loss', 'test_acc')"
   ]
  },
  {
   "cell_type": "markdown",
   "metadata": {},
   "source": [
    "# Tentar selecionar pelo vali_loss mais baixos"
   ]
  },
  {
   "cell_type": "code",
   "execution_count": 26,
   "metadata": {},
   "outputs": [],
   "source": [
    "# # Retira linhas com valores vazios (quando o R é vazio é pq a rede deu como output uma única classe para todos os sujeitos)\n",
    "# df_nets = df_nets.dropna()\n",
    "# df_nets.reset_index(drop=True, inplace=True)\n",
    "# vote_acc_old(df_nets)"
   ]
  },
  {
   "cell_type": "code",
   "execution_count": 29,
   "metadata": {},
   "outputs": [],
   "source": [
    "# # Retira linhas em que surrogate foi melhor que a validação (acurácia)\n",
    "# df_nets_sur = df_nets_nan.drop(np.where(df_nets_nan['vali_best_acc']<df_nets_nan['vali_sur_acc'])[0], axis=0)\n",
    "# df_nets_sur.reset_index(drop=True, inplace=True)\n",
    "# vote_acc_old(df_nets_sur)"
   ]
  },
  {
   "cell_type": "code",
   "execution_count": 30,
   "metadata": {},
   "outputs": [],
   "source": [
    "# acc_corr(df_nets_sur, 'vali_best_acc', 'test_acc')\n",
    "# acc_corr(df_nets_sur, 'vali_best_loss', 'test_acc')\n",
    "# acc_corr(df_nets_sur, 'vali_best_R', 'test_acc')\n",
    "# acc_corr(df_nets_sur, 'vali_best_acc', 'test_loss')\n",
    "# acc_corr(df_nets_sur, 'vali_best_loss', 'test_loss') # Correlação alta\n",
    "# acc_corr(df_nets_sur, 'vali_best_R', 'test_loss')\n",
    "# acc_corr(df_nets_sur, 'vali_best_acc', 'test_R')\n",
    "# acc_corr(df_nets_sur, 'vali_best_loss', 'test_R')\n",
    "# acc_corr(df_nets_sur, 'vali_best_R', 'test_R')\n",
    "# acc_corr(df_nets_sur, 'test_loss', 'test_acc')"
   ]
  },
  {
   "cell_type": "code",
   "execution_count": 60,
   "metadata": {},
   "outputs": [
    {
     "name": "stdout",
     "output_type": "stream",
     "text": [
      "(2354, 63)\n",
      "Acurácia 31.746031746031743 %\n"
     ]
    },
    {
     "data": {
      "image/png": "[encoded data removed]",
      "text/plain": [
       "<Figure size 432x288 with 1 Axes>"
      ]
     },
     "metadata": {
      "needs_background": "light"
     },
     "output_type": "display_data"
    }
   ],
   "source": [
    "# Retira linhas em que a acurácia da validação foi menor que o valor estabelecido\n",
    "df_nets_vali = df_nets_nan.drop(np.where(df_nets_nan['vali_best_acc']<50)[0], axis=0)\n",
    "df_nets_vali.reset_index(drop=True, inplace=True)\n",
    "vote_acc_old(df_nets_vali)"
   ]
  },
  {
   "cell_type": "code",
   "execution_count": 51,
   "metadata": {},
   "outputs": [
    {
     "name": "stdout",
     "output_type": "stream",
     "text": [
      "vali_best_acc x test_acc\n",
      "Correlação de Pearson: -0.004833122787505905\n",
      "Correlação de Spearman: -0.0020791724561803177\n",
      "vali_best_loss x test_acc\n",
      "Correlação de Pearson: -0.015413556448907694\n",
      "Correlação de Spearman: -0.03309688796345978\n",
      "vali_best_R x test_acc\n",
      "Correlação de Pearson: 0.05739026557869699\n",
      "Correlação de Spearman: 0.0705362111364604\n",
      "vali_best_acc x test_loss\n",
      "Correlação de Pearson: -0.01431478802895319\n",
      "Correlação de Spearman: 0.015345834698012964\n",
      "vali_best_loss x test_loss\n",
      "Correlação de Pearson: 0.5820755759903562\n",
      "Correlação de Spearman: 0.7060140420386475\n",
      "vali_best_R x test_loss\n",
      "Correlação de Pearson: -0.041848641248667356\n",
      "Correlação de Spearman: -0.04641644348794257\n",
      "vali_best_acc x test_R\n",
      "Correlação de Pearson: 0.024109518850805443\n",
      "Correlação de Spearman: 0.0064114659410337334\n",
      "vali_best_loss x test_R\n",
      "Correlação de Pearson: -0.083830008793809\n",
      "Correlação de Spearman: -0.15181656500489618\n",
      "vali_best_R x test_R\n",
      "Correlação de Pearson: 0.0776872232147057\n",
      "Correlação de Spearman: 0.08413686090949268\n",
      "test_loss x test_acc\n",
      "Correlação de Pearson: -0.06965988761206912\n",
      "Correlação de Spearman: -0.09457146564838642\n"
     ]
    }
   ],
   "source": [
    "acc_corr(df_nets_vali, 'vali_best_acc', 'test_acc')\n",
    "acc_corr(df_nets_vali, 'vali_best_loss', 'test_acc')\n",
    "acc_corr(df_nets_vali, 'vali_best_R', 'test_acc')\n",
    "acc_corr(df_nets_vali, 'vali_best_acc', 'test_loss')\n",
    "acc_corr(df_nets_vali, 'vali_best_loss', 'test_loss') # Correlação alta\n",
    "acc_corr(df_nets_vali, 'vali_best_R', 'test_loss')\n",
    "acc_corr(df_nets_vali, 'vali_best_acc', 'test_R')\n",
    "acc_corr(df_nets_vali, 'vali_best_loss', 'test_R')\n",
    "acc_corr(df_nets_vali, 'vali_best_R', 'test_R')\n",
    "acc_corr(df_nets_vali, 'test_loss', 'test_acc')"
   ]
  },
  {
   "cell_type": "code",
   "execution_count": 72,
   "metadata": {},
   "outputs": [
    {
     "name": "stdout",
     "output_type": "stream",
     "text": [
      "(2262, 63)\n",
      "Acurácia 30.158730158730158 %\n"
     ]
    },
    {
     "data": {
      "image/png": "[encoded data removed]",
      "text/plain": [
       "<Figure size 432x288 with 1 Axes>"
      ]
     },
     "metadata": {
      "needs_background": "light"
     },
     "output_type": "display_data"
    }
   ],
   "source": [
    "# Retira linhas em que o loss da validação foi maior que o valor estabelecido\n",
    "df_nets_loss = df_nets_vali.drop(np.where(df_nets_vali['vali_best_loss']>100)[0], axis=0)\n",
    "df_nets_loss.reset_index(drop=True, inplace=True)\n",
    "vote_acc_old(df_nets_loss)"
   ]
  },
  {
   "cell_type": "code",
   "execution_count": null,
   "metadata": {},
   "outputs": [],
   "source": []
  },
  {
   "cell_type": "code",
   "execution_count": null,
   "metadata": {},
   "outputs": [],
   "source": []
  },
  {
   "cell_type": "code",
   "execution_count": null,
   "metadata": {},
   "outputs": [],
   "source": []
  },
  {
   "cell_type": "code",
   "execution_count": null,
   "metadata": {},
   "outputs": [],
   "source": []
  },
  {
   "cell_type": "code",
   "execution_count": null,
   "metadata": {},
   "outputs": [],
   "source": []
  },
  {
   "cell_type": "code",
   "execution_count": 75,
   "metadata": {},
   "outputs": [
    {
     "name": "stdout",
     "output_type": "stream",
     "text": [
      "(930, 63)\n",
      "Acurácia 30.158730158730158 %\n"
     ]
    },
    {
     "data": {
      "image/png": "[encoded data removed]",
      "text/plain": [
       "<Figure size 432x288 with 1 Axes>"
      ]
     },
     "metadata": {
      "needs_background": "light"
     },
     "output_type": "display_data"
    }
   ],
   "source": [
    "# Retira linhas em que a acurácia da validação foi menor que o valor estabelecido\n",
    "df_nets_vali = df_nets_nan.drop(np.where(df_nets_nan['vali_best_acc']<55)[0], axis=0)\n",
    "df_nets_vali.reset_index(drop=True, inplace=True)\n",
    "vote_acc_old(df_nets_vali)"
   ]
  },
  {
   "cell_type": "code",
   "execution_count": null,
   "metadata": {},
   "outputs": [],
   "source": [
    "# Identificar no df as redes que não foram salvas ainda\n",
    "\n",
    "# Read xlsx with nets info\n",
    "df_nets = pd.read_excel('all_nets_hpc.xlsx', index_col=None, header=0)\n",
    "nets_number = df_nets['Net']\n",
    "\n",
    "missing_nets = sorted(set(range(min(nets_number), max(nets_number))) - set(nets_number))\n",
    "missing_nets = pd.DataFrame(missing_nets, columns = ['Net'])\n",
    "print(missing_nets)\n",
    "# missing_nets.to_excel ('missing_nets.xlsx', index = False, header=True)\n",
    "# missing_nets.to_csv('missing_nets.csv', index = False, header=True)"
   ]
  },
  {
   "cell_type": "code",
   "execution_count": null,
   "metadata": {},
   "outputs": [],
   "source": []
  }
 ],
 "metadata": {
  "kernelspec": {
   "display_name": "zika",
   "language": "python",
   "name": "zika"
  },
  "language_info": {
   "codemirror_mode": {
    "name": "ipython",
    "version": 3
   },
   "file_extension": ".py",
   "mimetype": "text/x-python",
   "name": "python",
   "nbconvert_exporter": "python",
   "pygments_lexer": "ipython3",
   "version": "3.7.1"
  }
 },
 "nbformat": 4,
 "nbformat_minor": 2
}
