{
 "cells": [
  {
   "cell_type": "code",
   "execution_count": 1,
   "metadata": {},
   "outputs": [],
   "source": [
    "# Importando as bibliotecas necessarias\n",
    "import numpy as np\n",
    "import matplotlib.pyplot as plt\n",
    "import pandas as pd\n",
    "# pd.set_option(\"display.max_rows\", 300)"
   ]
  },
  {
   "cell_type": "code",
   "execution_count": 2,
   "metadata": {},
   "outputs": [
    {
     "data": {
      "text/plain": [
       "['Age',\n",
       " 'AgeGroup',\n",
       " 'Gender',\n",
       " 'Height',\n",
       " 'Weight',\n",
       " 'BMI',\n",
       " 'FootLen',\n",
       " 'Ystudy',\n",
       " 'Illness',\n",
       " 'Nmedication',\n",
       " 'Ortho-Prosthesis',\n",
       " 'Disability',\n",
       " 'Falls12m',\n",
       " '5alphareductaseinhibitor',\n",
       " 'Alphablocker',\n",
       " 'Analgesic',\n",
       " 'AngiotensinIIreceptorantagonist',\n",
       " 'Angiotensinconvertingenzymeinhibitor',\n",
       " 'Antiarrhythmic',\n",
       " 'Antibiotic',\n",
       " 'Anticholinergic',\n",
       " 'Anticonvulsant',\n",
       " 'Antihistamine',\n",
       " 'Antiinflammatory',\n",
       " 'Antimalarial',\n",
       " 'Antimuscarinic',\n",
       " 'Antipyretic',\n",
       " 'Antithyroid',\n",
       " 'Antivertigo',\n",
       " 'Benzodiazepine',\n",
       " 'Betablocker',\n",
       " 'Biguanide',\n",
       " 'Bisphosphonate',\n",
       " 'Bloodcirculation',\n",
       " 'Bronchodilator',\n",
       " 'Calciumchannelblocker',\n",
       " 'Centralnervoussystemagent',\n",
       " 'Cholinesteraseinhibitor',\n",
       " 'Conjugatedestrogen',\n",
       " 'Corticosteroid',\n",
       " 'DOPAdecarboxylaseinhibitor',\n",
       " 'Diabetesmellitus',\n",
       " 'Dipeptidylpeptidase4inhibitor',\n",
       " 'Diuretic',\n",
       " 'Dopamineagonist',\n",
       " 'Dopamineantagonist',\n",
       " 'Essentialaminoacid',\n",
       " 'Fluoroquinolone',\n",
       " 'HMGCoAreductaseinhibitor',\n",
       " 'Hblocker',\n",
       " 'Herbalsupplement',\n",
       " 'Homeopathic',\n",
       " 'Hypercholesterolemia',\n",
       " 'Hypertension',\n",
       " 'Insulin',\n",
       " 'Kinaseinhibitor',\n",
       " 'Kneecartilagereplacement',\n",
       " 'Longactingbetaagonist',\n",
       " 'Meglitinide',\n",
       " 'Musclerelaxant',\n",
       " 'Nonsteroidalantiinflammatory',\n",
       " 'Nucleosidereversetranscriptaseinhibitor',\n",
       " 'Oralcontraceptive',\n",
       " 'Osteoporosis',\n",
       " 'Phenothiazine',\n",
       " 'Phytotherapy',\n",
       " 'Protonpumpinhibitor',\n",
       " 'Retinoid',\n",
       " 'Salicylate',\n",
       " 'Sedative',\n",
       " 'Selectivenorepinephrinereuptakeinhibitor',\n",
       " 'Selectiveserotoninreuptakeinhibitor',\n",
       " 'Steroid',\n",
       " 'Steroidalprogestin',\n",
       " 'Sulfonylurea',\n",
       " 'Syntheticthyroidhormone',\n",
       " 'Tumornecrosisfactorinhibitor',\n",
       " 'Vasodilator',\n",
       " 'Wakefulnesspromotingagent',\n",
       " 'Xanthineoxidaseinhibitor',\n",
       " 'Arthritis',\n",
       " 'Breathlessness',\n",
       " 'Bronchitis',\n",
       " 'Bursitis',\n",
       " 'Conjunctivitis',\n",
       " 'Dermatitis',\n",
       " 'Epilepsy',\n",
       " 'Esophagitis',\n",
       " 'Essential tremor',\n",
       " 'Fatty liver',\n",
       " 'Gastritis',\n",
       " 'Gastroesophageal reflux',\n",
       " 'Glaucoma',\n",
       " 'Gout',\n",
       " 'Hiatus hernia',\n",
       " 'Hypertriglyceridemia',\n",
       " 'Hyperuricemia',\n",
       " 'Inflammation of the tibial nerve',\n",
       " 'Keratoconus',\n",
       " 'Kidney failure',\n",
       " 'Kidney stones',\n",
       " 'Ligament problems',\n",
       " 'Lumbar tumor',\n",
       " 'Lymphedema of the lower members',\n",
       " 'Migraine',\n",
       " 'Poliomyelitis',\n",
       " 'Polycystic kidney disease',\n",
       " 'Progressive breast cancer',\n",
       " 'Prostate disease',\n",
       " 'Prostatitis',\n",
       " 'Rheumatism',\n",
       " 'Sickle cell anemia',\n",
       " 'Sinusitis',\n",
       " 'Skin cancer',\n",
       " 'Skin disease',\n",
       " 'Spine problem',\n",
       " 'Stroke',\n",
       " 'Varicose veins of the legs',\n",
       " 'Vascular leakage of the eyes',\n",
       " 'Anemia',\n",
       " 'Arrhythmia',\n",
       " 'Ascending colon cancer',\n",
       " 'Deep vein thrombosis',\n",
       " 'Depression',\n",
       " 'Endometriosis',\n",
       " 'Hashimoto disease',\n",
       " 'Heel spurs',\n",
       " 'Hepatitis B',\n",
       " 'Intestine disorder',\n",
       " 'Melanoma',\n",
       " \"Parkinson's disease\",\n",
       " 'Prostatic hyperplasia',\n",
       " \"Sjogren's syndrome\",\n",
       " 'Thalassemia minor',\n",
       " 'Urinary tract infection',\n",
       " 'Vasovagal syncope',\n",
       " 'Vitiligo',\n",
       " 'Heart disease_total',\n",
       " 'Osteopenia_total',\n",
       " 'Tendinitis_total',\n",
       " 'Arthrosis_total',\n",
       " 'Herniated lumbar disc_total',\n",
       " 'Hypercholesterolemia_total',\n",
       " 'Allergy_total',\n",
       " 'Anxiety_total',\n",
       " 'Asthma_total',\n",
       " 'Chodromalacia of the knees_total',\n",
       " 'Diabetes mellitus_total',\n",
       " 'Fibromyalgia_total',\n",
       " 'Hypertension_total',\n",
       " 'Hyperthyroidism_total',\n",
       " 'Hypoglycemia_total',\n",
       " 'Hypothyroidism_total',\n",
       " 'Labyrinthitis_total',\n",
       " 'Osteoporosis_total',\n",
       " 'Rhinitis_total',\n",
       " 'Scoliosis_total',\n",
       " 'Intellectual',\n",
       " 'Physical_total',\n",
       " 'Visual_total',\n",
       " 'Hearing_total',\n",
       " 'Orthopedic Shoes',\n",
       " 'Boots_total',\n",
       " 'Shoes with silicone insole_total',\n",
       " 'Normal Shoes_total',\n",
       " 'Sandal_FlipFlop_total',\n",
       " 'Internal fixation in the thigh',\n",
       " 'Internal fixation in the leg',\n",
       " 'Internal fixation in the shoulder',\n",
       " 'Breast implant',\n",
       " 'By pass',\n",
       " 'Clips in the vesicle',\n",
       " 'Corrective lens',\n",
       " 'PaceMaker',\n",
       " 'Internal fixation in the medulla',\n",
       " 'Internal fixation in the knee',\n",
       " 'Corrective lens',\n",
       " 'Prosthesis aortic valve',\n",
       " 'Dental_total',\n",
       " 'Support_total',\n",
       " 'Hearing_total',\n",
       " 'Internal fixation in the toe_foot_total',\n",
       " 'Orthosis in the knee_total',\n",
       " 'PF50_closed_rigid']"
      ]
     },
     "execution_count": 2,
     "metadata": {},
     "output_type": "execute_result"
    }
   ],
   "source": [
    "data = pd.read_pickle(\"D:/TG-Biomed/Data_prep/data_closed_rigid_o\")\n",
    "list(data)"
   ]
  },
  {
   "cell_type": "code",
   "execution_count": 3,
   "metadata": {},
   "outputs": [
    {
     "name": "stdout",
     "output_type": "stream",
     "text": [
      "(207, 184)\n"
     ]
    }
   ],
   "source": [
    "print(data.shape)"
   ]
  },
  {
   "cell_type": "markdown",
   "metadata": {},
   "source": [
    "# Juntando colunas \"Corrective lens\" duplicadas para \"Corrective_lens\""
   ]
  },
  {
   "cell_type": "code",
   "execution_count": 4,
   "metadata": {},
   "outputs": [],
   "source": [
    "def junta_dupli(df, x):\n",
    "    #print(len(list(df.columns)))\n",
    "    #print(df[x].shape)\n",
    "    df[x + \"_total\"] = df[x].sum(axis=1)\n",
    "    df = df.drop([x], 1)\n",
    "    #print(len(list(df.columns)))\n",
    "    return df"
   ]
  },
  {
   "cell_type": "code",
   "execution_count": 5,
   "metadata": {},
   "outputs": [
    {
     "data": {
      "text/html": [
       "<div>\n",
       "<style scoped>\n",
       "    .dataframe tbody tr th:only-of-type {\n",
       "        vertical-align: middle;\n",
       "    }\n",
       "\n",
       "    .dataframe tbody tr th {\n",
       "        vertical-align: top;\n",
       "    }\n",
       "\n",
       "    .dataframe thead th {\n",
       "        text-align: right;\n",
       "    }\n",
       "</style>\n",
       "<table border=\"1\" class=\"dataframe\">\n",
       "  <thead>\n",
       "    <tr style=\"text-align: right;\">\n",
       "      <th></th>\n",
       "      <th>Corrective lens</th>\n",
       "      <th>Corrective lens</th>\n",
       "    </tr>\n",
       "  </thead>\n",
       "  <tbody>\n",
       "    <tr>\n",
       "      <th>0</th>\n",
       "      <td>0</td>\n",
       "      <td>1</td>\n",
       "    </tr>\n",
       "    <tr>\n",
       "      <th>1</th>\n",
       "      <td>0</td>\n",
       "      <td>0</td>\n",
       "    </tr>\n",
       "    <tr>\n",
       "      <th>2</th>\n",
       "      <td>0</td>\n",
       "      <td>0</td>\n",
       "    </tr>\n",
       "    <tr>\n",
       "      <th>3</th>\n",
       "      <td>0</td>\n",
       "      <td>0</td>\n",
       "    </tr>\n",
       "    <tr>\n",
       "      <th>4</th>\n",
       "      <td>0</td>\n",
       "      <td>1</td>\n",
       "    </tr>\n",
       "    <tr>\n",
       "      <th>...</th>\n",
       "      <td>...</td>\n",
       "      <td>...</td>\n",
       "    </tr>\n",
       "    <tr>\n",
       "      <th>202</th>\n",
       "      <td>0</td>\n",
       "      <td>1</td>\n",
       "    </tr>\n",
       "    <tr>\n",
       "      <th>203</th>\n",
       "      <td>0</td>\n",
       "      <td>1</td>\n",
       "    </tr>\n",
       "    <tr>\n",
       "      <th>204</th>\n",
       "      <td>0</td>\n",
       "      <td>1</td>\n",
       "    </tr>\n",
       "    <tr>\n",
       "      <th>205</th>\n",
       "      <td>0</td>\n",
       "      <td>1</td>\n",
       "    </tr>\n",
       "    <tr>\n",
       "      <th>206</th>\n",
       "      <td>0</td>\n",
       "      <td>1</td>\n",
       "    </tr>\n",
       "  </tbody>\n",
       "</table>\n",
       "<p>207 rows × 2 columns</p>\n",
       "</div>"
      ],
      "text/plain": [
       "     Corrective lens  Corrective lens\n",
       "0                  0                1\n",
       "1                  0                0\n",
       "2                  0                0\n",
       "3                  0                0\n",
       "4                  0                1\n",
       "..               ...              ...\n",
       "202                0                1\n",
       "203                0                1\n",
       "204                0                1\n",
       "205                0                1\n",
       "206                0                1\n",
       "\n",
       "[207 rows x 2 columns]"
      ]
     },
     "execution_count": 5,
     "metadata": {},
     "output_type": "execute_result"
    }
   ],
   "source": [
    "data['Corrective lens']"
   ]
  },
  {
   "cell_type": "code",
   "execution_count": 6,
   "metadata": {},
   "outputs": [
    {
     "data": {
      "text/plain": [
       "0      1\n",
       "1      0\n",
       "2      0\n",
       "3      0\n",
       "4      1\n",
       "      ..\n",
       "202    1\n",
       "203    1\n",
       "204    1\n",
       "205    1\n",
       "206    1\n",
       "Name: Corrective_lens, Length: 207, dtype: int64"
      ]
     },
     "execution_count": 6,
     "metadata": {},
     "output_type": "execute_result"
    }
   ],
   "source": [
    "data['Corrective_lens'] = data['Corrective lens'].sum(axis=1)\n",
    "data = data.drop(['Corrective lens'], 1)\n",
    "data['Corrective_lens']"
   ]
  },
  {
   "cell_type": "code",
   "execution_count": 7,
   "metadata": {},
   "outputs": [
    {
     "name": "stdout",
     "output_type": "stream",
     "text": [
      "(207, 183)\n"
     ]
    }
   ],
   "source": [
    "print(data.shape)"
   ]
  },
  {
   "cell_type": "markdown",
   "metadata": {},
   "source": [
    "# Juntando colunas \"Hearing_total\" duplicadas para \"Hearing_dis_ortho_total\""
   ]
  },
  {
   "cell_type": "code",
   "execution_count": 8,
   "metadata": {},
   "outputs": [
    {
     "data": {
      "text/html": [
       "<div>\n",
       "<style scoped>\n",
       "    .dataframe tbody tr th:only-of-type {\n",
       "        vertical-align: middle;\n",
       "    }\n",
       "\n",
       "    .dataframe tbody tr th {\n",
       "        vertical-align: top;\n",
       "    }\n",
       "\n",
       "    .dataframe thead th {\n",
       "        text-align: right;\n",
       "    }\n",
       "</style>\n",
       "<table border=\"1\" class=\"dataframe\">\n",
       "  <thead>\n",
       "    <tr style=\"text-align: right;\">\n",
       "      <th></th>\n",
       "      <th>Hearing_total</th>\n",
       "      <th>Hearing_total</th>\n",
       "    </tr>\n",
       "  </thead>\n",
       "  <tbody>\n",
       "    <tr>\n",
       "      <th>0</th>\n",
       "      <td>0</td>\n",
       "      <td>0</td>\n",
       "    </tr>\n",
       "    <tr>\n",
       "      <th>1</th>\n",
       "      <td>0</td>\n",
       "      <td>0</td>\n",
       "    </tr>\n",
       "    <tr>\n",
       "      <th>2</th>\n",
       "      <td>0</td>\n",
       "      <td>0</td>\n",
       "    </tr>\n",
       "    <tr>\n",
       "      <th>3</th>\n",
       "      <td>0</td>\n",
       "      <td>0</td>\n",
       "    </tr>\n",
       "    <tr>\n",
       "      <th>4</th>\n",
       "      <td>0</td>\n",
       "      <td>0</td>\n",
       "    </tr>\n",
       "    <tr>\n",
       "      <th>...</th>\n",
       "      <td>...</td>\n",
       "      <td>...</td>\n",
       "    </tr>\n",
       "    <tr>\n",
       "      <th>202</th>\n",
       "      <td>0</td>\n",
       "      <td>0</td>\n",
       "    </tr>\n",
       "    <tr>\n",
       "      <th>203</th>\n",
       "      <td>0</td>\n",
       "      <td>0</td>\n",
       "    </tr>\n",
       "    <tr>\n",
       "      <th>204</th>\n",
       "      <td>0</td>\n",
       "      <td>0</td>\n",
       "    </tr>\n",
       "    <tr>\n",
       "      <th>205</th>\n",
       "      <td>0</td>\n",
       "      <td>0</td>\n",
       "    </tr>\n",
       "    <tr>\n",
       "      <th>206</th>\n",
       "      <td>1</td>\n",
       "      <td>0</td>\n",
       "    </tr>\n",
       "  </tbody>\n",
       "</table>\n",
       "<p>207 rows × 2 columns</p>\n",
       "</div>"
      ],
      "text/plain": [
       "     Hearing_total  Hearing_total\n",
       "0                0              0\n",
       "1                0              0\n",
       "2                0              0\n",
       "3                0              0\n",
       "4                0              0\n",
       "..             ...            ...\n",
       "202              0              0\n",
       "203              0              0\n",
       "204              0              0\n",
       "205              0              0\n",
       "206              1              0\n",
       "\n",
       "[207 rows x 2 columns]"
      ]
     },
     "execution_count": 8,
     "metadata": {},
     "output_type": "execute_result"
    }
   ],
   "source": [
    "data['Hearing_total']"
   ]
  },
  {
   "cell_type": "code",
   "execution_count": 9,
   "metadata": {},
   "outputs": [
    {
     "data": {
      "text/plain": [
       "0      0\n",
       "1      0\n",
       "2      0\n",
       "3      0\n",
       "4      0\n",
       "      ..\n",
       "202    0\n",
       "203    0\n",
       "204    0\n",
       "205    0\n",
       "206    1\n",
       "Name: Hearing_dis_ortho_total, Length: 207, dtype: int64"
      ]
     },
     "execution_count": 9,
     "metadata": {},
     "output_type": "execute_result"
    }
   ],
   "source": [
    "data['Hearing_dis_ortho_total'] = data['Hearing_total'].sum(axis=1)\n",
    "data = data.drop(['Hearing_total'], 1)\n",
    "data['Hearing_dis_ortho_total']"
   ]
  },
  {
   "cell_type": "code",
   "execution_count": 10,
   "metadata": {},
   "outputs": [
    {
     "name": "stdout",
     "output_type": "stream",
     "text": [
      "(207, 182)\n"
     ]
    }
   ],
   "source": [
    "print(data.shape)"
   ]
  },
  {
   "cell_type": "markdown",
   "metadata": {},
   "source": [
    "# Verificar colunas \"_total\" com valores acima de 1 e ajustar para 0 e 1\n",
    "###  Normal Shoes_total, Dental_total, Hearing_dis_ortho_total"
   ]
  },
  {
   "cell_type": "code",
   "execution_count": 11,
   "metadata": {},
   "outputs": [
    {
     "name": "stdout",
     "output_type": "stream",
     "text": [
      "     Heart disease_total  Osteopenia_total  Tendinitis_total  Arthrosis_total  \\\n",
      "0                      0                 0                 0                0   \n",
      "1                      0                 0                 0                0   \n",
      "2                      0                 0                 0                0   \n",
      "3                      0                 0                 0                0   \n",
      "4                      0                 0                 0                0   \n",
      "..                   ...               ...               ...              ...   \n",
      "202                    0                 0                 0                0   \n",
      "203                    0                 0                 0                0   \n",
      "204                    0                 0                 0                0   \n",
      "205                    0                 0                 0                0   \n",
      "206                    0                 0                 0                0   \n",
      "\n",
      "     Herniated lumbar disc_total  Hypercholesterolemia_total  Allergy_total  \\\n",
      "0                              0                           0              0   \n",
      "1                              0                           0              0   \n",
      "2                              0                           0              0   \n",
      "3                              0                           0              0   \n",
      "4                              0                           0              0   \n",
      "..                           ...                         ...            ...   \n",
      "202                            0                           0              0   \n",
      "203                            0                           0              0   \n",
      "204                            0                           0              0   \n",
      "205                            0                           0              0   \n",
      "206                            0                           1              0   \n",
      "\n",
      "     Anxiety_total  Asthma_total  Chodromalacia of the knees_total  ...  \\\n",
      "0                0             0                                 0  ...   \n",
      "1                0             0                                 0  ...   \n",
      "2                0             0                                 0  ...   \n",
      "3                0             0                                 0  ...   \n",
      "4                0             0                                 0  ...   \n",
      "..             ...           ...                               ...  ...   \n",
      "202              0             0                                 0  ...   \n",
      "203              0             0                                 0  ...   \n",
      "204              0             0                                 0  ...   \n",
      "205              0             0                                 0  ...   \n",
      "206              0             0                                 0  ...   \n",
      "\n",
      "     Visual_total  Boots_total  Shoes with silicone insole_total  \\\n",
      "0               0            0                                 0   \n",
      "1               0            0                                 0   \n",
      "2               0            1                                 0   \n",
      "3               0            0                                 0   \n",
      "4               0            0                                 0   \n",
      "..            ...          ...                               ...   \n",
      "202             0            0                                 0   \n",
      "203             0            0                                 0   \n",
      "204             0            0                                 0   \n",
      "205             0            0                                 0   \n",
      "206             0            0                                 0   \n",
      "\n",
      "     Normal Shoes_total  Sandal_FlipFlop_total  Dental_total  Support_total  \\\n",
      "0                     0                      1             0              0   \n",
      "1                     1                      1             0              0   \n",
      "2                     0                      0             1              0   \n",
      "3                     1                      0             1              0   \n",
      "4                     1                      0             1              0   \n",
      "..                  ...                    ...           ...            ...   \n",
      "202                   1                      0             0              0   \n",
      "203                   1                      1             0              0   \n",
      "204                   1                      0             0              0   \n",
      "205                   1                      0             0              0   \n",
      "206                   1                      0             1              0   \n",
      "\n",
      "     Internal fixation in the toe_foot_total  Orthosis in the knee_total  \\\n",
      "0                                          0                           0   \n",
      "1                                          0                           0   \n",
      "2                                          0                           0   \n",
      "3                                          0                           0   \n",
      "4                                          0                           0   \n",
      "..                                       ...                         ...   \n",
      "202                                        0                           1   \n",
      "203                                        0                           0   \n",
      "204                                        0                           0   \n",
      "205                                        0                           0   \n",
      "206                                        0                           0   \n",
      "\n",
      "     Hearing_dis_ortho_total  \n",
      "0                          0  \n",
      "1                          0  \n",
      "2                          0  \n",
      "3                          0  \n",
      "4                          0  \n",
      "..                       ...  \n",
      "202                        0  \n",
      "203                        0  \n",
      "204                        0  \n",
      "205                        0  \n",
      "206                        1  \n",
      "\n",
      "[207 rows x 31 columns]\n"
     ]
    }
   ],
   "source": [
    "df2 = data.filter(regex='_total')\n",
    "print(df2)"
   ]
  },
  {
   "cell_type": "code",
   "execution_count": 12,
   "metadata": {},
   "outputs": [
    {
     "name": "stdout",
     "output_type": "stream",
     "text": [
      "[(array([ 21,  23,  41,  44,  46,  49,  65,  72,  74,  78,  79,  82,  88,\n",
      "        97, 102, 103, 112, 113, 127, 145, 148, 148, 201], dtype=int64), array([24, 24, 24, 24, 30, 24, 24, 24, 24, 24, 26, 30, 26, 26, 30, 26, 24,\n",
      "       24, 26, 24, 26, 30, 30], dtype=int64))]\n"
     ]
    }
   ],
   "source": [
    "print([np.where(df2>1)])"
   ]
  },
  {
   "cell_type": "code",
   "execution_count": 13,
   "metadata": {},
   "outputs": [
    {
     "data": {
      "text/plain": [
       "0      0\n",
       "1      1\n",
       "2      0\n",
       "3      1\n",
       "4      1\n",
       "      ..\n",
       "202    1\n",
       "203    1\n",
       "204    1\n",
       "205    1\n",
       "206    1\n",
       "Name: Normal Shoes_total, Length: 207, dtype: int64"
      ]
     },
     "execution_count": 13,
     "metadata": {},
     "output_type": "execute_result"
    }
   ],
   "source": [
    "df2.iloc[:,24]"
   ]
  },
  {
   "cell_type": "code",
   "execution_count": 14,
   "metadata": {},
   "outputs": [
    {
     "data": {
      "text/plain": [
       "0      0\n",
       "1      1\n",
       "2      0\n",
       "3      1\n",
       "4      1\n",
       "      ..\n",
       "202    1\n",
       "203    1\n",
       "204    1\n",
       "205    1\n",
       "206    1\n",
       "Name: Normal Shoes_total, Length: 207, dtype: int64"
      ]
     },
     "execution_count": 14,
     "metadata": {},
     "output_type": "execute_result"
    }
   ],
   "source": [
    "data['Normal Shoes_total']=np.clip(data['Normal Shoes_total'],0,1)\n",
    "data['Normal Shoes_total']"
   ]
  },
  {
   "cell_type": "code",
   "execution_count": 15,
   "metadata": {},
   "outputs": [
    {
     "data": {
      "text/plain": [
       "0      0\n",
       "1      0\n",
       "2      1\n",
       "3      1\n",
       "4      1\n",
       "      ..\n",
       "202    0\n",
       "203    0\n",
       "204    0\n",
       "205    0\n",
       "206    1\n",
       "Name: Dental_total, Length: 207, dtype: int64"
      ]
     },
     "execution_count": 15,
     "metadata": {},
     "output_type": "execute_result"
    }
   ],
   "source": [
    "df2.iloc[:,26]"
   ]
  },
  {
   "cell_type": "code",
   "execution_count": 16,
   "metadata": {},
   "outputs": [
    {
     "data": {
      "text/plain": [
       "0      0\n",
       "1      0\n",
       "2      1\n",
       "3      1\n",
       "4      1\n",
       "      ..\n",
       "202    0\n",
       "203    0\n",
       "204    0\n",
       "205    0\n",
       "206    1\n",
       "Name: Dental_total, Length: 207, dtype: int64"
      ]
     },
     "execution_count": 16,
     "metadata": {},
     "output_type": "execute_result"
    }
   ],
   "source": [
    "data['Dental_total']=np.clip(data['Dental_total'],0,1)\n",
    "data['Dental_total']"
   ]
  },
  {
   "cell_type": "code",
   "execution_count": 17,
   "metadata": {},
   "outputs": [
    {
     "data": {
      "text/plain": [
       "0      0\n",
       "1      0\n",
       "2      0\n",
       "3      0\n",
       "4      0\n",
       "      ..\n",
       "202    0\n",
       "203    0\n",
       "204    0\n",
       "205    0\n",
       "206    1\n",
       "Name: Hearing_dis_ortho_total, Length: 207, dtype: int64"
      ]
     },
     "execution_count": 17,
     "metadata": {},
     "output_type": "execute_result"
    }
   ],
   "source": [
    "df2.iloc[:,30]"
   ]
  },
  {
   "cell_type": "code",
   "execution_count": 18,
   "metadata": {},
   "outputs": [
    {
     "data": {
      "text/plain": [
       "0      0\n",
       "1      0\n",
       "2      1\n",
       "3      1\n",
       "4      1\n",
       "      ..\n",
       "202    0\n",
       "203    0\n",
       "204    0\n",
       "205    0\n",
       "206    1\n",
       "Name: Hearing_dis_ortho_total, Length: 207, dtype: int64"
      ]
     },
     "execution_count": 18,
     "metadata": {},
     "output_type": "execute_result"
    }
   ],
   "source": [
    "data['Hearing_dis_ortho_total']=np.clip(data['Dental_total'],0,1)\n",
    "data['Hearing_dis_ortho_total']"
   ]
  },
  {
   "cell_type": "code",
   "execution_count": 19,
   "metadata": {},
   "outputs": [
    {
     "name": "stdout",
     "output_type": "stream",
     "text": [
      "[(array([], dtype=int64), array([], dtype=int64))]\n"
     ]
    }
   ],
   "source": [
    "df2 = data.filter(regex='_total')\n",
    "print([np.where(df2>1)])"
   ]
  },
  {
   "cell_type": "markdown",
   "metadata": {},
   "source": [
    "# Adicionar caracteristica constante = 1"
   ]
  },
  {
   "cell_type": "code",
   "execution_count": 20,
   "metadata": {},
   "outputs": [
    {
     "name": "stdout",
     "output_type": "stream",
     "text": [
      "(207, 182)\n"
     ]
    }
   ],
   "source": [
    "print(data.shape)"
   ]
  },
  {
   "cell_type": "code",
   "execution_count": 21,
   "metadata": {},
   "outputs": [
    {
     "name": "stdout",
     "output_type": "stream",
     "text": [
      "(207,)\n"
     ]
    }
   ],
   "source": [
    "ones = np.ones(data.shape[0])\n",
    "print(ones.shape)"
   ]
  },
  {
   "cell_type": "code",
   "execution_count": 22,
   "metadata": {},
   "outputs": [],
   "source": [
    "data['Ones'] = ones"
   ]
  },
  {
   "cell_type": "code",
   "execution_count": 23,
   "metadata": {},
   "outputs": [
    {
     "name": "stdout",
     "output_type": "stream",
     "text": [
      "0      1.0\n",
      "1      1.0\n",
      "2      1.0\n",
      "3      1.0\n",
      "4      1.0\n",
      "      ... \n",
      "202    1.0\n",
      "203    1.0\n",
      "204    1.0\n",
      "205    1.0\n",
      "206    1.0\n",
      "Name: Ones, Length: 207, dtype: float64\n"
     ]
    }
   ],
   "source": [
    "print(data['Ones'])"
   ]
  },
  {
   "cell_type": "code",
   "execution_count": 24,
   "metadata": {},
   "outputs": [
    {
     "name": "stdout",
     "output_type": "stream",
     "text": [
      "(207, 183)\n"
     ]
    }
   ],
   "source": [
    "print(data.shape)"
   ]
  },
  {
   "cell_type": "markdown",
   "metadata": {},
   "source": [
    "# Checar atualizações"
   ]
  },
  {
   "cell_type": "code",
   "execution_count": 25,
   "metadata": {},
   "outputs": [
    {
     "name": "stdout",
     "output_type": "stream",
     "text": [
      "(207, 183)\n"
     ]
    }
   ],
   "source": [
    "print(data.shape)"
   ]
  },
  {
   "cell_type": "code",
   "execution_count": 26,
   "metadata": {},
   "outputs": [
    {
     "name": "stdout",
     "output_type": "stream",
     "text": [
      "0      1\n",
      "1      0\n",
      "2      0\n",
      "3      0\n",
      "4      1\n",
      "      ..\n",
      "202    1\n",
      "203    1\n",
      "204    1\n",
      "205    1\n",
      "206    1\n",
      "Name: Corrective_lens, Length: 207, dtype: int64\n"
     ]
    }
   ],
   "source": [
    "print(data['Corrective_lens'])"
   ]
  },
  {
   "cell_type": "code",
   "execution_count": 27,
   "metadata": {},
   "outputs": [
    {
     "name": "stdout",
     "output_type": "stream",
     "text": [
      "0      1.0\n",
      "1      1.0\n",
      "2      1.0\n",
      "3      1.0\n",
      "4      1.0\n",
      "      ... \n",
      "202    1.0\n",
      "203    1.0\n",
      "204    1.0\n",
      "205    1.0\n",
      "206    1.0\n",
      "Name: Ones, Length: 207, dtype: float64\n"
     ]
    }
   ],
   "source": [
    "print(data['Ones'])"
   ]
  },
  {
   "cell_type": "code",
   "execution_count": 28,
   "metadata": {},
   "outputs": [
    {
     "name": "stdout",
     "output_type": "stream",
     "text": [
      "[(array([], dtype=int64), array([], dtype=int64))]\n"
     ]
    }
   ],
   "source": [
    "df2 = data.filter(regex='_total')\n",
    "print([np.where(df2>1)])"
   ]
  },
  {
   "cell_type": "code",
   "execution_count": 29,
   "metadata": {},
   "outputs": [],
   "source": [
    "# Salva database_ajusted\n",
    "data.to_pickle('data_closed_rigid_o_adjusted')"
   ]
  },
  {
   "cell_type": "markdown",
   "metadata": {},
   "source": [
    "# Clean do database"
   ]
  },
  {
   "cell_type": "code",
   "execution_count": 30,
   "metadata": {
    "scrolled": true
   },
   "outputs": [
    {
     "name": "stdout",
     "output_type": "stream",
     "text": [
      "['Age', 'AgeGroup', 'Gender', 'Height', 'Weight', 'BMI', 'FootLen', 'Ystudy', 'Illness', 'Nmedication', 'Ortho-Prosthesis', 'Disability', 'Falls12m', '5alphareductaseinhibitor', 'Alphablocker', 'Analgesic', 'AngiotensinIIreceptorantagonist', 'Angiotensinconvertingenzymeinhibitor', 'Antiarrhythmic', 'Antibiotic', 'Anticholinergic', 'Anticonvulsant', 'Antihistamine', 'Antiinflammatory', 'Antimalarial', 'Antimuscarinic', 'Antipyretic', 'Antithyroid', 'Antivertigo', 'Benzodiazepine', 'Betablocker', 'Biguanide', 'Bisphosphonate', 'Bloodcirculation', 'Bronchodilator', 'Calciumchannelblocker', 'Centralnervoussystemagent', 'Cholinesteraseinhibitor', 'Conjugatedestrogen', 'Corticosteroid', 'DOPAdecarboxylaseinhibitor', 'Diabetesmellitus', 'Dipeptidylpeptidase4inhibitor', 'Diuretic', 'Dopamineagonist', 'Dopamineantagonist', 'Essentialaminoacid', 'Fluoroquinolone', 'HMGCoAreductaseinhibitor', 'Hblocker', 'Herbalsupplement', 'Homeopathic', 'Hypercholesterolemia', 'Hypertension', 'Insulin', 'Kinaseinhibitor', 'Kneecartilagereplacement', 'Longactingbetaagonist', 'Meglitinide', 'Musclerelaxant', 'Nonsteroidalantiinflammatory', 'Nucleosidereversetranscriptaseinhibitor', 'Oralcontraceptive', 'Osteoporosis', 'Phenothiazine', 'Phytotherapy', 'Protonpumpinhibitor', 'Retinoid', 'Salicylate', 'Sedative', 'Selectivenorepinephrinereuptakeinhibitor', 'Selectiveserotoninreuptakeinhibitor', 'Steroid', 'Steroidalprogestin', 'Sulfonylurea', 'Syntheticthyroidhormone', 'Tumornecrosisfactorinhibitor', 'Vasodilator', 'Wakefulnesspromotingagent', 'Xanthineoxidaseinhibitor', 'Arthritis', 'Breathlessness', 'Bronchitis', 'Bursitis', 'Conjunctivitis', 'Dermatitis', 'Epilepsy', 'Esophagitis', 'Essential tremor', 'Fatty liver', 'Gastritis', 'Gastroesophageal reflux', 'Glaucoma', 'Gout', 'Hiatus hernia', 'Hypertriglyceridemia', 'Hyperuricemia', 'Inflammation of the tibial nerve', 'Keratoconus', 'Kidney failure', 'Kidney stones', 'Ligament problems', 'Lumbar tumor', 'Lymphedema of the lower members', 'Migraine', 'Poliomyelitis', 'Polycystic kidney disease', 'Progressive breast cancer', 'Prostate disease', 'Prostatitis', 'Rheumatism', 'Sickle cell anemia', 'Sinusitis', 'Skin cancer', 'Skin disease', 'Spine problem', 'Stroke', 'Varicose veins of the legs', 'Vascular leakage of the eyes', 'Anemia', 'Arrhythmia', 'Ascending colon cancer', 'Deep vein thrombosis', 'Depression', 'Endometriosis', 'Hashimoto disease', 'Heel spurs', 'Hepatitis B', 'Intestine disorder', 'Melanoma', \"Parkinson's disease\", 'Prostatic hyperplasia', \"Sjogren's syndrome\", 'Thalassemia minor', 'Urinary tract infection', 'Vasovagal syncope', 'Vitiligo', 'Heart disease_total', 'Osteopenia_total', 'Tendinitis_total', 'Arthrosis_total', 'Herniated lumbar disc_total', 'Hypercholesterolemia_total', 'Allergy_total', 'Anxiety_total', 'Asthma_total', 'Chodromalacia of the knees_total', 'Diabetes mellitus_total', 'Fibromyalgia_total', 'Hypertension_total', 'Hyperthyroidism_total', 'Hypoglycemia_total', 'Hypothyroidism_total', 'Labyrinthitis_total', 'Osteoporosis_total', 'Rhinitis_total', 'Scoliosis_total', 'Intellectual', 'Physical_total', 'Visual_total', 'Orthopedic Shoes', 'Boots_total', 'Shoes with silicone insole_total', 'Normal Shoes_total', 'Sandal_FlipFlop_total', 'Internal fixation in the thigh', 'Internal fixation in the leg', 'Internal fixation in the shoulder', 'Breast implant', 'By pass', 'Clips in the vesicle', 'PaceMaker', 'Internal fixation in the medulla', 'Internal fixation in the knee', 'Prosthesis aortic valve', 'Dental_total', 'Support_total', 'Internal fixation in the toe_foot_total', 'Orthosis in the knee_total', 'PF50_closed_rigid', 'Corrective_lens', 'Hearing_dis_ortho_total', 'Ones']\n"
     ]
    }
   ],
   "source": [
    "data_adjusted = pd.read_pickle(\"data_closed_rigid_o_adjusted\")\n",
    "columns = list(data_adjusted)\n",
    "print(columns)"
   ]
  },
  {
   "cell_type": "code",
   "execution_count": 31,
   "metadata": {},
   "outputs": [
    {
     "name": "stdout",
     "output_type": "stream",
     "text": [
      "(207, 183)\n"
     ]
    }
   ],
   "source": [
    "print(data_adjusted.shape)"
   ]
  },
  {
   "cell_type": "code",
   "execution_count": 32,
   "metadata": {},
   "outputs": [
    {
     "name": "stdout",
     "output_type": "stream",
     "text": [
      "5alphareductaseinhibitor  =  2\n",
      "Alphablocker  =  1\n",
      "Analgesic  =  3\n",
      "Angiotensinconvertingenzymeinhibitor  =  6\n",
      "Antiarrhythmic  =  2\n",
      "Antibiotic  =  3\n",
      "Anticholinergic  =  2\n",
      "Anticonvulsant  =  5\n",
      "Antihistamine  =  3\n",
      "Antiinflammatory  =  7\n",
      "Antimalarial  =  1\n",
      "Antimuscarinic  =  1\n",
      "Antipyretic  =  1\n",
      "Antithyroid  =  2\n",
      "Antivertigo  =  1\n",
      "Benzodiazepine  =  5\n",
      "Betablocker  =  16\n",
      "Biguanide  =  11\n",
      "Bisphosphonate  =  12\n",
      "Bloodcirculation  =  1\n",
      "Bronchodilator  =  1\n",
      "Calciumchannelblocker  =  6\n",
      "Centralnervoussystemagent  =  1\n",
      "Cholinesteraseinhibitor  =  1\n",
      "Conjugatedestrogen  =  3\n",
      "Corticosteroid  =  9\n",
      "DOPAdecarboxylaseinhibitor  =  1\n",
      "Diabetesmellitus  =  2\n",
      "Dipeptidylpeptidase4inhibitor  =  3\n",
      "Diuretic  =  16\n",
      "Dopamineagonist  =  1\n",
      "Dopamineantagonist  =  1\n",
      "Essentialaminoacid  =  1\n",
      "Fluoroquinolone  =  1\n",
      "Hblocker  =  1\n",
      "Herbalsupplement  =  1\n",
      "Homeopathic  =  5\n",
      "Hypercholesterolemia  =  1\n",
      "Hypertension  =  1\n",
      "Insulin  =  1\n",
      "Kinaseinhibitor  =  1\n",
      "Kneecartilagereplacement  =  1\n",
      "Longactingbetaagonist  =  5\n",
      "Meglitinide  =  1\n",
      "Musclerelaxant  =  1\n",
      "Nonsteroidalantiinflammatory  =  9\n",
      "Nucleosidereversetranscriptaseinhibitor  =  1\n",
      "Oralcontraceptive  =  17\n",
      "Osteoporosis  =  1\n",
      "Phenothiazine  =  1\n",
      "Phytotherapy  =  2\n",
      "Protonpumpinhibitor  =  9\n",
      "Retinoid  =  1\n",
      "Salicylate  =  1\n",
      "Sedative  =  1\n",
      "Selectivenorepinephrinereuptakeinhibitor  =  2\n",
      "Selectiveserotoninreuptakeinhibitor  =  10\n",
      "Steroid  =  1\n",
      "Steroidalprogestin  =  3\n",
      "Sulfonylurea  =  4\n",
      "Tumornecrosisfactorinhibitor  =  1\n",
      "Vasodilator  =  1\n",
      "Wakefulnesspromotingagent  =  1\n",
      "Xanthineoxidaseinhibitor  =  1\n",
      "Arthritis  =  4\n",
      "Breathlessness  =  1\n",
      "Bronchitis  =  3\n",
      "Bursitis  =  1\n",
      "Conjunctivitis  =  1\n",
      "Dermatitis  =  0\n",
      "Epilepsy  =  1\n",
      "Esophagitis  =  1\n",
      "Essential tremor  =  1\n",
      "Fatty liver  =  1\n",
      "Gastritis  =  3\n",
      "Gastroesophageal reflux  =  3\n",
      "Glaucoma  =  1\n",
      "Gout  =  1\n",
      "Hiatus hernia  =  1\n",
      "Hypertriglyceridemia  =  1\n",
      "Hyperuricemia  =  1\n",
      "Inflammation of the tibial nerve  =  1\n",
      "Keratoconus  =  0\n",
      "Kidney failure  =  1\n",
      "Kidney stones  =  1\n",
      "Ligament problems  =  1\n",
      "Lumbar tumor  =  1\n",
      "Lymphedema of the lower members  =  1\n",
      "Migraine  =  3\n",
      "Poliomyelitis  =  1\n",
      "Polycystic kidney disease  =  1\n",
      "Progressive breast cancer  =  1\n",
      "Prostate disease  =  1\n",
      "Prostatitis  =  1\n",
      "Rheumatism  =  2\n",
      "Sickle cell anemia  =  1\n",
      "Sinusitis  =  6\n",
      "Skin cancer  =  1\n",
      "Skin disease  =  1\n",
      "Spine problem  =  2\n",
      "Stroke  =  1\n",
      "Varicose veins of the legs  =  1\n",
      "Vascular leakage of the eyes  =  0\n",
      "Anemia  =  1\n",
      "Arrhythmia  =  1\n",
      "Ascending colon cancer  =  1\n",
      "Deep vein thrombosis  =  1\n",
      "Depression  =  2\n",
      "Endometriosis  =  2\n",
      "Hashimoto disease  =  1\n",
      "Heel spurs  =  2\n",
      "Hepatitis B  =  1\n",
      "Intestine disorder  =  1\n",
      "Melanoma  =  1\n",
      "Parkinson's disease  =  1\n",
      "Prostatic hyperplasia  =  1\n",
      "Sjogren's syndrome  =  1\n",
      "Thalassemia minor  =  2\n",
      "Urinary tract infection  =  1\n",
      "Vasovagal syncope  =  1\n",
      "Vitiligo  =  1\n",
      "Heart disease_total  =  3\n",
      "Osteopenia_total  =  15\n",
      "Tendinitis_total  =  3\n",
      "Arthrosis_total  =  15\n",
      "Herniated lumbar disc_total  =  3\n",
      "Allergy_total  =  3\n",
      "Anxiety_total  =  3\n",
      "Asthma_total  =  9\n",
      "Chodromalacia of the knees_total  =  3\n",
      "Diabetes mellitus_total  =  15\n",
      "Fibromyalgia_total  =  2\n",
      "Hyperthyroidism_total  =  4\n",
      "Hypoglycemia_total  =  3\n",
      "Labyrinthitis_total  =  13\n",
      "Osteoporosis_total  =  12\n",
      "Rhinitis_total  =  12\n",
      "Scoliosis_total  =  2\n",
      "Intellectual  =  1\n",
      "Physical_total  =  4\n",
      "Visual_total  =  5\n",
      "Orthopedic Shoes  =  1\n",
      "Boots_total  =  5\n",
      "Shoes with silicone insole_total  =  2\n",
      "Internal fixation in the thigh  =  1\n",
      "Internal fixation in the leg  =  1\n",
      "Internal fixation in the shoulder  =  1\n",
      "Breast implant  =  1\n",
      "By pass  =  1\n",
      "Clips in the vesicle  =  1\n",
      "PaceMaker  =  2\n",
      "Internal fixation in the medulla  =  1\n",
      "Internal fixation in the knee  =  1\n",
      "Prosthesis aortic valve  =  1\n",
      "Support_total  =  2\n",
      "Internal fixation in the toe_foot_total  =  3\n",
      "Orthosis in the knee_total  =  3\n"
     ]
    }
   ],
   "source": [
    "i = 0\n",
    "for col in columns:\n",
    "    if i>12:\n",
    "        soma = sum(data_adjusted[col])\n",
    "        if soma<(0.1*data_adjusted.shape[0]):\n",
    "            print(col, ' = ', soma)\n",
    "            data_adjusted = data_adjusted.drop([col], 1)\n",
    "    i = i+1"
   ]
  },
  {
   "cell_type": "code",
   "execution_count": 33,
   "metadata": {},
   "outputs": [
    {
     "name": "stdout",
     "output_type": "stream",
     "text": [
      "(207, 26)\n"
     ]
    }
   ],
   "source": [
    "print(data_adjusted.shape)"
   ]
  },
  {
   "cell_type": "code",
   "execution_count": 34,
   "metadata": {},
   "outputs": [
    {
     "data": {
      "text/plain": [
       "['Age',\n",
       " 'AgeGroup',\n",
       " 'Gender',\n",
       " 'Height',\n",
       " 'Weight',\n",
       " 'BMI',\n",
       " 'FootLen',\n",
       " 'Ystudy',\n",
       " 'Illness',\n",
       " 'Nmedication',\n",
       " 'Ortho-Prosthesis',\n",
       " 'Disability',\n",
       " 'Falls12m',\n",
       " 'AngiotensinIIreceptorantagonist',\n",
       " 'HMGCoAreductaseinhibitor',\n",
       " 'Syntheticthyroidhormone',\n",
       " 'Hypercholesterolemia_total',\n",
       " 'Hypertension_total',\n",
       " 'Hypothyroidism_total',\n",
       " 'Normal Shoes_total',\n",
       " 'Sandal_FlipFlop_total',\n",
       " 'Dental_total',\n",
       " 'PF50_closed_rigid',\n",
       " 'Corrective_lens',\n",
       " 'Hearing_dis_ortho_total',\n",
       " 'Ones']"
      ]
     },
     "execution_count": 34,
     "metadata": {},
     "output_type": "execute_result"
    }
   ],
   "source": [
    "list(data_adjusted)"
   ]
  },
  {
   "cell_type": "code",
   "execution_count": 35,
   "metadata": {},
   "outputs": [],
   "source": [
    "# Salva database_ajusted\n",
    "data_adjusted.to_pickle('data_closed_rigid_o_adjusted_clean')"
   ]
  },
  {
   "cell_type": "code",
   "execution_count": null,
   "metadata": {},
   "outputs": [],
   "source": []
  }
 ],
 "metadata": {
  "kernelspec": {
   "display_name": "zika",
   "language": "python",
   "name": "zika"
  },
  "language_info": {
   "codemirror_mode": {
    "name": "ipython",
    "version": 3
   },
   "file_extension": ".py",
   "mimetype": "text/x-python",
   "name": "python",
   "nbconvert_exporter": "python",
   "pygments_lexer": "ipython3",
   "version": "3.7.1"
  }
 },
 "nbformat": 4,
 "nbformat_minor": 2
}
