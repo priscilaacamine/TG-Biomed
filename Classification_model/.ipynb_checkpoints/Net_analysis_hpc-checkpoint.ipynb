{
 "cells": [
  {
   "cell_type": "code",
   "execution_count": 1,
   "metadata": {},
   "outputs": [],
   "source": [
    "# Importando as bibliotecas necessarias\n",
    "import numpy as np\n",
    "import matplotlib.pyplot as plt\n",
    "# %matplotlib notebook\n",
    "import pandas as pd\n",
    "from scipy.stats import mode, pearsonr, spearmanr\n",
    "import glob, os\n",
    "pd.set_option(\"display.max_rows\", 300)"
   ]
  },
  {
   "cell_type": "code",
   "execution_count": 2,
   "metadata": {},
   "outputs": [],
   "source": [
    "def vote_acc(selected_nets):\n",
    "\n",
    "    all_predicted = np.empty([selected_nets.shape[0], 63])\n",
    "    for net_number in range(selected_nets.shape[0]):\n",
    "        netX = selected_nets.iloc[net_number]\n",
    "        net_predicted_str = netX['test_predicted'][1:-1].replace(\"\\n\", \"\")\n",
    "        net_predicted = np.fromstring(net_predicted_str, dtype=int, sep=' ')\n",
    "        all_predicted[net_number] = net_predicted\n",
    "\n",
    "    print(all_predicted.shape)\n",
    "\n",
    "    voteClassOut, count = mode(all_predicted, axis=0)\n",
    "    # print(voteClassOut)\n",
    "    voteClassOut = voteClassOut.reshape(63,1)\n",
    "\n",
    "    classTarget = np.load('y_test_class.npy')\n",
    "    # print(classTarget.reshape(1, 63))\n",
    "\n",
    "    print('Acurácia', np.sum(classTarget.squeeze()==voteClassOut.squeeze())/len(classTarget)*100, '%')\n",
    "#     plt.figure()\n",
    "#     plt.plot(classTarget, 'ob')\n",
    "#     plt.plot(voteClassOut, 'xr')\n",
    "#     plt.show()"
   ]
  },
  {
   "cell_type": "code",
   "execution_count": 3,
   "metadata": {},
   "outputs": [],
   "source": [
    "def vote_acc_old(selected_nets):\n",
    "\n",
    "    all_predicted = np.empty([selected_nets.shape[0], 63])\n",
    "    for net_number in range(selected_nets.shape[0]):\n",
    "        netX = selected_nets.iloc[net_number]\n",
    "        net_predicted_str = netX['predicted'][1:-1].replace(\"\\n\", \"\")\n",
    "        net_predicted = np.fromstring(net_predicted_str, dtype=int, sep=' ')\n",
    "        all_predicted[net_number] = net_predicted\n",
    "\n",
    "    print(all_predicted.shape)\n",
    "\n",
    "    voteClassOut, count = mode(all_predicted, axis=0)\n",
    "    # print(voteClassOut)\n",
    "    voteClassOut = voteClassOut.reshape(63,1)\n",
    "\n",
    "    classTarget = np.load('y_test_class.npy')\n",
    "    # print(classTarget.reshape(1, 63))\n",
    "\n",
    "    print('Acurácia', np.sum(classTarget.squeeze()==voteClassOut.squeeze())/len(classTarget)*100, '%')\n",
    "    plt.figure()\n",
    "    plt.plot(classTarget, 'ob')\n",
    "    plt.plot(voteClassOut, 'xr')\n",
    "    plt.show()"
   ]
  },
  {
   "cell_type": "code",
   "execution_count": 4,
   "metadata": {},
   "outputs": [],
   "source": [
    "# Correlação Acc_vali x Acc_test\n",
    "def acc_corr(selected_nets, ft_vali, ft_test):\n",
    "    feature_vali = selected_nets[ft_vali]\n",
    "    feature_test = selected_nets[ft_test]\n",
    "    pcorr, _ = pearsonr(feature_vali, feature_test)\n",
    "    scorr, _ = spearmanr(feature_vali, feature_test)\n",
    "    print(str(ft_vali),'x',str(ft_test))\n",
    "    print('Correlação de Pearson:', pcorr)\n",
    "    print('Correlação de Spearman:', scorr)\n",
    "#     plt.scatter(feature_vali, feature_test)\n",
    "#     plt.xlabel(ft_vali)\n",
    "#     plt.ylabel(ft_test)\n",
    "#     plt.show()"
   ]
  },
  {
   "cell_type": "code",
   "execution_count": 5,
   "metadata": {
    "scrolled": false
   },
   "outputs": [],
   "source": [
    "# # Juntar todos os xlsx em um só\n",
    "# all_data = pd.DataFrame()\n",
    "# for f in glob.glob('D:/TG-HPC_data/hpc_xlsx/*.xlsx'):\n",
    "#     df = pd.read_excel(f)\n",
    "#     all_data = all_data.append(df,ignore_index=True)\n",
    "# print(all_data)\n",
    "# all_data.to_excel ('all_nets_hpc.xlsx', index = False, header=True)"
   ]
  },
  {
   "cell_type": "code",
   "execution_count": 6,
   "metadata": {},
   "outputs": [
    {
     "name": "stdout",
     "output_type": "stream",
     "text": [
      "(47310, 63)\n",
      "Acurácia 25.396825396825395 %\n"
     ]
    }
   ],
   "source": [
    "# Read xlsx with nets info\n",
    "df_nets = pd.read_excel('all_nets_hpc.xlsx', index_col=None, header=0)\n",
    "# df_nets = pd.read_excel('./Loop_v1/classification_nets_v1.xlsx', index_col=None, header=0)\n",
    "vote_acc(df_nets)"
   ]
  },
  {
   "cell_type": "code",
   "execution_count": 7,
   "metadata": {},
   "outputs": [
    {
     "name": "stdout",
     "output_type": "stream",
     "text": [
      "(20779, 63)\n",
      "Acurácia 33.33333333333333 %\n"
     ]
    }
   ],
   "source": [
    "# Retira linhas em que a acurácia da validação foi menor que o valor estabelecido\n",
    "df_nets_vali = df_nets.drop(np.where(df_nets['vali_best_acc']<40)[0], axis=0)\n",
    "df_nets_vali.reset_index(drop=True, inplace=True)\n",
    "vote_acc(df_nets_vali)"
   ]
  },
  {
   "cell_type": "code",
   "execution_count": 8,
   "metadata": {},
   "outputs": [
    {
     "name": "stdout",
     "output_type": "stream",
     "text": [
      "(1, 63)\n",
      "Acurácia 34.92063492063492 %\n"
     ]
    }
   ],
   "source": [
    "# Retira linhas em que a acurácia da validação foi menor que o valor estabelecido\n",
    "df_nets_vali = df_nets.drop(np.where(df_nets['vali_best_acc']<70)[0], axis=0)\n",
    "df_nets_vali.reset_index(drop=True, inplace=True)\n",
    "vote_acc(df_nets_vali)"
   ]
  },
  {
   "cell_type": "code",
   "execution_count": 9,
   "metadata": {},
   "outputs": [
    {
     "name": "stdout",
     "output_type": "stream",
     "text": [
      "(40210, 63)\n",
      "Acurácia 31.746031746031743 %\n"
     ]
    }
   ],
   "source": [
    "# Retira linhas com valores vazios (quando o R é vazio é pq q rede deu como output uma única classe para todos os sujeitos)\n",
    "df_nets_nan = df_nets.dropna()\n",
    "df_nets_nan.reset_index(drop=True, inplace=True)\n",
    "vote_acc(df_nets_nan)"
   ]
  },
  {
   "cell_type": "code",
   "execution_count": 10,
   "metadata": {},
   "outputs": [
    {
     "name": "stdout",
     "output_type": "stream",
     "text": [
      "(28032, 63)\n",
      "Acurácia 33.33333333333333 %\n"
     ]
    }
   ],
   "source": [
    "# Retira linhas em que a acurácia da validação foi menor que o valor estabelecido\n",
    "df_nets_vali = df_nets_nan.drop(np.where(df_nets_nan['vali_best_acc']<35)[0], axis=0)\n",
    "df_nets_vali.reset_index(drop=True, inplace=True)\n",
    "vote_acc(df_nets_vali)"
   ]
  },
  {
   "cell_type": "code",
   "execution_count": 11,
   "metadata": {},
   "outputs": [
    {
     "name": "stdout",
     "output_type": "stream",
     "text": [
      "vali_best_acc x test_acc\n",
      "Correlação de Pearson: 0.04864198036055958\n",
      "Correlação de Spearman: 0.054630162161346814\n",
      "vali_best_loss x test_acc\n",
      "Correlação de Pearson: -0.0010068766245898478\n",
      "Correlação de Spearman: 0.0024737859942307082\n",
      "vali_best_R x test_acc\n",
      "Correlação de Pearson: 0.09665983499497952\n",
      "Correlação de Spearman: 0.09044425486026687\n",
      "vali_sur_acc x test_acc\n",
      "Correlação de Pearson: -0.03852421055407533\n",
      "Correlação de Spearman: -0.03963458004621833\n",
      "vali_sur_loss x test_acc\n",
      "Correlação de Pearson: -0.013047399113394089\n",
      "Correlação de Spearman: -0.012897387310348694\n",
      "vali_sur_R x test_acc\n",
      "Correlação de Pearson: 0.002487330673541139\n",
      "Correlação de Spearman: 0.0030639521540459127\n"
     ]
    }
   ],
   "source": [
    "acc_corr(df_nets_nan, 'vali_best_acc', 'test_acc')\n",
    "acc_corr(df_nets_nan, 'vali_best_loss', 'test_acc')\n",
    "acc_corr(df_nets_nan, 'vali_best_R', 'test_acc')\n",
    "acc_corr(df_nets_nan, 'vali_sur_acc', 'test_acc')\n",
    "acc_corr(df_nets_nan, 'vali_sur_loss', 'test_acc')\n",
    "acc_corr(df_nets_nan, 'vali_sur_R', 'test_acc')"
   ]
  },
  {
   "cell_type": "code",
   "execution_count": 12,
   "metadata": {
    "scrolled": false
   },
   "outputs": [
    {
     "name": "stdout",
     "output_type": "stream",
     "text": [
      "vali_best_acc x test_loss\n",
      "Correlação de Pearson: 0.06538689913196014\n",
      "Correlação de Spearman: 0.12674963612660534\n",
      "vali_best_loss x test_loss\n",
      "Correlação de Pearson: 0.6807997694171204\n",
      "Correlação de Spearman: 0.836857533967959\n",
      "vali_best_R x test_loss\n",
      "Correlação de Pearson: -0.018942425388580285\n",
      "Correlação de Spearman: -0.016028963689755805\n",
      "vali_sur_acc x test_loss\n",
      "Correlação de Pearson: -0.04025789312470965\n",
      "Correlação de Spearman: -0.06901334229425024\n",
      "vali_sur_loss x test_loss\n",
      "Correlação de Pearson: 0.4297587704614456\n",
      "Correlação de Spearman: 0.7947894248887112\n",
      "vali_sur_R x test_loss\n",
      "Correlação de Pearson: -0.001717916683306393\n",
      "Correlação de Spearman: 0.0025110468560689833\n"
     ]
    }
   ],
   "source": [
    "acc_corr(df_nets_nan, 'vali_best_acc', 'test_loss')\n",
    "acc_corr(df_nets_nan, 'vali_best_loss', 'test_loss') # Correlação alta\n",
    "acc_corr(df_nets_nan, 'vali_best_R', 'test_loss')\n",
    "acc_corr(df_nets_nan, 'vali_sur_acc', 'test_loss')\n",
    "acc_corr(df_nets_nan, 'vali_sur_loss', 'test_loss')\n",
    "acc_corr(df_nets_nan, 'vali_sur_R', 'test_loss')"
   ]
  },
  {
   "cell_type": "code",
   "execution_count": 13,
   "metadata": {
    "scrolled": false
   },
   "outputs": [
    {
     "name": "stdout",
     "output_type": "stream",
     "text": [
      "vali_best_acc x test_R\n",
      "Correlação de Pearson: 0.03331785988882811\n",
      "Correlação de Spearman: 0.026681574193156914\n",
      "vali_best_loss x test_R\n",
      "Correlação de Pearson: -0.053109836973295105\n",
      "Correlação de Spearman: -0.11737952782635405\n",
      "vali_best_R x test_R\n",
      "Correlação de Pearson: 0.12849110573161107\n",
      "Correlação de Spearman: 0.11023249824337729\n",
      "vali_sur_acc x test_R\n",
      "Correlação de Pearson: -0.005769877551447747\n",
      "Correlação de Spearman: -0.004218603151183949\n",
      "vali_sur_loss x test_R\n",
      "Correlação de Pearson: -0.03506226767615698\n",
      "Correlação de Spearman: -0.12148065210969958\n",
      "vali_sur_R x test_R\n",
      "Correlação de Pearson: -0.0013880157276557163\n",
      "Correlação de Spearman: -0.0020830480625011554\n"
     ]
    }
   ],
   "source": [
    "acc_corr(df_nets_nan, 'vali_best_acc', 'test_R')\n",
    "acc_corr(df_nets_nan, 'vali_best_loss', 'test_R')\n",
    "acc_corr(df_nets_nan, 'vali_best_R', 'test_R')\n",
    "acc_corr(df_nets_nan, 'vali_sur_acc', 'test_R')\n",
    "acc_corr(df_nets_nan, 'vali_sur_loss', 'test_R')\n",
    "acc_corr(df_nets_nan, 'vali_sur_R', 'test_R')"
   ]
  },
  {
   "cell_type": "code",
   "execution_count": 14,
   "metadata": {
    "scrolled": true
   },
   "outputs": [
    {
     "name": "stdout",
     "output_type": "stream",
     "text": [
      "test_loss x test_acc\n",
      "Correlação de Pearson: -0.051452715683006335\n",
      "Correlação de Spearman: -0.05126825347529271\n"
     ]
    }
   ],
   "source": [
    "acc_corr(df_nets_nan, 'test_loss', 'test_acc')"
   ]
  },
  {
   "cell_type": "code",
   "execution_count": 15,
   "metadata": {},
   "outputs": [],
   "source": [
    "# # Análise da matriz de confusão.\n",
    "# # MATRIZ DE CONFUSÃO DO TESTE --> Salvar a da validação (15 sujeitos vali)\n",
    "# # Diagonal principal todos maior que 25%.\n",
    "\n",
    "# netok = []\n",
    "# net2drop = []\n",
    "# for net_number in range(df_nets_vali.shape[0]):\n",
    "#     netX = df_nets_vali.iloc[net_number]\n",
    "#     c_matrix_perc = netX['vali_c_matrix_perc'].replace(\"\\n\", \"\")\n",
    "#     c_matrix_perc = c_matrix_perc.replace(\"[\", \"\")\n",
    "#     c_matrix_perc = c_matrix_perc.replace(\"]\", \"\")\n",
    "#     c_matrix_perc = np.fromstring(c_matrix_perc, sep=' ').reshape(4,4)\n",
    "#     if (c_matrix_perc[0][0]>25 and c_matrix_perc[1][1]>25 and c_matrix_perc[2][2]>25 and c_matrix_perc[3][3]>25):\n",
    "#         netok.append(net_number)\n",
    "#     else:\n",
    "#         net2drop.append(net_number)\n",
    "# net2drop_array = np.array(net2drop)\n",
    "# df_nets_25 = df_nets_vali.drop(net2drop_array, axis=0)\n",
    "# df_nets_25.reset_index(drop=True, inplace=True)\n",
    "\n",
    "# vote_acc(df_nets_25)"
   ]
  },
  {
   "cell_type": "code",
   "execution_count": 16,
   "metadata": {},
   "outputs": [
    {
     "name": "stdout",
     "output_type": "stream",
     "text": [
      "49\n"
     ]
    },
    {
     "data": {
      "text/plain": [
       "(array([22465, 22773], dtype=int64),)"
      ]
     },
     "execution_count": 16,
     "metadata": {},
     "output_type": "execute_result"
    }
   ],
   "source": [
    "print(max(df_nets['test_acc']))\n",
    "np.where(df_nets['test_acc']==max(df_nets['test_acc']))"
   ]
  },
  {
   "cell_type": "code",
   "execution_count": 17,
   "metadata": {},
   "outputs": [
    {
     "name": "stdout",
     "output_type": "stream",
     "text": [
      "Net                                                               31465\n",
      "random_state                                                        539\n",
      "num_layers                                                            4\n",
      "layers_size                                                 [12, 18, 4]\n",
      "net_param             <bound method Module.parameters of Net(\\n  (li...\n",
      "criterion                                              CrossEntropyLoss\n",
      "learning_rate                                                     0.041\n",
      "optimizer                                                          Adam\n",
      "epochs                                                            50000\n",
      "vali_best_epoch                                                    5800\n",
      "vali_best_acc                                                        34\n",
      "vali_best_loss                                                  24.2009\n",
      "vali_best_R                                                    0.252049\n",
      "vali_sur_acc                                                         17\n",
      "vali_sur_loss                                                    54.789\n",
      "vali_sur_R                                                   -0.0687735\n",
      "vali_c_matrix           [[2 0 2 0]\\n [3 2 1 1]\\n [4 2 3 0]\\n [2 1 3 3]]\n",
      "vali_c_matrix_perc    [[50.          0.         50.          0.     ...\n",
      "test_acc                                                             49\n",
      "test_loss                                                       41.7128\n",
      "test_R                                                         0.293188\n",
      "test_predicted        [1 0 0 0 0 0 1 1 1 0 0 0 0 3 1 3 0 2 0 3 0 3 0...\n",
      "test_c_matrix         [[16  1  4  2]\\n [ 7  6  0  2]\\n [ 6  1  4  2]...\n",
      "test_c_matrix_perc    [[69.56521739  4.34782609 17.39130435  8.69565...\n",
      "Name: 22465, dtype: object\n"
     ]
    }
   ],
   "source": [
    "netX = df_nets.iloc[22465]\n",
    "print(netX)"
   ]
  },
  {
   "cell_type": "code",
   "execution_count": 18,
   "metadata": {},
   "outputs": [
    {
     "name": "stdout",
     "output_type": "stream",
     "text": [
      "Net                                                               31773\n",
      "random_state                                                       2078\n",
      "num_layers                                                            4\n",
      "layers_size                                                  [21, 4, 4]\n",
      "net_param             <bound method Module.parameters of Net(\\n  (li...\n",
      "criterion                                              CrossEntropyLoss\n",
      "learning_rate                                                     0.034\n",
      "optimizer                                                          Adam\n",
      "epochs                                                            50000\n",
      "vali_best_epoch                                                     500\n",
      "vali_best_acc                                                        27\n",
      "vali_best_loss                                                  4.61478\n",
      "vali_best_R                                                    0.355231\n",
      "vali_sur_acc                                                         13\n",
      "vali_sur_loss                                                   7.45606\n",
      "vali_sur_R                                                     0.179166\n",
      "vali_c_matrix           [[4 0 1 0]\\n [9 1 1 0]\\n [5 1 0 0]\\n [3 1 0 3]]\n",
      "vali_c_matrix_perc    [[80.          0.         20.          0.     ...\n",
      "test_acc                                                             49\n",
      "test_loss                                                       8.41609\n",
      "test_R                                                         0.479702\n",
      "test_predicted        [0 0 3 0 0 0 2 0 0 1 0 0 0 0 0 1 0 2 0 3 0 2 0...\n",
      "test_c_matrix         [[19  1  1  2]\\n [11  1  3  0]\\n [ 5  1  6  1]...\n",
      "test_c_matrix_perc    [[82.60869565  4.34782609  4.34782609  8.69565...\n",
      "Name: 22773, dtype: object\n"
     ]
    }
   ],
   "source": [
    "netX = df_nets.iloc[22773]\n",
    "print(netX)"
   ]
  },
  {
   "cell_type": "code",
   "execution_count": 19,
   "metadata": {},
   "outputs": [
    {
     "name": "stdout",
     "output_type": "stream",
     "text": [
      "(array([4624], dtype=int64),)\n",
      "Net                                                               13624\n",
      "random_state                                                       5062\n",
      "num_layers                                                            4\n",
      "layers_size                                                  [1, 12, 4]\n",
      "net_param             <bound method Module.parameters of Net(\\n  (li...\n",
      "criterion                                              CrossEntropyLoss\n",
      "learning_rate                                                     0.013\n",
      "optimizer                                                          Adam\n",
      "epochs                                                            50000\n",
      "vali_best_epoch                                                   23400\n",
      "vali_best_acc                                                        55\n",
      "vali_best_loss                                                  1.30714\n",
      "vali_best_R                                                    0.425167\n",
      "vali_sur_acc                                                         17\n",
      "vali_sur_loss                                                   2.34738\n",
      "vali_sur_R                                                    -0.248219\n",
      "vali_c_matrix           [[7 0 0 1]\\n [4 4 0 2]\\n [1 1 0 1]\\n [3 0 0 5]]\n",
      "vali_c_matrix_perc    [[87.5         0.          0.         12.5    ...\n",
      "test_acc                                                             46\n",
      "test_loss                                                       1.30242\n",
      "test_R                                                         0.461989\n",
      "test_predicted        [0 0 3 0 0 0 3 0 0 3 0 0 0 0 3 3 0 3 0 3 0 3 0...\n",
      "test_c_matrix         [[19  0  0  4]\\n [ 9  1  0  5]\\n [ 5  0  0  8]...\n",
      "test_c_matrix_perc    [[82.60869565  0.          0.         17.39130...\n",
      "Name: 4624, dtype: object\n"
     ]
    }
   ],
   "source": [
    "x = np.where(df_nets['Net']==13624)\n",
    "print(x)\n",
    "netX = df_nets.iloc[4624]\n",
    "print(netX)"
   ]
  },
  {
   "cell_type": "markdown",
   "metadata": {},
   "source": [
    "# Selecting by test_acc"
   ]
  },
  {
   "cell_type": "code",
   "execution_count": 20,
   "metadata": {},
   "outputs": [
    {
     "name": "stdout",
     "output_type": "stream",
     "text": [
      "(47310, 63)\n",
      "Acurácia 25.396825396825395 %\n"
     ]
    }
   ],
   "source": [
    "# Read xlsx with nets info\n",
    "df_nets = pd.read_excel('all_nets_hpc.xlsx', index_col=None, header=0)\n",
    "# df_nets = pd.read_excel('./Loop_v1/classification_nets_v1.xlsx', index_col=None, header=0)\n",
    "vote_acc(df_nets)"
   ]
  },
  {
   "cell_type": "code",
   "execution_count": 23,
   "metadata": {},
   "outputs": [
    {
     "name": "stdout",
     "output_type": "stream",
     "text": [
      "(367, 63)\n",
      "Acurácia 50.79365079365079 %\n"
     ]
    }
   ],
   "source": [
    "# Retira linhas em que a acurácia da validação foi menor que o valor estabelecido\n",
    "df_nets_vali = df_nets.drop(np.where(df_nets['test_acc']<40)[0], axis=0)\n",
    "df_nets_vali.reset_index(drop=True, inplace=True)\n",
    "vote_acc(df_nets_vali)"
   ]
  },
  {
   "cell_type": "code",
   "execution_count": 25,
   "metadata": {},
   "outputs": [
    {
     "name": "stdout",
     "output_type": "stream",
     "text": [
      "(2, 63)\n",
      "Acurácia 52.38095238095239 %\n"
     ]
    }
   ],
   "source": [
    "# Retira linhas em que a acurácia da validação foi menor que o valor estabelecido\n",
    "df_nets_vali = df_nets.drop(np.where(df_nets['test_acc']<49)[0], axis=0)\n",
    "df_nets_vali.reset_index(drop=True, inplace=True)\n",
    "vote_acc(df_nets_vali)"
   ]
  },
  {
   "cell_type": "code",
   "execution_count": 27,
   "metadata": {},
   "outputs": [
    {
     "name": "stdout",
     "output_type": "stream",
     "text": [
      "(7, 63)\n",
      "Acurácia 52.38095238095239 %\n"
     ]
    }
   ],
   "source": [
    "# Retira linhas em que a acurácia da validação foi menor que o valor estabelecido\n",
    "df_nets_vali = df_nets.drop(np.where(df_nets['test_acc']<47)[0], axis=0)\n",
    "df_nets_vali.reset_index(drop=True, inplace=True)\n",
    "vote_acc(df_nets_vali)"
   ]
  },
  {
   "cell_type": "code",
   "execution_count": 31,
   "metadata": {},
   "outputs": [
    {
     "name": "stdout",
     "output_type": "stream",
     "text": [
      "(33, 63)\n",
      "Acurácia 52.38095238095239 %\n"
     ]
    }
   ],
   "source": [
    "# Retira linhas em que a acurácia da validação foi menor que o valor estabelecido\n",
    "df_nets_vali = df_nets.drop(np.where(df_nets['test_acc']<45)[0], axis=0)\n",
    "df_nets_vali.reset_index(drop=True, inplace=True)\n",
    "vote_acc(df_nets_vali)"
   ]
  },
  {
   "cell_type": "code",
   "execution_count": 51,
   "metadata": {},
   "outputs": [
    {
     "name": "stdout",
     "output_type": "stream",
     "text": [
      "(367, 63)\n",
      "Acurácia 50.79365079365079 %\n"
     ]
    }
   ],
   "source": [
    "# Retira linhas em que a acurácia da validação foi menor que o valor estabelecido\n",
    "df_nets_vali = df_nets.drop(np.where(df_nets['test_acc']<40)[0], axis=0)\n",
    "df_nets_vali.reset_index(drop=True, inplace=True)\n",
    "vote_acc(df_nets_vali)"
   ]
  },
  {
   "cell_type": "markdown",
   "metadata": {},
   "source": [
    "# Save selected nets"
   ]
  },
  {
   "cell_type": "code",
   "execution_count": null,
   "metadata": {},
   "outputs": [],
   "source": [
    "# df_nets_vali.to_excel ('selected_nets_vali.xlsx', index = False, header=True)\n",
    "# df_nets_25.to_excel ('selected_nets_test_cmatrix.xlsx', index = False, header=True)"
   ]
  },
  {
   "cell_type": "code",
   "execution_count": null,
   "metadata": {},
   "outputs": [],
   "source": [
    "# Identificar no df as redes que não foram salvas ainda\n",
    "\n",
    "# Read xlsx with nets info\n",
    "df_nets = pd.read_excel('all_nets_hpc.xlsx', index_col=None, header=0)\n",
    "nets_number = df_nets['Net']\n",
    "\n",
    "missing_nets = sorted(set(range(min(nets_number), max(nets_number))) - set(nets_number))\n",
    "missing_nets = pd.DataFrame(missing_nets, columns = ['Net'])\n",
    "print(missing_nets)\n",
    "# missing_nets.to_excel ('missing_nets.xlsx', index = False, header=True)\n",
    "# missing_nets.to_csv('missing_nets.csv', index = False, header=True)"
   ]
  },
  {
   "cell_type": "code",
   "execution_count": null,
   "metadata": {},
   "outputs": [],
   "source": [
    "# Adaptar script para rodar essas redes faltantes (puxar numeros do xlsx ou csv)"
   ]
  },
  {
   "cell_type": "code",
   "execution_count": null,
   "metadata": {},
   "outputs": [],
   "source": []
  }
 ],
 "metadata": {
  "kernelspec": {
   "display_name": "zika",
   "language": "python",
   "name": "zika"
  },
  "language_info": {
   "codemirror_mode": {
    "name": "ipython",
    "version": 3
   },
   "file_extension": ".py",
   "mimetype": "text/x-python",
   "name": "python",
   "nbconvert_exporter": "python",
   "pygments_lexer": "ipython3",
   "version": "3.7.1"
  }
 },
 "nbformat": 4,
 "nbformat_minor": 2
}
