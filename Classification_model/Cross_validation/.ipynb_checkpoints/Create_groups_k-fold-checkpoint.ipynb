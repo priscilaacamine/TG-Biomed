{
 "cells": [
  {
   "cell_type": "markdown",
   "metadata": {},
   "source": [
    "# Dividir o dataset em 10 grupos (k-fold k=10)\n",
    "\n",
    "Usar k-1 grupos para treino e 1 para teste\n",
    "\n",
    "Repetir 10 vezes, cada vez com um grupo diferente no teste"
   ]
  },
  {
   "cell_type": "code",
   "execution_count": 1,
   "metadata": {},
   "outputs": [],
   "source": [
    "# Importando as bibliotecas necessarias\n",
    "import numpy as np\n",
    "import pandas as pd\n",
    "from sklearn.model_selection import train_test_split"
   ]
  },
  {
   "cell_type": "code",
   "execution_count": 2,
   "metadata": {},
   "outputs": [],
   "source": [
    "# # Read clean data (features <10% excluded) = 25 features\n",
    "# data = pd.read_pickle(\"D:/TG-Biomed/Classification_model/data_closed_rigid_o_adjusted_clean\")\n",
    "# pf50 = np.round(data[\"PF50_closed_rigid\"].values, 2)\n",
    "\n",
    "# # Usar todas as 24 características + ones\n",
    "# features = data.copy()\n",
    "# features.drop(\"PF50_closed_rigid\", axis=1, inplace=True)\n",
    "\n",
    "# features_names = features.columns\n",
    "# print('Features: ',list(features_names))\n",
    "# X = features.values.astype('float')\n",
    "# y = pf50.reshape(len(pf50), 1)"
   ]
  },
  {
   "cell_type": "code",
   "execution_count": 3,
   "metadata": {},
   "outputs": [],
   "source": [
    "# print(data.shape)"
   ]
  },
  {
   "cell_type": "code",
   "execution_count": 4,
   "metadata": {},
   "outputs": [],
   "source": [
    "# Load data\n",
    "X_train_vali = np.load('/TG-Biomed/Classification_model/X_train_vali.npy')\n",
    "y_train_vali_class = np.load('/TG-Biomed/Classification_model/y_train_vali_class.npy')\n",
    "y_train_vali = np.load('/TG-Biomed/Classification_model/y_train_vali.npy')\n",
    "X_test = np.load('/TG-Biomed/Classification_model/X_test.npy')\n",
    "y_test_class = np.load('/TG-Biomed/Classification_model/y_test_class.npy')\n",
    "y_test = np.load('/TG-Biomed/Classification_model/y_test.npy')"
   ]
  },
  {
   "cell_type": "code",
   "execution_count": 5,
   "metadata": {},
   "outputs": [],
   "source": [
    "leave_out = [21, 20, 23, 55, 5, 41, 60, 31]\n",
    "all_patients = range(63)\n",
    "selected_patients = list(set(all_patients) - set(leave_out))"
   ]
  },
  {
   "cell_type": "code",
   "execution_count": 6,
   "metadata": {},
   "outputs": [
    {
     "name": "stdout",
     "output_type": "stream",
     "text": [
      "(8, 1)\n",
      "(8, 1)\n",
      "(8, 25)\n"
     ]
    }
   ],
   "source": [
    "y_class_leave_out = y_test_class[leave_out]\n",
    "y_pf50_leave_out = y_test[leave_out]\n",
    "X_leave_out = X_test[leave_out]\n",
    "print(y_class_leave_out.shape)\n",
    "print(y_pf50_leave_out.shape)\n",
    "print(X_leave_out.shape)"
   ]
  },
  {
   "cell_type": "code",
   "execution_count": 7,
   "metadata": {},
   "outputs": [],
   "source": [
    "# Salvando os dados leave_out\n",
    "np.save('y_class_leave_out.npy', y_class_leave_out)\n",
    "np.save('y_pf50_leave_out.npy', y_pf50_leave_out)\n",
    "np.save('X_leave_out.npy', X_leave_out)"
   ]
  },
  {
   "cell_type": "code",
   "execution_count": 8,
   "metadata": {},
   "outputs": [
    {
     "name": "stdout",
     "output_type": "stream",
     "text": [
      "(55, 1)\n",
      "(55, 1)\n",
      "(55, 25)\n"
     ]
    }
   ],
   "source": [
    "y_class_rest = y_test_class[selected_patients]\n",
    "y_pf50_rest = y_test[selected_patients]\n",
    "X_rest = X_test[selected_patients]\n",
    "print(y_class_rest.shape)\n",
    "print(y_pf50_rest.shape)\n",
    "print(X_rest.shape)"
   ]
  },
  {
   "cell_type": "code",
   "execution_count": 9,
   "metadata": {},
   "outputs": [
    {
     "name": "stdout",
     "output_type": "stream",
     "text": [
      "(199, 1)\n",
      "(199, 1)\n",
      "(199, 25)\n"
     ]
    }
   ],
   "source": [
    "y_class_all = np.concatenate((y_train_vali_class, y_class_rest), axis=0)\n",
    "y_pf50_all = np.concatenate((y_train_vali, y_pf50_rest), axis=0)\n",
    "X_all = np.concatenate((X_train_vali, X_rest), axis=0)\n",
    "print(y_class_all.shape)\n",
    "print(y_pf50_all.shape)\n",
    "print(X_all.shape)"
   ]
  },
  {
   "cell_type": "code",
   "execution_count": 10,
   "metadata": {},
   "outputs": [],
   "source": [
    "# Salvando os dados leave_out\n",
    "np.save('y_class_all.npy', y_class_all)\n",
    "np.save('y_pf50_all.npy', y_pf50_all)\n",
    "np.save('X_all.npy', X_all)"
   ]
  },
  {
   "cell_type": "code",
   "execution_count": 11,
   "metadata": {},
   "outputs": [],
   "source": [
    "from sklearn.model_selection import KFold\n",
    "\n",
    "kf = KFold(n_splits=10, random_state=42, shuffle=True)"
   ]
  },
  {
   "cell_type": "code",
   "execution_count": 12,
   "metadata": {},
   "outputs": [
    {
     "name": "stdout",
     "output_type": "stream",
     "text": [
      "(179, 1)\n",
      "(20, 1)\n",
      "(179, 1)\n",
      "(20, 1)\n",
      "(179, 1)\n",
      "(20, 1)\n",
      "(179, 1)\n",
      "(20, 1)\n",
      "(179, 1)\n",
      "(20, 1)\n",
      "(179, 1)\n",
      "(20, 1)\n",
      "(179, 1)\n",
      "(20, 1)\n",
      "(179, 1)\n",
      "(20, 1)\n",
      "(179, 1)\n",
      "(20, 1)\n",
      "(180, 1)\n",
      "(19, 1)\n"
     ]
    }
   ],
   "source": [
    "cont = 1\n",
    "for train_index, test_index in kf.split(X_all):\n",
    "#     print(\"TRAIN:\", train_index)\n",
    "#     print(\"TEST:\", test_index)\n",
    "    X_train, X_test = X_all[train_index], X_all[test_index]\n",
    "    y_train_class, y_test_class = y_class_all[train_index], y_class_all[test_index]\n",
    "    y_train_pf50, y_test_pf50 = y_pf50_all[train_index], y_pf50_all[test_index]\n",
    "    np.save('k'+str(cont)+'_X_train.npy', X_train)\n",
    "    np.save('k'+str(cont)+'_X_test.npy', X_test)\n",
    "    np.save('k'+str(cont)+'_y_train_class.npy', y_train_class)\n",
    "    np.save('k'+str(cont)+'_y_test_class.npy', y_test_class)\n",
    "    np.save('k'+str(cont)+'_y_train_pf50.npy', y_train_pf50)\n",
    "    np.save('k'+str(cont)+'_y_test_pf50.npy', y_test_pf50)\n",
    "    cont = cont + 1\n",
    "    \n",
    "    print(y_train_pf50.shape)\n",
    "    print(y_test_class.shape)"
   ]
  },
  {
   "cell_type": "code",
   "execution_count": 13,
   "metadata": {},
   "outputs": [
    {
     "name": "stdout",
     "output_type": "stream",
     "text": [
      "(180, 25)\n",
      "(180, 1)\n",
      "(180, 1)\n",
      "(19, 25)\n",
      "(19, 1)\n",
      "(19, 1)\n"
     ]
    }
   ],
   "source": [
    "print(X_train.shape)\n",
    "print(y_train_class.shape)\n",
    "print(y_train_pf50.shape)\n",
    "print(X_test.shape)\n",
    "print(y_test_class.shape)\n",
    "print(y_test_pf50.shape)"
   ]
  },
  {
   "cell_type": "code",
   "execution_count": null,
   "metadata": {},
   "outputs": [],
   "source": []
  }
 ],
 "metadata": {
  "kernelspec": {
   "display_name": "zika",
   "language": "python",
   "name": "zika"
  },
  "language_info": {
   "codemirror_mode": {
    "name": "ipython",
    "version": 3
   },
   "file_extension": ".py",
   "mimetype": "text/x-python",
   "name": "python",
   "nbconvert_exporter": "python",
   "pygments_lexer": "ipython3",
   "version": "3.7.1"
  }
 },
 "nbformat": 4,
 "nbformat_minor": 2
}
