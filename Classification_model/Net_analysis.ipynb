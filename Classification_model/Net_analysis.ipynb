{
 "cells": [
  {
   "cell_type": "code",
   "execution_count": 1,
   "metadata": {},
   "outputs": [],
   "source": [
    "# Importando as bibliotecas necessarias\n",
    "import numpy as np\n",
    "import matplotlib.pyplot as plt\n",
    "# %matplotlib notebook\n",
    "import pandas as pd\n",
    "from scipy.stats import mode, pearsonr, spearmanr\n",
    "import glob, os\n",
    "pd.set_option(\"display.max_rows\", 300)"
   ]
  },
  {
   "cell_type": "code",
   "execution_count": 2,
   "metadata": {},
   "outputs": [],
   "source": [
    "def vote_acc(selected_nets):\n",
    "\n",
    "    all_predicted = np.empty([selected_nets.shape[0], 63])\n",
    "    for net_number in range(selected_nets.shape[0]):\n",
    "        netX = selected_nets.iloc[net_number]\n",
    "        net_predicted_str = netX['test_predicted'][1:-1].replace(\"\\n\", \"\")\n",
    "        net_predicted = np.fromstring(net_predicted_str, dtype=int, sep=' ')\n",
    "        all_predicted[net_number] = net_predicted\n",
    "\n",
    "    print(all_predicted.shape)\n",
    "\n",
    "    voteClassOut, count = mode(all_predicted, axis=0)\n",
    "    # print(voteClassOut)\n",
    "    voteClassOut = voteClassOut.reshape(63,1)\n",
    "\n",
    "    classTarget = np.load('y_test_class.npy')\n",
    "    # print(classTarget.reshape(1, 63))\n",
    "\n",
    "    print('Acurácia', np.sum(classTarget.squeeze()==voteClassOut.squeeze())/len(classTarget)*100, '%')\n",
    "    plt.figure()\n",
    "    plt.plot(classTarget, 'ob')\n",
    "    plt.plot(voteClassOut, 'xr')\n",
    "    plt.show()"
   ]
  },
  {
   "cell_type": "code",
   "execution_count": 3,
   "metadata": {},
   "outputs": [],
   "source": [
    "# Correlação Acc_vali x Acc_test\n",
    "def acc_corr(selected_nets):\n",
    "    acc_vali = selected_nets['vali_best_acc']\n",
    "    acc_test = selected_nets['test_acc']\n",
    "    pcorr, _ = pearsonr(acc_vali, acc_test)\n",
    "    scorr, _ = spearmanr(acc_vali, acc_test)\n",
    "    print('Correlação de Pearson:', pcorr)\n",
    "    print('Correlação de Spearman:', scorr)\n",
    "    plt.scatter(acc_vali, acc_test)\n",
    "    plt.show()"
   ]
  },
  {
   "cell_type": "code",
   "execution_count": 4,
   "metadata": {
    "scrolled": false
   },
   "outputs": [],
   "source": [
    "# # Juntar todos os xlsx em um só\n",
    "# all_data = pd.DataFrame()\n",
    "# for f in glob.glob('D:/TG-HPC_data/hpc_xlsx/*.xlsx'):\n",
    "#     df = pd.read_excel(f)\n",
    "#     all_data = all_data.append(df,ignore_index=True)\n",
    "# print(all_data)\n",
    "# all_data.to_excel ('all_nets_hpc.xlsx', index = False, header=True)"
   ]
  },
  {
   "cell_type": "code",
   "execution_count": 5,
   "metadata": {},
   "outputs": [
    {
     "data": {
      "text/plain": [
       "(47310, 24)"
      ]
     },
     "execution_count": 5,
     "metadata": {},
     "output_type": "execute_result"
    }
   ],
   "source": [
    "# Read xlsx with nets info\n",
    "df_nets = pd.read_excel('all_nets_hpc.xlsx', index_col=None, header=0)\n",
    "df_nets.shape"
   ]
  },
  {
   "cell_type": "code",
   "execution_count": 6,
   "metadata": {},
   "outputs": [
    {
     "name": "stdout",
     "output_type": "stream",
     "text": [
      "(47310, 63)\n",
      "Acurácia 25.396825396825395 %\n"
     ]
    },
    {
     "data": {
      "image/png": "[encoded data removed]",
      "text/plain": [
       "<Figure size 432x288 with 1 Axes>"
      ]
     },
     "metadata": {
      "needs_background": "light"
     },
     "output_type": "display_data"
    }
   ],
   "source": [
    "vote_acc(df_nets)"
   ]
  },
  {
   "cell_type": "code",
   "execution_count": 7,
   "metadata": {},
   "outputs": [
    {
     "name": "stdout",
     "output_type": "stream",
     "text": [
      "Correlação de Pearson: 0.107760469490615\n",
      "Correlação de Spearman: 0.12356025948908916\n"
     ]
    },
    {
     "data": {
      "image/png": "[encoded data removed]",
      "text/plain": [
       "<Figure size 432x288 with 1 Axes>"
      ]
     },
     "metadata": {
      "needs_background": "light"
     },
     "output_type": "display_data"
    }
   ],
   "source": [
    "acc_corr(df_nets)"
   ]
  },
  {
   "cell_type": "code",
   "execution_count": 8,
   "metadata": {},
   "outputs": [
    {
     "name": "stdout",
     "output_type": "stream",
     "text": [
      "49\n"
     ]
    },
    {
     "data": {
      "text/plain": [
       "(array([22465, 22773], dtype=int64),)"
      ]
     },
     "execution_count": 8,
     "metadata": {},
     "output_type": "execute_result"
    }
   ],
   "source": [
    "print(max(df_nets['test_acc']))\n",
    "np.where(df_nets['test_acc']==max(df_nets['test_acc']))"
   ]
  },
  {
   "cell_type": "code",
   "execution_count": 9,
   "metadata": {},
   "outputs": [
    {
     "name": "stdout",
     "output_type": "stream",
     "text": [
      "38.07520608750793\n",
      "26.410716550412175\n",
      "25.21718452758402\n"
     ]
    }
   ],
   "source": [
    "print(np.mean(df_nets['vali_best_acc']))\n",
    "print(np.mean(df_nets['vali_sur_acc']))\n",
    "print(np.mean(df_nets['test_acc']))"
   ]
  },
  {
   "cell_type": "code",
   "execution_count": 10,
   "metadata": {},
   "outputs": [
    {
     "data": {
      "text/plain": [
       "(40210, 24)"
      ]
     },
     "execution_count": 10,
     "metadata": {},
     "output_type": "execute_result"
    }
   ],
   "source": [
    "# Retira linhas com valores vazios (quando o R é vazio é pq q rede deu como output uma única classe para todos os sujeitos)\n",
    "df_nets_nan = df_nets.dropna()\n",
    "df_nets_nan.reset_index(drop=True, inplace=True)\n",
    "df_nets_nan.shape"
   ]
  },
  {
   "cell_type": "code",
   "execution_count": 11,
   "metadata": {},
   "outputs": [
    {
     "name": "stdout",
     "output_type": "stream",
     "text": [
      "(40210, 63)\n",
      "Acurácia 31.746031746031743 %\n"
     ]
    },
    {
     "data": {
      "image/png": "[encoded data removed]",
      "text/plain": [
       "<Figure size 432x288 with 1 Axes>"
      ]
     },
     "metadata": {
      "needs_background": "light"
     },
     "output_type": "display_data"
    }
   ],
   "source": [
    "vote_acc(df_nets_nan)"
   ]
  },
  {
   "cell_type": "code",
   "execution_count": 12,
   "metadata": {},
   "outputs": [
    {
     "name": "stdout",
     "output_type": "stream",
     "text": [
      "Correlação de Pearson: 0.04864198036055958\n",
      "Correlação de Spearman: 0.054630162161346814\n"
     ]
    },
    {
     "data": {
      "image/png": "[encoded data removed]",
      "text/plain": [
       "<Figure size 432x288 with 1 Axes>"
      ]
     },
     "metadata": {
      "needs_background": "light"
     },
     "output_type": "display_data"
    }
   ],
   "source": [
    "acc_corr(df_nets_nan)"
   ]
  },
  {
   "cell_type": "code",
   "execution_count": 13,
   "metadata": {},
   "outputs": [
    {
     "data": {
      "text/plain": [
       "(38029, 24)"
      ]
     },
     "execution_count": 13,
     "metadata": {},
     "output_type": "execute_result"
    }
   ],
   "source": [
    "# Retira linhas em que surrogate foi melhor que a validação (acurácia)\n",
    "df_nets_sur = df_nets_nan.drop(np.where(df_nets_nan['vali_best_acc']<df_nets_nan['vali_sur_acc'])[0], axis=0)\n",
    "df_nets_sur.reset_index(drop=True, inplace=True)\n",
    "df_nets_sur.shape"
   ]
  },
  {
   "cell_type": "code",
   "execution_count": 14,
   "metadata": {},
   "outputs": [
    {
     "data": {
      "text/plain": [
       "(34274, 24)"
      ]
     },
     "execution_count": 14,
     "metadata": {},
     "output_type": "execute_result"
    }
   ],
   "source": [
    "# Retira linhas em que surrogate foi melhor que a validação (R)\n",
    "# Analisar R bruto ou o módulo? (nesse caso R negativo é bom?)\n",
    "df_nets_sur = df_nets_sur.drop(np.where(df_nets_sur['vali_best_R']<df_nets_sur['vali_sur_R'])[0], axis=0)\n",
    "df_nets_sur.reset_index(drop=True, inplace=True)\n",
    "df_nets_sur.shape"
   ]
  },
  {
   "cell_type": "code",
   "execution_count": 15,
   "metadata": {},
   "outputs": [
    {
     "data": {
      "text/plain": [
       "(27172, 24)"
      ]
     },
     "execution_count": 15,
     "metadata": {},
     "output_type": "execute_result"
    }
   ],
   "source": [
    "# Retira linhas em que surrogate foi melhor que a validação (loss)\n",
    "df_nets_sur = df_nets_sur.drop(np.where(df_nets_sur['vali_best_loss']>df_nets_sur['vali_sur_loss'])[0], axis=0)\n",
    "df_nets_sur.reset_index(drop=True, inplace=True)\n",
    "df_nets_sur.shape"
   ]
  },
  {
   "cell_type": "code",
   "execution_count": 16,
   "metadata": {},
   "outputs": [
    {
     "name": "stdout",
     "output_type": "stream",
     "text": [
      "(27172, 63)\n",
      "Acurácia 31.746031746031743 %\n"
     ]
    },
    {
     "data": {
      "image/png": "[encoded data removed]",
      "text/plain": [
       "<Figure size 432x288 with 1 Axes>"
      ]
     },
     "metadata": {
      "needs_background": "light"
     },
     "output_type": "display_data"
    }
   ],
   "source": [
    "vote_acc(df_nets_sur)"
   ]
  },
  {
   "cell_type": "code",
   "execution_count": 17,
   "metadata": {},
   "outputs": [
    {
     "name": "stdout",
     "output_type": "stream",
     "text": [
      "Correlação de Pearson: 0.03371989469488199\n",
      "Correlação de Spearman: 0.04219019352213258\n"
     ]
    },
    {
     "data": {
      "image/png": "[encoded data removed]",
      "text/plain": [
       "<Figure size 432x288 with 1 Axes>"
      ]
     },
     "metadata": {
      "needs_background": "light"
     },
     "output_type": "display_data"
    }
   ],
   "source": [
    "acc_corr(df_nets_sur)"
   ]
  },
  {
   "cell_type": "code",
   "execution_count": 61,
   "metadata": {},
   "outputs": [
    {
     "data": {
      "text/plain": [
       "(26163, 24)"
      ]
     },
     "execution_count": 61,
     "metadata": {},
     "output_type": "execute_result"
    }
   ],
   "source": [
    "# Retira linhas em que a acurácia da validação foi menor que 25%\n",
    "df_nets_vali = df_nets_sur.drop(np.where(df_nets_sur['vali_best_acc']<30)[0], axis=0)\n",
    "df_nets_vali.reset_index(drop=True, inplace=True)\n",
    "df_nets_vali.shape"
   ]
  },
  {
   "cell_type": "code",
   "execution_count": 62,
   "metadata": {},
   "outputs": [
    {
     "name": "stdout",
     "output_type": "stream",
     "text": [
      "(26163, 63)\n",
      "Acurácia 31.746031746031743 %\n"
     ]
    },
    {
     "data": {
      "image/png": "[encoded data removed]",
      "text/plain": [
       "<Figure size 432x288 with 1 Axes>"
      ]
     },
     "metadata": {
      "needs_background": "light"
     },
     "output_type": "display_data"
    }
   ],
   "source": [
    "vote_acc(df_nets_vali)"
   ]
  },
  {
   "cell_type": "code",
   "execution_count": 56,
   "metadata": {},
   "outputs": [
    {
     "name": "stdout",
     "output_type": "stream",
     "text": [
      "Correlação de Pearson: 0.029794169967913193\n",
      "Correlação de Spearman: 0.03385334998077251\n"
     ]
    },
    {
     "data": {
      "image/png": "[encoded data removed]",
      "text/plain": [
       "<Figure size 432x288 with 1 Axes>"
      ]
     },
     "metadata": {
      "needs_background": "light"
     },
     "output_type": "display_data"
    }
   ],
   "source": [
    "acc_corr(df_nets_vali)"
   ]
  },
  {
   "cell_type": "code",
   "execution_count": 21,
   "metadata": {},
   "outputs": [
    {
     "data": {
      "text/plain": [
       "(4546, 24)"
      ]
     },
     "execution_count": 21,
     "metadata": {},
     "output_type": "execute_result"
    }
   ],
   "source": [
    "# Análise da matriz de confusão.\n",
    "# MATRIZ DE CONFUSÃO DO TESTE --> Salvar a da validação (15 sujeitos vali)\n",
    "# Diagonal principal todos maior que 25%.\n",
    "\n",
    "netok = []\n",
    "net2drop = []\n",
    "for net_number in range(df_nets_vali.shape[0]):\n",
    "    netX = df_nets_vali.iloc[net_number]\n",
    "    c_matrix_perc = netX['vali_c_matrix_perc'].replace(\"\\n\", \"\")\n",
    "    c_matrix_perc = c_matrix_perc.replace(\"[\", \"\")\n",
    "    c_matrix_perc = c_matrix_perc.replace(\"]\", \"\")\n",
    "    c_matrix_perc = np.fromstring(c_matrix_perc, sep=' ').reshape(4,4)\n",
    "    if (c_matrix_perc[0][0]>25 and c_matrix_perc[1][1]>25 and c_matrix_perc[2][2]>25 and c_matrix_perc[3][3]>25):\n",
    "        netok.append(net_number)\n",
    "    else:\n",
    "        net2drop.append(net_number)\n",
    "net2drop_array = np.array(net2drop)\n",
    "df_nets_25 = df_nets_vali.drop(net2drop_array, axis=0)\n",
    "df_nets_25.reset_index(drop=True, inplace=True)\n",
    "df_nets_25.shape"
   ]
  },
  {
   "cell_type": "code",
   "execution_count": 22,
   "metadata": {},
   "outputs": [
    {
     "name": "stdout",
     "output_type": "stream",
     "text": [
      "(4546, 63)\n",
      "Acurácia 26.984126984126984 %\n"
     ]
    },
    {
     "data": {
      "image/png": "[encoded data removed]",
      "text/plain": [
       "<Figure size 432x288 with 1 Axes>"
      ]
     },
     "metadata": {
      "needs_background": "light"
     },
     "output_type": "display_data"
    }
   ],
   "source": [
    "vote_acc(df_nets_25)"
   ]
  },
  {
   "cell_type": "code",
   "execution_count": 23,
   "metadata": {},
   "outputs": [
    {
     "name": "stdout",
     "output_type": "stream",
     "text": [
      "Correlação de Pearson: 0.004763989893634078\n",
      "Correlação de Spearman: 0.003653317446800793\n"
     ]
    },
    {
     "data": {
      "image/png": "[encoded data removed]",
      "text/plain": [
       "<Figure size 432x288 with 1 Axes>"
      ]
     },
     "metadata": {
      "needs_background": "light"
     },
     "output_type": "display_data"
    }
   ],
   "source": [
    "acc_corr(df_nets_25)"
   ]
  },
  {
   "cell_type": "code",
   "execution_count": 24,
   "metadata": {},
   "outputs": [
    {
     "data": {
      "text/plain": [
       "array([], dtype=int64)"
      ]
     },
     "execution_count": 24,
     "metadata": {},
     "output_type": "execute_result"
    }
   ],
   "source": [
    "np.where(df_nets_25['vali_best_acc']<25)[0]"
   ]
  },
  {
   "cell_type": "code",
   "execution_count": 25,
   "metadata": {},
   "outputs": [
    {
     "name": "stdout",
     "output_type": "stream",
     "text": [
      "46.17003959524857\n",
      "23.896172459304882\n",
      "25.519797624285086\n"
     ]
    }
   ],
   "source": [
    "print(np.mean(df_nets_25['vali_best_acc']))\n",
    "print(np.mean(df_nets_25['vali_sur_acc']))\n",
    "print(np.mean(df_nets_25['test_acc']))"
   ]
  },
  {
   "cell_type": "code",
   "execution_count": 26,
   "metadata": {},
   "outputs": [
    {
     "name": "stdout",
     "output_type": "stream",
     "text": [
      "49\n"
     ]
    },
    {
     "data": {
      "text/plain": [
       "(array([2137], dtype=int64),)"
      ]
     },
     "execution_count": 26,
     "metadata": {},
     "output_type": "execute_result"
    }
   ],
   "source": [
    "print(max(df_nets_25['test_acc']))\n",
    "np.where(df_nets_25['test_acc']==max(df_nets_25['test_acc']))"
   ]
  },
  {
   "cell_type": "code",
   "execution_count": 27,
   "metadata": {},
   "outputs": [
    {
     "data": {
      "text/plain": [
       "Net                                                                 658\n",
       "random_state                                                       5505\n",
       "num_layers                                                            4\n",
       "layers_size                                                  [8, 22, 4]\n",
       "net_param             <bound method Module.parameters of Net(\\n  (li...\n",
       "criterion                                              CrossEntropyLoss\n",
       "learning_rate                                                     0.015\n",
       "optimizer                                                          Adam\n",
       "epochs                                                            50000\n",
       "vali_best_epoch                                                   15000\n",
       "vali_best_acc                                                        51\n",
       "vali_best_loss                                                  14.0503\n",
       "vali_best_R                                                    0.507383\n",
       "vali_sur_acc                                                         17\n",
       "vali_sur_loss                                                   86.0838\n",
       "vali_sur_R                                                     -0.42611\n",
       "vali_c_matrix           [[2 2 1 1]\\n [2 6 0 0]\\n [0 1 4 0]\\n [1 0 6 3]]\n",
       "vali_c_matrix_perc    [[33.33333333 33.33333333 16.66666667 16.66666...\n",
       "test_acc                                                             19\n",
       "test_loss                                                       56.4489\n",
       "test_R                                                        0.0430372\n",
       "test_predicted        [2 1 3 0 2 0 2 2 1 2 0 0 2 2 3 3 2 0 1 3 2 3 0...\n",
       "test_c_matrix           [[3 7 9 4]\\n [4 2 6 3]\\n [3 1 5 4]\\n [2 2 6 2]]\n",
       "test_c_matrix_perc    [[13.04347826 30.43478261 39.13043478 17.39130...\n",
       "Name: 57, dtype: object"
      ]
     },
     "execution_count": 27,
     "metadata": {},
     "output_type": "execute_result"
    }
   ],
   "source": [
    "net_number = 57\n",
    "netX = df_nets_25.iloc[net_number]\n",
    "netX"
   ]
  },
  {
   "cell_type": "markdown",
   "metadata": {},
   "source": [
    "# Save selected nets"
   ]
  },
  {
   "cell_type": "code",
   "execution_count": 28,
   "metadata": {},
   "outputs": [],
   "source": [
    "# df_nets_vali.to_excel ('selected_nets_vali.xlsx', index = False, header=True)\n",
    "# df_nets_25.to_excel ('selected_nets_test_cmatrix.xlsx', index = False, header=True)"
   ]
  },
  {
   "cell_type": "code",
   "execution_count": 30,
   "metadata": {},
   "outputs": [
    {
     "name": "stdout",
     "output_type": "stream",
     "text": [
      "        Net\n",
      "0      5526\n",
      "1      5527\n",
      "2      5528\n",
      "3      5529\n",
      "4      5530\n",
      "...     ...\n",
      "9099  53995\n",
      "9100  53996\n",
      "9101  53997\n",
      "9102  53998\n",
      "9103  53999\n",
      "\n",
      "[9104 rows x 1 columns]\n"
     ]
    }
   ],
   "source": [
    "# Identificar no df as redes que não foram salvas ainda\n",
    "\n",
    "# Read xlsx with nets info\n",
    "df_nets = pd.read_excel('all_nets_hpc.xlsx', index_col=None, header=0)\n",
    "nets_number = df_nets['Net']\n",
    "\n",
    "missing_nets = sorted(set(range(min(nets_number), max(nets_number))) - set(nets_number))\n",
    "missing_nets = pd.DataFrame(missing_nets, columns = ['Net'])\n",
    "print(missing_nets)\n",
    "# missing_nets.to_excel ('missing_nets.xlsx', index = False, header=True)\n",
    "# missing_nets.to_csv('missing_nets.csv', index = False, header=True)"
   ]
  },
  {
   "cell_type": "code",
   "execution_count": null,
   "metadata": {},
   "outputs": [],
   "source": [
    "# Adaptar script para rodar essas redes faltantes (puxar numeros do xlsx ou csv)"
   ]
  },
  {
   "cell_type": "code",
   "execution_count": null,
   "metadata": {},
   "outputs": [],
   "source": []
  }
 ],
 "metadata": {
  "kernelspec": {
   "display_name": "zika",
   "language": "python",
   "name": "zika"
  },
  "language_info": {
   "codemirror_mode": {
    "name": "ipython",
    "version": 3
   },
   "file_extension": ".py",
   "mimetype": "text/x-python",
   "name": "python",
   "nbconvert_exporter": "python",
   "pygments_lexer": "ipython3",
   "version": "3.7.1"
  }
 },
 "nbformat": 4,
 "nbformat_minor": 2
}
