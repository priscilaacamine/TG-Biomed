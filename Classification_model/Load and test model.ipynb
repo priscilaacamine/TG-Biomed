{
 "cells": [
  {
   "cell_type": "code",
   "execution_count": 23,
   "metadata": {},
   "outputs": [],
   "source": [
    "# Importando as bibliotecas necessarias\n",
    "import numpy as np\n",
    "import matplotlib.pyplot as plt\n",
    "import pandas as pd\n",
    "import torch\n",
    "import torch.nn as nn\n",
    "import torch.nn.functional as F\n",
    "from sklearn.model_selection import train_test_split\n",
    "from sklearn.preprocessing import MinMaxScaler, RobustScaler\n",
    "from sklearn.metrics import confusion_matrix\n",
    "from scipy.stats import mode\n",
    "from pickle import dump, load\n",
    "import os\n",
    "# from imblearn.over_sampling import SMOTE\n",
    "pd.set_option(\"display.max_rows\", 300)"
   ]
  },
  {
   "cell_type": "code",
   "execution_count": 24,
   "metadata": {},
   "outputs": [],
   "source": [
    "class Net(nn.Module):\n",
    "    def __init__(self, input_size, num_layers, layers_size, output_size):\n",
    "        super(Net, self).__init__()\n",
    "        self.num_layers = num_layers\n",
    "\n",
    "        self.linears = nn.ModuleList([nn.Linear(input_size, layers_size[0])])\n",
    "        for i in range(0, self.num_layers-2):\n",
    "            self.linears.extend([nn.Linear(layers_size[i], layers_size[i+1])])              \n",
    "        self.linears.append(nn.Linear(layers_size[-1], output_size))\n",
    "\n",
    "# Última camada sem função de ativação --> crossentropy já aplica softmax\n",
    "# ReLU em intermediárias\n",
    "    def forward(self, x):\n",
    "        for layer in self.linears[0:-1]:                   \n",
    "            x = F.relu(layer(x))\n",
    "        x = (self.linears[-1](x))\n",
    "        return(x)\n",
    "\n",
    "# # Aplicando função de ativação na última camada tbm\n",
    "# ### Tentar mudar pra sigmoide se deixar a normalização de 0,1\n",
    "#     def forward(self, x):\n",
    "#         for layer in self.linears:                   \n",
    "#             x = torch.sigmoid(layer(x))\n",
    "# #             x = F.relu(layer(x))\n",
    "#         return(x)"
   ]
  },
  {
   "cell_type": "code",
   "execution_count": 25,
   "metadata": {},
   "outputs": [
    {
     "data": {
      "text/html": [
       "<div>\n",
       "<style scoped>\n",
       "    .dataframe tbody tr th:only-of-type {\n",
       "        vertical-align: middle;\n",
       "    }\n",
       "\n",
       "    .dataframe tbody tr th {\n",
       "        vertical-align: top;\n",
       "    }\n",
       "\n",
       "    .dataframe thead th {\n",
       "        text-align: right;\n",
       "    }\n",
       "</style>\n",
       "<table border=\"1\" class=\"dataframe\">\n",
       "  <thead>\n",
       "    <tr style=\"text-align: right;\">\n",
       "      <th></th>\n",
       "      <th>Net</th>\n",
       "      <th>random_state</th>\n",
       "      <th>num_layers</th>\n",
       "      <th>layers_size</th>\n",
       "      <th>net_param</th>\n",
       "      <th>criterion</th>\n",
       "      <th>learning_rate</th>\n",
       "      <th>optimizer</th>\n",
       "      <th>epochs</th>\n",
       "      <th>vali_best_epoch</th>\n",
       "      <th>...</th>\n",
       "      <th>vali_best_R</th>\n",
       "      <th>vali_sur_acc</th>\n",
       "      <th>vali_sur_loss</th>\n",
       "      <th>vali_sur_R</th>\n",
       "      <th>test_acc</th>\n",
       "      <th>test_loss</th>\n",
       "      <th>test_R</th>\n",
       "      <th>predicted</th>\n",
       "      <th>c_matrix</th>\n",
       "      <th>c_matrix_perc</th>\n",
       "    </tr>\n",
       "  </thead>\n",
       "  <tbody>\n",
       "    <tr>\n",
       "      <th>0</th>\n",
       "      <td>0</td>\n",
       "      <td>0</td>\n",
       "      <td>4</td>\n",
       "      <td>[23, 3, 4]</td>\n",
       "      <td>&lt;bound method Module.parameters of Net(\\n  (li...</td>\n",
       "      <td>CrossEntropyLoss</td>\n",
       "      <td>0.041</td>\n",
       "      <td>Adam</td>\n",
       "      <td>50000</td>\n",
       "      <td>43000</td>\n",
       "      <td>...</td>\n",
       "      <td>0.818282</td>\n",
       "      <td>tensor(20)</td>\n",
       "      <td>14.765882</td>\n",
       "      <td>-0.130773</td>\n",
       "      <td>47</td>\n",
       "      <td>7.227311</td>\n",
       "      <td>0.236648</td>\n",
       "      <td>[3 1 1 2 1 1 1 1 1 1 3 1 3 1 3 1 1 1 1 2 1 1 1...</td>\n",
       "      <td>[[ 0  5  3  1]\\n [ 0 18  0  3]\\n [ 0  8  3  0]...</td>\n",
       "      <td>[[ 0.         55.55555556 33.33333333 11.11111...</td>\n",
       "    </tr>\n",
       "  </tbody>\n",
       "</table>\n",
       "<p>1 rows × 22 columns</p>\n",
       "</div>"
      ],
      "text/plain": [
       "   Net  random_state  num_layers layers_size  \\\n",
       "0    0             0           4  [23, 3, 4]   \n",
       "\n",
       "                                           net_param         criterion  \\\n",
       "0  <bound method Module.parameters of Net(\\n  (li...  CrossEntropyLoss   \n",
       "\n",
       "   learning_rate optimizer  epochs  vali_best_epoch  ...  vali_best_R  \\\n",
       "0          0.041      Adam   50000            43000  ...     0.818282   \n",
       "\n",
       "   vali_sur_acc  vali_sur_loss vali_sur_R  test_acc  test_loss    test_R  \\\n",
       "0    tensor(20)      14.765882  -0.130773        47   7.227311  0.236648   \n",
       "\n",
       "                                           predicted  \\\n",
       "0  [3 1 1 2 1 1 1 1 1 1 3 1 3 1 3 1 1 1 1 2 1 1 1...   \n",
       "\n",
       "                                            c_matrix  \\\n",
       "0  [[ 0  5  3  1]\\n [ 0 18  0  3]\\n [ 0  8  3  0]...   \n",
       "\n",
       "                                       c_matrix_perc  \n",
       "0  [[ 0.         55.55555556 33.33333333 11.11111...  \n",
       "\n",
       "[1 rows x 22 columns]"
      ]
     },
     "execution_count": 25,
     "metadata": {},
     "output_type": "execute_result"
    }
   ],
   "source": [
    "# Read xlsx with nets info\n",
    "df_nets = pd.read_excel('classification_nets.xlsx', index_col=None, header=0)\n",
    "df_nets"
   ]
  },
  {
   "cell_type": "code",
   "execution_count": 22,
   "metadata": {},
   "outputs": [
    {
     "name": "stdout",
     "output_type": "stream",
     "text": [
      "49\n"
     ]
    },
    {
     "data": {
      "text/plain": [
       "(array([111], dtype=int64),)"
      ]
     },
     "execution_count": 22,
     "metadata": {},
     "output_type": "execute_result"
    }
   ],
   "source": [
    "print(max(df_nets['test_acc']))\n",
    "np.where(df_nets['test_acc']==max(df_nets['test_acc']))"
   ]
  },
  {
   "cell_type": "code",
   "execution_count": 5,
   "metadata": {},
   "outputs": [
    {
     "data": {
      "text/plain": [
       "Net                                                              111\n",
       "random_state                                                    6511\n",
       "num_layers                                                         4\n",
       "layer_init_size                                                    3\n",
       "layers_size                                                  [3 3 4]\n",
       "net_param          <bound method Module.parameters of Net(\\n  (li...\n",
       "criterion                                           CrossEntropyLoss\n",
       "learning_rate                                                  0.001\n",
       "optimizer                                                       Adam\n",
       "epochs                                                         50000\n",
       "vali_best_epoch                                                50000\n",
       "vali_best_acc                                                     33\n",
       "vali_best_loss                                               28.4282\n",
       "vali_best_R                                                0.0387613\n",
       "test_acc                                                          49\n",
       "test_loss                                                    57.8313\n",
       "test_R                                                      0.382347\n",
       "predicted          tensor([3, 0, 1, 3, 3, 0, 1, 2, 1, 2, 0, 0, 3,...\n",
       "Name: 111, dtype: object"
      ]
     },
     "execution_count": 5,
     "metadata": {},
     "output_type": "execute_result"
    }
   ],
   "source": [
    "net_number = 111\n",
    "netX = df_nets.iloc[net_number]\n",
    "netX"
   ]
  },
  {
   "cell_type": "code",
   "execution_count": 6,
   "metadata": {},
   "outputs": [],
   "source": [
    "# Load dataset\n",
    "X_test = np.load('X_test.npy')\n",
    "y_test_class = np.load('y_test_class.npy')"
   ]
  },
  {
   "cell_type": "code",
   "execution_count": 8,
   "metadata": {},
   "outputs": [],
   "source": [
    "# # Muda para o diretório de interesse\n",
    "# os.chdir(\"./Nets/Net0/\")\n",
    "\n",
    "pasta = \"./Nets/Net\"+str(net_number)+\"/\""
   ]
  },
  {
   "cell_type": "code",
   "execution_count": 9,
   "metadata": {},
   "outputs": [],
   "source": [
    "# Transformando o dado de teste\n",
    "# load the scaler\n",
    "scaler_x = load(open(pasta +'scaler_x.pkl', 'rb'))\n",
    "X_test_scaled = scaler_x.transform(X_test)"
   ]
  },
  {
   "cell_type": "code",
   "execution_count": 10,
   "metadata": {},
   "outputs": [
    {
     "name": "stdout",
     "output_type": "stream",
     "text": [
      "Number of layers: 4\n",
      "Inicial size layer: 3\n",
      "Layers sizes: [3, 3, 4]\n"
     ]
    }
   ],
   "source": [
    "# Parâmetros da rede\n",
    "torch.manual_seed(1234)\n",
    "\n",
    "# num_layers = rede.iloc[0,2]\n",
    "num_layers = netX['num_layers']\n",
    "print('Number of layers: %d' % (num_layers))\n",
    "layer_init_size = netX['layer_init_size']\n",
    "print('Inicial size layer: %d' % (layer_init_size))\n",
    "layers_size = np.linspace(layer_init_size, 4, num_layers-1, dtype=int)\n",
    "print('Layers sizes:', list(layers_size))\n",
    "\n",
    "net = Net(input_size=X_test.shape[1], num_layers=num_layers, layers_size=layers_size , output_size=4)"
   ]
  },
  {
   "cell_type": "code",
   "execution_count": 11,
   "metadata": {},
   "outputs": [],
   "source": [
    "# Choose optmizer and loss function\n",
    "criterion = nn.CrossEntropyLoss()\n",
    "optimizer = torch.optim.Adam(net.parameters(), lr = 0.001)\n",
    "\n",
    "# to load\n",
    "checkpoint = torch.load(pasta +'model_best.pth.tar')\n",
    "net.load_state_dict(checkpoint['state_dict'])\n",
    "optimizer.load_state_dict(checkpoint['optimizer'])"
   ]
  },
  {
   "cell_type": "code",
   "execution_count": 12,
   "metadata": {},
   "outputs": [
    {
     "data": {
      "text/plain": [
       "50000"
      ]
     },
     "execution_count": 12,
     "metadata": {},
     "output_type": "execute_result"
    }
   ],
   "source": [
    "checkpoint['epoch']"
   ]
  },
  {
   "cell_type": "code",
   "execution_count": 13,
   "metadata": {},
   "outputs": [
    {
     "data": {
      "text/plain": [
       "28.428157806396484"
      ]
     },
     "execution_count": 13,
     "metadata": {},
     "output_type": "execute_result"
    }
   ],
   "source": [
    "checkpoint['loss']"
   ]
  },
  {
   "cell_type": "code",
   "execution_count": 14,
   "metadata": {},
   "outputs": [
    {
     "data": {
      "text/plain": [
       "0.03876133985538298"
      ]
     },
     "execution_count": 14,
     "metadata": {},
     "output_type": "execute_result"
    }
   ],
   "source": [
    "checkpoint['R-corrcoef']"
   ]
  },
  {
   "cell_type": "code",
   "execution_count": 15,
   "metadata": {},
   "outputs": [
    {
     "name": "stderr",
     "output_type": "stream",
     "text": [
      "..\\aten\\src\\ATen\\native\\BinaryOps.cpp:81: UserWarning: Integer division of tensors using div or / is deprecated, and in a future release div will perform true division as in Python 3. Use true_divide or floor_divide (// in Python) instead.\n"
     ]
    },
    {
     "name": "stdout",
     "output_type": "stream",
     "text": [
      "Errors: 32; Accuracy: 49%\n",
      "Teste Loss: 57.8313\n",
      "R-corrcoef: 0.3823465417758706\n"
     ]
    },
    {
     "data": {
      "image/png": "[encoded data removed]",
      "text/plain": [
       "<Figure size 432x288 with 1 Axes>"
      ]
     },
     "metadata": {
      "needs_background": "light"
     },
     "output_type": "display_data"
    }
   ],
   "source": [
    "# Avaliando a acurácia do modelo utilizando os dados de teste transformados\n",
    "inputs = torch.autograd.Variable(torch.Tensor(X_test_scaled.astype(np.float32)).float())\n",
    "targets = torch.autograd.Variable(torch.Tensor(y_test_class).long())\n",
    "\n",
    "optimizer.zero_grad()\n",
    "out = net(inputs)\n",
    "loss = criterion(out, targets.squeeze())\n",
    "loss.backward()\n",
    "optimizer.step()\n",
    "\n",
    "_, predicted = torch.max(out.data, 1)       \n",
    "\n",
    "error_count = y_test_class.size - np.count_nonzero((targets.squeeze() == predicted) .numpy())\n",
    "acc = 100 * torch.sum(targets.squeeze() == predicted) /  y_test_class.size\n",
    "r = np.corrcoef(predicted.detach().numpy().squeeze(), targets.detach().numpy().squeeze())[0,1]\n",
    "\n",
    "print('Errors: %d; Accuracy: %d%%' % (error_count, acc))\n",
    "print('Teste Loss: %.4f' % (loss.item()))\n",
    "print('R-corrcoef: %s' % (str(r)))\n",
    "\n",
    "\n",
    "ninput = np.arange(len(X_test))\n",
    "plt.figure()\n",
    "plt.plot(ninput, y_test_class, '-*', label = 'target')\n",
    "plt.plot(ninput, predicted.numpy(), '-+', label = 'predicted')\n",
    "plt.title('Dados Normalizados')\n",
    "plt.legend()\n",
    "plt.show()"
   ]
  },
  {
   "cell_type": "code",
   "execution_count": 16,
   "metadata": {},
   "outputs": [
    {
     "data": {
      "text/plain": [
       "Net                                                              111\n",
       "random_state                                                    6511\n",
       "num_layers                                                         4\n",
       "layer_init_size                                                    3\n",
       "layers_size                                                  [3 3 4]\n",
       "net_param          <bound method Module.parameters of Net(\\n  (li...\n",
       "criterion                                           CrossEntropyLoss\n",
       "learning_rate                                                  0.001\n",
       "optimizer                                                       Adam\n",
       "epochs                                                         50000\n",
       "vali_best_epoch                                                50000\n",
       "vali_best_acc                                                     33\n",
       "vali_best_loss                                               28.4282\n",
       "vali_best_R                                                0.0387613\n",
       "test_acc                                                          49\n",
       "test_loss                                                    57.8313\n",
       "test_R                                                      0.382347\n",
       "predicted          tensor([3, 0, 1, 3, 3, 0, 1, 2, 1, 2, 0, 0, 3,...\n",
       "Name: 111, dtype: object"
      ]
     },
     "execution_count": 16,
     "metadata": {},
     "output_type": "execute_result"
    }
   ],
   "source": [
    "netX"
   ]
  },
  {
   "cell_type": "code",
   "execution_count": 26,
   "metadata": {},
   "outputs": [
    {
     "data": {
      "text/plain": [
       "'tensor([3, 0, 1, 3, 3, 0, 1, 2, 1, 2, 0, 0, 3, 2, 0, 0, 3, 0, 3, 1, 0, 2, 1, 2,\\n        3, 0, 3, 3, 0, 2, 3, 3, 0, 3, 3, 0, 0, 3, 1, 2, 0, 0, 3, 0, 2, 0, 0, 0,\\n        0, 3, 3, 3, 0, 3, 0, 3, 3, 3, 2, 0, 3, 0, 3])'"
      ]
     },
     "execution_count": 26,
     "metadata": {},
     "output_type": "execute_result"
    }
   ],
   "source": [
    "netX['predicted']"
   ]
  },
  {
   "cell_type": "code",
   "execution_count": 18,
   "metadata": {},
   "outputs": [
    {
     "data": {
      "text/plain": [
       "array([3, 0, 1, 3, 3, 0, 1, 2, 1, 2, 0, 0, 3, 2, 0, 0, 3, 0, 3, 1, 0, 2,\n",
       "       1, 2, 3, 0, 3, 3, 0, 2, 3, 3, 0, 3, 3, 0, 0, 3, 1, 2, 0, 0, 3, 0,\n",
       "       2, 0, 0, 0, 0, 3, 3, 3, 0, 3, 0, 3, 3, 3, 2, 0, 3, 0, 3],\n",
       "      dtype=int64)"
      ]
     },
     "execution_count": 18,
     "metadata": {},
     "output_type": "execute_result"
    }
   ],
   "source": [
    "predicted.numpy()"
   ]
  },
  {
   "cell_type": "code",
   "execution_count": 19,
   "metadata": {},
   "outputs": [
    {
     "data": {
      "text/plain": [
       "dtype('int64')"
      ]
     },
     "execution_count": 19,
     "metadata": {},
     "output_type": "execute_result"
    }
   ],
   "source": [
    "netX['num_layers'].dtype"
   ]
  },
  {
   "cell_type": "markdown",
   "metadata": {},
   "source": [
    "# Adaptar com as novas alterações do loop"
   ]
  },
  {
   "cell_type": "code",
   "execution_count": null,
   "metadata": {},
   "outputs": [],
   "source": []
  }
 ],
 "metadata": {
  "kernelspec": {
   "display_name": "zika",
   "language": "python",
   "name": "zika"
  },
  "language_info": {
   "codemirror_mode": {
    "name": "ipython",
    "version": 3
   },
   "file_extension": ".py",
   "mimetype": "text/x-python",
   "name": "python",
   "nbconvert_exporter": "python",
   "pygments_lexer": "ipython3",
   "version": "3.7.1"
  }
 },
 "nbformat": 4,
 "nbformat_minor": 2
}
