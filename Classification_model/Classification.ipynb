{
 "cells": [
  {
   "cell_type": "markdown",
   "metadata": {},
   "source": [
    "# Rede neural 65622 - Transformada em classificador\n",
    "Melhor desempenho considerando o critério de maior cos_sim e menor loss "
   ]
  },
  {
   "cell_type": "code",
   "execution_count": 1,
   "metadata": {},
   "outputs": [
    {
     "name": "stderr",
     "output_type": "stream",
     "text": [
      "D:\\anaconda3\\envs\\zika\\lib\\site-packages\\tensorflow\\python\\framework\\dtypes.py:526: FutureWarning: Passing (type, 1) or '1type' as a synonym of type is deprecated; in a future version of numpy, it will be understood as (type, (1,)) / '(1,)type'.\n",
      "  _np_qint8 = np.dtype([(\"qint8\", np.int8, 1)])\n",
      "D:\\anaconda3\\envs\\zika\\lib\\site-packages\\tensorflow\\python\\framework\\dtypes.py:527: FutureWarning: Passing (type, 1) or '1type' as a synonym of type is deprecated; in a future version of numpy, it will be understood as (type, (1,)) / '(1,)type'.\n",
      "  _np_quint8 = np.dtype([(\"quint8\", np.uint8, 1)])\n",
      "D:\\anaconda3\\envs\\zika\\lib\\site-packages\\tensorflow\\python\\framework\\dtypes.py:528: FutureWarning: Passing (type, 1) or '1type' as a synonym of type is deprecated; in a future version of numpy, it will be understood as (type, (1,)) / '(1,)type'.\n",
      "  _np_qint16 = np.dtype([(\"qint16\", np.int16, 1)])\n",
      "D:\\anaconda3\\envs\\zika\\lib\\site-packages\\tensorflow\\python\\framework\\dtypes.py:529: FutureWarning: Passing (type, 1) or '1type' as a synonym of type is deprecated; in a future version of numpy, it will be understood as (type, (1,)) / '(1,)type'.\n",
      "  _np_quint16 = np.dtype([(\"quint16\", np.uint16, 1)])\n",
      "D:\\anaconda3\\envs\\zika\\lib\\site-packages\\tensorflow\\python\\framework\\dtypes.py:530: FutureWarning: Passing (type, 1) or '1type' as a synonym of type is deprecated; in a future version of numpy, it will be understood as (type, (1,)) / '(1,)type'.\n",
      "  _np_qint32 = np.dtype([(\"qint32\", np.int32, 1)])\n",
      "D:\\anaconda3\\envs\\zika\\lib\\site-packages\\tensorflow\\python\\framework\\dtypes.py:535: FutureWarning: Passing (type, 1) or '1type' as a synonym of type is deprecated; in a future version of numpy, it will be understood as (type, (1,)) / '(1,)type'.\n",
      "  np_resource = np.dtype([(\"resource\", np.ubyte, 1)])\n"
     ]
    }
   ],
   "source": [
    "# Importando as bibliotecas necessarias\n",
    "import numpy as np\n",
    "import matplotlib.pyplot as plt\n",
    "import pandas as pd\n",
    "import torch\n",
    "import torch.nn as nn\n",
    "import torch.nn.functional as F\n",
    "from sklearn.model_selection import train_test_split\n",
    "from sklearn.preprocessing import MinMaxScaler\n",
    "from imblearn.over_sampling import SMOTE\n",
    "pd.set_option(\"display.max_rows\", 300)"
   ]
  },
  {
   "cell_type": "code",
   "execution_count": 2,
   "metadata": {},
   "outputs": [],
   "source": [
    "class Net(nn.Module):\n",
    "    def __init__(self, input_size, num_layers, layers_size, output_size):\n",
    "        super(Net, self).__init__()\n",
    "        self.num_layers = num_layers\n",
    "\n",
    "        self.linears = nn.ModuleList([nn.Linear(input_size, layers_size[0])])\n",
    "        for i in range(0, self.num_layers-2):\n",
    "            self.linears.extend([nn.Linear(layers_size[i], layers_size[i+1])])              \n",
    "        self.linears.append(nn.Linear(layers_size[-1], output_size))\n",
    "\n",
    "# Última camada sem função de ativação --> sigmoide ou tanh\n",
    "# ReLU em intermediárias\n",
    "    def forward(self, x):\n",
    "        for layer in self.linears[0:-1]:                   \n",
    "            x = F.relu(layer(x))\n",
    "        x = torch.tanh(self.linears[-1](x))\n",
    "        return(x)\n",
    "\n",
    "# # Aplicando função de ativação na última camada tbm\n",
    "# ### Tentar mudar pra sigmoide se deixar a normalização de 0,1\n",
    "#     def forward(self, x):\n",
    "#         for layer in self.linears:                   \n",
    "#             x = torch.tanh(layer(x))\n",
    "#         return(x)"
   ]
  },
  {
   "cell_type": "code",
   "execution_count": 3,
   "metadata": {
    "scrolled": true
   },
   "outputs": [
    {
     "data": {
      "text/html": [
       "<div>\n",
       "<style scoped>\n",
       "    .dataframe tbody tr th:only-of-type {\n",
       "        vertical-align: middle;\n",
       "    }\n",
       "\n",
       "    .dataframe tbody tr th {\n",
       "        vertical-align: top;\n",
       "    }\n",
       "\n",
       "    .dataframe thead th {\n",
       "        text-align: right;\n",
       "    }\n",
       "</style>\n",
       "<table border=\"1\" class=\"dataframe\">\n",
       "  <thead>\n",
       "    <tr style=\"text-align: right;\">\n",
       "      <th></th>\n",
       "      <th>index</th>\n",
       "      <th>net_param</th>\n",
       "      <th>ncamadas</th>\n",
       "      <th>n_features</th>\n",
       "      <th>features_col</th>\n",
       "      <th>features_name</th>\n",
       "      <th>random_state</th>\n",
       "      <th>data_train</th>\n",
       "      <th>data_train_resample</th>\n",
       "      <th>test_loss</th>\n",
       "      <th>test_cos_sim</th>\n",
       "      <th>net</th>\n",
       "    </tr>\n",
       "  </thead>\n",
       "  <tbody>\n",
       "    <tr>\n",
       "      <th>15622</th>\n",
       "      <td>65622.0</td>\n",
       "      <td>&lt;bound method Module.parameters of Net(\\r\\n  (...</td>\n",
       "      <td>6</td>\n",
       "      <td>18</td>\n",
       "      <td>[  1  15  41  49  52  58  86  89  94  97  99 1...</td>\n",
       "      <td>['AgeGroup', 'Analgesic', 'Diabetesmellitus', ...</td>\n",
       "      <td>77</td>\n",
       "      <td>124</td>\n",
       "      <td>280</td>\n",
       "      <td>0.04118</td>\n",
       "      <td>0.873746</td>\n",
       "      <td>net_65622</td>\n",
       "    </tr>\n",
       "  </tbody>\n",
       "</table>\n",
       "</div>"
      ],
      "text/plain": [
       "         index                                          net_param  ncamadas  \\\n",
       "15622  65622.0  <bound method Module.parameters of Net(\\r\\n  (...         6   \n",
       "\n",
       "       n_features                                       features_col  \\\n",
       "15622          18  [  1  15  41  49  52  58  86  89  94  97  99 1...   \n",
       "\n",
       "                                           features_name  random_state  \\\n",
       "15622  ['AgeGroup', 'Analgesic', 'Diabetesmellitus', ...            77   \n",
       "\n",
       "       data_train  data_train_resample  test_loss  test_cos_sim        net  \n",
       "15622         124                  280    0.04118      0.873746  net_65622  "
      ]
     },
     "execution_count": 3,
     "metadata": {},
     "output_type": "execute_result"
    }
   ],
   "source": [
    "testes = pd.read_csv(\"D:/TG-Biomed/Regression_model/Loop_Testes_Regressao2.csv\")\n",
    "rede = testes.iloc[np.where(testes[\"index\"]==65622)]\n",
    "rede"
   ]
  },
  {
   "cell_type": "code",
   "execution_count": 4,
   "metadata": {},
   "outputs": [
    {
     "name": "stdout",
     "output_type": "stream",
     "text": [
      "<bound method Module.parameters of Net(\r\n",
      "  (linears): ModuleList(\r\n",
      "    (0): Linear(in_features=18, out_features=12, bias=True)\r\n",
      "    (1): Linear(in_features=12, out_features=9, bias=True)\r\n",
      "    (2): Linear(in_features=9, out_features=6, bias=True)\r\n",
      "    (3): Linear(in_features=6, out_features=3, bias=True)\r\n",
      "    (4): Linear(in_features=3, out_features=1, bias=True)\r\n",
      "    (5): Linear(in_features=1, out_features=1, bias=True)\r\n",
      "  )\r\n",
      ")>\n"
     ]
    }
   ],
   "source": [
    "print(rede.iloc[0,1])"
   ]
  },
  {
   "cell_type": "code",
   "execution_count": 5,
   "metadata": {
    "scrolled": true
   },
   "outputs": [
    {
     "name": "stdout",
     "output_type": "stream",
     "text": [
      "0.2000 == 1\n",
      "0.1300 == 1\n",
      "0.1300 == 1\n",
      "0.1400 == 1\n",
      "0.2000 == 1\n",
      "0.1100 == 1\n",
      "0.2900 == 2\n",
      "0.1700 == 1\n",
      "0.1000 == 0\n",
      "0.1200 == 1\n",
      "0.4600 == 3\n",
      "0.2000 == 1\n",
      "0.1300 == 1\n",
      "0.0700 == 0\n",
      "0.1100 == 1\n",
      "0.0900 == 0\n",
      "0.1300 == 1\n",
      "0.2600 == 2\n",
      "0.1400 == 1\n",
      "0.1400 == 1\n",
      "0.1600 == 1\n",
      "0.0900 == 0\n",
      "0.1900 == 1\n",
      "0.1100 == 1\n",
      "0.1100 == 1\n",
      "0.3900 == 3\n",
      "0.1700 == 1\n",
      "0.1400 == 1\n",
      "0.0800 == 0\n",
      "0.2100 == 2\n",
      "0.2100 == 2\n",
      "0.1100 == 1\n",
      "0.2100 == 2\n",
      "0.1200 == 1\n",
      "0.1100 == 1\n",
      "0.1900 == 1\n",
      "0.2000 == 1\n",
      "0.1300 == 1\n",
      "0.1600 == 1\n",
      "0.1400 == 1\n",
      "0.1700 == 1\n",
      "0.1300 == 1\n",
      "0.3300 == 3\n",
      "0.3400 == 3\n",
      "0.1700 == 1\n",
      "0.0800 == 0\n",
      "0.3700 == 3\n",
      "0.1900 == 1\n",
      "0.0900 == 0\n",
      "0.2000 == 1\n",
      "0.1600 == 1\n",
      "0.1100 == 1\n",
      "0.1400 == 1\n",
      "0.1200 == 1\n",
      "0.0800 == 0\n",
      "0.2700 == 2\n",
      "0.3400 == 3\n",
      "0.1600 == 1\n",
      "0.0900 == 0\n",
      "0.3200 == 3\n",
      "0.0900 == 0\n",
      "0.1400 == 1\n",
      "0.1600 == 1\n",
      "0.2100 == 2\n",
      "0.2100 == 2\n",
      "0.1200 == 1\n",
      "0.2100 == 2\n",
      "0.1800 == 1\n",
      "0.1800 == 1\n",
      "0.2700 == 2\n",
      "0.3000 == 2\n",
      "0.4000 == 3\n",
      "0.2400 == 2\n",
      "0.1000 == 0\n",
      "0.1300 == 1\n",
      "0.1100 == 1\n",
      "0.2000 == 1\n",
      "0.0800 == 0\n",
      "0.3900 == 3\n",
      "0.2900 == 2\n",
      "0.3400 == 3\n",
      "0.2000 == 1\n",
      "0.1200 == 1\n",
      "0.1800 == 1\n",
      "0.1100 == 1\n",
      "0.1400 == 1\n",
      "0.3000 == 2\n",
      "0.2600 == 2\n",
      "0.1600 == 1\n",
      "0.2000 == 1\n",
      "0.2700 == 2\n",
      "0.1100 == 1\n",
      "0.1600 == 1\n",
      "0.2600 == 2\n",
      "0.1400 == 1\n",
      "0.2000 == 1\n",
      "0.1100 == 1\n",
      "0.2000 == 1\n",
      "0.1400 == 1\n",
      "0.3100 == 3\n",
      "0.1600 == 1\n",
      "0.2900 == 2\n",
      "0.1400 == 1\n",
      "0.1700 == 1\n",
      "0.1600 == 1\n",
      "0.2900 == 2\n",
      "0.3400 == 3\n",
      "0.2200 == 2\n",
      "0.2100 == 2\n",
      "0.1700 == 1\n",
      "0.1300 == 1\n",
      "0.2300 == 2\n",
      "0.1300 == 1\n",
      "0.1200 == 1\n",
      "0.0900 == 0\n",
      "0.2800 == 2\n",
      "0.2100 == 2\n",
      "0.3200 == 3\n",
      "0.2100 == 2\n",
      "0.1800 == 1\n",
      "0.1300 == 1\n",
      "0.1100 == 1\n",
      "0.1400 == 1\n",
      "0.1000 == 0\n",
      "0.0900 == 0\n",
      "0.1300 == 1\n",
      "0.4900 == 3\n",
      "0.3800 == 3\n",
      "0.1800 == 1\n",
      "0.1800 == 1\n",
      "0.1300 == 1\n",
      "0.0900 == 0\n",
      "0.2100 == 2\n",
      "0.0900 == 0\n",
      "0.2600 == 2\n",
      "0.2100 == 2\n",
      "0.1900 == 1\n",
      "0.1200 == 1\n",
      "0.1200 == 1\n",
      "0.3800 == 3\n",
      "0.4100 == 3\n",
      "0.1200 == 1\n",
      "0.1800 == 1\n",
      "0.2800 == 2\n",
      "0.2600 == 2\n",
      "0.1900 == 1\n",
      "0.1700 == 1\n",
      "0.2000 == 1\n",
      "0.1800 == 1\n",
      "0.1100 == 1\n",
      "0.2100 == 2\n",
      "0.1600 == 1\n",
      "0.3900 == 3\n",
      "0.1800 == 1\n",
      "0.1200 == 1\n",
      "0.1400 == 1\n",
      "0.0800 == 0\n",
      "0.1100 == 1\n",
      "0.1400 == 1\n",
      "0.2000 == 1\n",
      "0.1800 == 1\n",
      "0.1400 == 1\n",
      "0.1200 == 1\n",
      "0.0900 == 0\n",
      "0.1100 == 1\n",
      "0.1400 == 1\n",
      "0.1000 == 0\n",
      "0.1400 == 1\n",
      "0.0900 == 0\n",
      "0.1200 == 1\n",
      "0.1900 == 1\n",
      "0.1900 == 1\n",
      "0.1000 == 0\n",
      "0.1300 == 1\n",
      "0.2100 == 2\n",
      "0.1900 == 1\n",
      "0.1700 == 1\n",
      "0.1200 == 1\n",
      "0.2200 == 2\n",
      "0.3000 == 2\n",
      "0.1400 == 1\n",
      "0.1800 == 1\n",
      "0.1900 == 1\n",
      "0.1300 == 1\n",
      "0.1000 == 0\n",
      "0.4000 == 3\n",
      "0.0900 == 0\n",
      "0.1300 == 1\n",
      "0.1400 == 1\n",
      "0.2000 == 1\n",
      "0.2100 == 2\n",
      "0.2100 == 2\n",
      "0.3300 == 3\n",
      "0.2900 == 2\n",
      "0.3000 == 2\n",
      "0.3800 == 3\n",
      "0.1700 == 1\n",
      "0.1700 == 1\n",
      "0.1600 == 1\n",
      "0.1600 == 1\n",
      "0.2000 == 1\n",
      "0.2300 == 2\n",
      "0.0800 == 0\n",
      "0.2400 == 2\n",
      "0.1200 == 1\n",
      "0.2700 == 2\n",
      "0.3100 == 3\n"
     ]
    }
   ],
   "source": [
    "data = pd.read_pickle(\"D:/TG-Biomed/Data_prep/data_closed_rigid_o\")\n",
    "pf50 = np.round(data[\"PF50_closed_rigid\"].values, 2)\n",
    "\n",
    "# Divide em classes de acordo com a faixa de valor do PF50\n",
    "pf50_class = np.zeros(len(pf50))\n",
    "cont = 0\n",
    "for i in pf50:\n",
    "    if i < 0.1: pf50_class[cont]=0\n",
    "    if i > 0.1 and i <= 0.2: pf50_class[cont]=1\n",
    "    if i > 0.2 and i <= 0.3: pf50_class[cont]=2\n",
    "    if i > 0.3: pf50_class[cont]=3\n",
    "    print('%.4f == %d' % (i, pf50_class[cont]))\n",
    "    cont = cont+1"
   ]
  },
  {
   "cell_type": "code",
   "execution_count": 6,
   "metadata": {},
   "outputs": [
    {
     "name": "stdout",
     "output_type": "stream",
     "text": [
      "[1. 1. 1. 1. 1. 1. 2. 1. 0. 1. 3. 1. 1. 0. 1. 0. 1. 2. 1. 1. 1. 0. 1. 1.\n",
      " 1. 3. 1. 1. 0. 2. 2. 1. 2. 1. 1. 1. 1. 1. 1. 1. 1. 1. 3. 3. 1. 0. 3. 1.\n",
      " 0. 1. 1. 1. 1. 1. 0. 2. 3. 1. 0. 3. 0. 1. 1. 2. 2. 1. 2. 1. 1. 2. 2. 3.\n",
      " 2. 0. 1. 1. 1. 0. 3. 2. 3. 1. 1. 1. 1. 1. 2. 2. 1. 1. 2. 1. 1. 2. 1. 1.\n",
      " 1. 1. 1. 3. 1. 2. 1. 1. 1. 2. 3. 2. 2. 1. 1. 2. 1. 1. 0. 2. 2. 3. 2. 1.\n",
      " 1. 1. 1. 0. 0. 1. 3. 3. 1. 1. 1. 0. 2. 0. 2. 2. 1. 1. 1. 3. 3. 1. 1. 2.\n",
      " 2. 1. 1. 1. 1. 1. 2. 1. 3. 1. 1. 1. 0. 1. 1. 1. 1. 1. 1. 0. 1. 1. 0. 1.\n",
      " 0. 1. 1. 1. 0. 1. 2. 1. 1. 1. 2. 2. 1. 1. 1. 1. 0. 3. 0. 1. 1. 1. 2. 2.\n",
      " 3. 2. 2. 3. 1. 1. 1. 1. 1. 2. 0. 2. 1. 2. 3.]\n"
     ]
    }
   ],
   "source": [
    "print(pf50_class)"
   ]
  },
  {
   "cell_type": "code",
   "execution_count": 7,
   "metadata": {},
   "outputs": [
    {
     "name": "stdout",
     "output_type": "stream",
     "text": [
      "Numero de features: 18\n",
      "Colunas:  [0, 15, 41, 49, 52, 58, 86, 89, 94, 97, 99, 111, 117, 123, 135, 152, 167, 173]\n",
      "Features:  ['Age', 'Analgesic', 'Diabetesmellitus', 'Hblocker', 'Hypercholesterolemia', 'Meglitinide', 'Epilepsy', 'Fatty liver', 'Hiatus hernia', 'Inflammation of the tibial nerve', 'Kidney failure', 'Sickle cell anemia', 'Varicose veins of the legs', 'Depression', 'Vasovagal syncope', 'Hypothyroidism_total', 'Internal fixation in the leg', 'PaceMaker']\n",
      "Random State: 77\n"
     ]
    },
    {
     "data": {
      "image/png": "[encoded data removed]",
      "text/plain": [
       "<Figure size 432x288 with 1 Axes>"
      ]
     },
     "metadata": {
      "needs_background": "light"
     },
     "output_type": "display_data"
    }
   ],
   "source": [
    "# Sorteando quais caracteristicas usar\n",
    "n_features = rede.iloc[0,3]\n",
    "print('Numero de features: %d' % (n_features))\n",
    "# Troca de AgeGroup(1) por Age(0)\n",
    "columns =   [0, 15, 41, 49, 52, 58, 86, 89, 94, 97, 99, 111, 117, 123, 135, 152, 167, 173]\n",
    "print('Colunas: ',columns)\n",
    "\n",
    "features = data.iloc[:,columns]\n",
    "features_names = features.columns\n",
    "print('Features: ',list(features_names))\n",
    "X = features.values\n",
    "y = pf50_class.reshape(len(pf50_class), 1)\n",
    "\n",
    "# Separando o dataset em treino e teste e validação (treino 60, teste 30, validação 10)\n",
    "random_state = rede.iloc[0,6]\n",
    "print('Random State: %d' % (random_state))\n",
    "X_train, X_test_vali, y_train, y_test_vali = train_test_split(X, y, test_size=0.4, random_state=random_state)\n",
    "X_vali, X_test, y_vali, y_test = train_test_split(X_test_vali, y_test_vali, test_size=0.75, random_state=random_state)\n",
    "\n",
    "plt.figure()\n",
    "n, bins, patches = plt.hist(y_train)\n",
    "plt.title(\"Histogramas dos dados de treino\")\n",
    "plt.show()"
   ]
  },
  {
   "cell_type": "code",
   "execution_count": 8,
   "metadata": {},
   "outputs": [
    {
     "name": "stdout",
     "output_type": "stream",
     "text": [
      "Data train: 124\n",
      "Data train resample: 292\n",
      "Histograma dos dados de treino com Resample SMOTE\n"
     ]
    },
    {
     "data": {
      "image/png": "[encoded data removed]",
      "text/plain": [
       "<Figure size 432x288 with 1 Axes>"
      ]
     },
     "metadata": {
      "needs_background": "light"
     },
     "output_type": "display_data"
    }
   ],
   "source": [
    "# SMOTE - Data Augmentation\n",
    "print('Data train: %d' % (X_train.shape[0]))\n",
    "sm = SMOTE(k_neighbors=3, random_state=42)\n",
    "X_train_res, y_train_res = sm.fit_resample(X_train, y_train)\n",
    "print('Data train resample: %d' % (X_train_res.shape[0]))\n",
    "\n",
    "# Histograma dos dados de treino resample\n",
    "print(\"Histograma dos dados de treino com Resample SMOTE\")\n",
    "n_res, bins_res, patches_res = plt.hist(y_train_res)\n",
    "plt.title(\"Histograma dos dados de treino com Resample SMOTE\")\n",
    "plt.show()"
   ]
  },
  {
   "cell_type": "code",
   "execution_count": 9,
   "metadata": {
    "scrolled": false
   },
   "outputs": [
    {
     "name": "stdout",
     "output_type": "stream",
     "text": [
      "Number of layers: 6\n",
      "Inicial size layer: 12\n",
      "Layers sizes: [12, 9, 6, 3, 1]\n"
     ]
    }
   ],
   "source": [
    "# Declarando o dado resample como dado de treino\n",
    "X_train = X_train_res\n",
    "y_train = y_train_res.reshape(len(y_train_res), 1)\n",
    "\n",
    "# Ajustando o escalamento ao dado de TREINAMENTO (fit) e transformando o dado de treinamento\n",
    "scaler_x = MinMaxScaler(feature_range=(0, 1))\n",
    "X_train_scaled = scaler_x.fit_transform(X_train)\n",
    "\n",
    "# Precisa da normalização do y?\n",
    "# scaler_y = MinMaxScaler(feature_range=(0, 1))\n",
    "# y_train_scaled = scaler_y.fit_transform(y_train)\n",
    "y_train_scaled = y_train\n",
    "\n",
    "# Transformando o dado de validação\n",
    "X_vali_scaled = scaler_x.fit_transform(X_vali)\n",
    "# y_vali_scaled = scaler_y.fit_transform(y_vali)\n",
    "y_vali_scaled = y_vali\n",
    "\n",
    "torch.manual_seed(1234)\n",
    "\n",
    "num_layers = rede.iloc[0,2]\n",
    "print('Number of layers: %d' % (num_layers))\n",
    "layer_init_size = 12\n",
    "print('Inicial size layer: %d' % (layer_init_size))\n",
    "layers_size = np.linspace(layer_init_size, 1, num_layers-1, dtype=int)\n",
    "print('Layers sizes:', list(layers_size))\n",
    "\n",
    "net = Net(input_size=X.shape[1], num_layers=num_layers, layers_size=layers_size , output_size=4)\n"
   ]
  },
  {
   "cell_type": "markdown",
   "metadata": {},
   "source": [
    "## Save best model\n",
    "https://github.com/pytorch/examples/blob/60108edfa3838a823220e16428cb5f98e8e88d53/imagenet/main.py#L353"
   ]
  },
  {
   "cell_type": "code",
   "execution_count": 10,
   "metadata": {},
   "outputs": [],
   "source": [
    "def save_checkpoint(state, is_best, filename='model_best.pth.tar'):\n",
    "    if is_best:\n",
    "        torch.save(state, filename)\n",
    "        print('*****Saved epoch: %d *****' % (state['epoch']))"
   ]
  },
  {
   "cell_type": "code",
   "execution_count": 11,
   "metadata": {
    "scrolled": true
   },
   "outputs": [
    {
     "name": "stdout",
     "output_type": "stream",
     "text": [
      "*****Saved epoch: 1 *****\n",
      "Epoch 1 Loss: 1.5107\n",
      "   Validation Loss: 1.4332\n",
      "   Errors: 15; Accuracy: 25%\n",
      "Epoch 100 Loss: 1.3864\n",
      "   Validation Loss: 1.3837\n",
      "   Errors: 15; Accuracy: 25%\n"
     ]
    },
    {
     "name": "stderr",
     "output_type": "stream",
     "text": [
      "..\\aten\\src\\ATen\\native\\BinaryOps.cpp:81: UserWarning: Integer division of tensors using div or / is deprecated, and in a future release div will perform true division as in Python 3. Use true_divide or floor_divide (// in Python) instead.\n"
     ]
    },
    {
     "name": "stdout",
     "output_type": "stream",
     "text": [
      "Epoch 200 Loss: 1.3863\n",
      "   Validation Loss: 1.3863\n",
      "   Errors: 15; Accuracy: 25%\n",
      "Epoch 300 Loss: 1.3863\n",
      "   Validation Loss: 1.3863\n",
      "   Errors: 15; Accuracy: 25%\n",
      "Epoch 400 Loss: 1.3863\n",
      "   Validation Loss: 1.3863\n",
      "   Errors: 18; Accuracy: 10%\n",
      "Epoch 500 Loss: 1.3863\n",
      "   Validation Loss: 1.3863\n",
      "   Errors: 18; Accuracy: 10%\n",
      "Epoch 600 Loss: 1.3863\n",
      "   Validation Loss: 1.3863\n",
      "   Errors: 18; Accuracy: 10%\n",
      "Epoch 700 Loss: 1.3863\n",
      "   Validation Loss: 1.3863\n",
      "   Errors: 18; Accuracy: 10%\n",
      "Epoch 800 Loss: 1.3863\n",
      "   Validation Loss: 1.3863\n",
      "   Errors: 18; Accuracy: 10%\n",
      "Epoch 900 Loss: 1.3863\n",
      "   Validation Loss: 1.3863\n",
      "   Errors: 18; Accuracy: 10%\n",
      "Epoch 1000 Loss: 1.3863\n",
      "   Validation Loss: 1.3863\n",
      "   Errors: 18; Accuracy: 10%\n",
      "Epoch 1100 Loss: 1.3863\n",
      "   Validation Loss: 1.3863\n",
      "   Errors: 18; Accuracy: 10%\n",
      "Epoch 1200 Loss: 1.3863\n",
      "   Validation Loss: 1.3863\n",
      "   Errors: 18; Accuracy: 10%\n",
      "Epoch 1300 Loss: 1.3863\n",
      "   Validation Loss: 1.3863\n",
      "   Errors: 18; Accuracy: 10%\n",
      "Epoch 1400 Loss: 1.3863\n",
      "   Validation Loss: 1.3863\n",
      "   Errors: 18; Accuracy: 10%\n",
      "Epoch 1500 Loss: 1.3863\n",
      "   Validation Loss: 1.3863\n",
      "   Errors: 18; Accuracy: 10%\n",
      "Epoch 1600 Loss: 1.3863\n",
      "   Validation Loss: 1.3863\n",
      "   Errors: 18; Accuracy: 10%\n",
      "Epoch 1700 Loss: 1.3863\n",
      "   Validation Loss: 1.3863\n",
      "   Errors: 18; Accuracy: 10%\n",
      "Epoch 1800 Loss: 1.3863\n",
      "   Validation Loss: 1.3863\n",
      "   Errors: 18; Accuracy: 10%\n",
      "Epoch 1900 Loss: 1.3863\n",
      "   Validation Loss: 1.3863\n",
      "   Errors: 18; Accuracy: 10%\n",
      "Epoch 2000 Loss: 1.3863\n",
      "   Validation Loss: 1.3863\n",
      "   Errors: 18; Accuracy: 10%\n",
      "Epoch 2100 Loss: 1.3863\n",
      "   Validation Loss: 1.3863\n",
      "   Errors: 18; Accuracy: 10%\n",
      "Epoch 2200 Loss: 1.3863\n",
      "   Validation Loss: 1.3863\n",
      "   Errors: 18; Accuracy: 10%\n",
      "Epoch 2300 Loss: 1.3863\n",
      "   Validation Loss: 1.3863\n",
      "   Errors: 18; Accuracy: 10%\n",
      "Epoch 2400 Loss: 1.3863\n",
      "   Validation Loss: 1.3863\n",
      "   Errors: 18; Accuracy: 10%\n",
      "Epoch 2500 Loss: 1.3863\n",
      "   Validation Loss: 1.3863\n",
      "   Errors: 18; Accuracy: 10%\n",
      "Epoch 2600 Loss: 1.3863\n",
      "   Validation Loss: 1.3863\n",
      "   Errors: 18; Accuracy: 10%\n",
      "Epoch 2700 Loss: 1.3863\n",
      "   Validation Loss: 1.3863\n",
      "   Errors: 18; Accuracy: 10%\n",
      "Epoch 2800 Loss: 1.3863\n",
      "   Validation Loss: 1.3863\n",
      "   Errors: 18; Accuracy: 10%\n",
      "Epoch 2900 Loss: 1.3863\n",
      "   Validation Loss: 1.3863\n",
      "   Errors: 18; Accuracy: 10%\n",
      "*****Saved epoch: 3000 *****\n",
      "Epoch 3000 Loss: 1.3863\n",
      "   Validation Loss: 1.3863\n",
      "   Errors: 7; Accuracy: 65%\n",
      "Epoch 3100 Loss: 1.3863\n",
      "   Validation Loss: 1.3863\n",
      "   Errors: 7; Accuracy: 65%\n",
      "Epoch 3200 Loss: 1.3863\n",
      "   Validation Loss: 1.3863\n",
      "   Errors: 7; Accuracy: 65%\n",
      "Epoch 3300 Loss: 1.3863\n",
      "   Validation Loss: 1.3863\n",
      "   Errors: 7; Accuracy: 65%\n",
      "Epoch 3400 Loss: 1.3863\n",
      "   Validation Loss: 1.3863\n",
      "   Errors: 7; Accuracy: 65%\n",
      "Epoch 3500 Loss: 1.3863\n",
      "   Validation Loss: 1.3863\n",
      "   Errors: 7; Accuracy: 65%\n",
      "Epoch 3600 Loss: 1.3863\n",
      "   Validation Loss: 1.3863\n",
      "   Errors: 7; Accuracy: 65%\n",
      "Epoch 3700 Loss: 1.3863\n",
      "   Validation Loss: 1.3863\n",
      "   Errors: 7; Accuracy: 65%\n",
      "Epoch 3800 Loss: 1.3863\n",
      "   Validation Loss: 1.3863\n",
      "   Errors: 7; Accuracy: 65%\n",
      "Epoch 3900 Loss: 1.3863\n",
      "   Validation Loss: 1.3863\n",
      "   Errors: 7; Accuracy: 65%\n",
      "Epoch 4000 Loss: 1.3863\n",
      "   Validation Loss: 1.3863\n",
      "   Errors: 7; Accuracy: 65%\n",
      "Epoch 4100 Loss: 1.3863\n",
      "   Validation Loss: 1.3863\n",
      "   Errors: 7; Accuracy: 65%\n",
      "Epoch 4200 Loss: 1.3863\n",
      "   Validation Loss: 1.3863\n",
      "   Errors: 7; Accuracy: 65%\n",
      "Epoch 4300 Loss: 1.3863\n",
      "   Validation Loss: 1.3863\n",
      "   Errors: 7; Accuracy: 65%\n",
      "Epoch 4400 Loss: 1.3863\n",
      "   Validation Loss: 1.3863\n",
      "   Errors: 7; Accuracy: 65%\n",
      "Epoch 4500 Loss: 1.3863\n",
      "   Validation Loss: 1.3863\n",
      "   Errors: 7; Accuracy: 65%\n",
      "Epoch 4600 Loss: 1.3863\n",
      "   Validation Loss: 1.3863\n",
      "   Errors: 7; Accuracy: 65%\n",
      "Epoch 4700 Loss: 1.3863\n",
      "   Validation Loss: 1.3863\n",
      "   Errors: 7; Accuracy: 65%\n",
      "Epoch 4800 Loss: 1.3863\n",
      "   Validation Loss: 1.3863\n",
      "   Errors: 7; Accuracy: 65%\n",
      "Epoch 4900 Loss: 1.3863\n",
      "   Validation Loss: 1.3863\n",
      "   Errors: 7; Accuracy: 65%\n",
      "Epoch 5000 Loss: 1.3863\n",
      "   Validation Loss: 1.3863\n",
      "   Errors: 7; Accuracy: 65%\n"
     ]
    }
   ],
   "source": [
    "# Choose optmizer and loss function\n",
    "criterion = nn.CrossEntropyLoss()\n",
    "\n",
    "optimizer = torch.optim.Adam(net.parameters(), lr = 0.01)\n",
    "# optimizer = torch.optim.SGD(net.parameters(), lr = 0.05, momentum = 0.9) # lr = learning rate \n",
    "\n",
    "# Treinamento utilizando o dado de treino transformado\n",
    "# Aumento do número de epochs de 5000 para 100000\n",
    "epochs = 5000\n",
    "loss_train = np.zeros(epochs)\n",
    "loss_vali = np.zeros(epochs)\n",
    "acc_vali = np.zeros(epochs)\n",
    "best_acc = 0\n",
    "\n",
    "for epoch in range(epochs):\n",
    "    \n",
    "    inputs = torch.autograd.Variable(torch.Tensor(X_train_scaled.astype(np.float32)).float())\n",
    "    targets = torch.autograd.Variable(torch.Tensor(y_train_scaled).long())\n",
    "    \n",
    "    optimizer.zero_grad()\n",
    "    out = net(inputs)\n",
    "    loss = criterion(out, targets.squeeze(1))\n",
    "    loss.backward()\n",
    "    optimizer.step()\n",
    "\n",
    "    loss_train[epoch] = loss.item()\n",
    "    \n",
    "    # Validação\n",
    "    if epoch == 0 or (epoch + 1) % 100 == 0:\n",
    "        inputs_vali = torch.autograd.Variable(torch.Tensor(X_vali_scaled.astype(np.float32)).float())\n",
    "        targets_vali = torch.autograd.Variable(torch.Tensor(y_vali_scaled).long())\n",
    "        out_vali = net(inputs_vali)\n",
    "        loss_v = criterion(out_vali, targets_vali.squeeze(1))\n",
    "\n",
    "        loss_vali[epoch] = loss_v.item()\n",
    "        \n",
    "        # predicted = out.data\n",
    "        _, predicted = torch.max(out_vali.data, 1) # Usar dessa forma?\n",
    "        \n",
    "        # Calcula acurácia\n",
    "        error_count = y_vali_scaled.size - np.count_nonzero((targets_vali.squeeze() == predicted) .numpy())\n",
    "        acc_vali[epoch] = 100 * torch.sum(targets_vali.squeeze() == predicted) / y_vali_scaled.size\n",
    "        \n",
    "        # remember best acc and save best model\n",
    "        # is_best = acc_vali[epoch] >= best_acc (?)\n",
    "        is_best = acc_vali[epoch] > best_acc\n",
    "        best_acc = max(acc_vali[epoch], best_acc)\n",
    "        save_checkpoint({\n",
    "        'epoch': epoch + 1,\n",
    "        #'arch': args.arch,\n",
    "        'state_dict': net.state_dict(),\n",
    "        'best_acc': best_acc,\n",
    "        'optimizer' : optimizer.state_dict(),\n",
    "        }, is_best)\n",
    "        \n",
    "        print('Epoch %d Loss: %.4f' % (epoch + 1, loss.item()))\n",
    "        print('   Validation Loss: %.4f' % (loss_v.item()))\n",
    "        print('   Errors: %d; Accuracy: %d%%' % (error_count, acc_vali[epoch]))\n"
   ]
  },
  {
   "cell_type": "code",
   "execution_count": 12,
   "metadata": {},
   "outputs": [],
   "source": [
    "epoch = np.arange(0, epochs)\n",
    "loss_vali_clean = loss_vali[np.nonzero(loss_vali)]\n",
    "epoch_vali = epoch[np.nonzero(loss_vali)]\n",
    "acc_vali_clean = acc_vali[np.nonzero(acc_vali)]"
   ]
  },
  {
   "cell_type": "code",
   "execution_count": 13,
   "metadata": {},
   "outputs": [
    {
     "data": {
      "image/png": "[encoded data removed]",
      "text/plain": [
       "<Figure size 432x288 with 1 Axes>"
      ]
     },
     "metadata": {
      "needs_background": "light"
     },
     "output_type": "display_data"
    }
   ],
   "source": [
    "plt.plot(epoch_vali,acc_vali_clean)\n",
    "plt.title(\"Acurracy x Epochs\")\n",
    "plt.xlabel(\"Epochs\")\n",
    "plt.ylabel(\"Acc [%]\")\n",
    "plt.show()"
   ]
  },
  {
   "cell_type": "code",
   "execution_count": 14,
   "metadata": {},
   "outputs": [
    {
     "data": {
      "image/png": "[encoded data removed]",
      "text/plain": [
       "<Figure size 432x288 with 1 Axes>"
      ]
     },
     "metadata": {
      "needs_background": "light"
     },
     "output_type": "display_data"
    }
   ],
   "source": [
    "epoch = np.arange(0, epochs)\n",
    "plt.plot(epoch,loss_train,'b')\n",
    "plt.plot(epoch_vali,loss_vali_clean, 'r')\n",
    "plt.title(\"Loss x Epochs\")\n",
    "plt.xlabel(\"Epochs\")\n",
    "plt.ylabel(\"Loss [$Hz^2$]\")\n",
    "plt.show()"
   ]
  },
  {
   "cell_type": "code",
   "execution_count": 15,
   "metadata": {},
   "outputs": [
    {
     "name": "stderr",
     "output_type": "stream",
     "text": [
      "D:\\anaconda3\\envs\\zika\\lib\\site-packages\\ipykernel_launcher.py:2: RuntimeWarning: divide by zero encountered in log10\n",
      "  \n",
      "D:\\anaconda3\\envs\\zika\\lib\\site-packages\\ipykernel_launcher.py:3: RuntimeWarning: divide by zero encountered in log10\n",
      "  This is separate from the ipykernel package so we can avoid doing imports until\n"
     ]
    },
    {
     "data": {
      "image/png": "[encoded data removed]",
      "text/plain": [
       "<Figure size 432x288 with 1 Axes>"
      ]
     },
     "metadata": {
      "needs_background": "light"
     },
     "output_type": "display_data"
    }
   ],
   "source": [
    "plt.figure()\n",
    "plt.plot(np.log10(epoch),loss_train,'b')\n",
    "plt.plot(np.log10(epoch_vali),loss_vali_clean, 'r')\n",
    "plt.title(\"Loss x Epochs\")\n",
    "plt.xlabel(\"Log(Epochs)\")\n",
    "plt.ylabel(\"Loss [$Hz^2$]\")\n",
    "plt.show()"
   ]
  },
  {
   "cell_type": "markdown",
   "metadata": {},
   "source": [
    "# Load best model"
   ]
  },
  {
   "cell_type": "code",
   "execution_count": 16,
   "metadata": {},
   "outputs": [],
   "source": [
    "# to load\n",
    "checkpoint = torch.load('model_best.pth.tar')\n",
    "net.load_state_dict(checkpoint['state_dict'])\n",
    "optimizer.load_state_dict(checkpoint['optimizer'])"
   ]
  },
  {
   "cell_type": "markdown",
   "metadata": {},
   "source": [
    "## REDE ORIGINAL\n",
    "\n",
    "LR = 0.05\n",
    "EPOCHS = 5000\n",
    "\n",
    "Teste Loss: 0.0412\n",
    "Teste Cosine Similarity: 0.8737\n",
    "\n",
    "\n",
    "# Trocar cos_sim para acurácia"
   ]
  },
  {
   "cell_type": "code",
   "execution_count": 20,
   "metadata": {},
   "outputs": [
    {
     "name": "stdout",
     "output_type": "stream",
     "text": [
      "Errors: 30; Accuracy: 52%\n",
      "Teste Loss: 1.3364\n"
     ]
    },
    {
     "data": {
      "image/png": "[encoded data removed]",
      "text/plain": [
       "<Figure size 432x288 with 1 Axes>"
      ]
     },
     "metadata": {
      "needs_background": "light"
     },
     "output_type": "display_data"
    }
   ],
   "source": [
    "# Transformando o dado de teste\n",
    "X_test_scaled = scaler_x.fit_transform(X_test)\n",
    "#y_test_scaled = scaler_y.fit_transform(y_test)\n",
    "y_test_scaled = y_test\n",
    "\n",
    "# Avaliando a acurácia do modelo utilizando os dados de teste transformados\n",
    "inputs = torch.autograd.Variable(torch.Tensor(X_test_scaled.astype(np.float32)).float())\n",
    "targets = torch.autograd.Variable(torch.Tensor(y_test_scaled).long())\n",
    "\n",
    "optimizer.zero_grad()\n",
    "out = net(inputs)\n",
    "loss = criterion(out, targets.squeeze(1))\n",
    "loss.backward()\n",
    "optimizer.step()\n",
    "\n",
    "#predicted = out.data\n",
    "_, predicted = torch.max(out.data, 1) # Usar dessa forma?        \n",
    "\n",
    "error_count = y_test_scaled.size - np.count_nonzero((targets.squeeze() == predicted) .numpy())\n",
    "acc = 100 * torch.sum(targets.squeeze() == predicted) /  y_test_scaled.size\n",
    "print('Errors: %d; Accuracy: %d%%' % (error_count, acc))\n",
    "\n",
    "print('Teste Loss: %.4f' % (loss.item()))\n",
    "\n",
    "# # Implementando a métrica do Cosine Similarity\n",
    "# cos = nn.CosineSimilarity(dim=0, eps=1e-6)\n",
    "# cos_sim = cos(targets, predicted)\n",
    "# print('Teste Cosine Similarity: %.4f' % (cos_sim.item()))\n",
    "\n",
    "ninput = np.arange(len(X_test))\n",
    "plt.figure()\n",
    "plt.plot(ninput, y_test_scaled, '-*', label = 'target')\n",
    "plt.plot(ninput, predicted.numpy(), '-+', label = 'predicted')\n",
    "plt.title('Dados Normalizados')\n",
    "plt.legend()\n",
    "plt.show()"
   ]
  },
  {
   "cell_type": "code",
   "execution_count": null,
   "metadata": {},
   "outputs": [],
   "source": []
  }
 ],
 "metadata": {
  "kernelspec": {
   "display_name": "zika",
   "language": "python",
   "name": "zika"
  },
  "language_info": {
   "codemirror_mode": {
    "name": "ipython",
    "version": 3
   },
   "file_extension": ".py",
   "mimetype": "text/x-python",
   "name": "python",
   "nbconvert_exporter": "python",
   "pygments_lexer": "ipython3",
   "version": "3.7.1"
  }
 },
 "nbformat": 4,
 "nbformat_minor": 2
}
